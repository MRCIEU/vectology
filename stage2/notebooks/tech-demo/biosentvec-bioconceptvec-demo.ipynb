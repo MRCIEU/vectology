{
 "cells": [
  {
   "cell_type": "markdown",
   "id": "7944f4af-569b-4c2d-8881-0859aad28501",
   "metadata": {},
   "source": [
    "```\n",
    "# biosentvec-bioconceptvec\n",
    "\n",
    "For a term label of interest\n",
    "- use biosentvec to obtain sentence embedding\n",
    "- use bioconceptvec to obtain entity embedding of mentioned entities\n",
    "  - use pubtator to perform NER on the term label => obtain the entity terms and their ids\n",
    "  - get entity embedding from bioconceptvec\n",
    "- harmonize sentence vector and entity vector(s): pad the shorter entity vector to match the shape of the sentence vector, then do simple element wise sum\n",
    "- => get the biosentvec-bioconceptvec vector for the term label\n",
    "```"
   ]
  },
  {
   "cell_type": "code",
   "execution_count": 43,
   "id": "9a574410-02ff-4d82-9978-f3c0bacba4d3",
   "metadata": {
    "execution": {
     "iopub.execute_input": "2022-05-25T12:11:54.468969Z",
     "iopub.status.busy": "2022-05-25T12:11:54.468346Z",
     "iopub.status.idle": "2022-05-25T12:11:54.474925Z",
     "shell.execute_reply": "2022-05-25T12:11:54.474190Z",
     "shell.execute_reply.started": "2022-05-25T12:11:54.468913Z"
    },
    "tags": []
   },
   "outputs": [],
   "source": [
    "EFO_TERM = \"genetic eye tumor\"\n",
    "\n",
    "QUERY_TERM = \"eye tumor\"\n",
    "\n",
    "ENT_0 = \"tumor\"\n",
    "ENT_1 = \"genetic diseases\""
   ]
  },
  {
   "cell_type": "code",
   "execution_count": 48,
   "id": "a3937e7f-6a28-44df-ad11-49c6062caf94",
   "metadata": {
    "execution": {
     "iopub.execute_input": "2022-05-25T12:16:17.508206Z",
     "iopub.status.busy": "2022-05-25T12:16:17.507782Z",
     "iopub.status.idle": "2022-05-25T12:16:17.512170Z",
     "shell.execute_reply": "2022-05-25T12:16:17.511363Z",
     "shell.execute_reply.started": "2022-05-25T12:16:17.508172Z"
    },
    "tags": []
   },
   "outputs": [],
   "source": [
    "ENT_0_ID = \"Disease_MESH_D009369\" # NER results from pubtator, or from the bioconceptvec vocab"
   ]
  },
  {
   "cell_type": "code",
   "execution_count": 49,
   "id": "6a9c4b2a-427c-4091-b54a-17953be95065",
   "metadata": {
    "execution": {
     "iopub.execute_input": "2022-05-25T12:16:18.224185Z",
     "iopub.status.busy": "2022-05-25T12:16:18.223837Z",
     "iopub.status.idle": "2022-05-25T12:16:18.228033Z",
     "shell.execute_reply": "2022-05-25T12:16:18.227242Z",
     "shell.execute_reply.started": "2022-05-25T12:16:18.224153Z"
    },
    "tags": []
   },
   "outputs": [],
   "source": [
    "ENT_1_ID = \"Disease_MESH_D030342\""
   ]
  },
  {
   "cell_type": "markdown",
   "id": "632af58c-9f98-4a01-ad93-6e8a272f134f",
   "metadata": {},
   "source": [
    "---"
   ]
  },
  {
   "cell_type": "code",
   "execution_count": 120,
   "id": "5ac77e9e-f269-44e4-bdf7-31f469e67788",
   "metadata": {
    "execution": {
     "iopub.execute_input": "2022-05-25T19:11:51.836967Z",
     "iopub.status.busy": "2022-05-25T19:11:51.836513Z",
     "iopub.status.idle": "2022-05-25T19:11:51.844933Z",
     "shell.execute_reply": "2022-05-25T19:11:51.843882Z",
     "shell.execute_reply.started": "2022-05-25T19:11:51.836915Z"
    },
    "tags": []
   },
   "outputs": [],
   "source": [
    "import requests\n",
    "from pprint import pprint\n",
    "from typing import List\n",
    "\n",
    "import sent2vec\n",
    "from scipy.spatial import distance\n",
    "from gensim.models import KeyedVectors\n",
    "import pandas as pd\n",
    "import numpy as np\n",
    "\n",
    "from funcs import utils, paths"
   ]
  },
  {
   "cell_type": "code",
   "execution_count": 45,
   "id": "54f489b6-bdd9-4446-b425-003c49dd0b8b",
   "metadata": {
    "execution": {
     "iopub.execute_input": "2022-05-25T12:16:10.687307Z",
     "iopub.status.busy": "2022-05-25T12:16:10.686843Z",
     "iopub.status.idle": "2022-05-25T12:16:10.715828Z",
     "shell.execute_reply": "2022-05-25T12:16:10.715237Z",
     "shell.execute_reply.started": "2022-05-25T12:16:10.687250Z"
    },
    "tags": []
   },
   "outputs": [
    {
     "data": {
      "text/html": [
       "<div>\n",
       "<style scoped>\n",
       "    .dataframe tbody tr th:only-of-type {\n",
       "        vertical-align: middle;\n",
       "    }\n",
       "\n",
       "    .dataframe tbody tr th {\n",
       "        vertical-align: top;\n",
       "    }\n",
       "\n",
       "    .dataframe thead th {\n",
       "        text-align: right;\n",
       "    }\n",
       "</style>\n",
       "<table border=\"1\" class=\"dataframe\">\n",
       "  <thead>\n",
       "    <tr style=\"text-align: right;\">\n",
       "      <th></th>\n",
       "      <th>idx</th>\n",
       "      <th>ent_type</th>\n",
       "      <th>ent_id</th>\n",
       "      <th>term</th>\n",
       "      <th>source</th>\n",
       "    </tr>\n",
       "  </thead>\n",
       "  <tbody>\n",
       "    <tr>\n",
       "      <th>0</th>\n",
       "      <td>3958000</td>\n",
       "      <td>Species</td>\n",
       "      <td>9606</td>\n",
       "      <td>patients</td>\n",
       "      <td>SR4GN</td>\n",
       "    </tr>\n",
       "    <tr>\n",
       "      <th>1</th>\n",
       "      <td>3958000</td>\n",
       "      <td>Disease</td>\n",
       "      <td>MESH:D012544</td>\n",
       "      <td>Scheuermann's kyphosis</td>\n",
       "      <td>TaggerOne</td>\n",
       "    </tr>\n",
       "    <tr>\n",
       "      <th>2</th>\n",
       "      <td>23574000</td>\n",
       "      <td>Chemical</td>\n",
       "      <td>MESH:D008012</td>\n",
       "      <td>Astrazeneca</td>\n",
       "      <td>TaggerOne</td>\n",
       "    </tr>\n",
       "    <tr>\n",
       "      <th>3</th>\n",
       "      <td>23574000</td>\n",
       "      <td>Species</td>\n",
       "      <td>9615</td>\n",
       "      <td>dogs</td>\n",
       "      <td>SR4GN</td>\n",
       "    </tr>\n",
       "    <tr>\n",
       "      <th>4</th>\n",
       "      <td>23574000</td>\n",
       "      <td>Disease</td>\n",
       "      <td>MESH:D007153</td>\n",
       "      <td>antibody omalizumab</td>\n",
       "      <td>TaggerOne</td>\n",
       "    </tr>\n",
       "    <tr>\n",
       "      <th>...</th>\n",
       "      <td>...</td>\n",
       "      <td>...</td>\n",
       "      <td>...</td>\n",
       "      <td>...</td>\n",
       "      <td>...</td>\n",
       "    </tr>\n",
       "    <tr>\n",
       "      <th>802</th>\n",
       "      <td>20635000</td>\n",
       "      <td>Mutation</td>\n",
       "      <td>rs779184767</td>\n",
       "      <td>C243A</td>\n",
       "      <td>tmVar</td>\n",
       "    </tr>\n",
       "    <tr>\n",
       "      <th>803</th>\n",
       "      <td>20635000</td>\n",
       "      <td>Gene</td>\n",
       "      <td>155030</td>\n",
       "      <td>Gag</td>\n",
       "      <td>GNormPlus</td>\n",
       "    </tr>\n",
       "    <tr>\n",
       "      <th>804</th>\n",
       "      <td>20635000</td>\n",
       "      <td>Gene</td>\n",
       "      <td>57379</td>\n",
       "      <td>AID</td>\n",
       "      <td>GNormPlus</td>\n",
       "    </tr>\n",
       "    <tr>\n",
       "      <th>805</th>\n",
       "      <td>20635000</td>\n",
       "      <td>Chemical</td>\n",
       "      <td>MESH:D009584</td>\n",
       "      <td>N</td>\n",
       "      <td>TaggerOne</td>\n",
       "    </tr>\n",
       "    <tr>\n",
       "      <th>806</th>\n",
       "      <td>20635000</td>\n",
       "      <td>Chemical</td>\n",
       "      <td>MESH:C108952</td>\n",
       "      <td>Asp</td>\n",
       "      <td>TaggerOne</td>\n",
       "    </tr>\n",
       "  </tbody>\n",
       "</table>\n",
       "<p>807 rows × 5 columns</p>\n",
       "</div>"
      ],
      "text/plain": [
       "          idx  ent_type        ent_id                    term     source\n",
       "0     3958000   Species          9606                patients      SR4GN\n",
       "1     3958000   Disease  MESH:D012544  Scheuermann's kyphosis  TaggerOne\n",
       "2    23574000  Chemical  MESH:D008012             Astrazeneca  TaggerOne\n",
       "3    23574000   Species          9615                    dogs      SR4GN\n",
       "4    23574000   Disease  MESH:D007153     antibody omalizumab  TaggerOne\n",
       "..        ...       ...           ...                     ...        ...\n",
       "802  20635000  Mutation   rs779184767                   C243A      tmVar\n",
       "803  20635000      Gene        155030                     Gag  GNormPlus\n",
       "804  20635000      Gene         57379                     AID  GNormPlus\n",
       "805  20635000  Chemical  MESH:D009584                       N  TaggerOne\n",
       "806  20635000  Chemical  MESH:C108952                     Asp  TaggerOne\n",
       "\n",
       "[807 rows x 5 columns]"
      ]
     },
     "execution_count": 45,
     "metadata": {},
     "output_type": "execute_result"
    }
   ],
   "source": [
    "proj_root = utils.find_project_root()\n",
    "data_root = utils.find_data_root()\n",
    "bioconceptvec_dir = data_root / \"bioconceptvec\"\n",
    "assert bioconceptvec_dir.exists()\n",
    "\n",
    "sample_path = bioconceptvec_dir / \"bioconcepts2pubtatorcentral.sample\"\n",
    "assert sample_path.exists()\n",
    "\n",
    "sample_df = pd.read_csv(sample_path, sep=\"\\t\", names=[\"idx\", \"ent_type\", \"ent_id\", \"term\", \"source\"]).dropna().reset_index(drop=True)\n",
    "\n",
    "sample_df"
   ]
  },
  {
   "cell_type": "markdown",
   "id": "09079050-66b6-423b-ac7b-bb5f4a0b1d14",
   "metadata": {},
   "source": [
    "----"
   ]
  },
  {
   "cell_type": "code",
   "execution_count": 22,
   "id": "8d737d81-0c9f-408e-95e4-bb88a4757249",
   "metadata": {
    "execution": {
     "iopub.execute_input": "2022-05-25T11:54:04.474749Z",
     "iopub.status.busy": "2022-05-25T11:54:04.474146Z",
     "iopub.status.idle": "2022-05-25T11:55:03.154024Z",
     "shell.execute_reply": "2022-05-25T11:55:03.152303Z",
     "shell.execute_reply.started": "2022-05-25T11:54:04.474695Z"
    },
    "tags": []
   },
   "outputs": [],
   "source": [
    "biosentvec_model_path = paths.init[\"biosentvec_model\"]\n",
    "assert biosentvec_model_path.exists()\n",
    "\n",
    "biosentvec_model = sent2vec.Sent2vecModel()\n",
    "biosentvec_model.load_model(str(biosentvec_model_path))"
   ]
  },
  {
   "cell_type": "code",
   "execution_count": 80,
   "id": "cf18175f-4655-48d7-a54f-66cf27422c27",
   "metadata": {
    "execution": {
     "iopub.execute_input": "2022-05-25T13:30:04.401004Z",
     "iopub.status.busy": "2022-05-25T13:30:04.400465Z",
     "iopub.status.idle": "2022-05-25T13:30:04.409230Z",
     "shell.execute_reply": "2022-05-25T13:30:04.408163Z",
     "shell.execute_reply.started": "2022-05-25T13:30:04.400957Z"
    },
    "tags": []
   },
   "outputs": [
    {
     "name": "stdout",
     "output_type": "stream",
     "text": [
      "(1, 700)\n",
      "0.8159835934638977\n"
     ]
    }
   ],
   "source": [
    "efo_term_biosentvec = biosentvec_model.embed_sentence(EFO_TERM)\n",
    "print(efo_term_biosentvec.shape)\n",
    "\n",
    "query_term_biosentvec = biosentvec_model.embed_sentence(QUERY_TERM)\n",
    "\n",
    "print(1 - distance.cosine(efo_term_biosentvec, query_term_biosentvec))"
   ]
  },
  {
   "cell_type": "markdown",
   "id": "06974d77-79d4-4720-aa16-c511f62205a0",
   "metadata": {},
   "source": [
    "----"
   ]
  },
  {
   "cell_type": "code",
   "execution_count": 46,
   "id": "e41a6bf7-93f4-402f-9f74-aa65a65e52e3",
   "metadata": {
    "execution": {
     "iopub.execute_input": "2022-05-25T12:16:14.016108Z",
     "iopub.status.busy": "2022-05-25T12:16:14.015538Z",
     "iopub.status.idle": "2022-05-25T12:16:14.033861Z",
     "shell.execute_reply": "2022-05-25T12:16:14.033236Z",
     "shell.execute_reply.started": "2022-05-25T12:16:14.016056Z"
    },
    "tags": []
   },
   "outputs": [
    {
     "data": {
      "text/html": [
       "<div>\n",
       "<style scoped>\n",
       "    .dataframe tbody tr th:only-of-type {\n",
       "        vertical-align: middle;\n",
       "    }\n",
       "\n",
       "    .dataframe tbody tr th {\n",
       "        vertical-align: top;\n",
       "    }\n",
       "\n",
       "    .dataframe thead th {\n",
       "        text-align: right;\n",
       "    }\n",
       "</style>\n",
       "<table border=\"1\" class=\"dataframe\">\n",
       "  <thead>\n",
       "    <tr style=\"text-align: right;\">\n",
       "      <th></th>\n",
       "      <th>idx</th>\n",
       "      <th>ent_type</th>\n",
       "      <th>ent_id</th>\n",
       "      <th>term</th>\n",
       "      <th>source</th>\n",
       "    </tr>\n",
       "  </thead>\n",
       "  <tbody>\n",
       "    <tr>\n",
       "      <th>59</th>\n",
       "      <td>17505000</td>\n",
       "      <td>Disease</td>\n",
       "      <td>MESH:D018358</td>\n",
       "      <td>malignant neuroendocrine tumors|neuroendocrine...</td>\n",
       "      <td>TaggerOne|MESH</td>\n",
       "    </tr>\n",
       "    <tr>\n",
       "      <th>61</th>\n",
       "      <td>17505000</td>\n",
       "      <td>Disease</td>\n",
       "      <td>MESH:D009369</td>\n",
       "      <td>Tumors|tumor|tumors</td>\n",
       "      <td>TaggerOne</td>\n",
       "    </tr>\n",
       "    <tr>\n",
       "      <th>64</th>\n",
       "      <td>17505000</td>\n",
       "      <td>Disease</td>\n",
       "      <td>MESH:D010190</td>\n",
       "      <td>pancreatic endocrine tumors</td>\n",
       "      <td>TaggerOne</td>\n",
       "    </tr>\n",
       "    <tr>\n",
       "      <th>86</th>\n",
       "      <td>20337000</td>\n",
       "      <td>Disease</td>\n",
       "      <td>MESH:D009369</td>\n",
       "      <td>tumor</td>\n",
       "      <td>TaggerOne</td>\n",
       "    </tr>\n",
       "    <tr>\n",
       "      <th>375</th>\n",
       "      <td>7444000</td>\n",
       "      <td>Disease</td>\n",
       "      <td>MESH:D009369</td>\n",
       "      <td>tumor</td>\n",
       "      <td>TaggerOne</td>\n",
       "    </tr>\n",
       "    <tr>\n",
       "      <th>448</th>\n",
       "      <td>9191000</td>\n",
       "      <td>Disease</td>\n",
       "      <td>MESH:D009369</td>\n",
       "      <td>tumors</td>\n",
       "      <td>TaggerOne</td>\n",
       "    </tr>\n",
       "    <tr>\n",
       "      <th>693</th>\n",
       "      <td>27992000</td>\n",
       "      <td>Disease</td>\n",
       "      <td>MESH:D009369</td>\n",
       "      <td>tumor</td>\n",
       "      <td>TaggerOne</td>\n",
       "    </tr>\n",
       "    <tr>\n",
       "      <th>696</th>\n",
       "      <td>27992000</td>\n",
       "      <td>Disease</td>\n",
       "      <td>MESH:D018302</td>\n",
       "      <td>dysembryoplastic neuroepithelial tumors</td>\n",
       "      <td>TaggerOne</td>\n",
       "    </tr>\n",
       "    <tr>\n",
       "      <th>697</th>\n",
       "      <td>27992000</td>\n",
       "      <td>Disease</td>\n",
       "      <td>MESH:D001932</td>\n",
       "      <td>brain tumors|brain tumor</td>\n",
       "      <td>TaggerOne</td>\n",
       "    </tr>\n",
       "    <tr>\n",
       "      <th>706</th>\n",
       "      <td>22884000</td>\n",
       "      <td>Gene</td>\n",
       "      <td>7124</td>\n",
       "      <td>tumor necrosis factor a|TNF-a</td>\n",
       "      <td>GNormPlus</td>\n",
       "    </tr>\n",
       "    <tr>\n",
       "      <th>726</th>\n",
       "      <td>26659000</td>\n",
       "      <td>Disease</td>\n",
       "      <td>MESH:D009369</td>\n",
       "      <td>malignancy|cancer|cancers|tumors</td>\n",
       "      <td>TaggerOne</td>\n",
       "    </tr>\n",
       "    <tr>\n",
       "      <th>734</th>\n",
       "      <td>22048000</td>\n",
       "      <td>Disease</td>\n",
       "      <td>MESH:D009369</td>\n",
       "      <td>cancer|tumor</td>\n",
       "      <td>TaggerOne</td>\n",
       "    </tr>\n",
       "  </tbody>\n",
       "</table>\n",
       "</div>"
      ],
      "text/plain": [
       "          idx ent_type        ent_id  \\\n",
       "59   17505000  Disease  MESH:D018358   \n",
       "61   17505000  Disease  MESH:D009369   \n",
       "64   17505000  Disease  MESH:D010190   \n",
       "86   20337000  Disease  MESH:D009369   \n",
       "375   7444000  Disease  MESH:D009369   \n",
       "448   9191000  Disease  MESH:D009369   \n",
       "693  27992000  Disease  MESH:D009369   \n",
       "696  27992000  Disease  MESH:D018302   \n",
       "697  27992000  Disease  MESH:D001932   \n",
       "706  22884000     Gene          7124   \n",
       "726  26659000  Disease  MESH:D009369   \n",
       "734  22048000  Disease  MESH:D009369   \n",
       "\n",
       "                                                  term          source  \n",
       "59   malignant neuroendocrine tumors|neuroendocrine...  TaggerOne|MESH  \n",
       "61                                 Tumors|tumor|tumors       TaggerOne  \n",
       "64                         pancreatic endocrine tumors       TaggerOne  \n",
       "86                                               tumor       TaggerOne  \n",
       "375                                              tumor       TaggerOne  \n",
       "448                                             tumors       TaggerOne  \n",
       "693                                              tumor       TaggerOne  \n",
       "696            dysembryoplastic neuroepithelial tumors       TaggerOne  \n",
       "697                           brain tumors|brain tumor       TaggerOne  \n",
       "706                      tumor necrosis factor a|TNF-a       GNormPlus  \n",
       "726                   malignancy|cancer|cancers|tumors       TaggerOne  \n",
       "734                                       cancer|tumor       TaggerOne  "
      ]
     },
     "execution_count": 46,
     "metadata": {},
     "output_type": "execute_result"
    }
   ],
   "source": [
    "# vocab\n",
    "sample_df[sample_df[\"term\"].apply(lambda x: ENT_0 in x)]"
   ]
  },
  {
   "cell_type": "markdown",
   "id": "d7825749-b6f5-4550-919e-7f51cee227e3",
   "metadata": {},
   "source": [
    "----"
   ]
  },
  {
   "cell_type": "code",
   "execution_count": 38,
   "id": "4d5f8f49-66cc-48a5-97d0-d9c89b0848aa",
   "metadata": {
    "execution": {
     "iopub.execute_input": "2022-05-25T12:06:56.841111Z",
     "iopub.status.busy": "2022-05-25T12:06:56.840635Z",
     "iopub.status.idle": "2022-05-25T12:07:43.125426Z",
     "shell.execute_reply": "2022-05-25T12:07:43.124337Z",
     "shell.execute_reply.started": "2022-05-25T12:06:56.841056Z"
    },
    "tags": []
   },
   "outputs": [],
   "source": [
    "bioconceptvec_model_path = proj_root / \"models\" / \"bioconceptvec\" / \"bioconceptvec_word2vec_skipgram.bin\"\n",
    "assert bioconceptvec_model_path.exists()\n",
    "\n",
    "bioconceptvec_embeddings = KeyedVectors.load_word2vec_format(str(bioconceptvec_model_path), binary=True)"
   ]
  },
  {
   "cell_type": "code",
   "execution_count": 50,
   "id": "d68a4bcd-11e0-4bae-91a6-9b7591d4f35f",
   "metadata": {
    "execution": {
     "iopub.execute_input": "2022-05-25T12:16:19.653216Z",
     "iopub.status.busy": "2022-05-25T12:16:19.652768Z",
     "iopub.status.idle": "2022-05-25T12:16:19.659531Z",
     "shell.execute_reply": "2022-05-25T12:16:19.658506Z",
     "shell.execute_reply.started": "2022-05-25T12:16:19.653164Z"
    },
    "tags": []
   },
   "outputs": [],
   "source": [
    "assert ENT_0_ID in bioconceptvec_embeddings.key_to_index.keys()\n",
    "assert ENT_1_ID in bioconceptvec_embeddings.key_to_index.keys()"
   ]
  },
  {
   "cell_type": "code",
   "execution_count": 51,
   "id": "1a1b519b-21a2-4149-9aff-322be5ccdf04",
   "metadata": {
    "execution": {
     "iopub.execute_input": "2022-05-25T12:16:26.656770Z",
     "iopub.status.busy": "2022-05-25T12:16:26.656130Z",
     "iopub.status.idle": "2022-05-25T12:16:26.664880Z",
     "shell.execute_reply": "2022-05-25T12:16:26.664107Z",
     "shell.execute_reply.started": "2022-05-25T12:16:26.656712Z"
    },
    "tags": []
   },
   "outputs": [
    {
     "name": "stdout",
     "output_type": "stream",
     "text": [
      "(100,)\n",
      "(100,)\n"
     ]
    }
   ],
   "source": [
    "ent_0_embedding = bioconceptvec_embeddings[ENT_0_ID]\n",
    "ent_1_embedding = bioconceptvec_embeddings[ENT_1_ID]\n",
    "print(ent_0_embedding.shape)\n",
    "print(ent_1_embedding.shape)"
   ]
  },
  {
   "cell_type": "markdown",
   "id": "edea073f-164f-46b3-810d-e4d21e8f775c",
   "metadata": {},
   "source": [
    "----"
   ]
  },
  {
   "cell_type": "code",
   "execution_count": 109,
   "id": "09de9fd7-0114-4ff2-832d-a56b1ec29cfd",
   "metadata": {
    "execution": {
     "iopub.execute_input": "2022-05-25T15:44:05.686312Z",
     "iopub.status.busy": "2022-05-25T15:44:05.685863Z",
     "iopub.status.idle": "2022-05-25T15:44:05.694825Z",
     "shell.execute_reply": "2022-05-25T15:44:05.693899Z",
     "shell.execute_reply.started": "2022-05-25T15:44:05.686259Z"
    },
    "tags": []
   },
   "outputs": [
    {
     "data": {
      "text/plain": [
       "0.8159835934638977"
      ]
     },
     "execution_count": 109,
     "metadata": {},
     "output_type": "execute_result"
    }
   ],
   "source": [
    "1 - distance.cosine(efo_term_biosentvec, query_term_biosentvec)"
   ]
  },
  {
   "cell_type": "code",
   "execution_count": 129,
   "id": "fa697a9f-59d5-4135-ab8e-4e2a66d5c389",
   "metadata": {
    "execution": {
     "iopub.execute_input": "2022-05-25T19:18:25.537086Z",
     "iopub.status.busy": "2022-05-25T19:18:25.536499Z",
     "iopub.status.idle": "2022-05-25T19:18:25.547489Z",
     "shell.execute_reply": "2022-05-25T19:18:25.545971Z",
     "shell.execute_reply.started": "2022-05-25T19:18:25.537032Z"
    },
    "tags": []
   },
   "outputs": [],
   "source": [
    "def harmonize_vectors(main_vector: np.ndarray, addons: List[np.ndarray]) -> np.ndarray:\n",
    "    addon_shape = (100,)\n",
    "    main_vector_shape = (1, 700)\n",
    "    pad_width = int((700 - 100) / 2)\n",
    "    addons_padded = [\n",
    "        np.pad(_, pad_width, mode=\"constant\", constant_values=(0)).reshape(main_vector_shape)\n",
    "        for _ in addons\n",
    "    ]\n",
    "    res_vector = main_vector\n",
    "    for _ in addons_padded:\n",
    "        res_vector = res_vector + _\n",
    "    return res_vector"
   ]
  },
  {
   "cell_type": "code",
   "execution_count": 132,
   "id": "bdaa47c4-ca38-4888-b58e-ce56481891be",
   "metadata": {
    "execution": {
     "iopub.execute_input": "2022-05-25T19:19:47.455298Z",
     "iopub.status.busy": "2022-05-25T19:19:47.454860Z",
     "iopub.status.idle": "2022-05-25T19:19:47.463247Z",
     "shell.execute_reply": "2022-05-25T19:19:47.462196Z",
     "shell.execute_reply.started": "2022-05-25T19:19:47.455248Z"
    },
    "tags": []
   },
   "outputs": [
    {
     "name": "stdout",
     "output_type": "stream",
     "text": [
      "(1, 700)\n"
     ]
    }
   ],
   "source": [
    "efo_term_bioconceptvec = harmonize_vectors(efo_term_biosentvec, [ent_0_embedding, ent_1_embedding])\n",
    "print(efo_term_bioconceptvec.shape)\n",
    "\n",
    "query_term_bioconceptvec = harmonize_vectors(query_term_biosentvec, [ent_0_embedding])"
   ]
  },
  {
   "cell_type": "code",
   "execution_count": 133,
   "id": "cb54bfa4-0ca9-4ea6-9995-bf249d8852f8",
   "metadata": {
    "execution": {
     "iopub.execute_input": "2022-05-25T19:20:17.988601Z",
     "iopub.status.busy": "2022-05-25T19:20:17.988164Z",
     "iopub.status.idle": "2022-05-25T19:20:17.997340Z",
     "shell.execute_reply": "2022-05-25T19:20:17.996367Z",
     "shell.execute_reply.started": "2022-05-25T19:20:17.988550Z"
    },
    "tags": []
   },
   "outputs": [
    {
     "data": {
      "text/plain": [
       "0.7836057543754578"
      ]
     },
     "execution_count": 133,
     "metadata": {},
     "output_type": "execute_result"
    }
   ],
   "source": [
    "1 - distance.cosine(efo_term_bioconceptvec, query_term_bioconceptvec)"
   ]
  },
  {
   "cell_type": "code",
   "execution_count": 134,
   "id": "1b6a5382-778e-4d1c-8b39-1dddb308df5f",
   "metadata": {
    "execution": {
     "iopub.execute_input": "2022-05-25T19:21:31.399291Z",
     "iopub.status.busy": "2022-05-25T19:21:31.398852Z",
     "iopub.status.idle": "2022-05-25T19:21:31.408523Z",
     "shell.execute_reply": "2022-05-25T19:21:31.407295Z",
     "shell.execute_reply.started": "2022-05-25T19:21:31.399239Z"
    },
    "tags": []
   },
   "outputs": [
    {
     "data": {
      "text/plain": [
       "0.8426003456115723"
      ]
     },
     "execution_count": 134,
     "metadata": {},
     "output_type": "execute_result"
    }
   ],
   "source": [
    "1 - distance.cosine(efo_term_bioconceptvec, efo_term_biosentvec)"
   ]
  },
  {
   "cell_type": "code",
   "execution_count": 135,
   "id": "f79f858e-a699-4413-891d-4928de4c70d9",
   "metadata": {
    "execution": {
     "iopub.execute_input": "2022-05-25T19:21:50.916968Z",
     "iopub.status.busy": "2022-05-25T19:21:50.916418Z",
     "iopub.status.idle": "2022-05-25T19:21:50.925582Z",
     "shell.execute_reply": "2022-05-25T19:21:50.924337Z",
     "shell.execute_reply.started": "2022-05-25T19:21:50.916916Z"
    },
    "tags": []
   },
   "outputs": [
    {
     "data": {
      "text/plain": [
       "0.9586260914802551"
      ]
     },
     "execution_count": 135,
     "metadata": {},
     "output_type": "execute_result"
    }
   ],
   "source": [
    "1 - distance.cosine(query_term_bioconceptvec, query_term_biosentvec)"
   ]
  }
 ],
 "metadata": {
  "kernelspec": {
   "display_name": "Python 3 (ipykernel)",
   "language": "python",
   "name": "python3"
  },
  "language_info": {
   "codemirror_mode": {
    "name": "ipython",
    "version": 3
   },
   "file_extension": ".py",
   "mimetype": "text/x-python",
   "name": "python",
   "nbconvert_exporter": "python",
   "pygments_lexer": "ipython3",
   "version": "3.8.13"
  }
 },
 "nbformat": 4,
 "nbformat_minor": 5
}
