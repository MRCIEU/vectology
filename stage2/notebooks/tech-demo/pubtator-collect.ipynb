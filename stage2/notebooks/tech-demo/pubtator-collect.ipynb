{
 "cells": [
  {
   "cell_type": "code",
   "execution_count": 37,
   "id": "48606be2-bd2a-403b-a5bb-d5bc31b8802a",
   "metadata": {
    "execution": {
     "iopub.execute_input": "2022-05-26T12:16:54.418617Z",
     "iopub.status.busy": "2022-05-26T12:16:54.418247Z",
     "iopub.status.idle": "2022-05-26T12:16:54.423704Z",
     "shell.execute_reply": "2022-05-26T12:16:54.423007Z",
     "shell.execute_reply.started": "2022-05-26T12:16:54.418587Z"
    },
    "tags": []
   },
   "outputs": [],
   "source": [
    "from typing import List\n",
    "\n",
    "import pandas as pd\n",
    "import numpy as np\n",
    "\n",
    "import sent2vec\n",
    "from gensim.models import KeyedVectors\n",
    "from scipy.spatial import distance\n",
    "\n",
    "from icecream import ic\n",
    "\n",
    "from funcs import utils, paths"
   ]
  },
  {
   "cell_type": "code",
   "execution_count": 4,
   "id": "91319b90-cd3c-43e3-85e8-ff84d8710932",
   "metadata": {
    "execution": {
     "iopub.execute_input": "2022-05-26T11:03:57.332046Z",
     "iopub.status.busy": "2022-05-26T11:03:57.331609Z",
     "iopub.status.idle": "2022-05-26T11:03:57.338624Z",
     "shell.execute_reply": "2022-05-26T11:03:57.337827Z",
     "shell.execute_reply.started": "2022-05-26T11:03:57.331996Z"
    },
    "tags": []
   },
   "outputs": [],
   "source": [
    "proj_root = utils.find_project_root()\n",
    "data_root = utils.find_data_root()\n",
    "\n",
    "pubtator_dir = data_root / \"output\" / \"pubtator\"\n",
    "assert pubtator_dir.exists()"
   ]
  },
  {
   "cell_type": "code",
   "execution_count": 8,
   "id": "2ae3e6da-6a0c-45fa-a3e6-efcfc7b58582",
   "metadata": {
    "execution": {
     "iopub.execute_input": "2022-05-26T11:15:12.176560Z",
     "iopub.status.busy": "2022-05-26T11:15:12.176116Z",
     "iopub.status.idle": "2022-05-26T11:15:12.492390Z",
     "shell.execute_reply": "2022-05-26T11:15:12.491844Z",
     "shell.execute_reply.started": "2022-05-26T11:15:12.176510Z"
    },
    "tags": []
   },
   "outputs": [
    {
     "data": {
      "text/html": [
       "<div>\n",
       "<style scoped>\n",
       "    .dataframe tbody tr th:only-of-type {\n",
       "        vertical-align: middle;\n",
       "    }\n",
       "\n",
       "    .dataframe tbody tr th {\n",
       "        vertical-align: top;\n",
       "    }\n",
       "\n",
       "    .dataframe thead th {\n",
       "        text-align: right;\n",
       "    }\n",
       "</style>\n",
       "<table border=\"1\" class=\"dataframe\">\n",
       "  <thead>\n",
       "    <tr style=\"text-align: right;\">\n",
       "      <th></th>\n",
       "      <th>batch</th>\n",
       "      <th>term</th>\n",
       "      <th>session_id</th>\n",
       "      <th>exists</th>\n",
       "    </tr>\n",
       "  </thead>\n",
       "  <tbody>\n",
       "    <tr>\n",
       "      <th>0</th>\n",
       "      <td>ebi</td>\n",
       "      <td>gonarthrosis</td>\n",
       "      <td>7562-9938-5522-3240</td>\n",
       "      <td>True</td>\n",
       "    </tr>\n",
       "    <tr>\n",
       "      <th>1</th>\n",
       "      <td>ebi</td>\n",
       "      <td>psoriatic and enteropathic arthropathies</td>\n",
       "      <td>9489-1267-1820-7640</td>\n",
       "      <td>True</td>\n",
       "    </tr>\n",
       "    <tr>\n",
       "      <th>2</th>\n",
       "      <td>ebi</td>\n",
       "      <td>pain associated with micturition</td>\n",
       "      <td>2941-3822-8420-2463</td>\n",
       "      <td>True</td>\n",
       "    </tr>\n",
       "    <tr>\n",
       "      <th>3</th>\n",
       "      <td>ebi</td>\n",
       "      <td>other mood</td>\n",
       "      <td>2730-8351-2793-7515</td>\n",
       "      <td>True</td>\n",
       "    </tr>\n",
       "    <tr>\n",
       "      <th>4</th>\n",
       "      <td>ebi</td>\n",
       "      <td>preterm delivery</td>\n",
       "      <td>9914-5677-7332-5034</td>\n",
       "      <td>True</td>\n",
       "    </tr>\n",
       "    <tr>\n",
       "      <th>...</th>\n",
       "      <td>...</td>\n",
       "      <td>...</td>\n",
       "      <td>...</td>\n",
       "      <td>...</td>\n",
       "    </tr>\n",
       "    <tr>\n",
       "      <th>26443</th>\n",
       "      <td>efo</td>\n",
       "      <td>acetazolamide responsive myotonia</td>\n",
       "      <td>1871-7615-4998-3292</td>\n",
       "      <td>False</td>\n",
       "    </tr>\n",
       "    <tr>\n",
       "      <th>26444</th>\n",
       "      <td>efo</td>\n",
       "      <td>complete androgen insensitivity syndrome</td>\n",
       "      <td>6838-6592-5630-1511</td>\n",
       "      <td>False</td>\n",
       "    </tr>\n",
       "    <tr>\n",
       "      <th>26445</th>\n",
       "      <td>efo</td>\n",
       "      <td>intermediate dend syndrome</td>\n",
       "      <td>8972-6191-8547-6869</td>\n",
       "      <td>False</td>\n",
       "    </tr>\n",
       "    <tr>\n",
       "      <th>26446</th>\n",
       "      <td>efo</td>\n",
       "      <td>epiblepharon</td>\n",
       "      <td>5678-3170-7573-4996</td>\n",
       "      <td>False</td>\n",
       "    </tr>\n",
       "    <tr>\n",
       "      <th>26447</th>\n",
       "      <td>efo</td>\n",
       "      <td>congenital eyelid retraction</td>\n",
       "      <td>9889-4746-4856-3399</td>\n",
       "      <td>False</td>\n",
       "    </tr>\n",
       "  </tbody>\n",
       "</table>\n",
       "<p>26448 rows × 4 columns</p>\n",
       "</div>"
      ],
      "text/plain": [
       "      batch                                      term           session_id  \\\n",
       "0       ebi                              gonarthrosis  7562-9938-5522-3240   \n",
       "1       ebi  psoriatic and enteropathic arthropathies  9489-1267-1820-7640   \n",
       "2       ebi          pain associated with micturition  2941-3822-8420-2463   \n",
       "3       ebi                                other mood  2730-8351-2793-7515   \n",
       "4       ebi                          preterm delivery  9914-5677-7332-5034   \n",
       "...     ...                                       ...                  ...   \n",
       "26443   efo         acetazolamide responsive myotonia  1871-7615-4998-3292   \n",
       "26444   efo  complete androgen insensitivity syndrome  6838-6592-5630-1511   \n",
       "26445   efo                intermediate dend syndrome  8972-6191-8547-6869   \n",
       "26446   efo                              epiblepharon  5678-3170-7573-4996   \n",
       "26447   efo              congenital eyelid retraction  9889-4746-4856-3399   \n",
       "\n",
       "       exists  \n",
       "0        True  \n",
       "1        True  \n",
       "2        True  \n",
       "3        True  \n",
       "4        True  \n",
       "...       ...  \n",
       "26443   False  \n",
       "26444   False  \n",
       "26445   False  \n",
       "26446   False  \n",
       "26447   False  \n",
       "\n",
       "[26448 rows x 4 columns]"
      ]
     },
     "execution_count": 8,
     "metadata": {},
     "output_type": "execute_result"
    }
   ],
   "source": [
    "session_df_path = pubtator_dir / \"session_df_sanitized.csv\"\n",
    "session_df = pd.read_csv(session_df_path)\n",
    "\n",
    "session_df = session_df.assign(\n",
    "    exists=lambda df: df[\"session_id\"].apply(\n",
    "        lambda x: (pubtator_dir / \"batch_requests\" / f\"{x}.txt\").exists()\n",
    "    )\n",
    ")\n",
    "\n",
    "session_df"
   ]
  },
  {
   "cell_type": "code",
   "execution_count": 10,
   "id": "e7f2c58d-704a-4410-b6e4-3b83177a8d62",
   "metadata": {
    "execution": {
     "iopub.execute_input": "2022-05-26T11:17:51.780224Z",
     "iopub.status.busy": "2022-05-26T11:17:51.779784Z",
     "iopub.status.idle": "2022-05-26T11:17:51.815940Z",
     "shell.execute_reply": "2022-05-26T11:17:51.815106Z",
     "shell.execute_reply.started": "2022-05-26T11:17:51.780175Z"
    },
    "tags": []
   },
   "outputs": [
    {
     "name": "stdout",
     "output_type": "stream",
     "text": [
      "ebi 1191 1112\n",
      "efo 25257 9665\n"
     ]
    }
   ],
   "source": [
    "for batch in session_df[\"batch\"].drop_duplicates().tolist():\n",
    "    df = session_df[session_df[\"batch\"] == batch]\n",
    "    print(batch, len(df), sum(df[\"exists\"]))"
   ]
  },
  {
   "cell_type": "code",
   "execution_count": 14,
   "id": "15cf5760-5527-400d-bbff-c3a99a94916e",
   "metadata": {
    "execution": {
     "iopub.execute_input": "2022-05-26T11:32:54.385930Z",
     "iopub.status.busy": "2022-05-26T11:32:54.385463Z",
     "iopub.status.idle": "2022-05-26T11:32:54.694329Z",
     "shell.execute_reply": "2022-05-26T11:32:54.693713Z",
     "shell.execute_reply.started": "2022-05-26T11:32:54.385881Z"
    },
    "tags": []
   },
   "outputs": [
    {
     "name": "stdout",
     "output_type": "stream",
     "text": [
      "<class 'pandas.core.frame.DataFrame'>\n",
      "RangeIndex: 1338 entries, 0 to 1337\n",
      "Data columns (total 5 columns):\n",
      " #   Column       Non-Null Count  Dtype \n",
      "---  ------       --------------  ----- \n",
      " 0   batch        1338 non-null   object\n",
      " 1   term         1338 non-null   object\n",
      " 2   session_id   1338 non-null   object\n",
      " 3   exists       1338 non-null   bool  \n",
      " 4   session_res  1338 non-null   object\n",
      "dtypes: bool(1), object(4)\n",
      "memory usage: 43.2+ KB\n",
      "None\n"
     ]
    },
    {
     "data": {
      "text/html": [
       "<div>\n",
       "<style scoped>\n",
       "    .dataframe tbody tr th:only-of-type {\n",
       "        vertical-align: middle;\n",
       "    }\n",
       "\n",
       "    .dataframe tbody tr th {\n",
       "        vertical-align: top;\n",
       "    }\n",
       "\n",
       "    .dataframe thead th {\n",
       "        text-align: right;\n",
       "    }\n",
       "</style>\n",
       "<table border=\"1\" class=\"dataframe\">\n",
       "  <thead>\n",
       "    <tr style=\"text-align: right;\">\n",
       "      <th></th>\n",
       "      <th>batch</th>\n",
       "      <th>term</th>\n",
       "      <th>session_id</th>\n",
       "      <th>exists</th>\n",
       "      <th>session_res</th>\n",
       "    </tr>\n",
       "  </thead>\n",
       "  <tbody>\n",
       "    <tr>\n",
       "      <th>0</th>\n",
       "      <td>ebi</td>\n",
       "      <td>gonarthrosis</td>\n",
       "      <td>7562-9938-5522-3240</td>\n",
       "      <td>True</td>\n",
       "      <td>[00000\\t0\\t12\\tgonarthrosis\\tDisease]</td>\n",
       "    </tr>\n",
       "    <tr>\n",
       "      <th>1</th>\n",
       "      <td>ebi</td>\n",
       "      <td>psoriatic and enteropathic arthropathies</td>\n",
       "      <td>9489-1267-1820-7640</td>\n",
       "      <td>True</td>\n",
       "      <td>[00000\\t14\\t40\\tenteropathic arthropathies\\tDi...</td>\n",
       "    </tr>\n",
       "    <tr>\n",
       "      <th>2</th>\n",
       "      <td>ebi</td>\n",
       "      <td>pain associated with micturition</td>\n",
       "      <td>2941-3822-8420-2463</td>\n",
       "      <td>True</td>\n",
       "      <td>[00000\\t0\\t4\\tpain\\tDisease\\tMESH:D010146]</td>\n",
       "    </tr>\n",
       "    <tr>\n",
       "      <th>3</th>\n",
       "      <td>ebi</td>\n",
       "      <td>gastritis and duodenitis</td>\n",
       "      <td>3350-1413-5269-5786</td>\n",
       "      <td>True</td>\n",
       "      <td>[00000\\t0\\t9\\tgastritis\\tDisease\\tMESH:D005756...</td>\n",
       "    </tr>\n",
       "    <tr>\n",
       "      <th>4</th>\n",
       "      <td>ebi</td>\n",
       "      <td>pre existing hypertension complicating pregnan...</td>\n",
       "      <td>8353-1791-1234-4659</td>\n",
       "      <td>True</td>\n",
       "      <td>[00000\\t13\\t25\\thypertension\\tDisease\\tMESH:D0...</td>\n",
       "    </tr>\n",
       "    <tr>\n",
       "      <th>...</th>\n",
       "      <td>...</td>\n",
       "      <td>...</td>\n",
       "      <td>...</td>\n",
       "      <td>...</td>\n",
       "      <td>...</td>\n",
       "    </tr>\n",
       "    <tr>\n",
       "      <th>1333</th>\n",
       "      <td>efo</td>\n",
       "      <td>severe intellectual disability   epilepsy   an...</td>\n",
       "      <td>4488-8842-4877-4241</td>\n",
       "      <td>True</td>\n",
       "      <td>[00000\\t20\\t89\\tdisability   epilepsy   anal a...</td>\n",
       "    </tr>\n",
       "    <tr>\n",
       "      <th>1334</th>\n",
       "      <td>efo</td>\n",
       "      <td>achalasia   microcephaly</td>\n",
       "      <td>9148-6348-6604-6907</td>\n",
       "      <td>True</td>\n",
       "      <td>[00000\\t0\\t24\\tachalasia   microcephaly\\tDisea...</td>\n",
       "    </tr>\n",
       "    <tr>\n",
       "      <th>1335</th>\n",
       "      <td>efo</td>\n",
       "      <td>hypocalcemic vitamin d resistant rickets</td>\n",
       "      <td>6147-9712-7696-3318</td>\n",
       "      <td>True</td>\n",
       "      <td>[00000\\t13\\t20\\tvitamin\\tChemical\\tMESH:D014807]</td>\n",
       "    </tr>\n",
       "    <tr>\n",
       "      <th>1336</th>\n",
       "      <td>efo</td>\n",
       "      <td>7q11 23 microduplication syndrome</td>\n",
       "      <td>5225-3416-3696-8566</td>\n",
       "      <td>True</td>\n",
       "      <td>[00000\\t154\\t160\\tStatus\\tDisease\\tMESH:D013226]</td>\n",
       "    </tr>\n",
       "    <tr>\n",
       "      <th>1337</th>\n",
       "      <td>efo</td>\n",
       "      <td>charcot marie tooth disease type 4b1</td>\n",
       "      <td>1812-6737-6833-1885</td>\n",
       "      <td>True</td>\n",
       "      <td>[00000\\t14\\t27\\ttooth disease\\tDisease\\tMESH:D...</td>\n",
       "    </tr>\n",
       "  </tbody>\n",
       "</table>\n",
       "<p>1338 rows × 5 columns</p>\n",
       "</div>"
      ],
      "text/plain": [
       "     batch                                               term  \\\n",
       "0      ebi                                       gonarthrosis   \n",
       "1      ebi           psoriatic and enteropathic arthropathies   \n",
       "2      ebi                   pain associated with micturition   \n",
       "3      ebi                           gastritis and duodenitis   \n",
       "4      ebi  pre existing hypertension complicating pregnan...   \n",
       "...    ...                                                ...   \n",
       "1333   efo  severe intellectual disability   epilepsy   an...   \n",
       "1334   efo                           achalasia   microcephaly   \n",
       "1335   efo           hypocalcemic vitamin d resistant rickets   \n",
       "1336   efo                  7q11 23 microduplication syndrome   \n",
       "1337   efo               charcot marie tooth disease type 4b1   \n",
       "\n",
       "               session_id  exists  \\\n",
       "0     7562-9938-5522-3240    True   \n",
       "1     9489-1267-1820-7640    True   \n",
       "2     2941-3822-8420-2463    True   \n",
       "3     3350-1413-5269-5786    True   \n",
       "4     8353-1791-1234-4659    True   \n",
       "...                   ...     ...   \n",
       "1333  4488-8842-4877-4241    True   \n",
       "1334  9148-6348-6604-6907    True   \n",
       "1335  6147-9712-7696-3318    True   \n",
       "1336  5225-3416-3696-8566    True   \n",
       "1337  1812-6737-6833-1885    True   \n",
       "\n",
       "                                            session_res  \n",
       "0                 [00000\\t0\\t12\\tgonarthrosis\\tDisease]  \n",
       "1     [00000\\t14\\t40\\tenteropathic arthropathies\\tDi...  \n",
       "2            [00000\\t0\\t4\\tpain\\tDisease\\tMESH:D010146]  \n",
       "3     [00000\\t0\\t9\\tgastritis\\tDisease\\tMESH:D005756...  \n",
       "4     [00000\\t13\\t25\\thypertension\\tDisease\\tMESH:D0...  \n",
       "...                                                 ...  \n",
       "1333  [00000\\t20\\t89\\tdisability   epilepsy   anal a...  \n",
       "1334  [00000\\t0\\t24\\tachalasia   microcephaly\\tDisea...  \n",
       "1335   [00000\\t13\\t20\\tvitamin\\tChemical\\tMESH:D014807]  \n",
       "1336   [00000\\t154\\t160\\tStatus\\tDisease\\tMESH:D013226]  \n",
       "1337  [00000\\t14\\t27\\ttooth disease\\tDisease\\tMESH:D...  \n",
       "\n",
       "[1338 rows x 5 columns]"
      ]
     },
     "execution_count": 14,
     "metadata": {},
     "output_type": "execute_result"
    }
   ],
   "source": [
    "def read_session_res(session_id: str) -> str:\n",
    "    file_path = pubtator_dir / \"batch_requests\" / f\"{session_id}.txt\"\n",
    "    if not file_path.exists():\n",
    "        return None\n",
    "    else:\n",
    "        with file_path.open(\"r\") as f:\n",
    "            return f.read()\n",
    "        \n",
    "def verify_ner(session_res: str) -> str:\n",
    "    raw_res = session_res.strip().split(\"\\n\")\n",
    "    if len(raw_res) > 2:\n",
    "        return raw_res[2:]\n",
    "    else:\n",
    "        return None\n",
    "        \n",
    "session_res_df = session_df[session_df[\"exists\"]].assign(\n",
    "    session_res=lambda df: df[\"session_id\"].apply(read_session_res).apply(verify_ner)\n",
    ").dropna().reset_index(drop=True)\n",
    "\n",
    "print(session_res_df.info())\n",
    "session_res_df"
   ]
  },
  {
   "cell_type": "code",
   "execution_count": 24,
   "id": "d9e170d6-ef52-4688-a9d7-e171ff0804b7",
   "metadata": {
    "execution": {
     "iopub.execute_input": "2022-05-26T12:00:58.745531Z",
     "iopub.status.busy": "2022-05-26T12:00:58.745080Z",
     "iopub.status.idle": "2022-05-26T12:00:58.787780Z",
     "shell.execute_reply": "2022-05-26T12:00:58.786914Z",
     "shell.execute_reply.started": "2022-05-26T12:00:58.745477Z"
    },
    "tags": []
   },
   "outputs": [
    {
     "name": "stdout",
     "output_type": "stream",
     "text": [
      "<class 'pandas.core.frame.DataFrame'>\n",
      "RangeIndex: 1295 entries, 0 to 1294\n",
      "Data columns (total 6 columns):\n",
      " #   Column       Non-Null Count  Dtype \n",
      "---  ------       --------------  ----- \n",
      " 0   batch        1295 non-null   object\n",
      " 1   term         1295 non-null   object\n",
      " 2   session_id   1295 non-null   object\n",
      " 3   exists       1295 non-null   bool  \n",
      " 4   session_res  1295 non-null   object\n",
      " 5   ner_res      1295 non-null   object\n",
      "dtypes: bool(1), object(5)\n",
      "memory usage: 52.0+ KB\n",
      "None\n"
     ]
    },
    {
     "data": {
      "text/html": [
       "<div>\n",
       "<style scoped>\n",
       "    .dataframe tbody tr th:only-of-type {\n",
       "        vertical-align: middle;\n",
       "    }\n",
       "\n",
       "    .dataframe tbody tr th {\n",
       "        vertical-align: top;\n",
       "    }\n",
       "\n",
       "    .dataframe thead th {\n",
       "        text-align: right;\n",
       "    }\n",
       "</style>\n",
       "<table border=\"1\" class=\"dataframe\">\n",
       "  <thead>\n",
       "    <tr style=\"text-align: right;\">\n",
       "      <th></th>\n",
       "      <th>batch</th>\n",
       "      <th>term</th>\n",
       "      <th>session_id</th>\n",
       "      <th>exists</th>\n",
       "      <th>session_res</th>\n",
       "      <th>ner_res</th>\n",
       "    </tr>\n",
       "  </thead>\n",
       "  <tbody>\n",
       "    <tr>\n",
       "      <th>0</th>\n",
       "      <td>ebi</td>\n",
       "      <td>psoriatic and enteropathic arthropathies</td>\n",
       "      <td>9489-1267-1820-7640</td>\n",
       "      <td>True</td>\n",
       "      <td>[00000\\t14\\t40\\tenteropathic arthropathies\\tDi...</td>\n",
       "      <td>[Disease_MESH_D001177]</td>\n",
       "    </tr>\n",
       "    <tr>\n",
       "      <th>1</th>\n",
       "      <td>ebi</td>\n",
       "      <td>pain associated with micturition</td>\n",
       "      <td>2941-3822-8420-2463</td>\n",
       "      <td>True</td>\n",
       "      <td>[00000\\t0\\t4\\tpain\\tDisease\\tMESH:D010146]</td>\n",
       "      <td>[Disease_MESH_D010146]</td>\n",
       "    </tr>\n",
       "    <tr>\n",
       "      <th>2</th>\n",
       "      <td>ebi</td>\n",
       "      <td>gastritis and duodenitis</td>\n",
       "      <td>3350-1413-5269-5786</td>\n",
       "      <td>True</td>\n",
       "      <td>[00000\\t0\\t9\\tgastritis\\tDisease\\tMESH:D005756...</td>\n",
       "      <td>[Disease_MESH_D005756, Disease_MESH_D004382]</td>\n",
       "    </tr>\n",
       "    <tr>\n",
       "      <th>3</th>\n",
       "      <td>ebi</td>\n",
       "      <td>pre existing hypertension complicating pregnan...</td>\n",
       "      <td>8353-1791-1234-4659</td>\n",
       "      <td>True</td>\n",
       "      <td>[00000\\t13\\t25\\thypertension\\tDisease\\tMESH:D0...</td>\n",
       "      <td>[Disease_MESH_D006973]</td>\n",
       "    </tr>\n",
       "    <tr>\n",
       "      <th>4</th>\n",
       "      <td>ebi</td>\n",
       "      <td>pre existing hypertensive disorder with superi...</td>\n",
       "      <td>7755-9327-8596-7950</td>\n",
       "      <td>True</td>\n",
       "      <td>[00000\\t13\\t34\\thypertensive disorder\\tDisease...</td>\n",
       "      <td>[Disease_MESH_D006973, Disease_MESH_D011507]</td>\n",
       "    </tr>\n",
       "    <tr>\n",
       "      <th>...</th>\n",
       "      <td>...</td>\n",
       "      <td>...</td>\n",
       "      <td>...</td>\n",
       "      <td>...</td>\n",
       "      <td>...</td>\n",
       "      <td>...</td>\n",
       "    </tr>\n",
       "    <tr>\n",
       "      <th>1290</th>\n",
       "      <td>efo</td>\n",
       "      <td>severe intellectual disability   epilepsy   an...</td>\n",
       "      <td>4488-8842-4877-4241</td>\n",
       "      <td>True</td>\n",
       "      <td>[00000\\t20\\t89\\tdisability   epilepsy   anal a...</td>\n",
       "      <td>[Disease_MESH_C537766]</td>\n",
       "    </tr>\n",
       "    <tr>\n",
       "      <th>1291</th>\n",
       "      <td>efo</td>\n",
       "      <td>achalasia   microcephaly</td>\n",
       "      <td>9148-6348-6604-6907</td>\n",
       "      <td>True</td>\n",
       "      <td>[00000\\t0\\t24\\tachalasia   microcephaly\\tDisea...</td>\n",
       "      <td>[Disease_MESH_C536010]</td>\n",
       "    </tr>\n",
       "    <tr>\n",
       "      <th>1292</th>\n",
       "      <td>efo</td>\n",
       "      <td>hypocalcemic vitamin d resistant rickets</td>\n",
       "      <td>6147-9712-7696-3318</td>\n",
       "      <td>True</td>\n",
       "      <td>[00000\\t13\\t20\\tvitamin\\tChemical\\tMESH:D014807]</td>\n",
       "      <td>[Chemical_MESH_D014807]</td>\n",
       "    </tr>\n",
       "    <tr>\n",
       "      <th>1293</th>\n",
       "      <td>efo</td>\n",
       "      <td>7q11 23 microduplication syndrome</td>\n",
       "      <td>5225-3416-3696-8566</td>\n",
       "      <td>True</td>\n",
       "      <td>[00000\\t154\\t160\\tStatus\\tDisease\\tMESH:D013226]</td>\n",
       "      <td>[Disease_MESH_D013226]</td>\n",
       "    </tr>\n",
       "    <tr>\n",
       "      <th>1294</th>\n",
       "      <td>efo</td>\n",
       "      <td>charcot marie tooth disease type 4b1</td>\n",
       "      <td>1812-6737-6833-1885</td>\n",
       "      <td>True</td>\n",
       "      <td>[00000\\t14\\t27\\ttooth disease\\tDisease\\tMESH:D...</td>\n",
       "      <td>[Disease_MESH_D014076]</td>\n",
       "    </tr>\n",
       "  </tbody>\n",
       "</table>\n",
       "<p>1295 rows × 6 columns</p>\n",
       "</div>"
      ],
      "text/plain": [
       "     batch                                               term  \\\n",
       "0      ebi           psoriatic and enteropathic arthropathies   \n",
       "1      ebi                   pain associated with micturition   \n",
       "2      ebi                           gastritis and duodenitis   \n",
       "3      ebi  pre existing hypertension complicating pregnan...   \n",
       "4      ebi  pre existing hypertensive disorder with superi...   \n",
       "...    ...                                                ...   \n",
       "1290   efo  severe intellectual disability   epilepsy   an...   \n",
       "1291   efo                           achalasia   microcephaly   \n",
       "1292   efo           hypocalcemic vitamin d resistant rickets   \n",
       "1293   efo                  7q11 23 microduplication syndrome   \n",
       "1294   efo               charcot marie tooth disease type 4b1   \n",
       "\n",
       "               session_id  exists  \\\n",
       "0     9489-1267-1820-7640    True   \n",
       "1     2941-3822-8420-2463    True   \n",
       "2     3350-1413-5269-5786    True   \n",
       "3     8353-1791-1234-4659    True   \n",
       "4     7755-9327-8596-7950    True   \n",
       "...                   ...     ...   \n",
       "1290  4488-8842-4877-4241    True   \n",
       "1291  9148-6348-6604-6907    True   \n",
       "1292  6147-9712-7696-3318    True   \n",
       "1293  5225-3416-3696-8566    True   \n",
       "1294  1812-6737-6833-1885    True   \n",
       "\n",
       "                                            session_res  \\\n",
       "0     [00000\\t14\\t40\\tenteropathic arthropathies\\tDi...   \n",
       "1            [00000\\t0\\t4\\tpain\\tDisease\\tMESH:D010146]   \n",
       "2     [00000\\t0\\t9\\tgastritis\\tDisease\\tMESH:D005756...   \n",
       "3     [00000\\t13\\t25\\thypertension\\tDisease\\tMESH:D0...   \n",
       "4     [00000\\t13\\t34\\thypertensive disorder\\tDisease...   \n",
       "...                                                 ...   \n",
       "1290  [00000\\t20\\t89\\tdisability   epilepsy   anal a...   \n",
       "1291  [00000\\t0\\t24\\tachalasia   microcephaly\\tDisea...   \n",
       "1292   [00000\\t13\\t20\\tvitamin\\tChemical\\tMESH:D014807]   \n",
       "1293   [00000\\t154\\t160\\tStatus\\tDisease\\tMESH:D013226]   \n",
       "1294  [00000\\t14\\t27\\ttooth disease\\tDisease\\tMESH:D...   \n",
       "\n",
       "                                           ner_res  \n",
       "0                           [Disease_MESH_D001177]  \n",
       "1                           [Disease_MESH_D010146]  \n",
       "2     [Disease_MESH_D005756, Disease_MESH_D004382]  \n",
       "3                           [Disease_MESH_D006973]  \n",
       "4     [Disease_MESH_D006973, Disease_MESH_D011507]  \n",
       "...                                            ...  \n",
       "1290                        [Disease_MESH_C537766]  \n",
       "1291                        [Disease_MESH_C536010]  \n",
       "1292                       [Chemical_MESH_D014807]  \n",
       "1293                        [Disease_MESH_D013226]  \n",
       "1294                        [Disease_MESH_D014076]  \n",
       "\n",
       "[1295 rows x 6 columns]"
      ]
     },
     "execution_count": 24,
     "metadata": {},
     "output_type": "execute_result"
    }
   ],
   "source": [
    "def ner_res_to_ent_id(ner_res: str) -> str:\n",
    "    ent_type_idx = 4\n",
    "    ent_idx = 5\n",
    "    expect_res_len = 6\n",
    "    split = ner_res.split(\"\\t\")\n",
    "    if len(split) < expect_res_len:\n",
    "        return None\n",
    "    if (len(split[ent_type_idx]) == 0) or (len(split[ent_idx]) == 0):\n",
    "        return None\n",
    "    res = \"{ent_type}_{ent}\".format(ent_type=split[ent_type_idx], ent=split[ent_idx].replace(\":\", \"_\"))\n",
    "    return res\n",
    "\n",
    "session_res_df = session_res_df.assign(\n",
    "    ner_res = lambda df: df[\"session_res\"].apply(\n",
    "        lambda x_list: [ner_res_to_ent_id(_) for _ in x_list]\n",
    "    ).apply(\n",
    "        lambda x_list: [_ for _ in x_list if _ is not None]\n",
    "    ).apply(\n",
    "        lambda x_list: None if len(x_list) == 0 else x_list\n",
    "    )\n",
    ").dropna().reset_index(drop=True)\n",
    "\n",
    "print(session_res_df.info())\n",
    "session_res_df"
   ]
  },
  {
   "cell_type": "code",
   "execution_count": 40,
   "id": "4f49a7f3-4836-4955-84ed-4341389d761f",
   "metadata": {
    "execution": {
     "iopub.execute_input": "2022-05-26T12:39:29.917454Z",
     "iopub.status.busy": "2022-05-26T12:39:29.917011Z",
     "iopub.status.idle": "2022-05-26T12:39:29.923060Z",
     "shell.execute_reply": "2022-05-26T12:39:29.921876Z",
     "shell.execute_reply.started": "2022-05-26T12:39:29.917403Z"
    },
    "tags": []
   },
   "outputs": [],
   "source": [
    "IDX = 4"
   ]
  },
  {
   "cell_type": "code",
   "execution_count": 42,
   "id": "ed67635b-6cee-48da-85a6-25c20d824d72",
   "metadata": {
    "execution": {
     "iopub.execute_input": "2022-05-26T12:40:14.600449Z",
     "iopub.status.busy": "2022-05-26T12:40:14.600007Z",
     "iopub.status.idle": "2022-05-26T12:40:14.697301Z",
     "shell.execute_reply": "2022-05-26T12:40:14.696918Z",
     "shell.execute_reply.started": "2022-05-26T12:40:14.600398Z"
    },
    "tags": []
   },
   "outputs": [
    {
     "name": "stderr",
     "output_type": "stream",
     "text": [
      "2022-05-26 13:40:14.604917 |> term: 'pre existing hypertensive disorder with superimposed proteinuria'\n",
      "2022-05-26 13:40:14.632886 |> session_res: [['00000', '13', '34', 'hypertensive disorder', 'Disease', 'MESH:D006973'],\n",
      "                                            ['00000', '53', '64', 'proteinuria', 'Disease', 'MESH:D011507']]\n",
      "2022-05-26 13:40:14.678557 |> ner_res: ['Disease_MESH_D006973', 'Disease_MESH_D011507']\n"
     ]
    },
    {
     "data": {
      "text/plain": [
       "['Disease_MESH_D006973', 'Disease_MESH_D011507']"
      ]
     },
     "execution_count": 42,
     "metadata": {},
     "output_type": "execute_result"
    }
   ],
   "source": [
    "term = session_res_df.iloc[IDX][\"term\"]\n",
    "ic(term)\n",
    "\n",
    "session_res = [_.split(\"\\t\") for _ in session_res_df.iloc[IDX][\"session_res\"]]\n",
    "ic(session_res)\n",
    "\n",
    "ner_res = session_res_df.iloc[IDX][\"ner_res\"]\n",
    "ic(ner_res)"
   ]
  },
  {
   "cell_type": "code",
   "execution_count": 28,
   "id": "76af69a5-c211-4e48-bce9-7d2f897e30db",
   "metadata": {
    "execution": {
     "iopub.execute_input": "2022-05-26T12:10:08.133080Z",
     "iopub.status.busy": "2022-05-26T12:10:08.132509Z",
     "iopub.status.idle": "2022-05-26T12:10:53.968011Z",
     "shell.execute_reply": "2022-05-26T12:10:53.966927Z",
     "shell.execute_reply.started": "2022-05-26T12:10:08.133029Z"
    },
    "tags": []
   },
   "outputs": [],
   "source": [
    "bioconceptvec_model_path = proj_root / \"models\" / \"bioconceptvec\" / \"bioconceptvec_word2vec_skipgram.bin\"\n",
    "assert bioconceptvec_model_path.exists()\n",
    "\n",
    "bioconceptvec_embeddings = KeyedVectors.load_word2vec_format(str(bioconceptvec_model_path), binary=True)"
   ]
  },
  {
   "cell_type": "code",
   "execution_count": 29,
   "id": "6f63a6e3-402d-4731-aff6-154e6c103cc9",
   "metadata": {
    "execution": {
     "iopub.execute_input": "2022-05-26T12:10:53.969878Z",
     "iopub.status.busy": "2022-05-26T12:10:53.969418Z",
     "iopub.status.idle": "2022-05-26T12:11:51.028533Z",
     "shell.execute_reply": "2022-05-26T12:11:51.027473Z",
     "shell.execute_reply.started": "2022-05-26T12:10:53.969856Z"
    },
    "tags": []
   },
   "outputs": [],
   "source": [
    "biosentvec_model_path = paths.init[\"biosentvec_model\"]\n",
    "assert biosentvec_model_path.exists()\n",
    "\n",
    "biosentvec_model = sent2vec.Sent2vecModel()\n",
    "biosentvec_model.load_model(str(biosentvec_model_path))"
   ]
  },
  {
   "cell_type": "code",
   "execution_count": 43,
   "id": "1815f4b3-13c3-4188-baac-5dee5d9b73c0",
   "metadata": {
    "execution": {
     "iopub.execute_input": "2022-05-26T12:41:23.280067Z",
     "iopub.status.busy": "2022-05-26T12:41:23.279630Z",
     "iopub.status.idle": "2022-05-26T12:41:23.289148Z",
     "shell.execute_reply": "2022-05-26T12:41:23.287971Z",
     "shell.execute_reply.started": "2022-05-26T12:41:23.280018Z"
    },
    "tags": []
   },
   "outputs": [
    {
     "name": "stdout",
     "output_type": "stream",
     "text": [
      "(1, 700)\n",
      "(100,)\n"
     ]
    }
   ],
   "source": [
    "biosentvec_vector = biosentvec_model.embed_sentence(term)\n",
    "bioconceptvec_vectors = [\n",
    "    bioconceptvec_embeddings[_]\n",
    "    for _ in ner_res if _ in bioconceptvec_embeddings.key_to_index.keys()\n",
    "]\n",
    "print(biosentvec_vector.shape)\n",
    "print(bioconceptvec_vectors[0].shape)"
   ]
  },
  {
   "cell_type": "code",
   "execution_count": 34,
   "id": "36e714f2-c1e0-4800-8163-d2eada72e81d",
   "metadata": {
    "execution": {
     "iopub.execute_input": "2022-05-26T12:15:45.920694Z",
     "iopub.status.busy": "2022-05-26T12:15:45.920138Z",
     "iopub.status.idle": "2022-05-26T12:15:45.930001Z",
     "shell.execute_reply": "2022-05-26T12:15:45.928847Z",
     "shell.execute_reply.started": "2022-05-26T12:15:45.920640Z"
    },
    "tags": []
   },
   "outputs": [],
   "source": [
    "def harmonize_vectors(main_vector: np.ndarray, addons: List[np.ndarray]) -> np.ndarray:\n",
    "    addon_shape = (100,)\n",
    "    main_vector_shape = (1, 700)\n",
    "    pad_width = int((700 - 100) / 2)\n",
    "    addons_padded = [\n",
    "        np.pad(_, pad_width, mode=\"constant\", constant_values=(0)).reshape(main_vector_shape)\n",
    "        for _ in addons\n",
    "    ]\n",
    "    res_vector = main_vector\n",
    "    for _ in addons_padded:\n",
    "        res_vector = res_vector + _\n",
    "    return res_vector"
   ]
  },
  {
   "cell_type": "code",
   "execution_count": 44,
   "id": "9f9f4da3-6492-4b2c-ae1f-9c54b5c64331",
   "metadata": {
    "execution": {
     "iopub.execute_input": "2022-05-26T12:41:28.352390Z",
     "iopub.status.busy": "2022-05-26T12:41:28.351952Z",
     "iopub.status.idle": "2022-05-26T12:41:28.360149Z",
     "shell.execute_reply": "2022-05-26T12:41:28.358914Z",
     "shell.execute_reply.started": "2022-05-26T12:41:28.352340Z"
    },
    "tags": []
   },
   "outputs": [
    {
     "name": "stdout",
     "output_type": "stream",
     "text": [
      "(1, 700)\n"
     ]
    }
   ],
   "source": [
    "biosentvec_bioconceptvec_vector = harmonize_vectors(\n",
    "    main_vector=biosentvec_vector,\n",
    "    addons=bioconceptvec_vectors\n",
    ")\n",
    "print(biosentvec_bioconceptvec_vector.shape)"
   ]
  },
  {
   "cell_type": "code",
   "execution_count": 45,
   "id": "b519cb5e-9e8b-4cf3-a937-c0857ba6e314",
   "metadata": {
    "execution": {
     "iopub.execute_input": "2022-05-26T12:41:29.727739Z",
     "iopub.status.busy": "2022-05-26T12:41:29.727203Z",
     "iopub.status.idle": "2022-05-26T12:41:29.736377Z",
     "shell.execute_reply": "2022-05-26T12:41:29.735347Z",
     "shell.execute_reply.started": "2022-05-26T12:41:29.727685Z"
    },
    "tags": []
   },
   "outputs": [
    {
     "data": {
      "text/plain": [
       "0.6307975649833679"
      ]
     },
     "execution_count": 45,
     "metadata": {},
     "output_type": "execute_result"
    }
   ],
   "source": [
    "1 - distance.cosine(biosentvec_vector, biosentvec_bioconceptvec_vector)"
   ]
  }
 ],
 "metadata": {
  "kernelspec": {
   "display_name": "Python 3 (ipykernel)",
   "language": "python",
   "name": "python3"
  },
  "language_info": {
   "codemirror_mode": {
    "name": "ipython",
    "version": 3
   },
   "file_extension": ".py",
   "mimetype": "text/x-python",
   "name": "python",
   "nbconvert_exporter": "python",
   "pygments_lexer": "ipython3",
   "version": "3.8.13"
  }
 },
 "nbformat": 4,
 "nbformat_minor": 5
}
