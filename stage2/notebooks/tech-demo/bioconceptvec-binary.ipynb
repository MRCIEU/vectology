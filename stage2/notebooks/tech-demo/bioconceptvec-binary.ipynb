{
 "cells": [
  {
   "cell_type": "code",
   "execution_count": 1,
   "id": "76be43c8-369a-4661-803b-5231eb8f8b32",
   "metadata": {
    "execution": {
     "iopub.execute_input": "2022-05-18T10:27:05.414894Z",
     "iopub.status.busy": "2022-05-18T10:27:05.414343Z",
     "iopub.status.idle": "2022-05-18T10:27:06.203949Z",
     "shell.execute_reply": "2022-05-18T10:27:06.203233Z",
     "shell.execute_reply.started": "2022-05-18T10:27:05.414754Z"
    },
    "tags": []
   },
   "outputs": [],
   "source": [
    "from gensim.models import KeyedVectors\n",
    "import os, sys, json, numpy as np\n",
    "\n",
    "from funcs import utils"
   ]
  },
  {
   "cell_type": "code",
   "execution_count": 3,
   "id": "bc9e722a-d74e-4702-a728-2371c3a95e4a",
   "metadata": {
    "execution": {
     "iopub.execute_input": "2022-05-18T10:28:57.101205Z",
     "iopub.status.busy": "2022-05-18T10:28:57.100887Z",
     "iopub.status.idle": "2022-05-18T10:28:57.105330Z",
     "shell.execute_reply": "2022-05-18T10:28:57.104715Z",
     "shell.execute_reply.started": "2022-05-18T10:28:57.101177Z"
    },
    "tags": []
   },
   "outputs": [],
   "source": [
    "proj_root = utils.find_project_root()\n",
    "MODEL_PATH = proj_root / \"models\" / \"bioconceptvec\" / \"bioconceptvec_word2vec_skipgram.bin\"\n",
    "assert MODEL_PATH.exists()"
   ]
  },
  {
   "cell_type": "code",
   "execution_count": 4,
   "id": "c3c7b085-73cb-44b8-9eca-adcb5dd93e26",
   "metadata": {
    "execution": {
     "iopub.execute_input": "2022-05-18T10:29:35.346057Z",
     "iopub.status.busy": "2022-05-18T10:29:35.345611Z",
     "iopub.status.idle": "2022-05-18T10:30:24.112175Z",
     "shell.execute_reply": "2022-05-18T10:30:24.111073Z",
     "shell.execute_reply.started": "2022-05-18T10:29:35.346007Z"
    },
    "tags": []
   },
   "outputs": [],
   "source": [
    "embeddings = KeyedVectors.load_word2vec_format(str(MODEL_PATH), binary=True)"
   ]
  },
  {
   "cell_type": "markdown",
   "id": "a04974f8-29a2-4e11-b927-b485d84f5591",
   "metadata": {},
   "source": [
    "## embeddings"
   ]
  },
  {
   "cell_type": "code",
   "execution_count": 15,
   "id": "56884be0-4744-44c1-a533-c9cab406cfaf",
   "metadata": {
    "execution": {
     "iopub.execute_input": "2022-05-18T10:40:46.664026Z",
     "iopub.status.busy": "2022-05-18T10:40:46.663337Z",
     "iopub.status.idle": "2022-05-18T10:40:46.672376Z",
     "shell.execute_reply": "2022-05-18T10:40:46.671503Z",
     "shell.execute_reply.started": "2022-05-18T10:40:46.663991Z"
    },
    "tags": []
   },
   "outputs": [
    {
     "name": "stdout",
     "output_type": "stream",
     "text": [
      "(100,)\n"
     ]
    },
    {
     "data": {
      "text/plain": [
       "array([-0.01676855,  0.56551105,  1.00418   ,  0.13895853,  0.0487967 ,\n",
       "        0.167735  , -0.07339028,  0.4984045 , -0.18709421, -0.07556584,\n",
       "       -0.2731313 , -0.4116881 ,  0.089853  ,  0.48193076, -0.257556  ,\n",
       "       -0.46385273,  0.21456282,  0.4653187 ,  0.54888815,  0.24953978,\n",
       "        0.12102792,  0.16346483, -0.21817666,  0.17584416,  0.00181668,\n",
       "        0.06124614, -0.665759  ,  0.27698943, -0.34381142, -0.29450157,\n",
       "       -0.04999237, -0.42160794,  0.587909  ,  0.04599308, -0.52086115,\n",
       "       -0.3301775 , -0.4439534 , -0.07623559,  1.1971241 , -0.05919534,\n",
       "       -0.3013499 , -0.32670468, -0.69612557, -0.1875824 , -0.27888337,\n",
       "        0.21057817,  0.1439918 , -0.5378452 ,  0.24323015, -0.19288874,\n",
       "       -0.26549867,  0.57281816, -0.5705898 , -0.07732881,  0.39814204,\n",
       "        0.5079281 ,  0.01936658,  0.78174835, -0.42671528, -0.10127745,\n",
       "        0.7548943 ,  0.2102662 ,  0.10312578,  0.16521394,  0.10868917,\n",
       "       -1.3835231 ,  0.6732168 , -0.22165756,  0.17197599, -0.63497144,\n",
       "       -0.08969615,  0.21237066, -0.907003  ,  1.1415814 , -0.61498743,\n",
       "       -0.11906599,  0.28348017,  0.07116657, -0.39458865,  0.10406175,\n",
       "        0.5030644 ,  0.21058439, -0.03956586, -0.6420697 ,  0.23658858,\n",
       "       -0.13384657,  0.2065848 , -0.6636525 , -0.2535231 ,  0.7523341 ,\n",
       "       -0.3637135 , -0.23915079,  0.04755536,  0.01878686, -0.13851313,\n",
       "       -0.56668204, -0.13115461, -0.10365731,  0.2567746 ,  0.05748362],\n",
       "      dtype=float32)"
      ]
     },
     "execution_count": 15,
     "metadata": {},
     "output_type": "execute_result"
    }
   ],
   "source": [
    "concept_vec = embeddings[\"Gene_2997\"]\n",
    "print(concept_vec.shape)\n",
    "concept_vec"
   ]
  },
  {
   "cell_type": "code",
   "execution_count": 24,
   "id": "57062b85-3e8e-4c4d-aa83-bed2f5746d45",
   "metadata": {
    "execution": {
     "iopub.execute_input": "2022-05-19T07:48:38.976829Z",
     "iopub.status.busy": "2022-05-19T07:48:38.976371Z",
     "iopub.status.idle": "2022-05-19T07:48:38.991526Z",
     "shell.execute_reply": "2022-05-19T07:48:38.990830Z",
     "shell.execute_reply.started": "2022-05-19T07:48:38.976767Z"
    },
    "tags": []
   },
   "outputs": [
    {
     "name": "stdout",
     "output_type": "stream",
     "text": [
      "(100,)\n"
     ]
    },
    {
     "data": {
      "text/plain": [
       "array([-3.71083796e-01,  1.07148850e+00,  3.05091262e-01,  5.10576785e-01,\n",
       "        2.66760796e-01,  3.51097733e-01,  1.40599117e-01,  8.96661654e-02,\n",
       "        1.86773874e-02,  3.79347056e-01, -4.68960762e-01, -1.37693048e-01,\n",
       "        1.77459598e-01, -1.60546005e-01, -3.39218050e-01, -6.12643473e-02,\n",
       "       -3.06290612e-02,  1.49603084e-01,  5.15843809e-01,  1.45216823e-01,\n",
       "       -3.11469257e-01,  8.77281502e-02, -3.56156006e-03,  2.76672423e-01,\n",
       "       -6.98156580e-02,  4.00094360e-01,  3.79867882e-01, -1.14888370e-01,\n",
       "       -5.37738442e-01,  6.35682642e-02,  2.28840768e-01,  7.53096417e-02,\n",
       "        7.48957694e-01, -1.60261169e-01, -4.71208990e-03, -2.79527843e-01,\n",
       "       -7.63943642e-02,  8.23164359e-02,  1.55679569e-01, -4.57895279e-01,\n",
       "       -2.38522694e-01, -5.56444982e-04,  9.15566809e-04, -1.50853187e-01,\n",
       "        6.01500943e-02, -1.50952846e-01, -6.01965129e-01, -5.78949928e-01,\n",
       "        3.54220904e-02,  5.82978129e-01,  1.40002877e-01,  3.13111752e-01,\n",
       "        4.44254279e-02, -3.22020173e-01,  7.31699347e-01,  6.14691079e-01,\n",
       "        1.13853447e-01,  3.62355947e-01,  1.00371830e-01,  4.10328098e-02,\n",
       "        4.53473300e-01, -2.99791783e-01, -8.56725797e-02, -3.38938266e-01,\n",
       "        2.67011106e-01,  1.48531899e-01,  4.70727384e-02, -1.97255626e-01,\n",
       "       -1.04458734e-01,  3.45300466e-01,  3.64463300e-01, -1.96172431e-01,\n",
       "       -2.58859396e-01,  5.24764657e-01,  3.48740593e-02,  7.46866167e-01,\n",
       "        1.53471589e-01,  2.54055448e-02, -2.45321035e-01,  3.34805280e-01,\n",
       "       -4.03231800e-01,  4.20024097e-01,  1.56343684e-01, -6.56341195e-01,\n",
       "       -2.74120450e-01, -2.59834737e-01, -4.52210531e-02, -6.52684331e-01,\n",
       "        6.73476532e-02,  3.40029627e-01,  1.79866448e-01, -3.35882932e-01,\n",
       "        2.02995569e-01,  6.23736143e-01, -4.43989754e-01,  2.53423482e-01,\n",
       "        7.93130770e-02,  2.14579478e-01,  1.76380917e-01,  2.05453169e-02],\n",
       "      dtype=float32)"
      ]
     },
     "execution_count": 24,
     "metadata": {},
     "output_type": "execute_result"
    }
   ],
   "source": [
    "concept_vec = embeddings[\"obesity\"]\n",
    "print(concept_vec.shape)\n",
    "concept_vec"
   ]
  },
  {
   "cell_type": "code",
   "execution_count": 21,
   "id": "0e4e5add-a064-414a-8209-b4f3f4e27a89",
   "metadata": {
    "execution": {
     "iopub.execute_input": "2022-05-18T10:51:39.977248Z",
     "iopub.status.busy": "2022-05-18T10:51:39.976368Z",
     "iopub.status.idle": "2022-05-18T10:51:43.988150Z",
     "shell.execute_reply": "2022-05-18T10:51:43.987303Z",
     "shell.execute_reply.started": "2022-05-18T10:51:39.977187Z"
    },
    "tags": []
   },
   "outputs": [
    {
     "data": {
      "text/plain": [
       "[('phosphorous', 0.7894465327262878),\n",
       " ('Chemical_MESH_D010758', 0.7885470986366272),\n",
       " ('Chemical_MESH_D008274', 0.7815420627593994),\n",
       " ('Chemical_MESH_D010757', 0.7814880013465881),\n",
       " ('Chemical_MESH_C102006', 0.7811864614486694),\n",
       " ('inorganic', 0.7791789770126343),\n",
       " ('po4', 0.7526918649673462),\n",
       " ('polyphosphate', 0.7526358962059021),\n",
       " ('-inorganic', 0.7481254935264587),\n",
       " ('phosphate', 0.7417328357696533)]"
      ]
     },
     "execution_count": 21,
     "metadata": {},
     "output_type": "execute_result"
    }
   ],
   "source": [
    "embeddings.similar_by_word(\"Chemical_MESH_D010710\")"
   ]
  },
  {
   "cell_type": "markdown",
   "id": "68439722-b877-43fa-a32c-36e6b14a96db",
   "metadata": {},
   "source": [
    "## vocab"
   ]
  },
  {
   "cell_type": "code",
   "execution_count": 6,
   "id": "a264a919-2407-442c-8e84-433433e03452",
   "metadata": {
    "execution": {
     "iopub.execute_input": "2022-05-18T10:35:28.426957Z",
     "iopub.status.busy": "2022-05-18T10:35:28.426076Z",
     "iopub.status.idle": "2022-05-18T10:35:28.436664Z",
     "shell.execute_reply": "2022-05-18T10:35:28.435994Z",
     "shell.execute_reply.started": "2022-05-18T10:35:28.426904Z"
    },
    "tags": []
   },
   "outputs": [
    {
     "data": {
      "text/plain": [
       "['__class__',\n",
       " '__contains__',\n",
       " '__delattr__',\n",
       " '__dict__',\n",
       " '__dir__',\n",
       " '__doc__',\n",
       " '__eq__',\n",
       " '__format__',\n",
       " '__ge__',\n",
       " '__getattribute__',\n",
       " '__getitem__',\n",
       " '__gt__',\n",
       " '__hash__',\n",
       " '__init__',\n",
       " '__init_subclass__',\n",
       " '__le__',\n",
       " '__len__',\n",
       " '__lt__',\n",
       " '__module__',\n",
       " '__ne__',\n",
       " '__new__',\n",
       " '__reduce__',\n",
       " '__reduce_ex__',\n",
       " '__repr__',\n",
       " '__setattr__',\n",
       " '__setitem__',\n",
       " '__sizeof__',\n",
       " '__str__',\n",
       " '__subclasshook__',\n",
       " '__weakref__',\n",
       " '_adapt_by_suffix',\n",
       " '_load_specials',\n",
       " '_log_evaluate_word_analogies',\n",
       " '_save_specials',\n",
       " '_smart_save',\n",
       " '_upconvert_old_d2vkv',\n",
       " '_upconvert_old_vocab',\n",
       " 'add_lifecycle_event',\n",
       " 'add_vector',\n",
       " 'add_vectors',\n",
       " 'allocate_vecattrs',\n",
       " 'closer_than',\n",
       " 'cosine_similarities',\n",
       " 'distance',\n",
       " 'distances',\n",
       " 'doesnt_match',\n",
       " 'evaluate_word_analogies',\n",
       " 'evaluate_word_pairs',\n",
       " 'expandos',\n",
       " 'fill_norms',\n",
       " 'get_index',\n",
       " 'get_normed_vectors',\n",
       " 'get_vecattr',\n",
       " 'get_vector',\n",
       " 'has_index_for',\n",
       " 'index2entity',\n",
       " 'index2word',\n",
       " 'index_to_key',\n",
       " 'init_sims',\n",
       " 'intersect_word2vec_format',\n",
       " 'key_to_index',\n",
       " 'lifecycle_events',\n",
       " 'load',\n",
       " 'load_word2vec_format',\n",
       " 'log_accuracy',\n",
       " 'log_evaluate_word_pairs',\n",
       " 'mapfile_path',\n",
       " 'most_similar',\n",
       " 'most_similar_cosmul',\n",
       " 'most_similar_to_given',\n",
       " 'n_similarity',\n",
       " 'next_index',\n",
       " 'norms',\n",
       " 'rank',\n",
       " 'rank_by_centrality',\n",
       " 'relative_cosine_similarity',\n",
       " 'resize_vectors',\n",
       " 'save',\n",
       " 'save_word2vec_format',\n",
       " 'set_vecattr',\n",
       " 'similar_by_key',\n",
       " 'similar_by_vector',\n",
       " 'similar_by_word',\n",
       " 'similarity',\n",
       " 'similarity_unseen_docs',\n",
       " 'sort_by_descending_frequency',\n",
       " 'unit_normalize_all',\n",
       " 'vector_size',\n",
       " 'vectors',\n",
       " 'vectors_for_all',\n",
       " 'vectors_norm',\n",
       " 'vocab',\n",
       " 'wmdistance',\n",
       " 'word_vec',\n",
       " 'words_closer_than']"
      ]
     },
     "execution_count": 6,
     "metadata": {},
     "output_type": "execute_result"
    }
   ],
   "source": [
    "dir(embeddings)"
   ]
  },
  {
   "cell_type": "code",
   "execution_count": 16,
   "id": "36110602-0af9-47cb-ba86-586dd7c6010c",
   "metadata": {
    "execution": {
     "iopub.execute_input": "2022-05-18T10:46:28.703513Z",
     "iopub.status.busy": "2022-05-18T10:46:28.703203Z",
     "iopub.status.idle": "2022-05-18T10:46:28.819280Z",
     "shell.execute_reply": "2022-05-18T10:46:28.818608Z",
     "shell.execute_reply.started": "2022-05-18T10:46:28.703485Z"
    },
    "tags": []
   },
   "outputs": [],
   "source": [
    "words = list(embeddings.key_to_index.keys())"
   ]
  },
  {
   "cell_type": "code",
   "execution_count": 19,
   "id": "720ced30-8b70-42f8-b0a1-628bc5d1c7b7",
   "metadata": {
    "execution": {
     "iopub.execute_input": "2022-05-18T10:49:29.413606Z",
     "iopub.status.busy": "2022-05-18T10:49:29.413229Z",
     "iopub.status.idle": "2022-05-18T10:49:30.679815Z",
     "shell.execute_reply": "2022-05-18T10:49:30.679290Z",
     "shell.execute_reply.started": "2022-05-18T10:49:29.413578Z"
    },
    "tags": []
   },
   "outputs": [],
   "source": [
    "vocab_path = MODEL_PATH.parent / \"bioconceptvec_word2vec_skipgram.vocab.txt\"\n",
    "with vocab_path.open(\"w\") as f:\n",
    "    for _ in words:\n",
    "        f.write(_+\"\\n\")"
   ]
  },
  {
   "cell_type": "markdown",
   "id": "deadc40e-65e9-49c2-a81c-98887edb3dcb",
   "metadata": {},
   "source": [
    "## misc"
   ]
  },
  {
   "cell_type": "code",
   "execution_count": 23,
   "id": "61b77469-76ab-4b21-98d7-1031e02ad40c",
   "metadata": {
    "execution": {
     "iopub.execute_input": "2022-05-18T15:47:46.321384Z",
     "iopub.status.busy": "2022-05-18T15:47:46.320802Z",
     "iopub.status.idle": "2022-05-18T15:47:46.331243Z",
     "shell.execute_reply": "2022-05-18T15:47:46.330350Z",
     "shell.execute_reply.started": "2022-05-18T15:47:46.321330Z"
    },
    "tags": []
   },
   "outputs": [
    {
     "name": "stdout",
     "output_type": "stream",
     "text": [
      "(100,)\n"
     ]
    },
    {
     "data": {
      "text/plain": [
       "array([ 0.2960074 ,  0.6256516 ,  0.2670746 ,  0.34807175, -0.04165087,\n",
       "       -0.09752116, -0.40541244,  0.25948277,  0.07092364,  0.0350636 ,\n",
       "       -0.64950913, -0.2906432 , -0.05058294,  0.69056505,  0.04398592,\n",
       "        0.00928383, -0.5560358 ,  0.3570897 ,  0.1035601 ,  0.3552391 ,\n",
       "       -0.36545876,  0.26320136, -0.14704889, -0.20038943,  0.03579602,\n",
       "       -0.04495963, -0.58139443,  0.33308178, -0.32946816,  0.0204215 ,\n",
       "       -0.06386555, -0.8316091 ,  1.1119683 , -0.10233486, -0.6018919 ,\n",
       "       -0.6721442 ,  0.08029539,  0.49111655,  0.20853408, -0.30212963,\n",
       "        0.20978005,  0.4475316 ,  0.13602822,  0.09381495,  0.07188424,\n",
       "        0.5755963 , -1.190664  ,  0.03908456, -0.06297127,  0.09664495,\n",
       "       -0.28475788,  0.14751416,  0.21707968, -0.02053396,  0.1699593 ,\n",
       "       -0.0335967 , -0.7081233 ,  0.576206  ,  0.68854976,  0.03009125,\n",
       "       -0.25835446, -0.5964552 , -0.05077269,  0.28730497,  0.26410562,\n",
       "       -0.9650466 ,  0.04805272, -0.18496643,  0.01776952,  0.46613353,\n",
       "        0.11759341, -0.48564085, -0.15767464,  0.0715195 ,  0.09499144,\n",
       "        0.40677026, -1.170163  ,  0.17203526, -0.25613123,  0.00718937,\n",
       "       -0.7945187 , -0.8004748 , -0.04034554, -0.39546457, -0.37874004,\n",
       "        0.20663394,  0.12614249, -0.31973684,  0.15925048, -0.04499859,\n",
       "       -0.31333315, -0.32946643,  0.2531589 ,  0.2842483 , -0.554588  ,\n",
       "        1.0874517 , -0.68817365,  0.00988211,  0.2346929 , -0.22498918],\n",
       "      dtype=float32)"
      ]
     },
     "execution_count": 23,
     "metadata": {},
     "output_type": "execute_result"
    }
   ],
   "source": [
    "concept_vec = embeddings[\"Disease_MESH_D001177\"]\n",
    "print(concept_vec.shape)\n",
    "concept_vec"
   ]
  }
 ],
 "metadata": {
  "kernelspec": {
   "display_name": "Python 3 (ipykernel)",
   "language": "python",
   "name": "python3"
  },
  "language_info": {
   "codemirror_mode": {
    "name": "ipython",
    "version": 3
   },
   "file_extension": ".py",
   "mimetype": "text/x-python",
   "name": "python",
   "nbconvert_exporter": "python",
   "pygments_lexer": "ipython3",
   "version": "3.8.13"
  }
 },
 "nbformat": 4,
 "nbformat_minor": 5
}
