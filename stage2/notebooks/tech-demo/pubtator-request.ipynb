{
 "cells": [
  {
   "cell_type": "code",
   "execution_count": 78,
   "id": "838e849c-e2ba-418c-a456-61b61e119619",
   "metadata": {
    "execution": {
     "iopub.execute_input": "2022-05-24T08:47:57.467765Z",
     "iopub.status.busy": "2022-05-24T08:47:57.467306Z",
     "iopub.status.idle": "2022-05-24T08:47:57.475763Z",
     "shell.execute_reply": "2022-05-24T08:47:57.474770Z",
     "shell.execute_reply.started": "2022-05-24T08:47:57.467702Z"
    },
    "tags": []
   },
   "outputs": [],
   "source": [
    "import requests\n",
    "from funcs import utils, paths\n",
    "from funcs.data_processing import stage1_processing"
   ]
  },
  {
   "cell_type": "markdown",
   "id": "c32a850c-ff56-44f0-a04f-02af827511dc",
   "metadata": {},
   "source": [
    "```\n",
    "curl -X POST --data-binary @[Inputfile] https://www.ncbi.nlm.nih.gov/research/pubtator-api/annotations/annotate/submit/[Bioconcept]\n",
    "```\n",
    "\n",
    "```\n",
    "curl https://www.ncbi.nlm.nih.gov/research/pubtator-api/annotations/annotate/retrieve/[SessionNumber]\n",
    "```"
   ]
  },
  {
   "cell_type": "markdown",
   "id": "ca9a1257-6e31-4495-876c-7497232f4384",
   "metadata": {},
   "source": [
    "## simple test"
   ]
  },
  {
   "cell_type": "code",
   "execution_count": 79,
   "id": "6ed5aa6c-81ae-41e8-9ef5-c30d3c704570",
   "metadata": {
    "execution": {
     "iopub.execute_input": "2022-05-24T08:47:59.601849Z",
     "iopub.status.busy": "2022-05-24T08:47:59.601368Z",
     "iopub.status.idle": "2022-05-24T08:47:59.607877Z",
     "shell.execute_reply": "2022-05-24T08:47:59.606664Z",
     "shell.execute_reply.started": "2022-05-24T08:47:59.601797Z"
    },
    "tags": []
   },
   "outputs": [],
   "source": [
    "annotate_url_template = \"https://www.ncbi.nlm.nih.gov/research/pubtator-api/annotations/annotate/submit/{concept_type}\"\n",
    "session_url_template = \"https://www.ncbi.nlm.nih.gov/research/pubtator-api/annotations/annotate/retrieve/{session_id}\""
   ]
  },
  {
   "cell_type": "code",
   "execution_count": 80,
   "id": "583b8844-480e-46fe-8488-67ce353345b6",
   "metadata": {
    "execution": {
     "iopub.execute_input": "2022-05-24T08:48:00.557932Z",
     "iopub.status.busy": "2022-05-24T08:48:00.557232Z",
     "iopub.status.idle": "2022-05-24T08:48:00.563343Z",
     "shell.execute_reply": "2022-05-24T08:48:00.562084Z",
     "shell.execute_reply.started": "2022-05-24T08:48:00.557877Z"
    },
    "tags": []
   },
   "outputs": [],
   "source": [
    "BIOCONCEPT = \"All\""
   ]
  },
  {
   "cell_type": "code",
   "execution_count": 81,
   "id": "fd83e35b-988b-411d-8c6e-d706dfeda00b",
   "metadata": {
    "execution": {
     "iopub.execute_input": "2022-05-24T08:48:02.129561Z",
     "iopub.status.busy": "2022-05-24T08:48:02.129111Z",
     "iopub.status.idle": "2022-05-24T08:48:02.140296Z",
     "shell.execute_reply": "2022-05-24T08:48:02.138972Z",
     "shell.execute_reply.started": "2022-05-24T08:48:02.129509Z"
    },
    "tags": []
   },
   "outputs": [
    {
     "data": {
      "text/plain": [
       "'Autosomal-dominant striatal degeneration (ADSD) is an autosomal-dominant movement disorder affecting the striatal part of the basal ganglia. ADSD is characterized by bradykinesia, dysarthria, and muscle rigidity. These symptoms resemble idiopathic Parkinson disease, but tremor is not present. \\n-*-\\nUsing genetic linkage analysis, we have mapped the causative genetic defect to a 3.25 megabase candidate region on chromosome 5q13.3-q14.1. A maximum LOD score of 4.1 (Theta = 0) was obtained at marker D5S1962. Here we show that ADSD is caused by a complex frameshift mutation (c.94G>C+c.95delT) in the phosphodiesterase 8B (PDE8B) gene, which results in a loss of enzymatic phosphodiesterase activity. We found that PDE8B is highly expressed in the brain, especially in the putamen, which is affected by ADSD. PDE8B degrades cyclic AMP, a second messenger implied in dopamine signaling. Dopamine is one of the main neurotransmitters involved in movement control and is deficient in Parkinson disease. We believe that the functional analysis of PDE8B will help to further elucidate the pathomechanism of ADSD as well as contribute to a better understanding of movement disorders.\\n'"
      ]
     },
     "execution_count": 81,
     "metadata": {},
     "output_type": "execute_result"
    }
   ],
   "source": [
    "TEXT = \"\"\"\\\n",
    "Autosomal-dominant striatal degeneration (ADSD) is an autosomal-dominant movement disorder affecting the striatal part of the basal ganglia. ADSD is characterized by bradykinesia, dysarthria, and muscle rigidity. These symptoms resemble idiopathic Parkinson disease, but tremor is not present. \n",
    "-*-\n",
    "Using genetic linkage analysis, we have mapped the causative genetic defect to a 3.25 megabase candidate region on chromosome 5q13.3-q14.1. A maximum LOD score of 4.1 (Theta = 0) was obtained at marker D5S1962. Here we show that ADSD is caused by a complex frameshift mutation (c.94G>C+c.95delT) in the phosphodiesterase 8B (PDE8B) gene, which results in a loss of enzymatic phosphodiesterase activity. We found that PDE8B is highly expressed in the brain, especially in the putamen, which is affected by ADSD. PDE8B degrades cyclic AMP, a second messenger implied in dopamine signaling. Dopamine is one of the main neurotransmitters involved in movement control and is deficient in Parkinson disease. We believe that the functional analysis of PDE8B will help to further elucidate the pathomechanism of ADSD as well as contribute to a better understanding of movement disorders.\n",
    "\"\"\"\n",
    "TEXT"
   ]
  },
  {
   "cell_type": "code",
   "execution_count": 82,
   "id": "54cce892-bac8-4c3f-884c-39d23b8392c9",
   "metadata": {
    "execution": {
     "iopub.execute_input": "2022-05-24T08:48:04.189767Z",
     "iopub.status.busy": "2022-05-24T08:48:04.189331Z",
     "iopub.status.idle": "2022-05-24T08:48:04.863918Z",
     "shell.execute_reply": "2022-05-24T08:48:04.862710Z",
     "shell.execute_reply.started": "2022-05-24T08:48:04.189719Z"
    },
    "tags": []
   },
   "outputs": [
    {
     "name": "stdout",
     "output_type": "stream",
     "text": [
      "9042-5142-1579-1503\n"
     ]
    }
   ],
   "source": [
    "url = annotate_url_template.format(concept_type=BIOCONCEPT)\n",
    "r = requests.post(url, data=TEXT.encode(\"utf-8\"))\n",
    "r.raise_for_status()\n",
    "print(r.text)"
   ]
  },
  {
   "cell_type": "code",
   "execution_count": 83,
   "id": "9e57f3f2-01dd-4e11-88ea-42074dd4fd72",
   "metadata": {
    "execution": {
     "iopub.execute_input": "2022-05-24T08:48:07.009226Z",
     "iopub.status.busy": "2022-05-24T08:48:07.008791Z",
     "iopub.status.idle": "2022-05-24T08:48:07.016197Z",
     "shell.execute_reply": "2022-05-24T08:48:07.014725Z",
     "shell.execute_reply.started": "2022-05-24T08:48:07.009174Z"
    },
    "tags": []
   },
   "outputs": [
    {
     "name": "stdout",
     "output_type": "stream",
     "text": [
      "9042-5142-1579-1503\n"
     ]
    }
   ],
   "source": [
    "session_id = r.text\n",
    "print(session_id)"
   ]
  },
  {
   "cell_type": "code",
   "execution_count": 85,
   "id": "92c89bb0-d440-4f09-ba11-39b94f803497",
   "metadata": {
    "execution": {
     "iopub.execute_input": "2022-05-24T08:55:37.615751Z",
     "iopub.status.busy": "2022-05-24T08:55:37.615220Z",
     "iopub.status.idle": "2022-05-24T08:55:38.185023Z",
     "shell.execute_reply": "2022-05-24T08:55:38.183834Z",
     "shell.execute_reply.started": "2022-05-24T08:55:37.615698Z"
    },
    "tags": []
   },
   "outputs": [
    {
     "name": "stdout",
     "output_type": "stream",
     "text": [
      "00000|t|Autosomal-dominant striatal degeneration (ADSD) is an autosomal-dominant movement disorder affecting the striatal part of the basal ganglia. ADSD is characterized by bradykinesia, dysarthria, and muscle rigidity. These symptoms resemble idiopathic Parkinson disease, but tremor is not present.  -*- Using genetic linkage analysis, we have mapped the causative genetic defect to a 3.25 megabase candidate region on chromosome 5q13.3-q14.1. A maximum LOD score of 4.1 (Theta = 0) was obtained at marker D5S1962. Here we show that ADSD is caused by a complex frameshift mutation (c.94G>C+c.95delT) in the phosphodiesterase 8B (PDE8B) gene, which results in a loss of enzymatic phosphodiesterase activity. We found that PDE8B is highly expressed in the brain, especially in the putamen, which is affected by ADSD. PDE8B degrades cyclic AMP, a second messenger implied in dopamine signaling. Dopamine is one of the main neurotransmitters involved in movement control and is deficient in Parkinson disease. We believe that the functional analysis of PDE8B will help to further elucidate the pathomechanism of ADSD as well as contribute to a better understanding of movement disorders.\n",
      "00000|a|-NoAbstract-\n",
      "00000\t42\t46\tADSD\tDisease\tMESH:C563783\n",
      "00000\t73\t90\tmovement disorder\tDisease\tMESH:D009069\n",
      "00000\t141\t145\tADSD\tDisease\tMESH:C563783\n",
      "00000\t166\t178\tbradykinesia\tDisease\tMESH:D018476\n",
      "00000\t180\t190\tdysarthria\tDisease\tMESH:D004401\n",
      "00000\t196\t211\tmuscle rigidity\tDisease\tMESH:D009127\n",
      "00000\t237\t265\tidiopathic Parkinson disease\tDisease\tMESH:D010300\n",
      "00000\t271\t277\ttremor\tDisease\tMESH:D014202\n",
      "00000\t528\t532\tADSD\tDisease\tMESH:C563783\n",
      "00000\t602\t622\tphosphodiesterase 8B\tGene\t8622\n",
      "00000\t624\t629\tPDE8B\tGene\t8622\n",
      "00000\t716\t721\tPDE8B\tGene\t8622\n",
      "00000\t804\t808\tADSD\tDisease\tMESH:C563783\n",
      "00000\t810\t815\tPDE8B\tGene\t8622\n",
      "00000\t825\t835\tcyclic AMP\tChemical\tMESH:D000242\n",
      "00000\t867\t875\tdopamine\tChemical\tMESH:D004298\n",
      "00000\t887\t895\tDopamine\tChemical\tMESH:D004298\n",
      "00000\t899\t902\tone\tChemical\tMESH:C115050\n",
      "00000\t982\t999\tParkinson disease\tDisease\tMESH:D010300\n",
      "00000\t1044\t1049\tPDE8B\tGene\t8622\n",
      "00000\t1103\t1107\tADSD\tDisease\tMESH:C563783\n",
      "00000\t1159\t1177\tmovement disorders\tDisease\tMESH:D009069\n",
      "\n",
      "\n"
     ]
    }
   ],
   "source": [
    "url = session_url_template.format(session_id=session_id)\n",
    "r = requests.get(url)\n",
    "r.raise_for_status()\n",
    "print(r.text)"
   ]
  },
  {
   "cell_type": "code",
   "execution_count": 86,
   "id": "67273a47-73b4-4865-a31e-86f2b581b488",
   "metadata": {
    "execution": {
     "iopub.execute_input": "2022-05-24T08:55:55.469087Z",
     "iopub.status.busy": "2022-05-24T08:55:55.468699Z",
     "iopub.status.idle": "2022-05-24T08:55:55.474203Z",
     "shell.execute_reply": "2022-05-24T08:55:55.473280Z",
     "shell.execute_reply.started": "2022-05-24T08:55:55.469058Z"
    },
    "tags": []
   },
   "outputs": [
    {
     "name": "stdout",
     "output_type": "stream",
     "text": [
      "00000|t|Autosomal-dominant striatal degeneration (ADSD) is an autosomal-dominant movement disorder affecting the striatal part of the basal ganglia. ADSD is characterized by bradykinesia, dysarthria, and muscle rigidity. These symptoms resemble idiopathic Parkinson disease, but tremor is not present.  -*- Using genetic linkage analysis, we have mapped the causative genetic defect to a 3.25 megabase candidate region on chromosome 5q13.3-q14.1. A maximum LOD score of 4.1 (Theta = 0) was obtained at marker D5S1962. Here we show that ADSD is caused by a complex frameshift mutation (c.94G>C+c.95delT) in the phosphodiesterase 8B (PDE8B) gene, which results in a loss of enzymatic phosphodiesterase activity. We found that PDE8B is highly expressed in the brain, especially in the putamen, which is affected by ADSD. PDE8B degrades cyclic AMP, a second messenger implied in dopamine signaling. Dopamine is one of the main neurotransmitters involved in movement control and is deficient in Parkinson disease. We believe that the functional analysis of PDE8B will help to further elucidate the pathomechanism of ADSD as well as contribute to a better understanding of movement disorders.\n",
      "00000|a|-NoAbstract-\n",
      "00000\t42\t46\tADSD\tDisease\tMESH:C563783\n",
      "00000\t73\t90\tmovement disorder\tDisease\tMESH:D009069\n",
      "00000\t141\t145\tADSD\tDisease\tMESH:C563783\n",
      "00000\t166\t178\tbradykinesia\tDisease\tMESH:D018476\n",
      "00000\t180\t190\tdysarthria\tDisease\tMESH:D004401\n",
      "00000\t196\t211\tmuscle rigidity\tDisease\tMESH:D009127\n",
      "00000\t237\t265\tidiopathic Parkinson disease\tDisease\tMESH:D010300\n",
      "00000\t271\t277\ttremor\tDisease\tMESH:D014202\n",
      "00000\t528\t532\tADSD\tDisease\tMESH:C563783\n",
      "00000\t602\t622\tphosphodiesterase 8B\tGene\t8622\n",
      "00000\t624\t629\tPDE8B\tGene\t8622\n",
      "00000\t716\t721\tPDE8B\tGene\t8622\n",
      "00000\t804\t808\tADSD\tDisease\tMESH:C563783\n",
      "00000\t810\t815\tPDE8B\tGene\t8622\n",
      "00000\t825\t835\tcyclic AMP\tChemical\tMESH:D000242\n",
      "00000\t867\t875\tdopamine\tChemical\tMESH:D004298\n",
      "00000\t887\t895\tDopamine\tChemical\tMESH:D004298\n",
      "00000\t899\t902\tone\tChemical\tMESH:C115050\n",
      "00000\t982\t999\tParkinson disease\tDisease\tMESH:D010300\n",
      "00000\t1044\t1049\tPDE8B\tGene\t8622\n",
      "00000\t1103\t1107\tADSD\tDisease\tMESH:C563783\n",
      "00000\t1159\t1177\tmovement disorders\tDisease\tMESH:D009069\n",
      "\n",
      "\n"
     ]
    }
   ],
   "source": [
    "parse_res = r.text\n",
    "print(parse_res)"
   ]
  },
  {
   "cell_type": "markdown",
   "id": "8d454a91-9548-45f1-8c81-bf57f5a7f849",
   "metadata": {},
   "source": [
    "## test real data example"
   ]
  },
  {
   "cell_type": "code",
   "execution_count": 108,
   "id": "ee06473d-41fd-46eb-9fd9-d1c6748d3b35",
   "metadata": {
    "execution": {
     "iopub.execute_input": "2022-05-24T09:24:08.510429Z",
     "iopub.status.busy": "2022-05-24T09:24:08.509988Z",
     "iopub.status.idle": "2022-05-24T09:24:08.583770Z",
     "shell.execute_reply": "2022-05-24T09:24:08.583128Z",
     "shell.execute_reply.started": "2022-05-24T09:24:08.510378Z"
    },
    "tags": []
   },
   "outputs": [
    {
     "name": "stderr",
     "output_type": "stream",
     "text": [
      "2022-05-24 10:24:08.578 | INFO     | funcs.data_processing.stage1_processing:get_efo_nodes:24 - <class 'pandas.core.frame.DataFrame'>\n",
      "Int64Index: 25380 entries, 0 to 25389\n",
      "Data columns (total 2 columns):\n",
      " #   Column     Non-Null Count  Dtype \n",
      "---  ------     --------------  ----- \n",
      " 0   efo_label  25380 non-null  object\n",
      " 1   efo_id     25380 non-null  object\n",
      "dtypes: object(2)\n",
      "memory usage: 594.8+ KB\n",
      "\n"
     ]
    },
    {
     "name": "stdout",
     "output_type": "stream",
     "text": [
      "['eyebrow eyelashes pigmentation anomaly', 'disorder of branched chain amino acid metabolism', 'syndromic keratoconus', 'abnormal eye movements', 'non progressive epilepsy and or ataxia with myoclonus as a major feature', 'x linked recessive optic atrophy', 'hyperlipoproteinemia type 1', 'gm2 gangliosidosis', 'peroxisome biogenesis disorder zellweger syndrome spectrum', 'ichthyosis associated with ocular features', 'cataract associated with a metabolic disease', 'male infertility due to sperm disorder', 'metabolic disease with macular cherry red spot', 'congenital muscular alpha dystroglycanopathy with brain and eye anomalies', 'mucopolysaccharidosis type 1', 'mucopolysaccharidosis', 'phakomatosis with eye involvement', 'craniofacial anomaly with cataract', 'spinocerebellar degenerescence and spastic paraparesis with an oculomotor anomaly', 'hcc1599']\n"
     ]
    }
   ],
   "source": [
    "# ebi_data = stage1_processing.get_ebi_data()\n",
    "# \n",
    "# ebi_terms = ebi_data[\"query\"].tolist()[:60]\n",
    "# print(ebi_terms)\n",
    "\n",
    "from string import punctuation\n",
    "\n",
    "def _clean(text: str) -> str:\n",
    "    text = text.encode(\"ascii\", \"ignore\").decode()\n",
    "    for _ in punctuation:\n",
    "        text = text.replace(_, \" \")\n",
    "    return text\n",
    "\n",
    "efo_data = stage1_processing.get_efo_nodes()\n",
    "efo_terms = efo_data[\"efo_label\"][600:800].apply(_clean).tolist()\n",
    "print(efo_terms[:20])"
   ]
  },
  {
   "cell_type": "code",
   "execution_count": 105,
   "id": "d7615c71-7920-485a-8932-1517092cb962",
   "metadata": {
    "execution": {
     "iopub.execute_input": "2022-05-24T09:18:48.670017Z",
     "iopub.status.busy": "2022-05-24T09:18:48.669523Z",
     "iopub.status.idle": "2022-05-24T09:18:48.676916Z",
     "shell.execute_reply": "2022-05-24T09:18:48.675725Z",
     "shell.execute_reply.started": "2022-05-24T09:18:48.669965Z"
    },
    "tags": []
   },
   "outputs": [
    {
     "name": "stdout",
     "output_type": "stream",
     "text": [
      "peroxisomal disease with epilepsy\n",
      "-*-\n",
      "amino acid or protein metabolism disease with epilepsy\n",
      "-*-\n",
      "metal transport or utilization disorder with epilepsy\n",
      "-*-\n",
      "secondary interstitial lung disease in childhood and adulthood associated with a metabolic disease\n",
      "-*-\n",
      "genetic non syndromic central nervous system malformation\n",
      "-*-\n",
      "genetic neurodegenerative disease with dementia\n",
      "-*-\n",
      "frontotemporal dementia\n",
      "-*-\n",
      "syndromic ichthyosis associated with ocular features\n",
      "-*-\n",
      "metabolic disease with corneal opacity\n",
      "-*-\n",
      "walker warburg syndrome\n",
      "-*-\n",
      "non x linked congenital disorder of glycosylation with intellectual disability as a major feature\n",
      "-*-\n",
      "congenital disorder of glycosylation with epilepsy as a major feature\n",
      "-*-\n",
      "sphingolipidosis with epilepsy\n",
      "-*-\n",
      "inherited renal cancer predisposing syndrome\n",
      "-*-\n",
      "syndromic urogenital tract malformation\n",
      "-*-\n",
      "trichothiodystrophy\n",
      "-*-\n",
      "syndromic hair shaft abnormality\n",
      "-*-\n",
      "rare insulin resistance syndrome\n",
      "-*-\n",
      "non acquired premature ovarian failure\n",
      "-*-\n",
      "optic neuropathy\n",
      "-*-\n",
      "familial chylomicronemia syndrome\n",
      "-*-\n",
      "ichthyosis  disease \n",
      "-*-\n",
      "genetic frontotemporal degeneration with dementia\n",
      "-*-\n",
      "frontotemporal neurodegeneration with movement disorder\n",
      "-*-\n",
      "inherited neuroendocrine tumor\n",
      "-*-\n",
      "microcephalic primordial dwarfism\n",
      "-*-\n",
      "moyamoya syndrome\n",
      "-*-\n",
      "genetic central nervous system and retinal vascular disease\n",
      "-*-\n",
      "combined t and b cell immunodeficiency\n",
      "-*-\n",
      "skin vascular disease\n",
      "-*-\n",
      "genetic skin vascular disorder\n",
      "-*-\n",
      "leigh syndrome\n",
      "-*-\n",
      "leigh disease\n",
      "-*-\n",
      "unclassified primitive or secondary maculopathy\n",
      "-*-\n",
      "syndrome with a symptomatic strabismus\n",
      "-*-\n",
      "supranuclear oculomotor palsy\n",
      "-*-\n",
      "mitochondrial disease with eye involvement\n",
      "-*-\n",
      "catecholamine producing tumor\n",
      "-*-\n",
      "rare photodermatosis\n",
      "-*-\n",
      "genetic photodermatosis\n",
      "-*-\n",
      "overgrowth syndrome\n",
      "-*-\n",
      "rare neurologic disease with psychiatric involvement\n",
      "-*-\n",
      "cerebral lipidosis with dementia\n",
      "-*-\n",
      "metabolic disease with dementia\n",
      "-*-\n",
      "rare disorder with ptosis\n",
      "-*-\n",
      "chromosomal anomaly with cataract\n",
      "-*-\n",
      "congenital factor v deficiency\n",
      "-*-\n",
      "factor v deficiency\n",
      "-*-\n",
      "microcephaly  growth restriction and increased sister chromatid exchange\n",
      "-*-\n",
      "dna repair defect other than combined t cell and b cell immunodeficiencies\n",
      "-*-\n",
      "non dystrophic myopathy\n",
      "-*-\n",
      "dysostosis of genetic origin with limb anomaly as a major feature\n",
      "-*-\n",
      "hirschsprung disease\n",
      "-*-\n",
      "neurocristopathy\n",
      "-*-\n",
      "intestinal motility disease\n",
      "-*-\n",
      "nephropathy associated ciliopathy\n",
      "-*-\n",
      "retinal ciliopathy\n",
      "-*-\n",
      "hyperlipoproteinemia\n",
      "-*-\n",
      "genetic multiple congenital anomalies dysmorphic syndrome variable intellectual disability syndrome\n",
      "-*-\n",
      "genetic multiple congenital anomalies dysmorphic syndrome   variable intellectual disability\n",
      "-*-\n",
      "hereditary optic atrophy\n",
      "-*-\n",
      "rare disease with autism\n",
      "-*-\n",
      "disorder of phenylalanine metabolism\n",
      "-*-\n",
      "malformation syndrome with connective tissue involvement\n",
      "-*-\n",
      "adolescent adult onset epilepsy syndrome\n",
      "-*-\n",
      "mus musculus domesticus\n",
      "-*-\n",
      "mus musculus subspecies\n",
      "-*-\n",
      "mus musculus musculus\n",
      "-*-\n",
      "tauopathy\n",
      "-*-\n",
      "genetic eye tumor\n",
      "-*-\n",
      "prostate derived cell line\n",
      "-*-\n",
      "encode cell line\n",
      "-*-\n",
      "hepatobiliary disease\n",
      "-*-\n",
      "esc derived cell line\n",
      "-*-\n",
      "trophozoite\n",
      "-*-\n",
      "plasmodium parasite stage\n",
      "-*-\n",
      "endothelial cell derived cell line\n",
      "-*-\n",
      "disorder of peroxisomal alpha   beta  and omega oxidation\n",
      "-*-\n",
      "neurodegenerative disease with chorea\n",
      "-*-\n",
      "syndromic developmental defect of the eye\n",
      "-*-\n",
      "argininemia\n",
      "-*-\n",
      "disorder of urea cycle metabolism and ammonia detoxification\n",
      "-*-\n",
      "chronic hepatic porphyria\n",
      "-*-\n",
      "genodermatosis with ocular features\n",
      "-*-\n",
      "rare metabolic liver disease\n",
      "-*-\n",
      "autosomal recessive cerebellar ataxia due to a dna repair defect\n",
      "-*-\n",
      "classic organic aciduria\n",
      "-*-\n",
      "familial intrahepatic cholestasis\n",
      "-*-\n",
      "syndromic intestinal malformation\n",
      "-*-\n",
      "isolated ectopia lentis\n",
      "-*-\n",
      "marfan and marfan related disorder\n",
      "-*-\n",
      "sex chromosome disorder of sex development\n",
      "-*-\n",
      "muscular glycogenosis\n",
      "-*-\n",
      "lysosomal glycogen storage disease\n",
      "-*-\n",
      "sickle cell disease and related diseases\n",
      "-*-\n",
      "connective tissue disease with eye involvement\n",
      "-*-\n",
      "malformation syndrome with skin mucosae involvement\n",
      "-*-\n",
      "polymalformative genetic syndrome with increased risk of developing cancer\n",
      "-*-\n",
      "conjunctival telangiectasia\n",
      "-*-\n",
      "oculomotor apraxia or related oculomotor disease\n",
      "-*-\n",
      "multiple polyglandular tumor\n",
      "-*-\n",
      "genetic mixed dermis disorder\n",
      "-*-\n",
      "rare genetic intellectual disability with developmental anomaly\n",
      "-*-\n",
      "ectodermal dysplasia syndrome\n",
      "-*-\n",
      "autosomal dominant cerebellar ataxia type 4\n",
      "-*-\n",
      "familial partial epilepsy\n",
      "-*-\n",
      "retinitis pigmentosa\n",
      "-*-\n",
      "retinal dystrophy\n",
      "-*-\n",
      "genetic syndrome with limb reduction defects\n",
      "-*-\n",
      "mitochondrial disease with hypertrophic cardiomyopathy\n",
      "-*-\n",
      "mitochondrial disease with dilated cardiomyopathy\n",
      "-*-\n",
      "mitochondrial oxidative phosphorylation disorder due to a point mutation of mitochondrial dna\n",
      "-*-\n",
      "congenital intestinal motility disorder\n",
      "-*-\n",
      "malformation syndrome with hamartosis\n",
      "-*-\n",
      "rare disease with glaucoma as a major feature\n",
      "-*-\n",
      "non syndromic intestinal malformation\n",
      "-*-\n",
      "rare disorder with female infertility due to a congenital hypogonadotropic hypogonadism\n",
      "-*-\n",
      "syndromic retinitis pigmentosa\n",
      "-*-\n",
      "syndromic myopia\n",
      "-*-\n",
      "midline cerebral malformation\n",
      "-*-\n",
      "malignant tumor of palpebral epidermis\n",
      "-*-\n",
      "macroglossia\n",
      "-*-\n",
      "syndrome associated with hypertrophic cardiomyopathy\n",
      "-*-\n",
      "autosomal recessive degenerative and progressive cerebellar ataxia\n",
      "-*-\n",
      "rare hereditary metabolic disease with peripheral neuropathy\n",
      "-*-\n",
      "lysosomal disease with hypertrophic cardiomyopathy\n",
      "-*-\n",
      "fucosidosis\n",
      "-*-\n",
      "oligosaccharidosis\n",
      "-*-\n",
      "lysosomal storage disease with skeletal involvement\n",
      "-*-\n",
      "pierre robin syndrome associated with bone disease\n",
      "-*-\n",
      "secondary ectropion\n",
      "-*-\n",
      "rare constitutional medullar aplasia\n",
      "-*-\n",
      "ectodermal malformation syndrome associated with ocular features\n",
      "-*-\n",
      "ptosis\n",
      "-*-\n",
      "lens position anomaly\n",
      "-*-\n",
      "rare female infertility due to an anomaly of ovarian function of genetic origin\n",
      "-*-\n",
      "genetic hyperpigmentation of the skin\n",
      "-*-\n",
      "noonan syndrome and noonan related syndrome\n",
      "-*-\n",
      "heart hand syndrome\n",
      "-*-\n",
      "palpebral lentiginosis\n",
      "-*-\n",
      "syndrome with disorder of sex development of gynecological interest\n",
      "-*-\n",
      "syndrome associated with pierre robin syndrome\n",
      "-*-\n",
      "autosomal recessive metabolic cerebellar ataxia\n",
      "-*-\n",
      "metabolic disease with pigmentary retinitis\n",
      "-*-\n",
      "syndrome with 46 xy disorder of sex development\n",
      "-*-\n",
      "primary bone dysplasia with micromelia\n",
      "-*-\n",
      "type 11 collagen related bone disorder\n",
      "-*-\n",
      "unclassified familial retinal dystrophy\n",
      "-*-\n",
      "multiple carboxylase deficiency\n",
      "-*-\n",
      "fgfr3 related chondrodysplasia\n",
      "-*-\n",
      "disorder of copper metabolism\n",
      "-*-\n",
      "syndromic epicanthus\n",
      "-*-\n",
      "metabolic disease with cataract\n",
      "-*-\n",
      "peroxisomal beta oxidation disorder\n",
      "-*-\n",
      "rare disorder with hypergonadotropic hypogonadism\n",
      "-*-\n",
      "neurocutaneous syndrome with epilepsy\n",
      "-*-\n",
      "syndromic oculocutaneous albinism\n",
      "-*-\n",
      "disorder of lysosomal related organelles\n",
      "-*-\n",
      "dense granule disease\n",
      "-*-\n",
      "rare pervasive developmental disorder\n",
      "-*-\n",
      "rare hemorrhagic disorder due to a constitutional coagulation factors defect\n",
      "-*-\n",
      "autosomal ichthyosis syndrome with prominent neurologics signs\n",
      "-*-\n",
      "rhizomelic chondrodysplasia punctata\n",
      "-*-\n",
      "female infertility due to gonadal dysgenesis\n",
      "-*-\n",
      "osteopetrosis with renal tubular acidosis\n",
      "-*-\n",
      "autosomal recessive malignant osteopetrosis\n",
      "-*-\n",
      "primary renal tubular acidosis\n",
      "-*-\n",
      "autoinflammatory syndrome with immune deficiency\n",
      "-*-\n",
      "citrullinemia type i\n",
      "-*-\n",
      "citrullinemia\n",
      "-*-\n",
      "congenital vitreoretinal dysplasia\n",
      "-*-\n",
      "genetic progeroid syndrome\n",
      "-*-\n",
      "eyebrow hypertrophy\n",
      "-*-\n",
      "crigler najjar syndrome type 1\n",
      "-*-\n",
      "crigler najjar syndrome\n",
      "-*-\n",
      "cryptophthalmia\n",
      "-*-\n",
      "lesch nyhan syndrome\n",
      "-*-\n",
      "hypoxanthine guanine phosphoribosyltransferase deficiency\n",
      "-*-\n",
      "qualitative or quantitative defects of fukutin\n",
      "-*-\n",
      "disorder of o mannosylglycan synthesis\n",
      "-*-\n",
      "qualitative or quantitative defects of protein o mannosyltransferase 2\n",
      "-*-\n",
      "qualitative or quantitative defects of protein o mannose beta1 2n acetylglucosaminyltransferase\n",
      "-*-\n",
      "cerebellar ataxia with peripheral neuropathy\n",
      "-*-\n",
      "qualitative or quantitative defects of fkrp\n",
      "-*-\n",
      "hereditary periodic fever syndrome\n",
      "-*-\n",
      "qualitative or quantitative defects of protein o mannosyltransferase 1\n",
      "-*-\n",
      "disorder of lysosomal amino acid transport\n",
      "-*-\n",
      "rare hereditary disease with avascular necrosis\n",
      "-*-\n",
      "lysosomal disease with restrictive cardiomyopathy\n",
      "-*-\n",
      "hematological disorder with renal involvement\n",
      "-*-\n",
      "multiple endocrine neoplasia type 2\n",
      "-*-\n",
      "disorder of cobalamin metabolism and transport\n",
      "-*-\n",
      "constitutional megaloblastic anemia due to vitamin b12 metabolism disorder\n",
      "-*-\n",
      "x chromosome number anomaly with female phenotype\n",
      "-*-\n",
      "autosomal ichthyosis syndrome with fatal disease course\n",
      "-*-\n",
      "myopathy with eye involvement\n",
      "-*-\n",
      "wolman disease\n",
      "-*-\n",
      "lysosomal acid lipase deficiency\n",
      "-*-\n",
      "congenital disorder of glycosylation with developmental anomaly\n",
      "-*-\n",
      "autosomal ichthyosis syndrome with prominent hair abnormalities\n"
     ]
    }
   ],
   "source": [
    "efo_terms_concat = \"\\n-*-\\n\".join(efo_terms)\n",
    "print(efo_terms_concat)"
   ]
  },
  {
   "cell_type": "code",
   "execution_count": 102,
   "id": "0686482f-9681-45ca-9a2d-b1ac42716d89",
   "metadata": {
    "execution": {
     "iopub.execute_input": "2022-05-24T09:17:20.221421Z",
     "iopub.status.busy": "2022-05-24T09:17:20.220855Z",
     "iopub.status.idle": "2022-05-24T09:17:20.895328Z",
     "shell.execute_reply": "2022-05-24T09:17:20.894122Z",
     "shell.execute_reply.started": "2022-05-24T09:17:20.221366Z"
    },
    "tags": []
   },
   "outputs": [
    {
     "name": "stdout",
     "output_type": "stream",
     "text": [
      "7442-7693-5499-3769\n"
     ]
    }
   ],
   "source": [
    "url = annotate_url_template.format(concept_type=BIOCONCEPT)\n",
    "r = requests.post(url, data=efo_terms_concat.encode(\"utf-8\"))\n",
    "r.raise_for_status()\n",
    "print(r.text)"
   ]
  },
  {
   "cell_type": "code",
   "execution_count": 103,
   "id": "01ec0481-6a7a-4b32-9fae-ab81f3d72a94",
   "metadata": {
    "execution": {
     "iopub.execute_input": "2022-05-24T09:17:23.572130Z",
     "iopub.status.busy": "2022-05-24T09:17:23.571697Z",
     "iopub.status.idle": "2022-05-24T09:17:23.578499Z",
     "shell.execute_reply": "2022-05-24T09:17:23.577352Z",
     "shell.execute_reply.started": "2022-05-24T09:17:23.572081Z"
    },
    "tags": []
   },
   "outputs": [
    {
     "name": "stdout",
     "output_type": "stream",
     "text": [
      "7442-7693-5499-3769\n"
     ]
    }
   ],
   "source": [
    "session_id = r.text\n",
    "print(session_id)"
   ]
  },
  {
   "cell_type": "code",
   "execution_count": 107,
   "id": "9e675f18-080d-422f-98e3-a985ea0bd074",
   "metadata": {
    "execution": {
     "iopub.execute_input": "2022-05-24T09:22:35.041945Z",
     "iopub.status.busy": "2022-05-24T09:22:35.041040Z",
     "iopub.status.idle": "2022-05-24T09:22:35.594866Z",
     "shell.execute_reply": "2022-05-24T09:22:35.593870Z",
     "shell.execute_reply.started": "2022-05-24T09:22:35.041889Z"
    },
    "tags": []
   },
   "outputs": [
    {
     "name": "stdout",
     "output_type": "stream",
     "text": [
      "00000|t|peroxisomal disease with epilepsy -*- amino acid or protein metabolism disease with epilepsy -*- metal transport or utilization disorder with epilepsy -*- secondary interstitial lung disease in childhood and adulthood associated with a metabolic disease -*- genetic non syndromic central nervous system malformation -*- genetic neurodegenerative disease with dementia -*- frontotemporal dementia -*- syndromic ichthyosis associated with ocular features -*- metabolic disease with corneal opacity -*- walker warburg syndrome -*- non x linked congenital disorder of glycosylation with intellectual disability as a major feature -*- congenital disorder of glycosylation with epilepsy as a major feature -*- sphingolipidosis with epilepsy -*- inherited renal cancer predisposing syndrome -*- syndromic urogenital tract malformation -*- trichothiodystrophy -*- syndromic hair shaft abnormality -*- rare insulin resistance syndrome -*- non acquired premature ovarian failure -*- optic neuropathy -*- familial chylomicronemia syndrome -*- ichthyosis  disease  -*- genetic frontotemporal degeneration with dementia -*- frontotemporal neurodegeneration with movement disorder -*- inherited neuroendocrine tumor -*- microcephalic primordial dwarfism -*- moyamoya syndrome -*- genetic central nervous system and retinal vascular disease -*- combined t and b cell immunodeficiency -*- skin vascular disease -*- genetic skin vascular disorder -*- leigh syndrome -*- leigh disease -*- unclassified primitive or secondary maculopathy -*- syndrome with a symptomatic strabismus -*- supranuclear oculomotor palsy -*- mitochondrial disease with eye involvement -*- catecholamine producing tumor -*- rare photodermatosis -*- genetic photodermatosis -*- overgrowth syndrome -*- rare neurologic disease with psychiatric involvement -*- cerebral lipidosis with dementia -*- metabolic disease with dementia -*- rare disorder with ptosis -*- chromosomal anomaly with cataract -*- congenital factor v deficiency -*- factor v deficiency -*- microcephaly  growth restriction and increased sister chromatid exchange -*- dna repair defect other than combined t cell and b cell immunodeficiencies -*- non dystrophic myopathy -*- dysostosis of genetic origin with limb anomaly as a major feature -*- hirschsprung disease -*- neurocristopathy -*- intestinal motility disease -*- nephropathy associated ciliopathy -*- retinal ciliopathy -*- hyperlipoproteinemia -*- genetic multiple congenital anomalies dysmorphic syndrome variable intellectual disability syndrome -*- genetic multiple congenital anomalies dysmorphic syndrome   variable intellectual disability -*- hereditary optic atrophy -*- rare disease with autism -*- disorder of phenylalanine metabolism -*- malformation syndrome with connective tissue involvement -*- adolescent adult onset epilepsy syndrome -*- mus musculus domesticus -*- mus musculus subspecies -*- mus musculus musculus -*- tauopathy -*- genetic eye tumor -*- prostate derived cell line -*- encode cell line -*- hepatobiliary disease -*- esc derived cell line -*- trophozoite -*- plasmodium parasite stage -*- endothelial cell derived cell line -*- disorder of peroxisomal alpha   beta  and omega oxidation -*- neurodegenerative disease with chorea -*- syndromic developmental defect of the eye -*- argininemia -*- disorder of urea cycle metabolism and ammonia detoxification -*- chronic hepatic porphyria -*- genodermatosis with ocular features -*- rare metabolic liver disease -*- autosomal recessive cerebellar ataxia due to a dna repair defect -*- classic organic aciduria -*- familial intrahepatic cholestasis -*- syndromic intestinal malformation -*- isolated ectopia lentis -*- marfan and marfan related disorder -*- sex chromosome disorder of sex development -*- muscular glycogenosis -*- lysosomal glycogen storage disease -*- sickle cell disease and related diseases -*- connective tissue disease with eye involvement -*- malformation syndrome with skin mucosae involvement -*- polymalformative genetic syndrome with increased risk of developing cancer -*- conjunctival telangiectasia -*- oculomotor apraxia or related oculomotor disease -*- multiple polyglandular tumor -*- genetic mixed dermis disorder -*- rare genetic intellectual disability with developmental anomaly -*- ectodermal dysplasia syndrome -*- autosomal dominant cerebellar ataxia type 4 -*- familial partial epilepsy -*- retinitis pigmentosa -*- retinal dystrophy -*- genetic syndrome with limb reduction defects -*- mitochondrial disease with hypertrophic cardiomyopathy -*- mitochondrial disease with dilated cardiomyopathy -*- mitochondrial oxidative phosphorylation disorder due to a point mutation of mitochondrial dna -*- congenital intestinal motility disorder -*- malformation syndrome with hamartosis -*- rare disease with glaucoma as a major feature -*- non syndromic intestinal malformation -*- rare disorder with female infertility due to a congenital hypogonadotropic hypogonadism -*- syndromic retinitis pigmentosa -*- syndromic myopia -*- midline cerebral malformation -*- malignant tumor of palpebral epidermis -*- macroglossia -*- syndrome associated with hypertrophic cardiomyopathy -*- autosomal recessive degenerative and progressive cerebellar ataxia -*- rare hereditary metabolic disease with peripheral neuropathy -*- lysosomal disease with hypertrophic cardiomyopathy -*- fucosidosis -*- oligosaccharidosis -*- lysosomal storage disease with skeletal involvement -*- pierre robin syndrome associated with bone disease -*- secondary ectropion -*- rare constitutional medullar aplasia -*- ectodermal malformation syndrome associated with ocular features -*- ptosis -*- lens position anomaly -*- rare female infertility due to an anomaly of ovarian function of genetic origin -*- genetic hyperpigmentation of the skin -*- noonan syndrome and noonan related syndrome -*- heart hand syndrome -*- palpebral lentiginosis -*- syndrome with disorder of sex development of gynecological interest -*- syndrome associated with pierre robin syndrome -*- autosomal recessive metabolic cerebellar ataxia -*- metabolic disease with pigmentary retinitis -*- syndrome with 46 xy disorder of sex development -*- primary bone dysplasia with micromelia -*- type 11 collagen related bone disorder -*- unclassified familial retinal dystrophy -*- multiple carboxylase deficiency -*- fgfr3 related chondrodysplasia -*- disorder of copper metabolism -*- syndromic epicanthus -*- metabolic disease with cataract -*- peroxisomal beta oxidation disorder -*- rare disorder with hypergonadotropic hypogonadism -*- neurocutaneous syndrome with epilepsy -*- syndromic oculocutaneous albinism -*- disorder of lysosomal related organelles -*- dense granule disease -*- rare pervasive developmental disorder -*- rare hemorrhagic disorder due to a constitutional coagulation factors defect -*- autosomal ichthyosis syndrome with prominent neurologics signs -*- rhizomelic chondrodysplasia punctata -*- female infertility due to gonadal dysgenesis -*- osteopetrosis with renal tubular acidosis -*- autosomal recessive malignant osteopetrosis -*- primary renal tubular acidosis -*- autoinflammatory syndrome with immune deficiency -*- citrullinemia type i -*- citrullinemia -*- congenital vitreoretinal dysplasia -*- genetic progeroid syndrome -*- eyebrow hypertrophy -*- crigler najjar syndrome type 1 -*- crigler najjar syndrome -*- cryptophthalmia -*- lesch nyhan syndrome -*- hypoxanthine guanine phosphoribosyltransferase deficiency -*- qualitative or quantitative defects of fukutin -*- disorder of o mannosylglycan synthesis -*- qualitative or quantitative defects of protein o mannosyltransferase 2 -*- qualitative or quantitative defects of protein o mannose beta1 2n acetylglucosaminyltransferase -*- cerebellar ataxia with peripheral neuropathy -*- qualitative or quantitative defects of fkrp -*- hereditary periodic fever syndrome -*- qualitative or quantitative defects of protein o mannosyltransferase 1 -*- disorder of lysosomal amino acid transport -*- rare hereditary disease with avascular necrosis -*- lysosomal disease with restrictive cardiomyopathy -*- hematological disorder with renal involvement -*- multiple endocrine neoplasia type 2 -*- disorder of cobalamin metabolism and transport -*- constitutional megaloblastic anemia due to vitamin b12 metabolism disorder -*- x chromosome number anomaly with female phenotype -*- autosomal ichthyosis syndrome with fatal disease course -*- myopathy with eye involvement -*- wolman disease -*- lysosomal acid lipase deficiency -*- congenital disorder of glycosylation with developmental anomaly -*- autosomal ichthyosis syndrome with prominent hair abnormalities\n",
      "00000|a|-NoAbstract-\n",
      "00000\t0\t19\tperoxisomal disease\tDisease\tMESH:D018901\n",
      "00000\t25\t33\tepilepsy\tDisease\tMESH:D004827\n",
      "00000\t52\t78\tprotein metabolism disease\tDisease\tMESH:D008659\n",
      "00000\t84\t92\tepilepsy\tDisease\tMESH:D004827\n",
      "00000\t142\t150\tepilepsy\tDisease\tMESH:D004827\n",
      "00000\t165\t190\tinterstitial lung disease\tDisease\tMESH:D017563\n",
      "00000\t236\t253\tmetabolic disease\tDisease\tMESH:D008659\n",
      "00000\t266\t353\tnon syndromic central nervous system malformation -*- genetic neurodegenerative disease\tDisease\tMESH:D002493\n",
      "00000\t359\t420\tdementia -*- frontotemporal dementia -*- syndromic ichthyosis\tDisease\tMESH:D057180\n",
      "00000\t457\t474\tmetabolic disease\tDisease\tMESH:D008659\n",
      "00000\t480\t495\tcorneal opacity\tDisease\tMESH:D003318\n",
      "00000\t541\t577\tcongenital disorder of glycosylation\tDisease\tMESH:D009069\n",
      "00000\t630\t666\tcongenital disorder of glycosylation\tDisease\tMESH:D009069\n",
      "00000\t672\t680\tepilepsy\tDisease\tMESH:D004827\n",
      "00000\t704\t720\tsphingolipidosis\tDisease\tMESH:D013106\n",
      "00000\t726\t734\tepilepsy\tDisease\tMESH:D004827\n",
      "00000\t749\t761\trenal cancer\tDisease\tMESH:D007680\n",
      "00000\t815\t851\tmalformation -*- trichothiodystrophy\tDisease\tMESH:D054463\n",
      "00000\t1098\t1143\tdementia -*- frontotemporal neurodegeneration\tDisease\tMESH:D057180\n",
      "00000\t1149\t1166\tmovement disorder\tDisease\tMESH:D009069\n",
      "00000\t1181\t1201\tneuroendocrine tumor\tDisease\tMESH:D018358\n",
      "00000\t1206\t1261\tmicrocephalic primordial dwarfism -*- moyamoya syndrome\tDisease\tMESH:C537533\n",
      "00000\t1301\t1325\tretinal vascular disease\tDisease\tMESH:D014652\n",
      "00000\t1352\t1394\timmunodeficiency -*- skin vascular disease\tDisease\tMESH:D017445\n",
      "00000\t1407\t1466\tskin vascular disorder -*- leigh syndrome -*- leigh disease\tDisease\tMESH:D007888\n",
      "00000\t1507\t1531\tmaculopathy -*- syndrome\tDisease\tMESH:D008268\n",
      "00000\t1579\t1621\toculomotor palsy -*- mitochondrial disease\tDisease\tMESH:D015840\n",
      "00000\t1647\t1660\tcatecholamine\tChemical\tMESH:D002395\n",
      "00000\t1671\t1676\ttumor\tDisease\tMESH:D009369\n",
      "00000\t1686\t1753\tphotodermatosis -*- genetic photodermatosis -*- overgrowth syndrome\tDisease\tMESH:C537340\n",
      "00000\t1763\t1781\tneurologic disease\tDisease\tMESH:D009422\n",
      "00000\t1787\t1833\tpsychiatric involvement -*- cerebral lipidosis\tDisease\tMESH:D001523\n",
      "00000\t1839\t1869\tdementia -*- metabolic disease\tDisease\tMESH:D008659\n",
      "00000\t1875\t1883\tdementia\tDisease\tMESH:D003704\n",
      "00000\t1907\t1937\tptosis -*- chromosomal anomaly\tDisease\tMESH:C564553\n",
      "00000\t1943\t1951\tcataract\tDisease\tMESH:D002386\n",
      "00000\t2175\t2209\tdystrophic myopathy -*- dysostosis\tDisease\tMESH:D004413\n",
      "00000\t2238\t2245\tanomaly\tDisease\tMESH:C562565\n",
      "00000\t2645\t2658\toptic atrophy\tDisease\tMESH:D009896\n",
      "00000\t2681\t2687\tautism\tDisease\tMESH:D001321\n",
      "00000\t2704\t2717\tphenylalanine\tChemical\tMESH:C119108\n",
      "00000\t2733\t2754\tmalformation syndrome\tDisease\tMESH:D019967\n",
      "00000\t2817\t2862\tepilepsy syndrome -*- mus musculus domesticus\tDisease\tMESH:D004827\n",
      "00000\t2867\t2890\tmus musculus subspecies\tSpecies\t10090\n",
      "00000\t2895\t2916\tmus musculus musculus\tSpecies\t39442\n",
      "00000\t2921\t2952\ttauopathy -*- genetic eye tumor\tDisease\tMESH:D024801\n",
      "00000\t3009\t3030\thepatobiliary disease\tDisease\tMESH:D004194\n",
      "00000\t3061\t3072\ttrophozoite\tChemical\tMESH:C509697\n",
      "00000\t3208\t3233\tneurodegenerative disease\tDisease\tMESH:D019636\n",
      "00000\t3239\t3245\tchorea\tDisease\tMESH:D002819\n",
      "00000\t3296\t3307\targininemia\tDisease\tMESH:D020162\n",
      "00000\t3324\t3328\turea\tChemical\tMESH:D014508\n",
      "00000\t3350\t3357\tammonia\tChemical\tMESH:D000641\n",
      "00000\t3385\t3421\thepatic porphyria -*- genodermatosis\tDisease\tMESH:D017094\n",
      "00000\t3452\t3517\tmetabolic liver disease -*- autosomal recessive cerebellar ataxia\tDisease\tMESH:C579934\n",
      "00000\t3557\t3611\torganic aciduria -*- familial intrahepatic cholestasis\tDisease\tMESH:D019965\n",
      "00000\t3663\t3677\tectopia lentis\tDisease\tMESH:D004479\n",
      "00000\t3909\t3950\teye involvement -*- malformation syndrome\tDisease\tMESH:D005124\n",
      "00000\t4053\t4059\tcancer\tDisease\tMESH:D009369\n",
      "00000\t4077\t4114\ttelangiectasia -*- oculomotor apraxia\tDisease\tMESH:C537423\n",
      "00000\t4126\t4144\toculomotor disease\tDisease\tMESH:D015840\n",
      "00000\t4172\t4177\ttumor\tDisease\tMESH:D009369\n",
      "00000\t4258\t4313\tdevelopmental anomaly -*- ectodermal dysplasia syndrome\tDisease\tMESH:D004476\n",
      "00000\t4348\t4354\tataxia\tDisease\tMESH:D001259\n",
      "00000\t4383\t4459\tepilepsy -*- retinitis pigmentosa -*- retinal dystrophy -*- genetic syndrome\tDisease\tMESH:D012174\n",
      "00000\t4465\t4513\tlimb reduction defects -*- mitochondrial disease\tDisease\tMESH:D028361\n",
      "00000\t4519\t4572\thypertrophic cardiomyopathy -*- mitochondrial disease\tDisease\tMESH:D002312\n",
      "00000\t4578\t4600\tdilated cardiomyopathy\tDisease\tMESH:D002311\n",
      "00000\t4703\t4768\tcongenital intestinal motility disorder -*- malformation syndrome\tDisease\tMESH:D004409\n",
      "00000\t4774\t4784\thamartosis\tDisease\n",
      "00000\t4807\t4815\tglaucoma\tDisease\tMESH:D005901\n",
      "00000\t4907\t4918\tinfertility\tDisease\tMESH:D007247\n",
      "00000\t5148\t5175\thypertrophic cardiomyopathy\tDisease\tMESH:D002312\n",
      "00000\t5229\t5246\tcerebellar ataxia\tDisease\tMESH:D002524\n",
      "00000\t5267\t5284\tmetabolic disease\tDisease\tMESH:D008659\n",
      "00000\t5290\t5333\tperipheral neuropathy -*- lysosomal disease\tDisease\tMESH:D010523\n",
      "00000\t5339\t5382\thypertrophic cardiomyopathy -*- fucosidosis\tDisease\tMESH:D005645\n",
      "00000\t5473\t5478\trobin\tSpecies\t9188\n",
      "00000\t5504\t5516\tbone disease\tDisease\tMESH:D001847\n",
      "00000\t5574\t5618\taplasia -*- ectodermal malformation syndrome\tDisease\tMESH:C536482\n",
      "00000\t5666\t5687\tlens position anomaly\tDisease\tMESH:D007905\n",
      "00000\t5704\t5715\tinfertility\tDisease\tMESH:D007247\n",
      "00000\t5726\t5744\tanomaly of ovarian\tDisease\tMESH:D010049\n",
      "00000\t5866\t5925\theart hand syndrome -*- palpebral lentiginosis -*- syndrome\tDisease\tMESH:C535326\n",
      "00000\t6021\t6026\trobin\tSpecies\t9188\n",
      "00000\t6060\t6109\tmetabolic cerebellar ataxia -*- metabolic disease\tDisease\tMESH:D008659\n",
      "00000\t6115\t6148\tpigmentary retinitis -*- syndrome\tDisease\tMESH:D012164\n",
      "00000\t6200\t6214\tbone dysplasia\tDisease\tMESH:D001848\n",
      "00000\t6260\t6273\tbone disorder\tDisease\tMESH:D001847\n",
      "00000\t6291\t6317\tfamilial retinal dystrophy\tDisease\tMESH:D058499\n",
      "00000\t6372\t6388\tchondrodysplasia\tDisease\tMESH:D004687\n",
      "00000\t6452\t6469\tmetabolic disease\tDisease\tMESH:D008659\n",
      "00000\t6475\t6483\tcataract\tDisease\tMESH:D002386\n",
      "00000\t6547\t6605\thypergonadotropic hypogonadism -*- neurocutaneous syndrome\tDisease\tMESH:D007006\n",
      "00000\t6611\t6619\tepilepsy\tDisease\tMESH:D004827\n",
      "00000\t6780\t6800\themorrhagic disorder\tDisease\tMESH:D006470\n",
      "00000\t6810\t6836\tconstitutional coagulation\tDisease\tMESH:D005878\n",
      "00000\t6856\t6885\tautosomal ichthyosis syndrome\tDisease\tMESH:D007057\n",
      "00000\t6923\t6959\trhizomelic chondrodysplasia punctata\tDisease\tMESH:D018902\n",
      "00000\t6971\t6982\tinfertility\tDisease\tMESH:D007247\n",
      "00000\t7195\t7272\tcitrullinemia type i -*- citrullinemia -*- congenital vitreoretinal dysplasia\tDisease\tMESH:D020159\n",
      "00000\t7308\t7327\teyebrow hypertrophy\tDisease\tMESH:D006984\n",
      "00000\t7375\t7435\tnajjar syndrome -*- cryptophthalmia -*- lesch nyhan syndrome\tDisease\tMESH:D007926\n",
      "00000\t7440\t7460\thypoxanthine guanine\tChemical\tMESH:D007042\n",
      "00000\t7771\t7788\tcerebellar ataxia\tDisease\tMESH:D002524\n",
      "00000\t7794\t7815\tperipheral neuropathy\tDisease\tMESH:D010523\n",
      "00000\t7888\t7902\tfever syndrome\tDisease\tMESH:D005334\n",
      "00000\t8058\t8098\tavascular necrosis -*- lysosomal disease\tDisease\tMESH:D010020\n",
      "00000\t8116\t8157\tcardiomyopathy -*- hematological disorder\tDisease\tMESH:D006402\n",
      "00000\t8194\t8218\tendocrine neoplasia type\tDisease\tMESH:D018761\n",
      "00000\t8237\t8246\tcobalamin\tChemical\tMESH:D014805\n",
      "00000\t8291\t8311\tmegaloblastic anemia\tDisease\tMESH:D000749\n",
      "00000\t8319\t8330\tvitamin b12\tChemical\tMESH:D014805\n",
      "00000\t8357\t8382\tchromosome number anomaly\tDisease\tMESH:D002869\n",
      "00000\t8409\t8438\tautosomal ichthyosis syndrome\tDisease\tMESH:D007057\n",
      "00000\t8469\t8477\tmyopathy\tDisease\tMESH:D009135\n",
      "00000\t8559\t8595\tcongenital disorder of glycosylation\tDisease\tMESH:D009069\n",
      "00000\t8601\t8656\tdevelopmental anomaly -*- autosomal ichthyosis syndrome\tDisease\tMESH:D007057\n",
      "\n",
      "\n"
     ]
    }
   ],
   "source": [
    "url = session_url_template.format(session_id=session_id)\n",
    "r = requests.get(url)\n",
    "r.raise_for_status()\n",
    "print(r.text)"
   ]
  },
  {
   "cell_type": "code",
   "execution_count": 75,
   "id": "e447f330-d7a1-4701-9d6c-1573bdfd4deb",
   "metadata": {
    "execution": {
     "iopub.execute_input": "2022-05-20T13:49:26.691225Z",
     "iopub.status.busy": "2022-05-20T13:49:26.690784Z",
     "iopub.status.idle": "2022-05-20T13:49:26.697117Z",
     "shell.execute_reply": "2022-05-20T13:49:26.695982Z",
     "shell.execute_reply.started": "2022-05-20T13:49:26.691173Z"
    },
    "tags": []
   },
   "outputs": [],
   "source": [
    "parse_res = r.text.split(\"\\n\")"
   ]
  },
  {
   "cell_type": "code",
   "execution_count": 76,
   "id": "247ae403-a913-46d8-9d62-982db8faaec1",
   "metadata": {
    "execution": {
     "iopub.execute_input": "2022-05-20T13:49:27.943922Z",
     "iopub.status.busy": "2022-05-20T13:49:27.943480Z",
     "iopub.status.idle": "2022-05-20T13:49:27.952684Z",
     "shell.execute_reply": "2022-05-20T13:49:27.951572Z",
     "shell.execute_reply.started": "2022-05-20T13:49:27.943870Z"
    },
    "tags": []
   },
   "outputs": [
    {
     "data": {
      "text/plain": [
       "['00000',\n",
       " '0',\n",
       " '66',\n",
       " 'gonarthrosis -*- psoriatic and enteropathic arthropathies -*- pain',\n",
       " 'Disease',\n",
       " 'MESH:D015535']"
      ]
     },
     "execution_count": 76,
     "metadata": {},
     "output_type": "execute_result"
    }
   ],
   "source": [
    "parse_res[2].split(\"\\t\")"
   ]
  }
 ],
 "metadata": {
  "kernelspec": {
   "display_name": "Python 3 (ipykernel)",
   "language": "python",
   "name": "python3"
  },
  "language_info": {
   "codemirror_mode": {
    "name": "ipython",
    "version": 3
   },
   "file_extension": ".py",
   "mimetype": "text/x-python",
   "name": "python",
   "nbconvert_exporter": "python",
   "pygments_lexer": "ipython3",
   "version": "3.8.13"
  }
 },
 "nbformat": 4,
 "nbformat_minor": 5
}
