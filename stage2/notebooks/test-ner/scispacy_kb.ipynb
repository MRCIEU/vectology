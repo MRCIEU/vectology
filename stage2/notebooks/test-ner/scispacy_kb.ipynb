{
 "cells": [
  {
   "cell_type": "code",
   "execution_count": 1,
   "id": "ddcc85e0-a400-42c5-89dc-ca93d9ab9429",
   "metadata": {
    "execution": {
     "iopub.execute_input": "2022-06-17T11:16:28.547234Z",
     "iopub.status.busy": "2022-06-17T11:16:28.546750Z",
     "iopub.status.idle": "2022-06-17T11:16:31.823720Z",
     "shell.execute_reply": "2022-06-17T11:16:31.822936Z",
     "shell.execute_reply.started": "2022-06-17T11:16:28.547095Z"
    },
    "tags": []
   },
   "outputs": [],
   "source": [
    "import json\n",
    "from pathlib import Path\n",
    "\n",
    "import pandas as pd\n",
    "import janitor\n",
    "import spacy\n",
    "import scispacy\n",
    "\n",
    "from funcs import utils, paths\n",
    "from funcs.data_processing.stage1_processing import get_ebi_data"
   ]
  },
  {
   "cell_type": "code",
   "execution_count": 2,
   "id": "98818948-896d-4ed3-9266-23de0fa10eca",
   "metadata": {
    "execution": {
     "iopub.execute_input": "2022-06-17T11:16:44.015227Z",
     "iopub.status.busy": "2022-06-17T11:16:44.014759Z",
     "iopub.status.idle": "2022-06-17T11:16:55.731005Z",
     "shell.execute_reply": "2022-06-17T11:16:55.730100Z",
     "shell.execute_reply.started": "2022-06-17T11:16:44.015175Z"
    },
    "tags": []
   },
   "outputs": [
    {
     "data": {
      "text/plain": [
       "<spacy.lang.en.English at 0x7ffa3842e0a0>"
      ]
     },
     "execution_count": 2,
     "metadata": {},
     "output_type": "execute_result"
    }
   ],
   "source": [
    "model_path = paths.init[\"scispacy_md\"]\n",
    "assert model_path.exists(), model_path\n",
    "\n",
    "nlp = spacy.load(model_path)\n",
    "nlp"
   ]
  },
  {
   "cell_type": "code",
   "execution_count": 5,
   "id": "84ef178b-388c-4a85-b0ce-2c0621c57962",
   "metadata": {
    "execution": {
     "iopub.execute_input": "2022-06-17T09:38:42.393955Z",
     "iopub.status.busy": "2022-06-17T09:38:42.393447Z",
     "iopub.status.idle": "2022-06-17T09:38:42.418725Z",
     "shell.execute_reply": "2022-06-17T09:38:42.418065Z",
     "shell.execute_reply.started": "2022-06-17T09:38:42.393897Z"
    },
    "tags": []
   },
   "outputs": [
    {
     "name": "stdout",
     "output_type": "stream",
     "text": [
      "Alterations <class 'spacy.tokens.token.Token'>\n",
      "in <class 'spacy.tokens.token.Token'>\n",
      "the <class 'spacy.tokens.token.Token'>\n",
      "hypocretin <class 'spacy.tokens.token.Token'>\n",
      "receptor <class 'spacy.tokens.token.Token'>\n",
      "2 <class 'spacy.tokens.token.Token'>\n",
      "and <class 'spacy.tokens.token.Token'>\n",
      "preprohypocretin <class 'spacy.tokens.token.Token'>\n",
      "genes <class 'spacy.tokens.token.Token'>\n",
      "produce <class 'spacy.tokens.token.Token'>\n",
      "narcolepsy <class 'spacy.tokens.token.Token'>\n",
      "in <class 'spacy.tokens.token.Token'>\n",
      "some <class 'spacy.tokens.token.Token'>\n",
      "animals <class 'spacy.tokens.token.Token'>\n",
      ". <class 'spacy.tokens.token.Token'>\n"
     ]
    }
   ],
   "source": [
    "doc = nlp(\"Alterations in the hypocretin receptor 2 and preprohypocretin genes produce narcolepsy in some animals.\")\n",
    "for _ in doc:\n",
    "    print(_, type(_))"
   ]
  },
  {
   "cell_type": "code",
   "execution_count": 3,
   "id": "1a752d54-6d87-4a37-9df3-d544d68f65ac",
   "metadata": {
    "execution": {
     "iopub.execute_input": "2022-06-17T11:16:57.449485Z",
     "iopub.status.busy": "2022-06-17T11:16:57.448992Z",
     "iopub.status.idle": "2022-06-17T11:16:57.495941Z",
     "shell.execute_reply": "2022-06-17T11:16:57.495280Z",
     "shell.execute_reply.started": "2022-06-17T11:16:57.449425Z"
    },
    "tags": []
   },
   "outputs": [
    {
     "name": "stdout",
     "output_type": "stream",
     "text": [
      "<class 'pandas.core.frame.DataFrame'>\n",
      "RangeIndex: 1191 entries, 0 to 1190\n",
      "Data columns (total 7 columns):\n",
      " #   Column             Non-Null Count  Dtype \n",
      "---  ------             --------------  ----- \n",
      " 0   query              1191 non-null   object\n",
      " 1   MAPPED_TERM_LABEL  1191 non-null   object\n",
      " 2   MAPPED_TERM_URI    1191 non-null   object\n",
      " 3   MAPPING_TYPE       1191 non-null   object\n",
      " 4   id                 1191 non-null   object\n",
      " 5   full_id            1191 non-null   object\n",
      " 6   mapping_id         1191 non-null   int64 \n",
      "dtypes: int64(1), object(6)\n",
      "memory usage: 65.3+ KB\n",
      "None\n"
     ]
    },
    {
     "data": {
      "text/html": [
       "<div>\n",
       "<style scoped>\n",
       "    .dataframe tbody tr th:only-of-type {\n",
       "        vertical-align: middle;\n",
       "    }\n",
       "\n",
       "    .dataframe tbody tr th {\n",
       "        vertical-align: top;\n",
       "    }\n",
       "\n",
       "    .dataframe thead th {\n",
       "        text-align: right;\n",
       "    }\n",
       "</style>\n",
       "<table border=\"1\" class=\"dataframe\">\n",
       "  <thead>\n",
       "    <tr style=\"text-align: right;\">\n",
       "      <th></th>\n",
       "      <th>query</th>\n",
       "      <th>MAPPED_TERM_LABEL</th>\n",
       "      <th>MAPPED_TERM_URI</th>\n",
       "    </tr>\n",
       "  </thead>\n",
       "  <tbody>\n",
       "    <tr>\n",
       "      <th>0</th>\n",
       "      <td>alzheimer s disease</td>\n",
       "      <td>Alzheimer's disease</td>\n",
       "      <td>EFO_0000249</td>\n",
       "    </tr>\n",
       "    <tr>\n",
       "      <th>1</th>\n",
       "      <td>endocarditis valve unspecified</td>\n",
       "      <td>endocarditis</td>\n",
       "      <td>EFO_0000465</td>\n",
       "    </tr>\n",
       "    <tr>\n",
       "      <th>2</th>\n",
       "      <td>family history of other conditions</td>\n",
       "      <td>family history</td>\n",
       "      <td>EFO_0000493</td>\n",
       "    </tr>\n",
       "    <tr>\n",
       "      <th>3</th>\n",
       "      <td>unspecified maternal hypertension</td>\n",
       "      <td>preeclampsia</td>\n",
       "      <td>EFO_0000668</td>\n",
       "    </tr>\n",
       "    <tr>\n",
       "      <th>4</th>\n",
       "      <td>stroke not specified as haemorrhage or infarction</td>\n",
       "      <td>stroke</td>\n",
       "      <td>EFO_0000712</td>\n",
       "    </tr>\n",
       "    <tr>\n",
       "      <th>5</th>\n",
       "      <td>subarachnoid haemorrhage</td>\n",
       "      <td>subarachnoid hemorrhage</td>\n",
       "      <td>EFO_0000713</td>\n",
       "    </tr>\n",
       "    <tr>\n",
       "      <th>6</th>\n",
       "      <td>unspecified human immunodeficiency virus</td>\n",
       "      <td>HIV infection</td>\n",
       "      <td>EFO_0000764</td>\n",
       "    </tr>\n",
       "    <tr>\n",
       "      <th>7</th>\n",
       "      <td>other endocrine disorders</td>\n",
       "      <td>endocrine system disease</td>\n",
       "      <td>EFO_0001379</td>\n",
       "    </tr>\n",
       "    <tr>\n",
       "      <th>8</th>\n",
       "      <td>other diseases of liver</td>\n",
       "      <td>liver disease</td>\n",
       "      <td>EFO_0001421</td>\n",
       "    </tr>\n",
       "    <tr>\n",
       "      <th>9</th>\n",
       "      <td>primary disorders of muscles</td>\n",
       "      <td>muscular disease</td>\n",
       "      <td>EFO_0002970</td>\n",
       "    </tr>\n",
       "    <tr>\n",
       "      <th>10</th>\n",
       "      <td>pervasive developmental disorders</td>\n",
       "      <td>pervasive developmental disorder - not otherwi...</td>\n",
       "      <td>EFO_0003759</td>\n",
       "    </tr>\n",
       "    <tr>\n",
       "      <th>11</th>\n",
       "      <td>other cerebrovascular diseases</td>\n",
       "      <td>cerebrovascular disorder</td>\n",
       "      <td>EFO_0003763</td>\n",
       "    </tr>\n",
       "    <tr>\n",
       "      <th>12</th>\n",
       "      <td>other diseases of gallbladder</td>\n",
       "      <td>gallbladder disease</td>\n",
       "      <td>EFO_0003832</td>\n",
       "    </tr>\n",
       "    <tr>\n",
       "      <th>13</th>\n",
       "      <td>fracture of spine level unspecified</td>\n",
       "      <td>spinal fracture'</td>\n",
       "      <td>EFO_0003902</td>\n",
       "    </tr>\n",
       "    <tr>\n",
       "      <th>14</th>\n",
       "      <td>acute hepatitis b</td>\n",
       "      <td>hepatitis B infection</td>\n",
       "      <td>EFO_0004197</td>\n",
       "    </tr>\n",
       "    <tr>\n",
       "      <th>15</th>\n",
       "      <td>abnormalities of heart beat</td>\n",
       "      <td>cardiac arrythmia</td>\n",
       "      <td>EFO_0004269</td>\n",
       "    </tr>\n",
       "    <tr>\n",
       "      <th>16</th>\n",
       "      <td>other congenital malformations of heart</td>\n",
       "      <td>congenital heart malformation</td>\n",
       "      <td>EFO_0005269</td>\n",
       "    </tr>\n",
       "    <tr>\n",
       "      <th>17</th>\n",
       "      <td>disorders of tooth development and eruption</td>\n",
       "      <td>tooth agenesis</td>\n",
       "      <td>EFO_0005410</td>\n",
       "    </tr>\n",
       "    <tr>\n",
       "      <th>18</th>\n",
       "      <td>intracerebral haemorrhage</td>\n",
       "      <td>intracerebral hemorrhage</td>\n",
       "      <td>EFO_0005669</td>\n",
       "    </tr>\n",
       "    <tr>\n",
       "      <th>19</th>\n",
       "      <td>retinal detachments and breaks</td>\n",
       "      <td>retinal detachment</td>\n",
       "      <td>EFO_0005773</td>\n",
       "    </tr>\n",
       "    <tr>\n",
       "      <th>20</th>\n",
       "      <td>tuberculosis of nervous system</td>\n",
       "      <td>central nervous system tuberculosis</td>\n",
       "      <td>EFO_0007199</td>\n",
       "    </tr>\n",
       "    <tr>\n",
       "      <th>21</th>\n",
       "      <td>acute hepatitis a</td>\n",
       "      <td>hepatitis A</td>\n",
       "      <td>EFO_0007305</td>\n",
       "    </tr>\n",
       "    <tr>\n",
       "      <th>22</th>\n",
       "      <td>hookworm diseases</td>\n",
       "      <td>hookworm infectious disease</td>\n",
       "      <td>EFO_0007314</td>\n",
       "    </tr>\n",
       "    <tr>\n",
       "      <th>23</th>\n",
       "      <td>sleep disorders</td>\n",
       "      <td>sleep disorder</td>\n",
       "      <td>EFO_0008568</td>\n",
       "    </tr>\n",
       "    <tr>\n",
       "      <th>24</th>\n",
       "      <td>diseases of salivary glands</td>\n",
       "      <td>salivary gland disease</td>\n",
       "      <td>EFO_0008581</td>\n",
       "    </tr>\n",
       "    <tr>\n",
       "      <th>25</th>\n",
       "      <td>gender identity disorders</td>\n",
       "      <td>gender identity disorder</td>\n",
       "      <td>EFO_0008587</td>\n",
       "    </tr>\n",
       "    <tr>\n",
       "      <th>26</th>\n",
       "      <td>polyp of female genital tract</td>\n",
       "      <td>female genital tract polyp</td>\n",
       "      <td>EFO_0008622</td>\n",
       "    </tr>\n",
       "    <tr>\n",
       "      <th>27</th>\n",
       "      <td>persistent mood</td>\n",
       "      <td>dysthymic disorder</td>\n",
       "      <td>EFO_0008623</td>\n",
       "    </tr>\n",
       "    <tr>\n",
       "      <th>28</th>\n",
       "      <td>disorders of vitreous body</td>\n",
       "      <td>vitreous body disease</td>\n",
       "      <td>EFO_0008624</td>\n",
       "    </tr>\n",
       "    <tr>\n",
       "      <th>29</th>\n",
       "      <td>other coagulation defects</td>\n",
       "      <td>blood coagulation disease</td>\n",
       "      <td>EFO_0009314</td>\n",
       "    </tr>\n",
       "    <tr>\n",
       "      <th>30</th>\n",
       "      <td>granulomatous disorders of skin and subcutaneo...</td>\n",
       "      <td>granulomatous dermatitis</td>\n",
       "      <td>EFO_1000705</td>\n",
       "    </tr>\n",
       "    <tr>\n",
       "      <th>31</th>\n",
       "      <td>excessive vomiting in pregnancy</td>\n",
       "      <td>hyperemesis gravidarum</td>\n",
       "      <td>EFO_1000971</td>\n",
       "    </tr>\n",
       "    <tr>\n",
       "      <th>32</th>\n",
       "      <td>hyperfunction of pituitary gland</td>\n",
       "      <td>hyperpituitarism</td>\n",
       "      <td>EFO_1000973</td>\n",
       "    </tr>\n",
       "    <tr>\n",
       "      <th>33</th>\n",
       "      <td>other nutritional deficiencies</td>\n",
       "      <td>nutritional deficiency disease</td>\n",
       "      <td>EFO_1001067</td>\n",
       "    </tr>\n",
       "    <tr>\n",
       "      <th>34</th>\n",
       "      <td>other rheumatic heart diseases</td>\n",
       "      <td>rheumatic heart disease</td>\n",
       "      <td>EFO_1001161</td>\n",
       "    </tr>\n",
       "    <tr>\n",
       "      <th>35</th>\n",
       "      <td>other helminthiases</td>\n",
       "      <td>Helminthiasis</td>\n",
       "      <td>EFO_1001342</td>\n",
       "    </tr>\n",
       "    <tr>\n",
       "      <th>36</th>\n",
       "      <td>unspecified viral infection of cns</td>\n",
       "      <td>central nervous system infection</td>\n",
       "      <td>EFO_1001456</td>\n",
       "    </tr>\n",
       "    <tr>\n",
       "      <th>37</th>\n",
       "      <td>diverticular disease of intestine</td>\n",
       "      <td>diverticulitis</td>\n",
       "      <td>EFO_1001460</td>\n",
       "    </tr>\n",
       "    <tr>\n",
       "      <th>38</th>\n",
       "      <td>premature separation of placenta</td>\n",
       "      <td>Abruptio Placentae</td>\n",
       "      <td>EFO_1001754</td>\n",
       "    </tr>\n",
       "    <tr>\n",
       "      <th>39</th>\n",
       "      <td>retention of urine</td>\n",
       "      <td>Urinary retention</td>\n",
       "      <td>HP_0000016</td>\n",
       "    </tr>\n",
       "    <tr>\n",
       "      <th>40</th>\n",
       "      <td>unspecified urinary incontinence</td>\n",
       "      <td>Urinary incontinence</td>\n",
       "      <td>HP_0000020</td>\n",
       "    </tr>\n",
       "    <tr>\n",
       "      <th>41</th>\n",
       "      <td>isolated proteinuria</td>\n",
       "      <td>proteinuria</td>\n",
       "      <td>HP_0000093</td>\n",
       "    </tr>\n",
       "    <tr>\n",
       "      <th>42</th>\n",
       "      <td>visual disturbances</td>\n",
       "      <td>Visual impairment</td>\n",
       "      <td>HP_0000505</td>\n",
       "    </tr>\n",
       "    <tr>\n",
       "      <th>43</th>\n",
       "      <td>unspecified dementia</td>\n",
       "      <td>dementia</td>\n",
       "      <td>HP_0000726</td>\n",
       "    </tr>\n",
       "    <tr>\n",
       "      <th>44</th>\n",
       "      <td>unspecified haematuria</td>\n",
       "      <td>hematuria</td>\n",
       "      <td>HP_0000790</td>\n",
       "    </tr>\n",
       "    <tr>\n",
       "      <th>45</th>\n",
       "      <td>iron deficiency anaemia</td>\n",
       "      <td>Iron deficiency anemia</td>\n",
       "      <td>HP_0001891</td>\n",
       "    </tr>\n",
       "    <tr>\n",
       "      <th>46</th>\n",
       "      <td>acute renal failure</td>\n",
       "      <td>acute kidney injury</td>\n",
       "      <td>HP_0001919</td>\n",
       "    </tr>\n",
       "    <tr>\n",
       "      <th>47</th>\n",
       "      <td>nonspecific lymphadenitis</td>\n",
       "      <td>lymphadenitis</td>\n",
       "      <td>HP_0002840</td>\n",
       "    </tr>\n",
       "    <tr>\n",
       "      <th>48</th>\n",
       "      <td>senile cataract</td>\n",
       "      <td>age-related cataract</td>\n",
       "      <td>HP_0011141</td>\n",
       "    </tr>\n",
       "    <tr>\n",
       "      <th>49</th>\n",
       "      <td>reduction defects of lower limb</td>\n",
       "      <td>Hemimelia</td>\n",
       "      <td>Orphanet_2130</td>\n",
       "    </tr>\n",
       "  </tbody>\n",
       "</table>\n",
       "</div>"
      ],
      "text/plain": [
       "                                                query  \\\n",
       "0                                 alzheimer s disease   \n",
       "1                      endocarditis valve unspecified   \n",
       "2                  family history of other conditions   \n",
       "3                   unspecified maternal hypertension   \n",
       "4   stroke not specified as haemorrhage or infarction   \n",
       "5                            subarachnoid haemorrhage   \n",
       "6            unspecified human immunodeficiency virus   \n",
       "7                           other endocrine disorders   \n",
       "8                             other diseases of liver   \n",
       "9                        primary disorders of muscles   \n",
       "10                  pervasive developmental disorders   \n",
       "11                     other cerebrovascular diseases   \n",
       "12                      other diseases of gallbladder   \n",
       "13                fracture of spine level unspecified   \n",
       "14                                  acute hepatitis b   \n",
       "15                        abnormalities of heart beat   \n",
       "16            other congenital malformations of heart   \n",
       "17        disorders of tooth development and eruption   \n",
       "18                          intracerebral haemorrhage   \n",
       "19                     retinal detachments and breaks   \n",
       "20                     tuberculosis of nervous system   \n",
       "21                                  acute hepatitis a   \n",
       "22                                  hookworm diseases   \n",
       "23                                    sleep disorders   \n",
       "24                        diseases of salivary glands   \n",
       "25                          gender identity disorders   \n",
       "26                      polyp of female genital tract   \n",
       "27                                    persistent mood   \n",
       "28                         disorders of vitreous body   \n",
       "29                          other coagulation defects   \n",
       "30  granulomatous disorders of skin and subcutaneo...   \n",
       "31                    excessive vomiting in pregnancy   \n",
       "32                   hyperfunction of pituitary gland   \n",
       "33                     other nutritional deficiencies   \n",
       "34                     other rheumatic heart diseases   \n",
       "35                                other helminthiases   \n",
       "36                 unspecified viral infection of cns   \n",
       "37                  diverticular disease of intestine   \n",
       "38                   premature separation of placenta   \n",
       "39                                 retention of urine   \n",
       "40                   unspecified urinary incontinence   \n",
       "41                               isolated proteinuria   \n",
       "42                                visual disturbances   \n",
       "43                               unspecified dementia   \n",
       "44                             unspecified haematuria   \n",
       "45                            iron deficiency anaemia   \n",
       "46                                acute renal failure   \n",
       "47                          nonspecific lymphadenitis   \n",
       "48                                    senile cataract   \n",
       "49                    reduction defects of lower limb   \n",
       "\n",
       "                                    MAPPED_TERM_LABEL MAPPED_TERM_URI  \n",
       "0                                 Alzheimer's disease     EFO_0000249  \n",
       "1                                        endocarditis     EFO_0000465  \n",
       "2                                      family history     EFO_0000493  \n",
       "3                                        preeclampsia     EFO_0000668  \n",
       "4                                              stroke     EFO_0000712  \n",
       "5                             subarachnoid hemorrhage     EFO_0000713  \n",
       "6                                       HIV infection     EFO_0000764  \n",
       "7                            endocrine system disease     EFO_0001379  \n",
       "8                                       liver disease     EFO_0001421  \n",
       "9                                    muscular disease     EFO_0002970  \n",
       "10  pervasive developmental disorder - not otherwi...     EFO_0003759  \n",
       "11                           cerebrovascular disorder     EFO_0003763  \n",
       "12                                gallbladder disease     EFO_0003832  \n",
       "13                                   spinal fracture'     EFO_0003902  \n",
       "14                              hepatitis B infection     EFO_0004197  \n",
       "15                                  cardiac arrythmia     EFO_0004269  \n",
       "16                      congenital heart malformation     EFO_0005269  \n",
       "17                                     tooth agenesis     EFO_0005410  \n",
       "18                           intracerebral hemorrhage     EFO_0005669  \n",
       "19                                 retinal detachment     EFO_0005773  \n",
       "20                central nervous system tuberculosis     EFO_0007199  \n",
       "21                                        hepatitis A     EFO_0007305  \n",
       "22                        hookworm infectious disease     EFO_0007314  \n",
       "23                                     sleep disorder     EFO_0008568  \n",
       "24                             salivary gland disease     EFO_0008581  \n",
       "25                           gender identity disorder     EFO_0008587  \n",
       "26                         female genital tract polyp     EFO_0008622  \n",
       "27                                 dysthymic disorder     EFO_0008623  \n",
       "28                              vitreous body disease     EFO_0008624  \n",
       "29                          blood coagulation disease     EFO_0009314  \n",
       "30                           granulomatous dermatitis     EFO_1000705  \n",
       "31                             hyperemesis gravidarum     EFO_1000971  \n",
       "32                                   hyperpituitarism     EFO_1000973  \n",
       "33                     nutritional deficiency disease     EFO_1001067  \n",
       "34                            rheumatic heart disease     EFO_1001161  \n",
       "35                                      Helminthiasis     EFO_1001342  \n",
       "36                   central nervous system infection     EFO_1001456  \n",
       "37                                     diverticulitis     EFO_1001460  \n",
       "38                                 Abruptio Placentae     EFO_1001754  \n",
       "39                                  Urinary retention      HP_0000016  \n",
       "40                               Urinary incontinence      HP_0000020  \n",
       "41                                        proteinuria      HP_0000093  \n",
       "42                                  Visual impairment      HP_0000505  \n",
       "43                                           dementia      HP_0000726  \n",
       "44                                          hematuria      HP_0000790  \n",
       "45                             Iron deficiency anemia      HP_0001891  \n",
       "46                                acute kidney injury      HP_0001919  \n",
       "47                                      lymphadenitis      HP_0002840  \n",
       "48                               age-related cataract      HP_0011141  \n",
       "49                                          Hemimelia   Orphanet_2130  "
      ]
     },
     "execution_count": 3,
     "metadata": {},
     "output_type": "execute_result"
    }
   ],
   "source": [
    "ebi_data = get_ebi_data(verbose=False)\n",
    "print(ebi_data.info())\n",
    "SAMPLE_SIZE = 50\n",
    "ebi_sample = ebi_data[ebi_data[\"MAPPING_TYPE\"] == \"Exact\"] \\\n",
    "    [[\"query\", \"MAPPED_TERM_LABEL\", \"MAPPED_TERM_URI\"]] \\\n",
    "    .head(SAMPLE_SIZE).drop_duplicates().reset_index(drop=True)\n",
    "ebi_sample"
   ]
  },
  {
   "cell_type": "markdown",
   "id": "3924e6c8-edbd-4cfe-af52-c01d684d0af7",
   "metadata": {},
   "source": [
    "---"
   ]
  },
  {
   "cell_type": "code",
   "execution_count": 48,
   "id": "646a4f4c-45c3-4165-a46f-b1c27913a52b",
   "metadata": {
    "execution": {
     "iopub.execute_input": "2022-06-17T13:47:46.407012Z",
     "iopub.status.busy": "2022-06-17T13:47:46.406549Z",
     "iopub.status.idle": "2022-06-17T13:47:46.425375Z",
     "shell.execute_reply": "2022-06-17T13:47:46.424200Z",
     "shell.execute_reply.started": "2022-06-17T13:47:46.406959Z"
    },
    "tags": []
   },
   "outputs": [],
   "source": [
    "KB_PATH = Path(\".\") / \"scispacy_kb\" / \"efo_kb.json\"\n",
    "KB_PATH.parent.mkdir(exist_ok=True)\n",
    "\n",
    "efo_kb = ebi_sample[[\"MAPPED_TERM_LABEL\", \"MAPPED_TERM_URI\"]] \\\n",
    "    .rename_column(\"MAPPED_TERM_LABEL\", \"canonical_name\") \\\n",
    "    .rename_column(\"MAPPED_TERM_URI\", \"concept_id\") \\\n",
    "    .assign(\n",
    "        aliases=lambda df: [[] for _ in df[\"concept_id\"]],\n",
    "        types=lambda df: [[] for _ in df[\"concept_id\"]],\n",
    "    ) \\\n",
    "    .to_dict(orient=\"records\")\n",
    "\n",
    "with KB_PATH.open(\"w\") as f:\n",
    "    json.dump(efo_kb, f)"
   ]
  },
  {
   "cell_type": "markdown",
   "id": "8bdd3a11-3aaf-4d6d-9e7b-c9253446eb14",
   "metadata": {},
   "source": [
    "---"
   ]
  },
  {
   "cell_type": "code",
   "execution_count": 49,
   "id": "bc9f287c-dd55-4601-94cc-885d0e57d695",
   "metadata": {
    "execution": {
     "iopub.execute_input": "2022-06-17T13:48:01.783431Z",
     "iopub.status.busy": "2022-06-17T13:48:01.782966Z",
     "iopub.status.idle": "2022-06-17T13:48:01.789253Z",
     "shell.execute_reply": "2022-06-17T13:48:01.788228Z",
     "shell.execute_reply.started": "2022-06-17T13:48:01.783380Z"
    },
    "tags": []
   },
   "outputs": [],
   "source": [
    "from scispacy.candidate_generation import create_tfidf_ann_index\n",
    "from scispacy.linking_utils import KnowledgeBase"
   ]
  },
  {
   "cell_type": "code",
   "execution_count": 50,
   "id": "0301b3e5-e296-4c16-8829-919656d9c907",
   "metadata": {
    "execution": {
     "iopub.execute_input": "2022-06-17T13:48:02.975267Z",
     "iopub.status.busy": "2022-06-17T13:48:02.974800Z",
     "iopub.status.idle": "2022-06-17T13:48:02.981779Z",
     "shell.execute_reply": "2022-06-17T13:48:02.980749Z",
     "shell.execute_reply.started": "2022-06-17T13:48:02.975215Z"
    },
    "tags": []
   },
   "outputs": [],
   "source": [
    "LINKER_PATH = Path(\".\") / \"scispacy_kb\" / \"linker\"\n",
    "LINKER_PATH.mkdir(exist_ok=True)"
   ]
  },
  {
   "cell_type": "code",
   "execution_count": 51,
   "id": "e2720b4b-f52c-4f26-8fdb-df81c9524fec",
   "metadata": {
    "execution": {
     "iopub.execute_input": "2022-06-17T13:48:03.879146Z",
     "iopub.status.busy": "2022-06-17T13:48:03.878657Z",
     "iopub.status.idle": "2022-06-17T13:48:03.885443Z",
     "shell.execute_reply": "2022-06-17T13:48:03.884475Z",
     "shell.execute_reply.started": "2022-06-17T13:48:03.879091Z"
    },
    "tags": []
   },
   "outputs": [],
   "source": [
    "kb = KnowledgeBase(str(KB_PATH))"
   ]
  },
  {
   "cell_type": "code",
   "execution_count": 52,
   "id": "486aa8aa-04ec-49ba-8f60-4d9c79599155",
   "metadata": {
    "execution": {
     "iopub.execute_input": "2022-06-17T13:48:04.917524Z",
     "iopub.status.busy": "2022-06-17T13:48:04.916929Z",
     "iopub.status.idle": "2022-06-17T13:48:04.955606Z",
     "shell.execute_reply": "2022-06-17T13:48:04.955023Z",
     "shell.execute_reply.started": "2022-06-17T13:48:04.917469Z"
    },
    "tags": []
   },
   "outputs": [
    {
     "name": "stdout",
     "output_type": "stream",
     "text": [
      "No tfidf vectorizer on scispacy_kb/linker/tfidf_vectorizer.joblib or ann index on scispacy_kb/linker/nmslib_index.bin\n",
      "Fitting tfidf vectorizer on 50 aliases\n",
      "Saving tfidf vectorizer to scispacy_kb/linker/tfidf_vectorizer.joblib\n",
      "Fitting and saving vectorizer took 0.020318 seconds\n",
      "Finding empty (all zeros) tfidf vectors\n",
      "Deleting 17/50 aliases because their tfidf is empty\n",
      "Saving list of concept ids and tfidfs vectors to scispacy_kb/linker/concept_aliases.json and scispacy_kb/linker/tfidf_vectors_sparse.npz\n",
      "Fitting ann index on 33 aliases (takes 2 hours)\n",
      "Fitting ann index took 0.005464 seconds\n"
     ]
    },
    {
     "name": "stderr",
     "output_type": "stream",
     "text": [
      "\n",
      "0%   10   20   30   40   50   60   70   80   90   100%\n",
      "|----|----|----|----|----|----|----|----|----|----|\n",
      "***************************************************\n"
     ]
    },
    {
     "data": {
      "text/plain": [
       "([\"Alzheimer's disease\",\n",
       "  'endocarditis',\n",
       "  'endocrine system disease',\n",
       "  'liver disease',\n",
       "  'muscular disease',\n",
       "  'pervasive developmental disorder - not otherwise specified',\n",
       "  'cerebrovascular disorder',\n",
       "  'gallbladder disease',\n",
       "  \"spinal fracture'\",\n",
       "  'hepatitis B infection',\n",
       "  'congenital heart malformation',\n",
       "  'tooth agenesis',\n",
       "  'intracerebral hemorrhage',\n",
       "  'retinal detachment',\n",
       "  'central nervous system tuberculosis',\n",
       "  'hepatitis A',\n",
       "  'hookworm infectious disease',\n",
       "  'sleep disorder',\n",
       "  'salivary gland disease',\n",
       "  'gender identity disorder',\n",
       "  'female genital tract polyp',\n",
       "  'dysthymic disorder',\n",
       "  'vitreous body disease',\n",
       "  'blood coagulation disease',\n",
       "  'granulomatous dermatitis',\n",
       "  'hyperemesis gravidarum',\n",
       "  'nutritional deficiency disease',\n",
       "  'rheumatic heart disease',\n",
       "  'Helminthiasis',\n",
       "  'central nervous system infection',\n",
       "  'diverticulitis',\n",
       "  'Visual impairment',\n",
       "  'lymphadenitis'],\n",
       " TfidfVectorizer(analyzer='char_wb', dtype=<class 'numpy.float32'>, min_df=10,\n",
       "                 ngram_range=(3, 3)),\n",
       " <nmslib.FloatIndex method='hnsw' space='cosinesimil_sparse' at 0x56186c93cec0>)"
      ]
     },
     "execution_count": 52,
     "metadata": {},
     "output_type": "execute_result"
    }
   ],
   "source": [
    "create_tfidf_ann_index(str(LINKER_PATH), kb)"
   ]
  },
  {
   "cell_type": "raw",
   "id": "da95ada4-a396-433c-ab02-86766f8a29c8",
   "metadata": {},
   "source": [
    "---"
   ]
  },
  {
   "cell_type": "code",
   "execution_count": 7,
   "id": "4a008570-3d24-4579-87cb-74977dab0fc0",
   "metadata": {
    "execution": {
     "iopub.execute_input": "2022-06-17T11:17:51.826312Z",
     "iopub.status.busy": "2022-06-17T11:17:51.825861Z",
     "iopub.status.idle": "2022-06-17T11:17:51.837061Z",
     "shell.execute_reply": "2022-06-17T11:17:51.835922Z",
     "shell.execute_reply.started": "2022-06-17T11:17:51.826262Z"
    },
    "tags": []
   },
   "outputs": [],
   "source": [
    "from scispacy.linking import EntityLinker"
   ]
  },
  {
   "cell_type": "code",
   "execution_count": 9,
   "id": "10b4130a-f8bb-4a64-a117-9a6e6ee24f14",
   "metadata": {
    "execution": {
     "iopub.execute_input": "2022-06-17T12:53:38.103467Z",
     "iopub.status.busy": "2022-06-17T12:53:38.102983Z",
     "iopub.status.idle": "2022-06-17T12:53:38.110621Z",
     "shell.execute_reply": "2022-06-17T12:53:38.109299Z",
     "shell.execute_reply.started": "2022-06-17T12:53:38.103414Z"
    },
    "tags": []
   },
   "outputs": [],
   "source": [
    "from scispacy.candidate_generation import DEFAULT_PATHS, DEFAULT_KNOWLEDGE_BASES\n",
    "from scispacy.candidate_generation import (\n",
    "    CandidateGenerator,\n",
    "    LinkerPaths\n",
    ")\n",
    "from scispacy.linking_utils import KnowledgeBase\n",
    "import spacy"
   ]
  },
  {
   "cell_type": "code",
   "execution_count": 53,
   "id": "234e1771-225f-404d-9d0c-b2d16f1cab76",
   "metadata": {
    "execution": {
     "iopub.execute_input": "2022-06-17T13:49:26.991908Z",
     "iopub.status.busy": "2022-06-17T13:49:26.991317Z",
     "iopub.status.idle": "2022-06-17T13:49:27.000813Z",
     "shell.execute_reply": "2022-06-17T13:49:27.000022Z",
     "shell.execute_reply.started": "2022-06-17T13:49:26.991854Z"
    },
    "tags": []
   },
   "outputs": [],
   "source": [
    "CustomLinkerPaths = LinkerPaths(\n",
    "    ann_index=str(LINKER_PATH / \"nmslib_index.bin\"),\n",
    "    tfidf_vectorizer=str(LINKER_PATH / \"tfidf_vectorizer.joblib\" ),\n",
    "    tfidf_vectors=str(LINKER_PATH / \"tfidf_vectors_sparse.npz\"),\n",
    "    concept_aliases_list=str(LINKER_PATH / \"concept_aliases.json\"),\n",
    ")\n",
    "class CustomKB(KnowledgeBase):\n",
    "    def __init__(self, file_path = str(KB_PATH)):\n",
    "        super().__init__(file_path)\n",
    "        \n",
    "        \n",
    "DEFAULT_PATHS[\"efo\"] = CustomLinkerPaths\n",
    "DEFAULT_KNOWLEDGE_BASES[\"efo\"] = CustomKB"
   ]
  },
  {
   "cell_type": "code",
   "execution_count": 54,
   "id": "4090fa67-6845-472a-8300-8c573f9ce094",
   "metadata": {
    "execution": {
     "iopub.execute_input": "2022-06-17T13:49:28.756208Z",
     "iopub.status.busy": "2022-06-17T13:49:28.755599Z",
     "iopub.status.idle": "2022-06-17T13:49:28.763345Z",
     "shell.execute_reply": "2022-06-17T13:49:28.762206Z",
     "shell.execute_reply.started": "2022-06-17T13:49:28.756153Z"
    },
    "tags": []
   },
   "outputs": [],
   "source": [
    "assert Path(CustomLinkerPaths.ann_index).exists()\n",
    "assert Path(CustomLinkerPaths.tfidf_vectors).exists()\n",
    "assert Path(CustomLinkerPaths.tfidf_vectorizer).exists()\n",
    "assert Path(CustomLinkerPaths.concept_aliases_list).exists()"
   ]
  },
  {
   "cell_type": "code",
   "execution_count": 41,
   "id": "6b0295de-02a5-4291-be38-bbdcedb05327",
   "metadata": {
    "execution": {
     "iopub.execute_input": "2022-06-17T13:40:50.611123Z",
     "iopub.status.busy": "2022-06-17T13:40:50.610658Z",
     "iopub.status.idle": "2022-06-17T13:40:59.556519Z",
     "shell.execute_reply": "2022-06-17T13:40:59.555858Z",
     "shell.execute_reply.started": "2022-06-17T13:40:50.611070Z"
    },
    "tags": []
   },
   "outputs": [
    {
     "data": {
      "text/plain": [
       "<spacy.lang.en.English at 0x7ff845fd66d0>"
      ]
     },
     "execution_count": 41,
     "metadata": {},
     "output_type": "execute_result"
    }
   ],
   "source": []
  },
  {
   "cell_type": "code",
   "execution_count": 71,
   "id": "2c4e93e8-23c3-4a02-86e9-b8a9fb1d2ddd",
   "metadata": {
    "execution": {
     "iopub.execute_input": "2022-06-17T14:06:47.068809Z",
     "iopub.status.busy": "2022-06-17T14:06:47.068337Z",
     "iopub.status.idle": "2022-06-17T14:06:56.218405Z",
     "shell.execute_reply": "2022-06-17T14:06:56.217299Z",
     "shell.execute_reply.started": "2022-06-17T14:06:47.068757Z"
    },
    "tags": []
   },
   "outputs": [],
   "source": [
    "nlp = spacy.load(model_path)\n",
    "nlp.add_pipe(\n",
    "    \"scispacy_linker\",\n",
    "    config={\n",
    "        \"linker_name\": \"efo\",\n",
    "        \"filter_for_definitions\": True,\n",
    "        # \"threshold\": 0.1\n",
    "    }\n",
    ")\n",
    "\n",
    "linker = nlp.get_pipe(\"scispacy_linker\")"
   ]
  },
  {
   "cell_type": "code",
   "execution_count": 77,
   "id": "ccb85ce6-ca04-4669-a977-6e029859abce",
   "metadata": {
    "execution": {
     "iopub.execute_input": "2022-06-17T14:13:00.833164Z",
     "iopub.status.busy": "2022-06-17T14:13:00.832257Z",
     "iopub.status.idle": "2022-06-17T14:13:00.869498Z",
     "shell.execute_reply": "2022-06-17T14:13:00.868499Z",
     "shell.execute_reply.started": "2022-06-17T14:13:00.833079Z"
    },
    "tags": []
   },
   "outputs": [
    {
     "name": "stdout",
     "output_type": "stream",
     "text": [
      "liver disease\n",
      "5\n",
      "('EFO_0000249', 1.0)\n",
      "CUI: EFO_0000249, Name: Alzheimer's disease\n",
      "Definition: None\n",
      "TUI(s): \n",
      "Aliases: (total: 0): \n",
      "\t \n",
      "\n",
      "\n",
      "('EFO_0001379', 1.0)\n",
      "CUI: EFO_0001379, Name: endocrine system disease\n",
      "Definition: None\n",
      "TUI(s): \n",
      "Aliases: (total: 0): \n",
      "\t \n",
      "\n",
      "\n",
      "('EFO_0001421', 1.0)\n",
      "CUI: EFO_0001421, Name: liver disease\n",
      "Definition: None\n",
      "TUI(s): \n",
      "Aliases: (total: 0): \n",
      "\t \n",
      "\n",
      "\n",
      "('EFO_0002970', 1.0)\n",
      "CUI: EFO_0002970, Name: muscular disease\n",
      "Definition: None\n",
      "TUI(s): \n",
      "Aliases: (total: 0): \n",
      "\t \n",
      "\n",
      "\n",
      "('EFO_0003832', 1.0)\n",
      "CUI: EFO_0003832, Name: gallbladder disease\n",
      "Definition: None\n",
      "TUI(s): \n",
      "Aliases: (total: 0): \n",
      "\t \n",
      "\n",
      "\n",
      "\n",
      "----\n",
      "\n"
     ]
    }
   ],
   "source": [
    "# TEXT = \"liver disease\"\n",
    "# TEXT = \"family history\"\n",
    "# TEXT = \"retinal detachment\"\n",
    "TEXT = \"liver disease\"\n",
    "\n",
    "doc = nlp(TEXT)\n",
    "\n",
    "for _ in doc.ents:\n",
    "    print(_)\n",
    "    print(len(_._.kb_ents))\n",
    "    for __ in _._.kb_ents:\n",
    "        print(__)\n",
    "        print(linker.kb.cui_to_entity[__[0]])\n",
    "        print(\"\\n\")\n",
    "    print(\"\\n----\\n\")"
   ]
  },
  {
   "cell_type": "markdown",
   "id": "42b673f2-3ea2-4f71-aafd-6e466a92c492",
   "metadata": {},
   "source": [
    "---"
   ]
  },
  {
   "cell_type": "code",
   "execution_count": 44,
   "id": "bcaee9b2-977b-482b-9723-eadef092f206",
   "metadata": {
    "execution": {
     "iopub.execute_input": "2022-06-17T13:44:16.649325Z",
     "iopub.status.busy": "2022-06-17T13:44:16.648854Z",
     "iopub.status.idle": "2022-06-17T13:44:16.654961Z",
     "shell.execute_reply": "2022-06-17T13:44:16.653795Z",
     "shell.execute_reply.started": "2022-06-17T13:44:16.649273Z"
    },
    "tags": []
   },
   "outputs": [],
   "source": [
    "import joblib"
   ]
  },
  {
   "cell_type": "code",
   "execution_count": 61,
   "id": "3e4651cc-dab8-4f78-9d0f-8e999f377852",
   "metadata": {
    "execution": {
     "iopub.execute_input": "2022-06-17T13:57:52.848490Z",
     "iopub.status.busy": "2022-06-17T13:57:52.848019Z",
     "iopub.status.idle": "2022-06-17T13:57:52.858927Z",
     "shell.execute_reply": "2022-06-17T13:57:52.858214Z",
     "shell.execute_reply.started": "2022-06-17T13:57:52.848437Z"
    },
    "tags": []
   },
   "outputs": [],
   "source": [
    "vectorizer = joblib.load(\"scispacy_kb/linker/tfidf_vectorizer.joblib\")"
   ]
  },
  {
   "cell_type": "code",
   "execution_count": 62,
   "id": "0cd2b86e-b28c-4f54-90c6-78afe3bc721b",
   "metadata": {
    "execution": {
     "iopub.execute_input": "2022-06-17T13:57:54.150630Z",
     "iopub.status.busy": "2022-06-17T13:57:54.150161Z",
     "iopub.status.idle": "2022-06-17T13:57:54.156703Z",
     "shell.execute_reply": "2022-06-17T13:57:54.155748Z",
     "shell.execute_reply.started": "2022-06-17T13:57:54.150577Z"
    },
    "tags": []
   },
   "outputs": [
    {
     "name": "stdout",
     "output_type": "stream",
     "text": [
      "{'reb', 'ecl', 'ncy', 'thm', 'ida', 'tro', 'ear', ' re', 'erm', 'mer', 'tae', ' tu', 'ion', 'ce ', ' ag', 'irm', 'the', 'bod', 'men', ' b ', ' an', 'wis', ' pr', 'uma', 'nar', 'sth', 'hel', 'epa', 'ube', 'pai', 'hiv', 'hag', 'eni', 'tri', 'nta', 'nt ', 'ali', 'nju', 'mal', 'nes', 'ge ', ' he', 'ont', 'her', 'rt ', 'eve', 'iso', ' ur', 'gra', 'ato', 'ner', 'tit', 'ar ', 'ien', 'vel', 'heu', 'ral', 'def', ' ot', 'upt', 'rov', ' fr', 'sys', 'lom', 'ist', 'nut', 'ran', ' ce', 'tac', 'lit', 'cy ', 'ema', 'nce', 'icu', 'uri', 'rva', 'rrh', ' co', 'ifi', 'ge-', 'min', 'nti', 'us ', 'los', 'pla', 'reo', 'lia', 'mim', 'air', 'rry', 'rok', 'ver', 'str', 'ent', 'ly ', 'den', 'rti', 'eum', 'tio', 'abr', 'ot ', 'mes', 'ten', 'nur', 'vis', 'eme', 'ina', ' sl', 'cri', ' ar', 'ymi', ' su', 'his', 'too', 'ke ', ' de', ' id', 'aru', 'osi', 'nde', 'lop', 'erv', 'ive', 'for', 'rha', 'bla', ' st', 'iv ', 'oke', 'div', ' - ', 'cut', 'emi', 'asc', 'ria', 'ova', ' mu', 'yp ', 'uli', 'rpi', 'imp', ' sp', 'id ', 'mpa', 'rit', 've ', 'pol', 'tei', 'ep ', 'nem', ' a ', 'dev', 'tra', 'eta', 'hea', 'cat', \"'s \", ' bo', 'pat', 'dar', 'ulo', 'ctu', 'lad', 'inu', 'mil', 'tre', 'ect', 'ocr', 'ste', 'rhe', 'acu', 'fec', 'opm', 'th ', 'sua', 'ty ', 'bar', 'pro', 'cla', 'ara', ' pl', 'mus', 'hei', 'rel', 'cie', ' im', 'tem', 'tis', 'alf', 'scu', 'pec', 'ber', 'nal', 'uba', 'vit', 'mor', 'ure', 'dde', 'mat', 'spe', 'cti', 'mel', ' al', 'erc', 'dne', 'efi', 'int', 'hym', 'yst', 'nco', 'liv', 'um ', 'ale', 'chn', 'pha', 'ous', 'had', 'hmi', 'rvo', 'rav', 'thi', 'oid', 'fam', 'pit', ' hi', 'sub', ' ma', 'pti', 'em ', 'lyp', 'mia', ' vi', 'ard', ' to', 'ndo', 'ity', 'ine', 'pin', ' ge', 'rot', 'itr', 'ney', 'tub', 'hyp', 'vid', 'lee', ' no', 'ree', 'eec', 'ote', 'agu', 'inf', 'cer', 'ong', 'ein', 'ami', 'ry ', 'fie', 'ade', 'okw', 'ntr', 'ury', 'tal', 'hoo', 'gul', 'ryt', ' li', 'idn', 'te ', 'rde', 'nen', 'ach', 'uit', 'ed ', 'sia', 'itu', 'lam', 'hme', ' ab', 'hia', 'rwi', 'sis', 'mps', 'dit', 'rma', ' po', 'mph', 'bru', \"er'\", 'ood', 'oly', 'tia', 'eli', 'kwo', 'inj', 'dys', ' ga', 'anu', 'nul', ' fa', 'per', 'od ', \"r's\", 'ute', 'rcu', 'avi', 'esi', \"re'\", 'add', ' ho', 'gla', 'zhe', 'le ', 'iva', 'io ', ' sa', 'rin', ' fe', 'elm', 'lfo', 'atu', 'ook', 'der', ' tr', 'car', 'cul', 'inc', 'pme', 'ct ', 'not', 'nge', 'er ', 'sm ', 'hem', 'nth', 'lmi', 'lan', 'tic', 'ae ', 'tin', 'sle', 'orm', 'bra', 'nfe', '-re', 'spi', \"e' \", 'tui', 'tur', 'ata', 'rup', 'rdi', 'oth', 'ime', 'cen', 'wor', 'ici', 'ati', 'blo', 'orr', ' pe', 'sor', 'yth', 'ism', ' sy', ' dy', 'vou', 'oma', 'ord', 'ert', 'erw', 'ita', 'gal', 'alz', 'ene', 'rem', 'art', 'iro', 'eci', 'rum', 'ype', 'lac', 'erp', 'ate', 'enc', ' nu', 'thy', ' gr', 'ia ', 'act', 'ac ', 'oot', 'dy ', 'and', 'hno', ' gl', 'psi', 'ey ', 'eou', 'usc', 'ody', 'lym', 'ret', ' ca', ' ne', 'con', 'amp', 'doc', 'fic', 'tor', 'all', 'end', 'iti', 'hep', 'iou', 'lzh', 'nit', 'tar', 'ula', 'siv', ' ly', 'ela', 'vas', ' bl', 'ona', 'ane', 'ide', 'age', 'lar', 'e-r', ' hy', 'ere', ' ir', 'ic ', 'ias', 'lbl', 'fra', 'sal', ' ac', 'eti', 'ron', 'utr', 'eim', 'mic', ' in', 'ace', 'kid', 'ory', 'dia', 'ary', 'loo', 'arr', 'ne ', 'fem', 'noi', 'llb', 'ymp', 'elo', 'ied', 'tou', 'emo', 'pre', 'eep', 'ris', 'det', 'gen', 'ari', 'dem', 'oag', 'rm ', 'oca', ' rh', 'coa', 'chm', 'asi', 'sto', 'isu', 'rac', 'rme', 'ual', 'bro', 'ted', 'ily', 'iac', ' ki', 'on ', 'var', 'ete', ' en', 'jur', 'lat', 'ebr', 'cif', 'nd '}\n"
     ]
    }
   ],
   "source": [
    "print(vectorizer.stop_words_)"
   ]
  }
 ],
 "metadata": {
  "kernelspec": {
   "display_name": "Python 3 (ipykernel)",
   "language": "python",
   "name": "python3"
  },
  "language_info": {
   "codemirror_mode": {
    "name": "ipython",
    "version": 3
   },
   "file_extension": ".py",
   "mimetype": "text/x-python",
   "name": "python",
   "nbconvert_exporter": "python",
   "pygments_lexer": "ipython3",
   "version": "3.8.13"
  }
 },
 "nbformat": 4,
 "nbformat_minor": 5
}
