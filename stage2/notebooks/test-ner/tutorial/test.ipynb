{
 "cells": [
  {
   "cell_type": "code",
   "execution_count": 19,
   "id": "10a2032d-3c20-4a8d-9e64-0d76814e4d95",
   "metadata": {
    "execution": {
     "iopub.execute_input": "2022-06-14T11:54:40.680578Z",
     "iopub.status.busy": "2022-06-14T11:54:40.679962Z",
     "iopub.status.idle": "2022-06-14T11:54:40.686156Z",
     "shell.execute_reply": "2022-06-14T11:54:40.685215Z",
     "shell.execute_reply.started": "2022-06-14T11:54:40.680518Z"
    },
    "tags": []
   },
   "outputs": [],
   "source": [
    "import json\n",
    "from pathlib import Path\n",
    "from pprint import pprint\n",
    "\n",
    "import spacy"
   ]
  },
  {
   "cell_type": "code",
   "execution_count": 2,
   "id": "58d69368-dc54-4034-b706-057f38dd812b",
   "metadata": {
    "execution": {
     "iopub.execute_input": "2022-06-14T11:23:48.915067Z",
     "iopub.status.busy": "2022-06-14T11:23:48.914458Z",
     "iopub.status.idle": "2022-06-14T11:23:55.311738Z",
     "shell.execute_reply": "2022-06-14T11:23:55.310450Z",
     "shell.execute_reply.started": "2022-06-14T11:23:48.915010Z"
    },
    "tags": []
   },
   "outputs": [
    {
     "name": "stdout",
     "output_type": "stream",
     "text": [
      "Named Entity 'Emerson' with label 'PERSON'\n",
      "Named Entity 'Wimbledon' with label 'EVENT'\n"
     ]
    }
   ],
   "source": [
    "nlp = spacy.load(\"en_core_web_lg\")\n",
    "text = \"Tennis champion Emerson was expected to win Wimbledon.\"\n",
    "doc = nlp(text)\n",
    "for ent in doc.ents:\n",
    "    print(f\"Named Entity '{ent.text}' with label '{ent.label_}'\")"
   ]
  },
  {
   "cell_type": "code",
   "execution_count": 6,
   "id": "ae1506f8-bdfe-4a08-bcbd-fab1acf2b08a",
   "metadata": {
    "execution": {
     "iopub.execute_input": "2022-06-14T11:29:30.850027Z",
     "iopub.status.busy": "2022-06-14T11:29:30.849403Z",
     "iopub.status.idle": "2022-06-14T11:29:30.862164Z",
     "shell.execute_reply": "2022-06-14T11:29:30.861192Z",
     "shell.execute_reply.started": "2022-06-14T11:29:30.849971Z"
    },
    "tags": []
   },
   "outputs": [
    {
     "name": "stdout",
     "output_type": "stream",
     "text": [
      "Q312545, name=Roy Stanley Emerson, desc=Australian tennis player\n",
      "Q48226, name=Ralph Waldo Emerson, desc=American philosopher, essayist, and poet\n",
      "Q215952, name=Emerson Ferreira da Rosa, desc=Brazilian footballer\n"
     ]
    }
   ],
   "source": [
    "import csv\n",
    "\n",
    "def load_entities():\n",
    "    entities_loc = Path(\".\") / \"entities.csv\"  # distributed alongside this notebook\n",
    "    assert entities_loc, entities_loc\n",
    "\n",
    "    names = dict()\n",
    "    descriptions = dict()\n",
    "    with entities_loc.open(\"r\", encoding=\"utf8\") as csvfile:\n",
    "        csvreader = csv.reader(csvfile, delimiter=\",\")\n",
    "        for row in csvreader:\n",
    "            qid = row[0]\n",
    "            name = row[1]\n",
    "            desc = row[2]\n",
    "            names[qid] = name\n",
    "            descriptions[qid] = desc\n",
    "    return names, descriptions\n",
    "\n",
    "\n",
    "name_dict, desc_dict = load_entities()\n",
    "for QID in name_dict.keys():\n",
    "    print(f\"{QID}, name={name_dict[QID]}, desc={desc_dict[QID]}\")"
   ]
  },
  {
   "cell_type": "code",
   "execution_count": 9,
   "id": "b753722a-af81-4e68-a17b-6e63fb65f795",
   "metadata": {
    "execution": {
     "iopub.execute_input": "2022-06-14T11:30:29.350033Z",
     "iopub.status.busy": "2022-06-14T11:30:29.349116Z",
     "iopub.status.idle": "2022-06-14T11:30:29.356504Z",
     "shell.execute_reply": "2022-06-14T11:30:29.355362Z",
     "shell.execute_reply.started": "2022-06-14T11:30:29.349972Z"
    },
    "tags": []
   },
   "outputs": [
    {
     "name": "stdout",
     "output_type": "stream",
     "text": [
      "{'Q312545': 'Roy Stanley Emerson', 'Q48226': 'Ralph Waldo Emerson', 'Q215952': 'Emerson Ferreira da Rosa'}\n",
      "\n",
      "\n",
      "{'Q312545': 'Australian tennis player', 'Q48226': 'American philosopher, essayist, and poet', 'Q215952': 'Brazilian footballer'}\n"
     ]
    }
   ],
   "source": [
    "print(name_dict)\n",
    "print(\"\\n\")\n",
    "print(desc_dict)"
   ]
  },
  {
   "cell_type": "code",
   "execution_count": 7,
   "id": "b3ae8a61-292d-485f-baba-fa9029f416b4",
   "metadata": {
    "execution": {
     "iopub.execute_input": "2022-06-14T11:29:45.151251Z",
     "iopub.status.busy": "2022-06-14T11:29:45.150779Z",
     "iopub.status.idle": "2022-06-14T11:29:45.156057Z",
     "shell.execute_reply": "2022-06-14T11:29:45.155215Z",
     "shell.execute_reply.started": "2022-06-14T11:29:45.151197Z"
    },
    "tags": []
   },
   "outputs": [],
   "source": [
    "from spacy.kb import KnowledgeBase\n",
    "kb = KnowledgeBase(vocab=nlp.vocab, entity_vector_length=300)"
   ]
  },
  {
   "cell_type": "code",
   "execution_count": 10,
   "id": "f7b10c26-6461-43dd-9d59-92eed52bdaa8",
   "metadata": {
    "execution": {
     "iopub.execute_input": "2022-06-14T11:30:47.571761Z",
     "iopub.status.busy": "2022-06-14T11:30:47.571296Z",
     "iopub.status.idle": "2022-06-14T11:30:47.605806Z",
     "shell.execute_reply": "2022-06-14T11:30:47.604807Z",
     "shell.execute_reply.started": "2022-06-14T11:30:47.571708Z"
    },
    "tags": []
   },
   "outputs": [
    {
     "name": "stderr",
     "output_type": "stream",
     "text": [
      "/tmp/ipykernel_31548/279058571.py:4: UserWarning: [W018] Entity 'Q312545' already exists in the Knowledge Base - ignoring the duplicate entry.\n",
      "  kb.add_entity(entity=qid, entity_vector=desc_enc, freq=342)   # 342 is an arbitrary value here\n",
      "/tmp/ipykernel_31548/279058571.py:4: UserWarning: [W018] Entity 'Q48226' already exists in the Knowledge Base - ignoring the duplicate entry.\n",
      "  kb.add_entity(entity=qid, entity_vector=desc_enc, freq=342)   # 342 is an arbitrary value here\n",
      "/tmp/ipykernel_31548/279058571.py:4: UserWarning: [W018] Entity 'Q215952' already exists in the Knowledge Base - ignoring the duplicate entry.\n",
      "  kb.add_entity(entity=qid, entity_vector=desc_enc, freq=342)   # 342 is an arbitrary value here\n"
     ]
    }
   ],
   "source": [
    "for qid, desc in desc_dict.items():\n",
    "    desc_doc = nlp(desc)\n",
    "    desc_enc = desc_doc.vector\n",
    "    kb.add_entity(entity=qid, entity_vector=desc_enc, freq=342)   # 342 is an arbitrary value here"
   ]
  },
  {
   "cell_type": "code",
   "execution_count": 11,
   "id": "cc40dad3-c0fa-4fe3-9f1b-5d4851b4bf99",
   "metadata": {
    "execution": {
     "iopub.execute_input": "2022-06-14T11:31:06.177653Z",
     "iopub.status.busy": "2022-06-14T11:31:06.177247Z",
     "iopub.status.idle": "2022-06-14T11:31:06.183126Z",
     "shell.execute_reply": "2022-06-14T11:31:06.182631Z",
     "shell.execute_reply.started": "2022-06-14T11:31:06.177622Z"
    },
    "tags": []
   },
   "outputs": [
    {
     "data": {
      "text/plain": [
       "4831166512461469197"
      ]
     },
     "execution_count": 11,
     "metadata": {},
     "output_type": "execute_result"
    }
   ],
   "source": [
    "qids = name_dict.keys()\n",
    "probs = [0.3 for qid in qids]\n",
    "kb.add_alias(alias=\"Emerson\", entities=qids, probabilities=probs)  # sum([probs]) should be <= 1 !"
   ]
  },
  {
   "cell_type": "code",
   "execution_count": 12,
   "id": "09a78630-5572-4d08-992e-a0c15c4f6f82",
   "metadata": {
    "execution": {
     "iopub.execute_input": "2022-06-14T11:31:16.699951Z",
     "iopub.status.busy": "2022-06-14T11:31:16.699290Z",
     "iopub.status.idle": "2022-06-14T11:31:16.707642Z",
     "shell.execute_reply": "2022-06-14T11:31:16.706067Z",
     "shell.execute_reply.started": "2022-06-14T11:31:16.699874Z"
    },
    "tags": []
   },
   "outputs": [
    {
     "name": "stdout",
     "output_type": "stream",
     "text": [
      "Entities in the KB: ['Q215952', 'Q312545', 'Q48226']\n",
      "Aliases in the KB: ['Emerson']\n"
     ]
    }
   ],
   "source": [
    "print(f\"Entities in the KB: {kb.get_entity_strings()}\")\n",
    "print(f\"Aliases in the KB: {kb.get_alias_strings()}\")"
   ]
  },
  {
   "cell_type": "code",
   "execution_count": 13,
   "id": "a5c20c12-91ed-47b7-8063-586f90f35bb4",
   "metadata": {
    "execution": {
     "iopub.execute_input": "2022-06-14T11:31:43.558235Z",
     "iopub.status.busy": "2022-06-14T11:31:43.557765Z",
     "iopub.status.idle": "2022-06-14T11:31:43.565824Z",
     "shell.execute_reply": "2022-06-14T11:31:43.564375Z",
     "shell.execute_reply.started": "2022-06-14T11:31:43.558200Z"
    },
    "tags": []
   },
   "outputs": [
    {
     "name": "stdout",
     "output_type": "stream",
     "text": [
      "Candidates for 'Roy Stanley Emerson': []\n",
      "Candidates for 'Emerson': ['Q312545', 'Q48226', 'Q215952']\n",
      "Candidates for 'Sofie': []\n"
     ]
    }
   ],
   "source": [
    "print(f\"Candidates for 'Roy Stanley Emerson': {[c.entity_ for c in kb.get_alias_candidates('Roy Stanley Emerson')]}\")\n",
    "print(f\"Candidates for 'Emerson': {[c.entity_ for c in kb.get_alias_candidates('Emerson')]}\")\n",
    "print(f\"Candidates for 'Sofie': {[c.entity_ for c in kb.get_alias_candidates('Sofie')]}\")"
   ]
  },
  {
   "cell_type": "code",
   "execution_count": 14,
   "id": "163d4add-d175-4ad2-8a35-681666442cec",
   "metadata": {
    "execution": {
     "iopub.execute_input": "2022-06-14T11:32:47.683938Z",
     "iopub.status.busy": "2022-06-14T11:32:47.683456Z",
     "iopub.status.idle": "2022-06-14T11:32:48.000362Z",
     "shell.execute_reply": "2022-06-14T11:32:47.999581Z",
     "shell.execute_reply.started": "2022-06-14T11:32:47.683883Z"
    },
    "tags": []
   },
   "outputs": [],
   "source": [
    "output_path = Path(\".\") / \"my_kb\"\n",
    "kb.to_disk(output_path)"
   ]
  },
  {
   "cell_type": "markdown",
   "id": "6375dcd9-893c-46af-8621-e25db2540f27",
   "metadata": {},
   "source": [
    "---"
   ]
  },
  {
   "cell_type": "code",
   "execution_count": 17,
   "id": "6b6055c4-c46a-4426-ba84-e6c49c43fdeb",
   "metadata": {
    "execution": {
     "iopub.execute_input": "2022-06-14T11:37:31.736899Z",
     "iopub.status.busy": "2022-06-14T11:37:31.736309Z",
     "iopub.status.idle": "2022-06-14T11:37:31.745503Z",
     "shell.execute_reply": "2022-06-14T11:37:31.744320Z",
     "shell.execute_reply.started": "2022-06-14T11:37:31.736841Z"
    },
    "tags": []
   },
   "outputs": [
    {
     "name": "stdout",
     "output_type": "stream",
     "text": [
      "{\"text\":\"Interestingly, Emerson is one of only five tennis players all-time to win multiple slam sets in two disciplines, only matched by Frank Sedgman, Margaret Court, Martina Navratilova and Serena Williams.\",\"_input_hash\":2024197919,\"_task_hash\":-1926469210,\"spans\":[{\"start\":15,\"end\":22,\"text\":\"Emerson\",\"rank\":0,\"label\":\"ORG\",\"score\":1,\"source\":\"en_core_web_lg\",\"input_hash\":2024197919}],\"meta\":{\"score\":1},\"options\":[{\"id\":\"Q48226\",\"html\":\"<a href='https://www.wikidata.org/wiki/Q48226'>Q48226: American philosopher, essayist, and poet</a>\"},{\"id\":\"Q215952\",\"html\":\"<a href='https://www.wikidata.org/wiki/Q215952'>Q215952: Brazilian footballer</a>\"},{\"id\":\"Q312545\",\"html\":\"<a href='https://www.wikidata.org/wiki/Q312545'>Q312545: Australian tennis player</a>\"},{\"id\":\"NIL_otherLink\",\"text\":\"Link not in options\"},{\"id\":\"NIL_ambiguous\",\"text\":\"Need more context\"}],\"_session_id\":null,\"_view_id\":\"choice\",\"accept\":[\"Q312545\"],\"answer\":\"accept\"}\n",
      "\n"
     ]
    }
   ],
   "source": [
    "json_loc = Path(\".\") / \"emerson_annotated_text.jsonl\" # distributed alongside this notebook\n",
    "assert json_loc.exists(), json_loc\n",
    "with json_loc.open(\"r\", encoding=\"utf8\") as jsonfile:\n",
    "    line = jsonfile.readline()\n",
    "    print(line)   # print just the first line"
   ]
  },
  {
   "cell_type": "code",
   "execution_count": 20,
   "id": "3094e83d-3ecb-43fe-a08e-5d31f1b2068f",
   "metadata": {
    "execution": {
     "iopub.execute_input": "2022-06-14T11:54:43.368721Z",
     "iopub.status.busy": "2022-06-14T11:54:43.368249Z",
     "iopub.status.idle": "2022-06-14T11:54:43.381297Z",
     "shell.execute_reply": "2022-06-14T11:54:43.380337Z",
     "shell.execute_reply.started": "2022-06-14T11:54:43.368666Z"
    },
    "tags": []
   },
   "outputs": [
    {
     "name": "stdout",
     "output_type": "stream",
     "text": [
      "('Interestingly, Emerson is one of only five tennis players all-time to win multiple slam sets in two disciplines, only matched by Frank Sedgman, Margaret Court, Martina Navratilova and Serena Williams.', {'links': {(15, 22): {'Q312545': 1.0}}, 'entities': [(15, 22, 'ORG')]})\n"
     ]
    }
   ],
   "source": [
    "dataset = []\n",
    "with json_loc.open(\"r\", encoding=\"utf8\") as jsonfile:\n",
    "    for line in jsonfile:\n",
    "        example = json.loads(line)\n",
    "        text = example[\"text\"]\n",
    "        if example[\"answer\"] == \"accept\":\n",
    "            QID = example[\"accept\"][0]\n",
    "            offset = (example[\"spans\"][0][\"start\"], example[\"spans\"][0][\"end\"])\n",
    "            entity_label = example[\"spans\"][0][\"label\"]\n",
    "            entities = [(offset[0], offset[1], entity_label)]\n",
    "            links_dict = {QID: 1.0}\n",
    "        dataset.append((text, {\"links\": {offset: links_dict}, \"entities\": entities}))\n",
    "print(dataset[0])"
   ]
  },
  {
   "cell_type": "code",
   "execution_count": 22,
   "id": "72e4dd9f-566d-4c1b-bc7b-222bd19d92e6",
   "metadata": {
    "execution": {
     "iopub.execute_input": "2022-06-14T12:01:10.767499Z",
     "iopub.status.busy": "2022-06-14T12:01:10.767008Z",
     "iopub.status.idle": "2022-06-14T12:01:10.775170Z",
     "shell.execute_reply": "2022-06-14T12:01:10.774307Z",
     "shell.execute_reply.started": "2022-06-14T12:01:10.767443Z"
    },
    "tags": []
   },
   "outputs": [
    {
     "name": "stdout",
     "output_type": "stream",
     "text": [
      "Counter({'Q312545': 10, 'Q48226': 10, 'Q215952': 10})\n",
      "['Q312545', 'Q48226', 'Q312545', 'Q215952', 'Q215952', 'Q312545', 'Q48226', 'Q48226', 'Q215952', 'Q312545', 'Q48226', 'Q215952', 'Q312545', 'Q215952', 'Q312545', 'Q312545', 'Q215952', 'Q48226', 'Q215952', 'Q215952', 'Q48226', 'Q48226', 'Q312545', 'Q48226', 'Q312545', 'Q48226', 'Q312545', 'Q215952', 'Q215952', 'Q48226']\n"
     ]
    }
   ],
   "source": [
    "gold_ids = []\n",
    "for text, annot in dataset:\n",
    "    for span, links_dict in annot[\"links\"].items():\n",
    "        for link, value in links_dict.items():\n",
    "            if value:\n",
    "                gold_ids.append(link)\n",
    "\n",
    "from collections import Counter\n",
    "print(Counter(gold_ids))\n",
    "print(gold_ids)"
   ]
  },
  {
   "cell_type": "code",
   "execution_count": 23,
   "id": "a2b8bbd9-db6f-4300-a353-c200c2c76214",
   "metadata": {
    "execution": {
     "iopub.execute_input": "2022-06-14T12:01:30.005425Z",
     "iopub.status.busy": "2022-06-14T12:01:30.004622Z",
     "iopub.status.idle": "2022-06-14T12:01:30.015171Z",
     "shell.execute_reply": "2022-06-14T12:01:30.013932Z",
     "shell.execute_reply.started": "2022-06-14T12:01:30.005365Z"
    },
    "tags": []
   },
   "outputs": [],
   "source": [
    "import random\n",
    "\n",
    "train_dataset = []\n",
    "test_dataset = []\n",
    "for QID in qids:\n",
    "    indices = [i for i, j in enumerate(gold_ids) if j == QID]\n",
    "    train_dataset.extend(dataset[index] for index in indices[0:8])  # first 8 in training\n",
    "    test_dataset.extend(dataset[index] for index in indices[8:10])  # last 2 in test\n",
    "    \n",
    "random.shuffle(train_dataset)\n",
    "random.shuffle(test_dataset)"
   ]
  },
  {
   "cell_type": "code",
   "execution_count": 34,
   "id": "1a5ed8ec-42fb-42e6-b7f1-2cebedd202ec",
   "metadata": {
    "execution": {
     "iopub.execute_input": "2022-06-14T14:51:59.469713Z",
     "iopub.status.busy": "2022-06-14T14:51:59.469213Z",
     "iopub.status.idle": "2022-06-14T14:51:59.478009Z",
     "shell.execute_reply": "2022-06-14T14:51:59.476843Z",
     "shell.execute_reply.started": "2022-06-14T14:51:59.469658Z"
    },
    "tags": []
   },
   "outputs": [
    {
     "name": "stdout",
     "output_type": "stream",
     "text": [
      "[('Emerson made a name for himself in his native Brazil playing for Grêmio, '\n",
      "  'where he won two state championships, two Brazilian Cups, one Brazilian '\n",
      "  'Championship and one Copa Libertadores.',\n",
      "  {'entities': [(0, 7, 'ORG')], 'links': {(0, 7): {'Q215952': 1.0}}}),\n",
      " ('In March 1837, Emerson gave a series of lectures on the philosophy of '\n",
      "  'history at the Masonic Temple in Boston.',\n",
      "  {'entities': [(15, 22, 'ORG')], 'links': {(15, 22): {'Q48226': 1.0}}}),\n",
      " ('Together with \"Nature\", these essays made the decade from the mid-1830s to '\n",
      "  \"the mid-1840s Emerson's most fertile period.\",\n",
      "  {'entities': [(89, 96, 'PERSON')], 'links': {(89, 96): {'Q48226': 1.0}}})]\n"
     ]
    }
   ],
   "source": [
    "pprint(train_dataset[:3])"
   ]
  },
  {
   "cell_type": "code",
   "execution_count": 24,
   "id": "8bcb86a6-79a0-4eb2-82af-ac8dde0cdaa4",
   "metadata": {
    "execution": {
     "iopub.execute_input": "2022-06-14T12:03:49.761855Z",
     "iopub.status.busy": "2022-06-14T12:03:49.761421Z",
     "iopub.status.idle": "2022-06-14T12:03:49.799167Z",
     "shell.execute_reply": "2022-06-14T12:03:49.798068Z",
     "shell.execute_reply.started": "2022-06-14T12:03:49.761825Z"
    },
    "tags": []
   },
   "outputs": [],
   "source": [
    "from spacy.training import Example\n",
    "\n",
    "TRAIN_EXAMPLES = []\n",
    "if \"sentencizer\" not in nlp.pipe_names:\n",
    "    nlp.add_pipe(\"sentencizer\")\n",
    "sentencizer = nlp.get_pipe(\"sentencizer\")\n",
    "for text, annotation in train_dataset:\n",
    "    example = Example.from_dict(nlp.make_doc(text), annotation)\n",
    "    example.reference = sentencizer(example.reference)\n",
    "    TRAIN_EXAMPLES.append(example)\n",
    "    "
   ]
  },
  {
   "cell_type": "code",
   "execution_count": 33,
   "id": "5617b2db-6c3a-4bf7-94d1-975ff40f55b2",
   "metadata": {
    "execution": {
     "iopub.execute_input": "2022-06-14T14:10:37.507948Z",
     "iopub.status.busy": "2022-06-14T14:10:37.507217Z",
     "iopub.status.idle": "2022-06-14T14:10:37.514982Z",
     "shell.execute_reply": "2022-06-14T14:10:37.513903Z",
     "shell.execute_reply.started": "2022-06-14T14:10:37.507907Z"
    },
    "tags": []
   },
   "outputs": [
    {
     "name": "stdout",
     "output_type": "stream",
     "text": [
      "# 0\n",
      "{'doc_annotation': {'cats': {}, 'entities': ['O', 'O', 'O', 'O', 'O', 'O', 'O', 'U-ORG', 'O', 'O', 'O', 'O', 'O', 'O', 'O', 'O', 'O'], 'links': {(39, 46): {'Q215952': 1.0}}}, 'token_annotation': {'ORTH': ['In', 'addition', 'to', 'his', 'Brazilian', 'passport', ',', 'Emerson', 'also', 'holds', 'Italian', ',', 'German', 'and', 'Qatari', 'passports', '.'], 'SPACY': [True, True, True, True, True, False, True, True, True, True, False, True, True, True, True, False, False], 'TAG': ['', '', '', '', '', '', '', '', '', '', '', '', '', '', '', '', ''], 'LEMMA': ['', '', '', '', '', '', '', '', '', '', '', '', '', '', '', '', ''], 'POS': ['', '', '', '', '', '', '', '', '', '', '', '', '', '', '', '', ''], 'MORPH': ['', '', '', '', '', '', '', '', '', '', '', '', '', '', '', '', ''], 'HEAD': [0, 1, 2, 3, 4, 5, 6, 7, 8, 9, 10, 11, 12, 13, 14, 15, 16], 'DEP': ['', '', '', '', '', '', '', '', '', '', '', '', '', '', '', '', ''], 'SENT_START': [1, 0, 0, 0, 0, 0, 0, 0, 0, 0, 0, 0, 0, 0, 0, 0, 0]}}\n",
      "\n",
      "\n",
      "# 1\n",
      "{'doc_annotation': {'cats': {}, 'entities': ['U-ORG', 'O', 'O', 'O', 'O', 'O', 'O', 'O', 'O', 'O', 'O', 'O', 'O', 'O', 'O', 'O', 'O', 'O', 'O', 'O', 'O'], 'links': {(0, 7): {'Q312545': 1.0}}}, 'token_annotation': {'ORTH': ['Emerson', \"'s\", '12', 'singles', 'and', '16', 'doubles', 'titles', 'make', 'him', 'one', 'of', 'the', 'leading', 'players', 'in', 'Grand', 'Slam', 'tournament', 'history', '.'], 'SPACY': [False, True, True, True, True, True, True, True, True, True, True, True, True, True, True, True, True, True, True, False, False], 'TAG': ['', '', '', '', '', '', '', '', '', '', '', '', '', '', '', '', '', '', '', '', ''], 'LEMMA': ['', '', '', '', '', '', '', '', '', '', '', '', '', '', '', '', '', '', '', '', ''], 'POS': ['', '', '', '', '', '', '', '', '', '', '', '', '', '', '', '', '', '', '', '', ''], 'MORPH': ['', '', '', '', '', '', '', '', '', '', '', '', '', '', '', '', '', '', '', '', ''], 'HEAD': [0, 1, 2, 3, 4, 5, 6, 7, 8, 9, 10, 11, 12, 13, 14, 15, 16, 17, 18, 19, 20], 'DEP': ['', '', '', '', '', '', '', '', '', '', '', '', '', '', '', '', '', '', '', '', ''], 'SENT_START': [1, 0, 0, 0, 0, 0, 0, 0, 0, 0, 0, 0, 0, 0, 0, 0, 0, 0, 0, 0, 0]}}\n",
      "\n",
      "\n",
      "# 2\n",
      "{'doc_annotation': {'cats': {}, 'entities': ['O', 'O', 'O', 'O', 'O', 'O', 'O', 'O', 'O', 'O', 'O', 'O', 'O', 'O', 'O', 'O', 'O', 'U-PERSON', 'O', 'O', 'O', 'O', 'O'], 'links': {(89, 96): {'Q48226': 1.0}}}, 'token_annotation': {'ORTH': ['Together', 'with', '\"', 'Nature', '\"', ',', 'these', 'essays', 'made', 'the', 'decade', 'from', 'the', 'mid-1830s', 'to', 'the', 'mid-1840s', 'Emerson', \"'s\", 'most', 'fertile', 'period', '.'], 'SPACY': [True, True, False, False, False, True, True, True, True, True, True, True, True, True, True, True, True, False, True, True, True, False, False], 'TAG': ['', '', '', '', '', '', '', '', '', '', '', '', '', '', '', '', '', '', '', '', '', '', ''], 'LEMMA': ['', '', '', '', '', '', '', '', '', '', '', '', '', '', '', '', '', '', '', '', '', '', ''], 'POS': ['', '', '', '', '', '', '', '', '', '', '', '', '', '', '', '', '', '', '', '', '', '', ''], 'MORPH': ['', '', '', '', '', '', '', '', '', '', '', '', '', '', '', '', '', '', '', '', '', '', ''], 'HEAD': [0, 1, 2, 3, 4, 5, 6, 7, 8, 9, 10, 11, 12, 13, 14, 15, 16, 17, 18, 19, 20, 21, 22], 'DEP': ['', '', '', '', '', '', '', '', '', '', '', '', '', '', '', '', '', '', '', '', '', '', ''], 'SENT_START': [1, 0, 0, 0, 0, 0, 0, 0, 0, 0, 0, 0, 0, 0, 0, 0, 0, 0, 0, 0, 0, 0, 0]}}\n",
      "\n",
      "\n"
     ]
    }
   ],
   "source": [
    "for idx, _ in enumerate(TRAIN_EXAMPLES[:3]):\n",
    "    print(f\"# {idx}\")\n",
    "    pprint(_)\n",
    "    print(\"\\n\")"
   ]
  },
  {
   "cell_type": "code",
   "execution_count": 25,
   "id": "1058f221-b874-4606-9002-c043da42a5f0",
   "metadata": {
    "execution": {
     "iopub.execute_input": "2022-06-14T12:04:08.449466Z",
     "iopub.status.busy": "2022-06-14T12:04:08.448882Z",
     "iopub.status.idle": "2022-06-14T12:04:09.706668Z",
     "shell.execute_reply": "2022-06-14T12:04:09.705610Z",
     "shell.execute_reply.started": "2022-06-14T12:04:08.449410Z"
    },
    "tags": []
   },
   "outputs": [],
   "source": [
    "from spacy.ml.models import load_kb\n",
    "\n",
    "entity_linker = nlp.add_pipe(\"entity_linker\", config={\"incl_prior\": False}, last=True)\n",
    "entity_linker.initialize(get_examples=lambda: TRAIN_EXAMPLES, kb_loader=load_kb(output_path))"
   ]
  },
  {
   "cell_type": "code",
   "execution_count": 26,
   "id": "afbbff54-bd2e-49c0-a14d-8ffd5b08753e",
   "metadata": {
    "execution": {
     "iopub.execute_input": "2022-06-14T12:04:22.679696Z",
     "iopub.status.busy": "2022-06-14T12:04:22.679235Z",
     "iopub.status.idle": "2022-06-14T12:05:18.476175Z",
     "shell.execute_reply": "2022-06-14T12:05:18.475367Z",
     "shell.execute_reply.started": "2022-06-14T12:04:22.679642Z"
    },
    "tags": []
   },
   "outputs": [
    {
     "name": "stdout",
     "output_type": "stream",
     "text": [
      "0 Losses {'entity_linker': 5.104790508747101}\n",
      "50 Losses {'entity_linker': 0.05736507475376129}\n",
      "100 Losses {'entity_linker': 0.024263352155685425}\n",
      "150 Losses {'entity_linker': 0.015664294362068176}\n",
      "200 Losses {'entity_linker': 0.011141955852508545}\n",
      "250 Losses {'entity_linker': 0.010369181632995605}\n",
      "300 Losses {'entity_linker': 0.006070807576179504}\n",
      "350 Losses {'entity_linker': 0.00506591796875}\n",
      "400 Losses {'entity_linker': 0.009198933839797974}\n",
      "450 Losses {'entity_linker': 0.003818988800048828}\n",
      "499 Losses {'entity_linker': 0.0030883699655532837}\n"
     ]
    }
   ],
   "source": [
    "from spacy.util import minibatch, compounding\n",
    "\n",
    "with nlp.select_pipes(enable=[\"entity_linker\"]):   # train only the entity_linker\n",
    "    optimizer = nlp.resume_training()\n",
    "    for itn in range(500):   # 500 iterations takes about a minute to train\n",
    "        random.shuffle(TRAIN_EXAMPLES)\n",
    "        batches = minibatch(TRAIN_EXAMPLES, size=compounding(4.0, 32.0, 1.001))  # increasing batch sizes\n",
    "        losses = {}\n",
    "        for batch in batches:\n",
    "            nlp.update(\n",
    "                batch,   \n",
    "                drop=0.2,      # prevent overfitting\n",
    "                losses=losses,\n",
    "                sgd=optimizer,\n",
    "            )\n",
    "        if itn % 50 == 0:\n",
    "            print(itn, \"Losses\", losses)   # print the training loss\n",
    "print(itn, \"Losses\", losses)"
   ]
  },
  {
   "cell_type": "code",
   "execution_count": 27,
   "id": "4c823ab6-7d41-4549-8159-ec50d57383c7",
   "metadata": {
    "execution": {
     "iopub.execute_input": "2022-06-14T13:00:00.306665Z",
     "iopub.status.busy": "2022-06-14T13:00:00.306039Z",
     "iopub.status.idle": "2022-06-14T13:00:00.335678Z",
     "shell.execute_reply": "2022-06-14T13:00:00.335043Z",
     "shell.execute_reply.started": "2022-06-14T13:00:00.306603Z"
    },
    "tags": []
   },
   "outputs": [
    {
     "name": "stdout",
     "output_type": "stream",
     "text": [
      "Emerson PERSON Q312545\n",
      "Wimbledon EVENT NIL\n"
     ]
    }
   ],
   "source": [
    "text = \"Tennis champion Emerson was expected to win Wimbledon.\"\n",
    "doc = nlp(text)\n",
    "for ent in doc.ents:\n",
    "    print(ent.text, ent.label_, ent.kb_id_)"
   ]
  }
 ],
 "metadata": {
  "kernelspec": {
   "display_name": "Python 3 (ipykernel)",
   "language": "python",
   "name": "python3"
  },
  "language_info": {
   "codemirror_mode": {
    "name": "ipython",
    "version": 3
   },
   "file_extension": ".py",
   "mimetype": "text/x-python",
   "name": "python",
   "nbconvert_exporter": "python",
   "pygments_lexer": "ipython3",
   "version": "3.8.13"
  }
 },
 "nbformat": 4,
 "nbformat_minor": 5
}
