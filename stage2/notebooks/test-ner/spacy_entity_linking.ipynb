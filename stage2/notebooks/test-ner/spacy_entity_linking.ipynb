{
 "cells": [
  {
   "cell_type": "code",
   "execution_count": 1,
   "id": "f275ffba-0ef6-4403-a972-a16b77b57722",
   "metadata": {
    "execution": {
     "iopub.execute_input": "2022-06-14T14:50:43.143695Z",
     "iopub.status.busy": "2022-06-14T14:50:43.143206Z",
     "iopub.status.idle": "2022-06-14T14:50:43.159115Z",
     "shell.execute_reply": "2022-06-14T14:50:43.156168Z",
     "shell.execute_reply.started": "2022-06-14T14:50:43.143624Z"
    },
    "tags": []
   },
   "outputs": [],
   "source": [
    "from pathlib import Path\n",
    "from pprint import pprint\n",
    "import random"
   ]
  },
  {
   "cell_type": "code",
   "execution_count": 2,
   "id": "fee349ae-5b81-4af6-91b9-0c2a1a4569a1",
   "metadata": {
    "execution": {
     "iopub.execute_input": "2022-06-14T14:50:44.232448Z",
     "iopub.status.busy": "2022-06-14T14:50:44.232016Z",
     "iopub.status.idle": "2022-06-14T14:50:45.312517Z",
     "shell.execute_reply": "2022-06-14T14:50:45.311830Z",
     "shell.execute_reply.started": "2022-06-14T14:50:44.232396Z"
    },
    "tags": []
   },
   "outputs": [],
   "source": [
    "import spacy"
   ]
  },
  {
   "cell_type": "code",
   "execution_count": 5,
   "id": "f59d658e-646a-4dde-91b7-bab5aa1dd9f2",
   "metadata": {
    "execution": {
     "iopub.execute_input": "2022-06-14T14:50:54.635431Z",
     "iopub.status.busy": "2022-06-14T14:50:54.635201Z",
     "iopub.status.idle": "2022-06-14T14:50:55.882372Z",
     "shell.execute_reply": "2022-06-14T14:50:55.881544Z",
     "shell.execute_reply.started": "2022-06-14T14:50:54.635411Z"
    },
    "tags": []
   },
   "outputs": [],
   "source": [
    "from funcs.data_processing.stage1_processing import get_ebi_data"
   ]
  },
  {
   "cell_type": "code",
   "execution_count": 3,
   "id": "05ebbce5-a319-477d-94b5-b7b9adcf0da7",
   "metadata": {
    "execution": {
     "iopub.execute_input": "2022-06-14T14:50:45.903963Z",
     "iopub.status.busy": "2022-06-14T14:50:45.903515Z",
     "iopub.status.idle": "2022-06-14T14:50:54.615546Z",
     "shell.execute_reply": "2022-06-14T14:50:54.614856Z",
     "shell.execute_reply.started": "2022-06-14T14:50:45.903909Z"
    },
    "tags": []
   },
   "outputs": [],
   "source": [
    "nlp0 = spacy.load(\"en_core_web_lg\")"
   ]
  },
  {
   "cell_type": "code",
   "execution_count": 4,
   "id": "b0b1ee01-490c-426b-a98b-a3ee427c3540",
   "metadata": {
    "execution": {
     "iopub.execute_input": "2022-06-14T14:50:54.618078Z",
     "iopub.status.busy": "2022-06-14T14:50:54.617662Z",
     "iopub.status.idle": "2022-06-14T14:50:54.634417Z",
     "shell.execute_reply": "2022-06-14T14:50:54.633636Z",
     "shell.execute_reply.started": "2022-06-14T14:50:54.618026Z"
    },
    "tags": []
   },
   "outputs": [
    {
     "data": {
      "text/plain": [
       "['tok2vec', 'tagger', 'parser', 'attribute_ruler', 'lemmatizer', 'ner']"
      ]
     },
     "execution_count": 4,
     "metadata": {},
     "output_type": "execute_result"
    }
   ],
   "source": [
    "nlp0.pipe_names"
   ]
  },
  {
   "cell_type": "code",
   "execution_count": 6,
   "id": "f03b0264-99aa-4e10-8306-18d4a788e50b",
   "metadata": {
    "execution": {
     "iopub.execute_input": "2022-06-14T14:50:58.377225Z",
     "iopub.status.busy": "2022-06-14T14:50:58.376763Z",
     "iopub.status.idle": "2022-06-14T14:50:58.443425Z",
     "shell.execute_reply": "2022-06-14T14:50:58.442783Z",
     "shell.execute_reply.started": "2022-06-14T14:50:58.377170Z"
    },
    "tags": []
   },
   "outputs": [
    {
     "name": "stdout",
     "output_type": "stream",
     "text": [
      "<class 'pandas.core.frame.DataFrame'>\n",
      "RangeIndex: 1191 entries, 0 to 1190\n",
      "Data columns (total 7 columns):\n",
      " #   Column             Non-Null Count  Dtype \n",
      "---  ------             --------------  ----- \n",
      " 0   query              1191 non-null   object\n",
      " 1   MAPPED_TERM_LABEL  1191 non-null   object\n",
      " 2   MAPPED_TERM_URI    1191 non-null   object\n",
      " 3   MAPPING_TYPE       1191 non-null   object\n",
      " 4   id                 1191 non-null   object\n",
      " 5   full_id            1191 non-null   object\n",
      " 6   mapping_id         1191 non-null   int64 \n",
      "dtypes: int64(1), object(6)\n",
      "memory usage: 65.3+ KB\n",
      "None\n"
     ]
    },
    {
     "data": {
      "text/html": [
       "<div>\n",
       "<style scoped>\n",
       "    .dataframe tbody tr th:only-of-type {\n",
       "        vertical-align: middle;\n",
       "    }\n",
       "\n",
       "    .dataframe tbody tr th {\n",
       "        vertical-align: top;\n",
       "    }\n",
       "\n",
       "    .dataframe thead th {\n",
       "        text-align: right;\n",
       "    }\n",
       "</style>\n",
       "<table border=\"1\" class=\"dataframe\">\n",
       "  <thead>\n",
       "    <tr style=\"text-align: right;\">\n",
       "      <th></th>\n",
       "      <th>query</th>\n",
       "      <th>MAPPED_TERM_LABEL</th>\n",
       "      <th>MAPPED_TERM_URI</th>\n",
       "      <th>MAPPING_TYPE</th>\n",
       "      <th>id</th>\n",
       "      <th>full_id</th>\n",
       "      <th>mapping_id</th>\n",
       "    </tr>\n",
       "  </thead>\n",
       "  <tbody>\n",
       "    <tr>\n",
       "      <th>0</th>\n",
       "      <td>gonarthrosis</td>\n",
       "      <td>osteoarthritis || knee</td>\n",
       "      <td>EFO_0004616</td>\n",
       "      <td>Broad</td>\n",
       "      <td>EFO_0004616</td>\n",
       "      <td>http://www.ebi.ac.uk/efo/EFO_0004616</td>\n",
       "      <td>1</td>\n",
       "    </tr>\n",
       "    <tr>\n",
       "      <th>1</th>\n",
       "      <td>psoriatic and enteropathic arthropathies</td>\n",
       "      <td>psoriatic arthritis</td>\n",
       "      <td>EFO_0003778</td>\n",
       "      <td>? Broad</td>\n",
       "      <td>EFO_0003778</td>\n",
       "      <td>http://www.ebi.ac.uk/efo/EFO_0003778</td>\n",
       "      <td>2</td>\n",
       "    </tr>\n",
       "    <tr>\n",
       "      <th>2</th>\n",
       "      <td>pain associated with micturition</td>\n",
       "      <td>dysuria</td>\n",
       "      <td>EFO_0003901</td>\n",
       "      <td>? Broad</td>\n",
       "      <td>EFO_0003901</td>\n",
       "      <td>http://www.ebi.ac.uk/efo/EFO_0003901</td>\n",
       "      <td>3</td>\n",
       "    </tr>\n",
       "    <tr>\n",
       "      <th>3</th>\n",
       "      <td>other mood</td>\n",
       "      <td>mood disorder</td>\n",
       "      <td>EFO_0004247</td>\n",
       "      <td>? Broad</td>\n",
       "      <td>EFO_0004247</td>\n",
       "      <td>http://www.ebi.ac.uk/efo/EFO_0004247</td>\n",
       "      <td>4</td>\n",
       "    </tr>\n",
       "    <tr>\n",
       "      <th>4</th>\n",
       "      <td>preterm delivery</td>\n",
       "      <td>premature birth</td>\n",
       "      <td>EFO_0003917</td>\n",
       "      <td>? Exact</td>\n",
       "      <td>EFO_0003917</td>\n",
       "      <td>http://www.ebi.ac.uk/efo/EFO_0003917</td>\n",
       "      <td>5</td>\n",
       "    </tr>\n",
       "    <tr>\n",
       "      <th>...</th>\n",
       "      <td>...</td>\n",
       "      <td>...</td>\n",
       "      <td>...</td>\n",
       "      <td>...</td>\n",
       "      <td>...</td>\n",
       "      <td>...</td>\n",
       "      <td>...</td>\n",
       "    </tr>\n",
       "    <tr>\n",
       "      <th>1186</th>\n",
       "      <td>malignant neoplasm without specification of site</td>\n",
       "      <td>cancer</td>\n",
       "      <td>EFO_0000311</td>\n",
       "      <td>Broad</td>\n",
       "      <td>EFO_0000311</td>\n",
       "      <td>http://www.ebi.ac.uk/efo/EFO_0000311</td>\n",
       "      <td>1187</td>\n",
       "    </tr>\n",
       "    <tr>\n",
       "      <th>1187</th>\n",
       "      <td>other and unspecified types of non-hodgkin's l...</td>\n",
       "      <td>non-Hodgkins lymphoma</td>\n",
       "      <td>EFO_0005952</td>\n",
       "      <td>Exact</td>\n",
       "      <td>EFO_0005952</td>\n",
       "      <td>http://www.ebi.ac.uk/efo/EFO_0005952</td>\n",
       "      <td>1188</td>\n",
       "    </tr>\n",
       "    <tr>\n",
       "      <th>1188</th>\n",
       "      <td>candidiasis</td>\n",
       "      <td>Candidiasis, Invasive</td>\n",
       "      <td>EFO_1001283</td>\n",
       "      <td>Narrow</td>\n",
       "      <td>EFO_1001283</td>\n",
       "      <td>http://www.ebi.ac.uk/efo/EFO_1001283</td>\n",
       "      <td>1189</td>\n",
       "    </tr>\n",
       "    <tr>\n",
       "      <th>1189</th>\n",
       "      <td>other predominantly sexually transmitted disea...</td>\n",
       "      <td>bacterial sexually transmitted disease</td>\n",
       "      <td>EFO_0003955</td>\n",
       "      <td>Narrow</td>\n",
       "      <td>EFO_0003955</td>\n",
       "      <td>http://www.ebi.ac.uk/efo/EFO_0003955</td>\n",
       "      <td>1190</td>\n",
       "    </tr>\n",
       "    <tr>\n",
       "      <th>1190</th>\n",
       "      <td>other disorders of adrenal gland</td>\n",
       "      <td>adrenal gland disease</td>\n",
       "      <td>EFO_0005539</td>\n",
       "      <td>Exact</td>\n",
       "      <td>EFO_0005539</td>\n",
       "      <td>http://www.ebi.ac.uk/efo/EFO_0005539</td>\n",
       "      <td>1191</td>\n",
       "    </tr>\n",
       "  </tbody>\n",
       "</table>\n",
       "<p>1191 rows × 7 columns</p>\n",
       "</div>"
      ],
      "text/plain": [
       "                                                  query  \\\n",
       "0                                          gonarthrosis   \n",
       "1              psoriatic and enteropathic arthropathies   \n",
       "2                      pain associated with micturition   \n",
       "3                                            other mood   \n",
       "4                                      preterm delivery   \n",
       "...                                                 ...   \n",
       "1186   malignant neoplasm without specification of site   \n",
       "1187  other and unspecified types of non-hodgkin's l...   \n",
       "1188                                        candidiasis   \n",
       "1189  other predominantly sexually transmitted disea...   \n",
       "1190                   other disorders of adrenal gland   \n",
       "\n",
       "                           MAPPED_TERM_LABEL MAPPED_TERM_URI MAPPING_TYPE  \\\n",
       "0                     osteoarthritis || knee     EFO_0004616        Broad   \n",
       "1                        psoriatic arthritis     EFO_0003778      ? Broad   \n",
       "2                                    dysuria     EFO_0003901      ? Broad   \n",
       "3                              mood disorder     EFO_0004247      ? Broad   \n",
       "4                            premature birth     EFO_0003917      ? Exact   \n",
       "...                                      ...             ...          ...   \n",
       "1186                                  cancer     EFO_0000311        Broad   \n",
       "1187                   non-Hodgkins lymphoma     EFO_0005952        Exact   \n",
       "1188                   Candidiasis, Invasive     EFO_1001283       Narrow   \n",
       "1189  bacterial sexually transmitted disease     EFO_0003955       Narrow   \n",
       "1190                   adrenal gland disease     EFO_0005539        Exact   \n",
       "\n",
       "               id                               full_id  mapping_id  \n",
       "0     EFO_0004616  http://www.ebi.ac.uk/efo/EFO_0004616           1  \n",
       "1     EFO_0003778  http://www.ebi.ac.uk/efo/EFO_0003778           2  \n",
       "2     EFO_0003901  http://www.ebi.ac.uk/efo/EFO_0003901           3  \n",
       "3     EFO_0004247  http://www.ebi.ac.uk/efo/EFO_0004247           4  \n",
       "4     EFO_0003917  http://www.ebi.ac.uk/efo/EFO_0003917           5  \n",
       "...           ...                                   ...         ...  \n",
       "1186  EFO_0000311  http://www.ebi.ac.uk/efo/EFO_0000311        1187  \n",
       "1187  EFO_0005952  http://www.ebi.ac.uk/efo/EFO_0005952        1188  \n",
       "1188  EFO_1001283  http://www.ebi.ac.uk/efo/EFO_1001283        1189  \n",
       "1189  EFO_0003955  http://www.ebi.ac.uk/efo/EFO_0003955        1190  \n",
       "1190  EFO_0005539  http://www.ebi.ac.uk/efo/EFO_0005539        1191  \n",
       "\n",
       "[1191 rows x 7 columns]"
      ]
     },
     "execution_count": 6,
     "metadata": {},
     "output_type": "execute_result"
    }
   ],
   "source": [
    "ebi_data = get_ebi_data(verbose=False)\n",
    "print(ebi_data.info())\n",
    "ebi_data"
   ]
  },
  {
   "cell_type": "code",
   "execution_count": 7,
   "id": "4e876beb-9068-4530-ba71-4ac8b3e04483",
   "metadata": {
    "execution": {
     "iopub.execute_input": "2022-06-14T14:50:59.902681Z",
     "iopub.status.busy": "2022-06-14T14:50:59.902235Z",
     "iopub.status.idle": "2022-06-14T14:50:59.921361Z",
     "shell.execute_reply": "2022-06-14T14:50:59.920701Z",
     "shell.execute_reply.started": "2022-06-14T14:50:59.902628Z"
    },
    "tags": []
   },
   "outputs": [
    {
     "data": {
      "text/html": [
       "<div>\n",
       "<style scoped>\n",
       "    .dataframe tbody tr th:only-of-type {\n",
       "        vertical-align: middle;\n",
       "    }\n",
       "\n",
       "    .dataframe tbody tr th {\n",
       "        vertical-align: top;\n",
       "    }\n",
       "\n",
       "    .dataframe thead th {\n",
       "        text-align: right;\n",
       "    }\n",
       "</style>\n",
       "<table border=\"1\" class=\"dataframe\">\n",
       "  <thead>\n",
       "    <tr style=\"text-align: right;\">\n",
       "      <th></th>\n",
       "      <th>query</th>\n",
       "      <th>MAPPED_TERM_LABEL</th>\n",
       "      <th>MAPPED_TERM_URI</th>\n",
       "    </tr>\n",
       "  </thead>\n",
       "  <tbody>\n",
       "    <tr>\n",
       "      <th>0</th>\n",
       "      <td>alzheimer s disease</td>\n",
       "      <td>Alzheimer's disease</td>\n",
       "      <td>EFO_0000249</td>\n",
       "    </tr>\n",
       "    <tr>\n",
       "      <th>1</th>\n",
       "      <td>endocarditis valve unspecified</td>\n",
       "      <td>endocarditis</td>\n",
       "      <td>EFO_0000465</td>\n",
       "    </tr>\n",
       "    <tr>\n",
       "      <th>2</th>\n",
       "      <td>family history of other conditions</td>\n",
       "      <td>family history</td>\n",
       "      <td>EFO_0000493</td>\n",
       "    </tr>\n",
       "    <tr>\n",
       "      <th>3</th>\n",
       "      <td>unspecified maternal hypertension</td>\n",
       "      <td>preeclampsia</td>\n",
       "      <td>EFO_0000668</td>\n",
       "    </tr>\n",
       "    <tr>\n",
       "      <th>4</th>\n",
       "      <td>stroke not specified as haemorrhage or infarction</td>\n",
       "      <td>stroke</td>\n",
       "      <td>EFO_0000712</td>\n",
       "    </tr>\n",
       "    <tr>\n",
       "      <th>5</th>\n",
       "      <td>subarachnoid haemorrhage</td>\n",
       "      <td>subarachnoid hemorrhage</td>\n",
       "      <td>EFO_0000713</td>\n",
       "    </tr>\n",
       "    <tr>\n",
       "      <th>6</th>\n",
       "      <td>unspecified human immunodeficiency virus</td>\n",
       "      <td>HIV infection</td>\n",
       "      <td>EFO_0000764</td>\n",
       "    </tr>\n",
       "    <tr>\n",
       "      <th>7</th>\n",
       "      <td>other endocrine disorders</td>\n",
       "      <td>endocrine system disease</td>\n",
       "      <td>EFO_0001379</td>\n",
       "    </tr>\n",
       "    <tr>\n",
       "      <th>8</th>\n",
       "      <td>other diseases of liver</td>\n",
       "      <td>liver disease</td>\n",
       "      <td>EFO_0001421</td>\n",
       "    </tr>\n",
       "    <tr>\n",
       "      <th>9</th>\n",
       "      <td>primary disorders of muscles</td>\n",
       "      <td>muscular disease</td>\n",
       "      <td>EFO_0002970</td>\n",
       "    </tr>\n",
       "    <tr>\n",
       "      <th>10</th>\n",
       "      <td>pervasive developmental disorders</td>\n",
       "      <td>pervasive developmental disorder - not otherwi...</td>\n",
       "      <td>EFO_0003759</td>\n",
       "    </tr>\n",
       "    <tr>\n",
       "      <th>11</th>\n",
       "      <td>other cerebrovascular diseases</td>\n",
       "      <td>cerebrovascular disorder</td>\n",
       "      <td>EFO_0003763</td>\n",
       "    </tr>\n",
       "    <tr>\n",
       "      <th>12</th>\n",
       "      <td>other diseases of gallbladder</td>\n",
       "      <td>gallbladder disease</td>\n",
       "      <td>EFO_0003832</td>\n",
       "    </tr>\n",
       "    <tr>\n",
       "      <th>13</th>\n",
       "      <td>fracture of spine level unspecified</td>\n",
       "      <td>spinal fracture'</td>\n",
       "      <td>EFO_0003902</td>\n",
       "    </tr>\n",
       "    <tr>\n",
       "      <th>14</th>\n",
       "      <td>acute hepatitis b</td>\n",
       "      <td>hepatitis B infection</td>\n",
       "      <td>EFO_0004197</td>\n",
       "    </tr>\n",
       "    <tr>\n",
       "      <th>15</th>\n",
       "      <td>abnormalities of heart beat</td>\n",
       "      <td>cardiac arrythmia</td>\n",
       "      <td>EFO_0004269</td>\n",
       "    </tr>\n",
       "    <tr>\n",
       "      <th>16</th>\n",
       "      <td>other congenital malformations of heart</td>\n",
       "      <td>congenital heart malformation</td>\n",
       "      <td>EFO_0005269</td>\n",
       "    </tr>\n",
       "    <tr>\n",
       "      <th>17</th>\n",
       "      <td>disorders of tooth development and eruption</td>\n",
       "      <td>tooth agenesis</td>\n",
       "      <td>EFO_0005410</td>\n",
       "    </tr>\n",
       "    <tr>\n",
       "      <th>18</th>\n",
       "      <td>intracerebral haemorrhage</td>\n",
       "      <td>intracerebral hemorrhage</td>\n",
       "      <td>EFO_0005669</td>\n",
       "    </tr>\n",
       "    <tr>\n",
       "      <th>19</th>\n",
       "      <td>retinal detachments and breaks</td>\n",
       "      <td>retinal detachment</td>\n",
       "      <td>EFO_0005773</td>\n",
       "    </tr>\n",
       "  </tbody>\n",
       "</table>\n",
       "</div>"
      ],
      "text/plain": [
       "                                                query  \\\n",
       "0                                 alzheimer s disease   \n",
       "1                      endocarditis valve unspecified   \n",
       "2                  family history of other conditions   \n",
       "3                   unspecified maternal hypertension   \n",
       "4   stroke not specified as haemorrhage or infarction   \n",
       "5                            subarachnoid haemorrhage   \n",
       "6            unspecified human immunodeficiency virus   \n",
       "7                           other endocrine disorders   \n",
       "8                             other diseases of liver   \n",
       "9                        primary disorders of muscles   \n",
       "10                  pervasive developmental disorders   \n",
       "11                     other cerebrovascular diseases   \n",
       "12                      other diseases of gallbladder   \n",
       "13                fracture of spine level unspecified   \n",
       "14                                  acute hepatitis b   \n",
       "15                        abnormalities of heart beat   \n",
       "16            other congenital malformations of heart   \n",
       "17        disorders of tooth development and eruption   \n",
       "18                          intracerebral haemorrhage   \n",
       "19                     retinal detachments and breaks   \n",
       "\n",
       "                                    MAPPED_TERM_LABEL MAPPED_TERM_URI  \n",
       "0                                 Alzheimer's disease     EFO_0000249  \n",
       "1                                        endocarditis     EFO_0000465  \n",
       "2                                      family history     EFO_0000493  \n",
       "3                                        preeclampsia     EFO_0000668  \n",
       "4                                              stroke     EFO_0000712  \n",
       "5                             subarachnoid hemorrhage     EFO_0000713  \n",
       "6                                       HIV infection     EFO_0000764  \n",
       "7                            endocrine system disease     EFO_0001379  \n",
       "8                                       liver disease     EFO_0001421  \n",
       "9                                    muscular disease     EFO_0002970  \n",
       "10  pervasive developmental disorder - not otherwi...     EFO_0003759  \n",
       "11                           cerebrovascular disorder     EFO_0003763  \n",
       "12                                gallbladder disease     EFO_0003832  \n",
       "13                                   spinal fracture'     EFO_0003902  \n",
       "14                              hepatitis B infection     EFO_0004197  \n",
       "15                                  cardiac arrythmia     EFO_0004269  \n",
       "16                      congenital heart malformation     EFO_0005269  \n",
       "17                                     tooth agenesis     EFO_0005410  \n",
       "18                           intracerebral hemorrhage     EFO_0005669  \n",
       "19                                 retinal detachment     EFO_0005773  "
      ]
     },
     "execution_count": 7,
     "metadata": {},
     "output_type": "execute_result"
    }
   ],
   "source": [
    "ebi_sample = ebi_data[ebi_data[\"MAPPING_TYPE\"] == \"Exact\"][[\"query\", \"MAPPED_TERM_LABEL\", \"MAPPED_TERM_URI\"]].head(20).drop_duplicates().reset_index(drop=True)\n",
    "ebi_sample"
   ]
  },
  {
   "cell_type": "code",
   "execution_count": 8,
   "id": "4c5b1dfc-bd7c-4595-9628-1289d645b21a",
   "metadata": {
    "execution": {
     "iopub.execute_input": "2022-06-14T14:51:04.657559Z",
     "iopub.status.busy": "2022-06-14T14:51:04.657000Z",
     "iopub.status.idle": "2022-06-14T14:51:04.663985Z",
     "shell.execute_reply": "2022-06-14T14:51:04.662795Z",
     "shell.execute_reply.started": "2022-06-14T14:51:04.657504Z"
    },
    "tags": []
   },
   "outputs": [],
   "source": [
    "from spacy.kb import KnowledgeBase\n",
    "kb = KnowledgeBase(vocab=nlp0.vocab, entity_vector_length=300)"
   ]
  },
  {
   "cell_type": "code",
   "execution_count": 9,
   "id": "2a6bda99-36c4-49ee-a785-a30471895135",
   "metadata": {
    "execution": {
     "iopub.execute_input": "2022-06-14T14:51:06.288915Z",
     "iopub.status.busy": "2022-06-14T14:51:06.288507Z",
     "iopub.status.idle": "2022-06-14T14:51:06.482529Z",
     "shell.execute_reply": "2022-06-14T14:51:06.481812Z",
     "shell.execute_reply.started": "2022-06-14T14:51:06.288881Z"
    },
    "tags": []
   },
   "outputs": [],
   "source": [
    "for item in ebi_sample.to_dict(orient=\"records\"):\n",
    "    doc = nlp0(item[\"MAPPED_TERM_LABEL\"])\n",
    "    vec = doc.vector\n",
    "    kb.add_entity(entity=item[\"MAPPED_TERM_URI\"], entity_vector=vec, freq=1)"
   ]
  },
  {
   "cell_type": "code",
   "execution_count": 10,
   "id": "09a78630-5572-4d08-992e-a0c15c4f6f82",
   "metadata": {
    "execution": {
     "iopub.execute_input": "2022-06-14T14:51:07.707239Z",
     "iopub.status.busy": "2022-06-14T14:51:07.706643Z",
     "iopub.status.idle": "2022-06-14T14:51:07.713965Z",
     "shell.execute_reply": "2022-06-14T14:51:07.712785Z",
     "shell.execute_reply.started": "2022-06-14T14:51:07.707186Z"
    },
    "tags": []
   },
   "outputs": [
    {
     "name": "stdout",
     "output_type": "stream",
     "text": [
      "Entities in the KB: ['EFO_0005773', 'EFO_0005410', 'EFO_0005669', 'EFO_0002970', 'EFO_0000465', 'EFO_0001421', 'EFO_0003832', 'EFO_0000493', 'EFO_0000712', 'EFO_0003759', 'EFO_0003763', 'EFO_0000764', 'EFO_0004269', 'EFO_0005269', 'EFO_0001379', 'EFO_0000249', 'EFO_0000713', 'EFO_0004197', 'EFO_0003902', 'EFO_0000668']\n",
      "Aliases in the KB: []\n"
     ]
    }
   ],
   "source": [
    "print(f\"Entities in the KB: {kb.get_entity_strings()}\")\n",
    "print(f\"Aliases in the KB: {kb.get_alias_strings()}\")"
   ]
  },
  {
   "cell_type": "code",
   "execution_count": 11,
   "id": "f3ab8ff8-f4f1-4214-b75a-ade3d3c67964",
   "metadata": {
    "execution": {
     "iopub.execute_input": "2022-06-14T14:51:12.689814Z",
     "iopub.status.busy": "2022-06-14T14:51:12.689207Z",
     "iopub.status.idle": "2022-06-14T14:51:12.952368Z",
     "shell.execute_reply": "2022-06-14T14:51:12.951315Z",
     "shell.execute_reply.started": "2022-06-14T14:51:12.689759Z"
    },
    "tags": []
   },
   "outputs": [],
   "source": [
    "output_dir = Path(\".\") / \"output\"\n",
    "output_dir.mkdir(exist_ok=True)\n",
    "\n",
    "kb.to_disk(output_dir / \"entity_linking_kb\")"
   ]
  },
  {
   "cell_type": "markdown",
   "id": "d8e8eaf7-a801-4ff8-aad8-c1dec5d171cc",
   "metadata": {},
   "source": [
    "---"
   ]
  },
  {
   "cell_type": "code",
   "execution_count": 12,
   "id": "edd12626-781a-4e4c-bd1e-52d3319d089c",
   "metadata": {
    "execution": {
     "iopub.execute_input": "2022-06-14T14:51:16.491341Z",
     "iopub.status.busy": "2022-06-14T14:51:16.490860Z",
     "iopub.status.idle": "2022-06-14T14:51:16.498502Z",
     "shell.execute_reply": "2022-06-14T14:51:16.497427Z",
     "shell.execute_reply.started": "2022-06-14T14:51:16.491284Z"
    },
    "tags": []
   },
   "outputs": [],
   "source": [
    "from spacy.training import Example\n",
    "from spacy.ml.models import load_kb\n",
    "from spacy.util import minibatch, compounding"
   ]
  },
  {
   "cell_type": "code",
   "execution_count": 13,
   "id": "ffd8b424-72a4-44b5-b15b-4b241d14f64f",
   "metadata": {
    "execution": {
     "iopub.execute_input": "2022-06-14T14:51:18.054105Z",
     "iopub.status.busy": "2022-06-14T14:51:18.053509Z",
     "iopub.status.idle": "2022-06-14T14:51:18.069326Z",
     "shell.execute_reply": "2022-06-14T14:51:18.068250Z",
     "shell.execute_reply.started": "2022-06-14T14:51:18.054050Z"
    },
    "tags": []
   },
   "outputs": [],
   "source": [
    "if \"sentencizer\" not in nlp0.pipe_names:\n",
    "    nlp0.add_pipe(\"sentencizer\")\n",
    "sentencizer = nlp0.get_pipe(\"sentencizer\")"
   ]
  },
  {
   "cell_type": "code",
   "execution_count": 15,
   "id": "7f41e8c7-4e68-4528-afae-24e1c22e2944",
   "metadata": {
    "execution": {
     "iopub.execute_input": "2022-06-14T14:52:15.360566Z",
     "iopub.status.busy": "2022-06-14T14:52:15.360231Z",
     "iopub.status.idle": "2022-06-14T14:52:15.367291Z",
     "shell.execute_reply": "2022-06-14T14:52:15.366635Z",
     "shell.execute_reply.started": "2022-06-14T14:52:15.360541Z"
    },
    "tags": []
   },
   "outputs": [
    {
     "name": "stdout",
     "output_type": "stream",
     "text": [
      "[(\"Alzheimer's disease\",\n",
      "  {'entities': [(0, 19, 'EFO')], 'links': {(0, 19): {'EFO_0000249': 1.0}}}),\n",
      " ('endocarditis',\n",
      "  {'entities': [(0, 12, 'EFO')], 'links': {(0, 12): {'EFO_0000465': 1.0}}}),\n",
      " ('family history',\n",
      "  {'entities': [(0, 14, 'EFO')], 'links': {(0, 14): {'EFO_0000493': 1.0}}})]\n"
     ]
    }
   ],
   "source": [
    "train_dataset = []\n",
    "for item in ebi_sample.to_dict(orient=\"records\"):\n",
    "    text = item[\"MAPPED_TERM_LABEL\"]\n",
    "    pos_start = 0\n",
    "    pos_end = len(text)\n",
    "    QID = item[\"MAPPED_TERM_URI\"]\n",
    "    links_dict = {QID: 1.0}\n",
    "    annot_links = {\n",
    "            (pos_start, pos_end): links_dict\n",
    "    }\n",
    "    entity_label = \"EFO\"\n",
    "    annot_entities = [\n",
    "        (\n",
    "            pos_start,\n",
    "            pos_end,\n",
    "            entity_label\n",
    "        )\n",
    "    ]\n",
    "    annotation = {\n",
    "        \"links\": annot_links,\n",
    "        \"entities\": annot_entities,\n",
    "    }\n",
    "    train_item = (\n",
    "        text,\n",
    "        annotation\n",
    "    )\n",
    "    train_dataset.append(train_item)\n",
    "pprint(train_dataset[:3])"
   ]
  },
  {
   "cell_type": "code",
   "execution_count": 16,
   "id": "28dea3ac-ebb8-487a-8087-14ee9e3dc68c",
   "metadata": {
    "execution": {
     "iopub.execute_input": "2022-06-14T14:52:21.137364Z",
     "iopub.status.busy": "2022-06-14T14:52:21.136760Z",
     "iopub.status.idle": "2022-06-14T14:52:21.151040Z",
     "shell.execute_reply": "2022-06-14T14:52:21.149877Z",
     "shell.execute_reply.started": "2022-06-14T14:52:21.137309Z"
    },
    "tags": []
   },
   "outputs": [],
   "source": [
    "train_examples = []\n",
    "for text, annotation in train_dataset:\n",
    "    example = Example.from_dict(\n",
    "        predicted=nlp0.make_doc(text), example_dict=annotation\n",
    "    )\n",
    "    example.reference = sentencizer(example.reference)\n",
    "    train_examples.append(example)"
   ]
  },
  {
   "cell_type": "code",
   "execution_count": 17,
   "id": "7e0ff0ef-b994-44cb-8675-80d539f62099",
   "metadata": {
    "execution": {
     "iopub.execute_input": "2022-06-14T14:52:23.251749Z",
     "iopub.status.busy": "2022-06-14T14:52:23.251299Z",
     "iopub.status.idle": "2022-06-14T14:52:23.259512Z",
     "shell.execute_reply": "2022-06-14T14:52:23.258625Z",
     "shell.execute_reply.started": "2022-06-14T14:52:23.251697Z"
    },
    "tags": []
   },
   "outputs": [
    {
     "name": "stdout",
     "output_type": "stream",
     "text": [
      "# 0\n",
      "{'doc_annotation': {'cats': {}, 'entities': ['B-EFO', 'I-EFO', 'L-EFO'], 'links': {(0, 19): {'EFO_0000249': 1.0}}}, 'token_annotation': {'ORTH': ['Alzheimer', \"'s\", 'disease'], 'SPACY': [False, True, False], 'TAG': ['', '', ''], 'LEMMA': ['', '', ''], 'POS': ['', '', ''], 'MORPH': ['', '', ''], 'HEAD': [0, 1, 2], 'DEP': ['', '', ''], 'SENT_START': [1, 0, 0]}}\n",
      "\n",
      "\n",
      "# 1\n",
      "{'doc_annotation': {'cats': {}, 'entities': ['U-EFO'], 'links': {(0, 12): {'EFO_0000465': 1.0}}}, 'token_annotation': {'ORTH': ['endocarditis'], 'SPACY': [False], 'TAG': [''], 'LEMMA': [''], 'POS': [''], 'MORPH': [''], 'HEAD': [0], 'DEP': [''], 'SENT_START': [1]}}\n",
      "\n",
      "\n",
      "# 2\n",
      "{'doc_annotation': {'cats': {}, 'entities': ['B-EFO', 'L-EFO'], 'links': {(0, 14): {'EFO_0000493': 1.0}}}, 'token_annotation': {'ORTH': ['family', 'history'], 'SPACY': [True, False], 'TAG': ['', ''], 'LEMMA': ['', ''], 'POS': ['', ''], 'MORPH': ['', ''], 'HEAD': [0, 1], 'DEP': ['', ''], 'SENT_START': [1, 0]}}\n",
      "\n",
      "\n"
     ]
    }
   ],
   "source": [
    "for idx, _ in enumerate(train_examples[:3]):\n",
    "    print(f\"# {idx}\")\n",
    "    pprint(_)\n",
    "    print(\"\\n\")"
   ]
  },
  {
   "cell_type": "code",
   "execution_count": 18,
   "id": "da6f6d99-e647-41da-86e8-7a68b31d7a88",
   "metadata": {
    "execution": {
     "iopub.execute_input": "2022-06-14T14:52:33.445292Z",
     "iopub.status.busy": "2022-06-14T14:52:33.444847Z",
     "iopub.status.idle": "2022-06-14T14:52:43.095771Z",
     "shell.execute_reply": "2022-06-14T14:52:43.095188Z",
     "shell.execute_reply.started": "2022-06-14T14:52:33.445239Z"
    },
    "tags": []
   },
   "outputs": [],
   "source": [
    "nlp1 = spacy.load(\"en_core_web_lg\")\n",
    "entity_linker = nlp1.add_pipe(\"entity_linker\")\n",
    "entity_linker.initialize(get_examples=lambda: train_examples, kb_loader=load_kb(output_dir / \"entity_linking_kb\"))"
   ]
  },
  {
   "cell_type": "code",
   "execution_count": 19,
   "id": "e1c270a5-f220-4779-87e0-c368f18d6486",
   "metadata": {
    "execution": {
     "iopub.execute_input": "2022-06-14T14:52:48.990781Z",
     "iopub.status.busy": "2022-06-14T14:52:48.990334Z",
     "iopub.status.idle": "2022-06-14T14:53:28.206547Z",
     "shell.execute_reply": "2022-06-14T14:53:28.205744Z",
     "shell.execute_reply.started": "2022-06-14T14:52:48.990728Z"
    },
    "tags": []
   },
   "outputs": [
    {
     "name": "stdout",
     "output_type": "stream",
     "text": [
      "0 Losses {'entity_linker': 4.719572007656097}\n",
      "50 Losses {'entity_linker': 0.3278051167726517}\n",
      "100 Losses {'entity_linker': 0.15532350540161133}\n",
      "150 Losses {'entity_linker': 0.11835452914237976}\n",
      "200 Losses {'entity_linker': 0.09052351117134094}\n",
      "250 Losses {'entity_linker': 0.08002115786075592}\n",
      "300 Losses {'entity_linker': 0.06930506229400635}\n",
      "350 Losses {'entity_linker': 0.04908454418182373}\n",
      "400 Losses {'entity_linker': 0.058157458901405334}\n",
      "450 Losses {'entity_linker': 0.053361281752586365}\n",
      "499 Losses {'entity_linker': 0.047501951456069946}\n"
     ]
    }
   ],
   "source": [
    "with nlp1.select_pipes(enable=[\"entity_linker\"]):   # train only the entity_linker\n",
    "    optimizer = nlp1.resume_training()\n",
    "    for itn in range(500):   # 500 iterations takes about a minute to train\n",
    "        random.shuffle(train_examples)\n",
    "        batches = minibatch(train_examples, size=compounding(4.0, 32.0, 1.001))  # increasing batch sizes\n",
    "        losses = {}\n",
    "        for batch in batches:\n",
    "            nlp1.update(\n",
    "                batch,   \n",
    "                drop=0.2,      # prevent overfitting\n",
    "                losses=losses,\n",
    "                sgd=optimizer,\n",
    "            )\n",
    "        if itn % 50 == 0:\n",
    "            print(itn, \"Losses\", losses)   # print the training loss\n",
    "print(itn, \"Losses\", losses)"
   ]
  },
  {
   "cell_type": "markdown",
   "id": "f609e3e0-381b-40ab-8708-bcb9d82a9229",
   "metadata": {},
   "source": [
    "---"
   ]
  },
  {
   "cell_type": "code",
   "execution_count": 20,
   "id": "e89ae494-34b8-4bf6-9a1f-5840cd7aacff",
   "metadata": {
    "execution": {
     "iopub.execute_input": "2022-06-14T14:54:47.207629Z",
     "iopub.status.busy": "2022-06-14T14:54:47.207005Z",
     "iopub.status.idle": "2022-06-14T14:54:47.360868Z",
     "shell.execute_reply": "2022-06-14T14:54:47.360344Z",
     "shell.execute_reply.started": "2022-06-14T14:54:47.207569Z"
    },
    "tags": []
   },
   "outputs": [
    {
     "name": "stdout",
     "output_type": "stream",
     "text": [
      "# idx\n",
      "# idx\n",
      "# idx\n",
      "# idx\n",
      "# idx\n",
      "# idx\n",
      "# idx\n",
      "# idx\n",
      "# idx\n",
      "# idx\n",
      "# idx\n",
      "# idx\n",
      "# idx\n",
      "# idx\n",
      "# idx\n",
      "# idx\n",
      "# idx\n",
      "# idx\n",
      "# idx\n",
      "# idx\n"
     ]
    }
   ],
   "source": [
    "for idx, term in enumerate(ebi_sample[\"MAPPED_TERM_LABEL\"].tolist()):\n",
    "    print(\"# idx\")\n",
    "    doc = nlp1(term)\n",
    "    for ent in doc.ents:\n",
    "        print(ent.text, ent.label_, ent.kb_id_)"
   ]
  },
  {
   "cell_type": "code",
   "execution_count": 19,
   "id": "2c7e16e2-dca0-4b5a-b421-6557f84de7c1",
   "metadata": {
    "execution": {
     "iopub.execute_input": "2022-06-13T12:33:34.931886Z",
     "iopub.status.busy": "2022-06-13T12:33:34.931454Z",
     "iopub.status.idle": "2022-06-13T12:33:34.949527Z",
     "shell.execute_reply": "2022-06-13T12:33:34.948896Z",
     "shell.execute_reply.started": "2022-06-13T12:33:34.931851Z"
    },
    "tags": []
   },
   "outputs": [
    {
     "data": {
      "text/plain": [
       "[]"
      ]
     },
     "execution_count": 19,
     "metadata": {},
     "output_type": "execute_result"
    }
   ],
   "source": [
    "entity_linker.predict([nlp1(\"endocarditis\")])"
   ]
  }
 ],
 "metadata": {
  "kernelspec": {
   "display_name": "Python 3 (ipykernel)",
   "language": "python",
   "name": "python3"
  },
  "language_info": {
   "codemirror_mode": {
    "name": "ipython",
    "version": 3
   },
   "file_extension": ".py",
   "mimetype": "text/x-python",
   "name": "python",
   "nbconvert_exporter": "python",
   "pygments_lexer": "ipython3",
   "version": "3.8.13"
  }
 },
 "nbformat": 4,
 "nbformat_minor": 5
}
