{
 "cells": [
  {
   "cell_type": "code",
   "execution_count": 1,
   "id": "5e54948e-98df-4573-a596-3a17fdc86bab",
   "metadata": {
    "execution": {
     "iopub.execute_input": "2022-05-31T12:31:35.080756Z",
     "iopub.status.busy": "2022-05-31T12:31:35.080206Z",
     "iopub.status.idle": "2022-05-31T12:31:35.358677Z",
     "shell.execute_reply": "2022-05-31T12:31:35.358001Z",
     "shell.execute_reply.started": "2022-05-31T12:31:35.080613Z"
    },
    "tags": []
   },
   "outputs": [],
   "source": [
    "from metaflow import Metaflow, Flow"
   ]
  },
  {
   "cell_type": "code",
   "execution_count": 2,
   "id": "82141e0a-c57e-4b8e-bfa0-b5e39a06204b",
   "metadata": {
    "execution": {
     "iopub.execute_input": "2022-05-31T12:31:35.846612Z",
     "iopub.status.busy": "2022-05-31T12:31:35.846013Z",
     "iopub.status.idle": "2022-05-31T12:31:35.974375Z",
     "shell.execute_reply": "2022-05-31T12:31:35.973809Z",
     "shell.execute_reply.started": "2022-05-31T12:31:35.846559Z"
    },
    "tags": []
   },
   "outputs": [
    {
     "data": {
      "text/plain": [
       "[Flow('PubtatorNerFlow'),\n",
       " Flow('S3DemoFlow'),\n",
       " Flow('BiosentvecFlow'),\n",
       " Flow('BioconceptvecFlow')]"
      ]
     },
     "execution_count": 2,
     "metadata": {},
     "output_type": "execute_result"
    }
   ],
   "source": [
    "mf = Metaflow()\n",
    "mf.flows"
   ]
  },
  {
   "cell_type": "code",
   "execution_count": 24,
   "id": "e6bff44e-b4ca-4e6e-a153-37c5486b2d20",
   "metadata": {
    "execution": {
     "iopub.execute_input": "2022-05-31T13:44:23.571338Z",
     "iopub.status.busy": "2022-05-31T13:44:23.570921Z",
     "iopub.status.idle": "2022-05-31T13:44:23.580924Z",
     "shell.execute_reply": "2022-05-31T13:44:23.580124Z",
     "shell.execute_reply.started": "2022-05-31T13:44:23.571301Z"
    },
    "tags": []
   },
   "outputs": [
    {
     "name": "stdout",
     "output_type": "stream",
     "text": [
      "Run('BioconceptvecFlow/1654001290784719')\n",
      "Run('BioconceptvecFlow/1654000693619793')\n",
      "Run('BioconceptvecFlow/1654000487866247')\n",
      "Run('BioconceptvecFlow/1654000032546168')\n",
      "Run('BioconceptvecFlow/1653999849729928')\n",
      "Run('BioconceptvecFlow/1653999540252943')\n",
      "Run('BioconceptvecFlow/1653939173768092')\n",
      "Run('BioconceptvecFlow/1653938994814781')\n",
      "Run('BioconceptvecFlow/1653931308615986')\n",
      "Run('BioconceptvecFlow/1653931269994640')\n",
      "Run('BioconceptvecFlow/1653931229706502')\n",
      "Run('BioconceptvecFlow/1653930771180094')\n",
      "Run('BioconceptvecFlow/1653930623696643')\n",
      "Run('BioconceptvecFlow/1653929865180821')\n",
      "Run('BioconceptvecFlow/1653929830862338')\n",
      "Run('BioconceptvecFlow/1653928846157298')\n",
      "Run('BioconceptvecFlow/1653927501995615')\n",
      "Run('BioconceptvecFlow/1653927292553453')\n",
      "Run('BioconceptvecFlow/1653920996219970')\n"
     ]
    }
   ],
   "source": [
    "flow = Flow(\"BioconceptvecFlow\")\n",
    "for run in flow:\n",
    "    print(run)\n",
    "# run = flow.latest_run"
   ]
  },
  {
   "cell_type": "code",
   "execution_count": 32,
   "id": "d8115d51-436f-491e-9bc3-476a1932535b",
   "metadata": {
    "execution": {
     "iopub.execute_input": "2022-05-31T13:45:43.748654Z",
     "iopub.status.busy": "2022-05-31T13:45:43.748250Z",
     "iopub.status.idle": "2022-05-31T13:45:43.754459Z",
     "shell.execute_reply": "2022-05-31T13:45:43.753855Z",
     "shell.execute_reply.started": "2022-05-31T13:45:43.748623Z"
    },
    "tags": []
   },
   "outputs": [],
   "source": [
    "runs = [_ for _ in flow]\n",
    "run = runs[-1]"
   ]
  },
  {
   "cell_type": "code",
   "execution_count": 33,
   "id": "4e7e9af3-d5c7-4faa-aebb-e6b5e7627abd",
   "metadata": {
    "execution": {
     "iopub.execute_input": "2022-05-31T13:45:44.843234Z",
     "iopub.status.busy": "2022-05-31T13:45:44.842793Z",
     "iopub.status.idle": "2022-05-31T13:45:44.852660Z",
     "shell.execute_reply": "2022-05-31T13:45:44.851643Z",
     "shell.execute_reply.started": "2022-05-31T13:45:44.843183Z"
    },
    "tags": []
   },
   "outputs": [
    {
     "name": "stdout",
     "output_type": "stream",
     "text": [
      "<MetaflowData: ebi_df, efo_nx, efo_node_df, name>\n"
     ]
    }
   ],
   "source": [
    "print(run.data)"
   ]
  },
  {
   "cell_type": "code",
   "execution_count": 35,
   "id": "c75aaa6c-4ea9-4940-8a99-fe9bf5e90be2",
   "metadata": {
    "execution": {
     "iopub.execute_input": "2022-05-31T13:48:07.534983Z",
     "iopub.status.busy": "2022-05-31T13:48:07.534541Z",
     "iopub.status.idle": "2022-05-31T13:48:07.588491Z",
     "shell.execute_reply": "2022-05-31T13:48:07.588052Z",
     "shell.execute_reply.started": "2022-05-31T13:48:07.534933Z"
    },
    "tags": []
   },
   "outputs": [],
   "source": [
    "import json\n",
    "from typing import List\n",
    "\n",
    "import numpy as np\n",
    "import pandas as pd\n",
    "import sent2vec\n",
    "from gensim.models import KeyedVectors\n",
    "from icecream import ic\n",
    "from metaflow import FlowSpec, step\n",
    "from scipy.spatial import distance\n",
    "from pydash import py_\n",
    "from loguru import logger\n",
    "\n",
    "from funcs import paths, utils\n",
    "from funcs.data_processing import pairwise_routine, stage1_processing\n",
    "from funcs.nlp import nlp\n",
    "\n",
    "\n",
    "proj_root = utils.find_project_root()\n",
    "data_root = utils.find_data_root()\n",
    "\n",
    "\n",
    "\n",
    "ECHO_STEP = 200\n",
    "MODEL_NAME = \"biosentvec-bioconceptvec-skipgram\"\n",
    "OUTPUT_PATH = paths.stage2[\"output\"]\n",
    "PUBTATOR_DIR = data_root / \"output\" / \"pubtator\"\n",
    "assert PUBTATOR_DIR.exists()\n",
    "\n",
    "BIOSENTVEC_MODEL_PATH = paths.init[\"biosentvec_model\"]\n",
    "assert BIOSENTVEC_MODEL_PATH.exists()\n",
    "\n",
    "BIOCONCEPTVEC_MODEL_PATH = (\n",
    "    proj_root / \"models\" / \"bioconceptvec\" / \"bioconceptvec_word2vec_skipgram.bin\"\n",
    ")\n",
    "assert BIOCONCEPTVEC_MODEL_PATH.exists()"
   ]
  },
  {
   "cell_type": "code",
   "execution_count": 36,
   "id": "de6ecea0-9009-4e22-b333-a9a64d1d95a9",
   "metadata": {
    "execution": {
     "iopub.execute_input": "2022-05-31T13:48:45.050753Z",
     "iopub.status.busy": "2022-05-31T13:48:45.050312Z",
     "iopub.status.idle": "2022-05-31T13:49:02.960626Z",
     "shell.execute_reply": "2022-05-31T13:49:02.959792Z",
     "shell.execute_reply.started": "2022-05-31T13:48:45.050703Z"
    }
   },
   "outputs": [],
   "source": [
    "biosentvec_model = sent2vec.Sent2vecModel()\n",
    "biosentvec_model.load_model(str(BIOSENTVEC_MODEL_PATH))"
   ]
  },
  {
   "cell_type": "code",
   "execution_count": 37,
   "id": "d541e72e-1755-407a-a371-5c0053009086",
   "metadata": {
    "execution": {
     "iopub.execute_input": "2022-05-31T13:49:21.629788Z",
     "iopub.status.busy": "2022-05-31T13:49:21.629284Z",
     "iopub.status.idle": "2022-05-31T13:50:02.461388Z",
     "shell.execute_reply": "2022-05-31T13:50:02.460746Z",
     "shell.execute_reply.started": "2022-05-31T13:49:21.629731Z"
    },
    "tags": []
   },
   "outputs": [],
   "source": [
    "bioconceptvec_embeddings = KeyedVectors.load_word2vec_format(str(BIOCONCEPTVEC_MODEL_PATH), binary=True)"
   ]
  },
  {
   "cell_type": "code",
   "execution_count": 38,
   "id": "03f26afb-08c4-4010-91e8-a4c267e849a9",
   "metadata": {
    "execution": {
     "iopub.execute_input": "2022-05-31T13:59:13.039653Z",
     "iopub.status.busy": "2022-05-31T13:59:13.039216Z",
     "iopub.status.idle": "2022-05-31T13:59:13.054457Z",
     "shell.execute_reply": "2022-05-31T13:59:13.053433Z",
     "shell.execute_reply.started": "2022-05-31T13:59:13.039604Z"
    },
    "tags": []
   },
   "outputs": [],
   "source": [
    "ebi_df = run.data.ebi_df"
   ]
  },
  {
   "cell_type": "code",
   "execution_count": 39,
   "id": "8c2dad27-0aa6-42eb-ab93-201f35defcce",
   "metadata": {
    "execution": {
     "iopub.execute_input": "2022-05-31T13:59:35.990935Z",
     "iopub.status.busy": "2022-05-31T13:59:35.990500Z",
     "iopub.status.idle": "2022-05-31T13:59:36.720255Z",
     "shell.execute_reply": "2022-05-31T13:59:36.719575Z",
     "shell.execute_reply.started": "2022-05-31T13:59:35.990885Z"
    },
    "tags": []
   },
   "outputs": [
    {
     "name": "stderr",
     "output_type": "stream",
     "text": [
      "2022-05-31 14:59:35.994 | INFO     | funcs.nlp.nlp:_embed:67 - #0 / 1191\n",
      "2022-05-31 14:59:36.212 | INFO     | funcs.nlp.nlp:_embed:67 - #200 / 1191\n",
      "2022-05-31 14:59:36.433 | INFO     | funcs.nlp.nlp:_embed:67 - #400 / 1191\n",
      "2022-05-31 14:59:36.504 | INFO     | funcs.nlp.nlp:_embed:67 - #600 / 1191\n",
      "2022-05-31 14:59:36.576 | INFO     | funcs.nlp.nlp:_embed:67 - #800 / 1191\n",
      "2022-05-31 14:59:36.649 | INFO     | funcs.nlp.nlp:_embed:67 - #1000 / 1191\n"
     ]
    }
   ],
   "source": [
    "ebi_encode_base = nlp.biosentvec_encode_terms(\n",
    "    text_list=ebi_df[\"query\"].tolist(), biosentvec_model=biosentvec_model\n",
    ")"
   ]
  },
  {
   "cell_type": "code",
   "execution_count": 42,
   "id": "4c56794e-9817-4496-b279-b753d05d436b",
   "metadata": {
    "execution": {
     "iopub.execute_input": "2022-05-31T14:01:26.008750Z",
     "iopub.status.busy": "2022-05-31T14:01:26.008239Z",
     "iopub.status.idle": "2022-05-31T14:01:26.022506Z",
     "shell.execute_reply": "2022-05-31T14:01:26.021557Z",
     "shell.execute_reply.started": "2022-05-31T14:01:26.008706Z"
    },
    "tags": []
   },
   "outputs": [
    {
     "data": {
      "text/plain": [
       "(1191, 700)"
      ]
     },
     "execution_count": 42,
     "metadata": {},
     "output_type": "execute_result"
    }
   ],
   "source": [
    "foo = np.array(ebi_encode_base)\n",
    "foo.shape"
   ]
  },
  {
   "cell_type": "code",
   "execution_count": 44,
   "id": "d36dd320-3f73-4f98-a877-dc610a99db51",
   "metadata": {
    "execution": {
     "iopub.execute_input": "2022-05-31T14:20:36.345947Z",
     "iopub.status.busy": "2022-05-31T14:20:36.345411Z",
     "iopub.status.idle": "2022-05-31T14:20:36.354144Z",
     "shell.execute_reply": "2022-05-31T14:20:36.353204Z",
     "shell.execute_reply.started": "2022-05-31T14:20:36.345891Z"
    },
    "tags": []
   },
   "outputs": [
    {
     "data": {
      "text/plain": [
       "(700,)"
      ]
     },
     "execution_count": 44,
     "metadata": {},
     "output_type": "execute_result"
    }
   ],
   "source": [
    "foo[1, ].shape"
   ]
  },
  {
   "cell_type": "code",
   "execution_count": 45,
   "id": "eb6cabd4-a886-48e2-b72e-8c94b1a05917",
   "metadata": {
    "execution": {
     "iopub.execute_input": "2022-05-31T14:30:34.533261Z",
     "iopub.status.busy": "2022-05-31T14:30:34.532765Z",
     "iopub.status.idle": "2022-05-31T14:30:34.550517Z",
     "shell.execute_reply": "2022-05-31T14:30:34.549352Z",
     "shell.execute_reply.started": "2022-05-31T14:30:34.533209Z"
    },
    "tags": []
   },
   "outputs": [
    {
     "name": "stdout",
     "output_type": "stream",
     "text": [
      "0\n",
      "1\n",
      "2\n"
     ]
    }
   ],
   "source": [
    "for idx in range(3):\n",
    "    print(idx)"
   ]
  }
 ],
 "metadata": {
  "kernelspec": {
   "display_name": "Python 3 (ipykernel)",
   "language": "python",
   "name": "python3"
  },
  "language_info": {
   "codemirror_mode": {
    "name": "ipython",
    "version": 3
   },
   "file_extension": ".py",
   "mimetype": "text/x-python",
   "name": "python",
   "nbconvert_exporter": "python",
   "pygments_lexer": "ipython3",
   "version": "3.8.13"
  }
 },
 "nbformat": 4,
 "nbformat_minor": 5
}
