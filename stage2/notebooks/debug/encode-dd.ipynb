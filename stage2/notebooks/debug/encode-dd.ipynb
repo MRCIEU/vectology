{
 "cells": [
  {
   "cell_type": "code",
   "execution_count": 1,
   "id": "fb30f104-f0a0-487b-92d1-17ed2d6b844a",
   "metadata": {
    "execution": {
     "iopub.execute_input": "2022-06-01T10:24:10.823479Z",
     "iopub.status.busy": "2022-06-01T10:24:10.823013Z",
     "iopub.status.idle": "2022-06-01T10:24:11.242299Z",
     "shell.execute_reply": "2022-06-01T10:24:11.241485Z",
     "shell.execute_reply.started": "2022-06-01T10:24:10.823386Z"
    },
    "tags": []
   },
   "outputs": [],
   "source": [
    "from pathlib import Path\n",
    "\n",
    "import pandas as pd\n",
    "import numpy as np\n",
    "\n",
    "from funcs import utils, paths, info"
   ]
  },
  {
   "cell_type": "code",
   "execution_count": 3,
   "id": "d1700e75-9b58-4793-b692-5cacc892c688",
   "metadata": {
    "execution": {
     "iopub.execute_input": "2022-06-01T10:25:36.616560Z",
     "iopub.status.busy": "2022-06-01T10:25:36.616098Z",
     "iopub.status.idle": "2022-06-01T10:25:36.624879Z",
     "shell.execute_reply": "2022-06-01T10:25:36.623534Z",
     "shell.execute_reply.started": "2022-06-01T10:25:36.616509Z"
    },
    "tags": []
   },
   "outputs": [],
   "source": [
    "data_dir = utils.find_data_root()\n",
    "output_dir = data_dir / \"output\"\n",
    "stage1_output_dir = paths.stage1[\"output2_dir\"]\n",
    "\n",
    "assert output_dir.exists()\n",
    "assert stage1_output_dir.exists()"
   ]
  },
  {
   "cell_type": "code",
   "execution_count": 4,
   "id": "bc99f630-02aa-441b-a56d-333e027c36f4",
   "metadata": {
    "execution": {
     "iopub.execute_input": "2022-06-01T10:27:45.944173Z",
     "iopub.status.busy": "2022-06-01T10:27:45.943703Z",
     "iopub.status.idle": "2022-06-01T10:27:45.951123Z",
     "shell.execute_reply": "2022-06-01T10:27:45.949986Z",
     "shell.execute_reply.started": "2022-06-01T10:27:45.944121Z"
    },
    "tags": []
   },
   "outputs": [],
   "source": [
    "orig_path = stage1_output_dir / \"BioSentVec-dd.npy\";  assert orig_path.exists()\n",
    "new_path = output_dir / \"stage2-output\" / \"biosentvec-dd.npy\"; assert new_path.exists()\n",
    "new1_path = output_dir / \"stage2-output\" / \"biosentvec-bioconceptvec-skipgram-dd.npy\"; assert new1_path.exists()"
   ]
  },
  {
   "cell_type": "code",
   "execution_count": 6,
   "id": "8b4db30e-54d6-4c55-8513-826fb707104d",
   "metadata": {
    "execution": {
     "iopub.execute_input": "2022-06-01T10:28:40.191873Z",
     "iopub.status.busy": "2022-06-01T10:28:40.191475Z",
     "iopub.status.idle": "2022-06-01T10:28:40.522063Z",
     "shell.execute_reply": "2022-06-01T10:28:40.521319Z",
     "shell.execute_reply.started": "2022-06-01T10:28:40.191842Z"
    },
    "tags": []
   },
   "outputs": [
    {
     "name": "stdout",
     "output_type": "stream",
     "text": [
      "(1191, 25380)\n",
      "(1191, 25380)\n",
      "(1191, 25380)\n"
     ]
    }
   ],
   "source": [
    "orig = np.load(orig_path)\n",
    "print(orig.shape)\n",
    "new = np.load(new_path)\n",
    "print(new.shape)\n",
    "new1 = np.load(new1_path)\n",
    "print(new1.shape)"
   ]
  },
  {
   "cell_type": "code",
   "execution_count": 7,
   "id": "49c640de-6012-432f-8c43-7f9d970f7711",
   "metadata": {
    "execution": {
     "iopub.execute_input": "2022-06-01T10:28:54.753275Z",
     "iopub.status.busy": "2022-06-01T10:28:54.752854Z",
     "iopub.status.idle": "2022-06-01T10:28:54.875887Z",
     "shell.execute_reply": "2022-06-01T10:28:54.875115Z",
     "shell.execute_reply.started": "2022-06-01T10:28:54.753231Z"
    },
    "tags": []
   },
   "outputs": [
    {
     "data": {
      "text/plain": [
       "array([[ 0.00000000e+00,  0.00000000e+00,  0.00000000e+00, ...,\n",
       "         0.00000000e+00,  8.88178420e-16, -4.44089210e-16],\n",
       "       [ 0.00000000e+00,  0.00000000e+00,  1.11022302e-16, ...,\n",
       "         1.11022302e-16,  0.00000000e+00, -1.11022302e-16],\n",
       "       [ 1.11022302e-16, -2.22044605e-16, -1.11022302e-16, ...,\n",
       "        -1.11022302e-16, -1.11022302e-16,  1.11022302e-16],\n",
       "       ...,\n",
       "       [ 1.11022302e-16,  0.00000000e+00,  1.11022302e-16, ...,\n",
       "         1.11022302e-16,  0.00000000e+00,  1.11022302e-16],\n",
       "       [ 0.00000000e+00, -2.22044605e-16,  1.11022302e-16, ...,\n",
       "        -1.11022302e-16,  2.22044605e-16, -3.33066907e-16],\n",
       "       [ 0.00000000e+00,  0.00000000e+00,  1.11022302e-16, ...,\n",
       "         1.11022302e-16, -1.11022302e-16,  1.11022302e-16]])"
      ]
     },
     "execution_count": 7,
     "metadata": {},
     "output_type": "execute_result"
    }
   ],
   "source": [
    "foo = orig - new\n",
    "foo"
   ]
  },
  {
   "cell_type": "code",
   "execution_count": 15,
   "id": "ccb01273-e1da-4833-9aab-81d2bae4b5b6",
   "metadata": {
    "execution": {
     "iopub.execute_input": "2022-06-01T10:34:43.678103Z",
     "iopub.status.busy": "2022-06-01T10:34:43.677450Z",
     "iopub.status.idle": "2022-06-01T10:34:43.747785Z",
     "shell.execute_reply": "2022-06-01T10:34:43.747002Z",
     "shell.execute_reply.started": "2022-06-01T10:34:43.678045Z"
    },
    "tags": []
   },
   "outputs": [
    {
     "data": {
      "text/plain": [
       "2018525"
      ]
     },
     "execution_count": 15,
     "metadata": {},
     "output_type": "execute_result"
    }
   ],
   "source": [
    "np.sum(np.isnan(foo))"
   ]
  },
  {
   "cell_type": "code",
   "execution_count": 16,
   "id": "d1d81de2-3acd-40e9-97e5-bc45b3469d2f",
   "metadata": {
    "execution": {
     "iopub.execute_input": "2022-06-01T10:34:56.049006Z",
     "iopub.status.busy": "2022-06-01T10:34:56.048590Z",
     "iopub.status.idle": "2022-06-01T10:34:56.125848Z",
     "shell.execute_reply": "2022-06-01T10:34:56.125389Z",
     "shell.execute_reply.started": "2022-06-01T10:34:56.048977Z"
    },
    "tags": []
   },
   "outputs": [
    {
     "data": {
      "text/plain": [
       "2018525"
      ]
     },
     "execution_count": 16,
     "metadata": {},
     "output_type": "execute_result"
    }
   ],
   "source": [
    "np.sum(np.isnan(orig))"
   ]
  },
  {
   "cell_type": "code",
   "execution_count": 17,
   "id": "f6197389-f874-4697-b207-13c185ab941f",
   "metadata": {
    "execution": {
     "iopub.execute_input": "2022-06-01T10:35:03.839328Z",
     "iopub.status.busy": "2022-06-01T10:35:03.838951Z",
     "iopub.status.idle": "2022-06-01T10:35:03.912781Z",
     "shell.execute_reply": "2022-06-01T10:35:03.912026Z",
     "shell.execute_reply.started": "2022-06-01T10:35:03.839300Z"
    },
    "tags": []
   },
   "outputs": [
    {
     "data": {
      "text/plain": [
       "1766487"
      ]
     },
     "execution_count": 17,
     "metadata": {},
     "output_type": "execute_result"
    }
   ],
   "source": [
    "np.sum(np.isnan(new))"
   ]
  },
  {
   "cell_type": "code",
   "execution_count": 18,
   "id": "c7b20d15-1268-4f43-8757-2888571ea15b",
   "metadata": {
    "execution": {
     "iopub.execute_input": "2022-06-01T10:41:56.292928Z",
     "iopub.status.busy": "2022-06-01T10:41:56.292486Z",
     "iopub.status.idle": "2022-06-01T10:41:56.358763Z",
     "shell.execute_reply": "2022-06-01T10:41:56.358190Z",
     "shell.execute_reply.started": "2022-06-01T10:41:56.292876Z"
    },
    "tags": []
   },
   "outputs": [
    {
     "data": {
      "text/plain": [
       "1755786"
      ]
     },
     "execution_count": 18,
     "metadata": {},
     "output_type": "execute_result"
    }
   ],
   "source": [
    "np.sum(np.isnan(new1))"
   ]
  }
 ],
 "metadata": {
  "kernelspec": {
   "display_name": "Python 3 (ipykernel)",
   "language": "python",
   "name": "python3"
  },
  "language_info": {
   "codemirror_mode": {
    "name": "ipython",
    "version": 3
   },
   "file_extension": ".py",
   "mimetype": "text/x-python",
   "name": "python",
   "nbconvert_exporter": "python",
   "pygments_lexer": "ipython3",
   "version": "3.8.13"
  }
 },
 "nbformat": 4,
 "nbformat_minor": 5
}
