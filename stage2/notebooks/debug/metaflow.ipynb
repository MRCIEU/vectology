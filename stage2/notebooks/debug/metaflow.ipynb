{
 "cells": [
  {
   "cell_type": "code",
   "execution_count": 49,
   "id": "c3602dbc-e320-4970-899c-789b5f8d618e",
   "metadata": {
    "execution": {
     "iopub.execute_input": "2022-05-31T09:55:21.566738Z",
     "iopub.status.busy": "2022-05-31T09:55:21.566144Z",
     "iopub.status.idle": "2022-05-31T09:55:21.575369Z",
     "shell.execute_reply": "2022-05-31T09:55:21.573778Z",
     "shell.execute_reply.started": "2022-05-31T09:55:21.566662Z"
    },
    "tags": []
   },
   "outputs": [],
   "source": [
    "from metaflow import Metaflow, Flow"
   ]
  },
  {
   "cell_type": "code",
   "execution_count": 50,
   "id": "2c5ddf67-1c30-4708-9afd-452e34dce183",
   "metadata": {
    "execution": {
     "iopub.execute_input": "2022-05-31T09:55:22.419728Z",
     "iopub.status.busy": "2022-05-31T09:55:22.419161Z",
     "iopub.status.idle": "2022-05-31T09:55:22.426000Z",
     "shell.execute_reply": "2022-05-31T09:55:22.424529Z",
     "shell.execute_reply.started": "2022-05-31T09:55:22.419670Z"
    },
    "tags": []
   },
   "outputs": [],
   "source": [
    "mf = Metaflow()"
   ]
  },
  {
   "cell_type": "code",
   "execution_count": 51,
   "id": "dad67f2b-9308-46ad-a860-033d345e00df",
   "metadata": {
    "execution": {
     "iopub.execute_input": "2022-05-31T09:55:23.167939Z",
     "iopub.status.busy": "2022-05-31T09:55:23.167490Z",
     "iopub.status.idle": "2022-05-31T09:55:23.180295Z",
     "shell.execute_reply": "2022-05-31T09:55:23.179435Z",
     "shell.execute_reply.started": "2022-05-31T09:55:23.167884Z"
    },
    "tags": []
   },
   "outputs": [
    {
     "data": {
      "text/plain": [
       "[Flow('S3DemoFlow'), Flow('BiosentvecFlow'), Flow('BioconceptvecFlow')]"
      ]
     },
     "execution_count": 51,
     "metadata": {},
     "output_type": "execute_result"
    }
   ],
   "source": [
    "mf.flows"
   ]
  },
  {
   "cell_type": "code",
   "execution_count": 52,
   "id": "dfab3fb7-c16b-440b-8cfa-5132c8ed3a88",
   "metadata": {
    "execution": {
     "iopub.execute_input": "2022-05-31T09:55:25.651777Z",
     "iopub.status.busy": "2022-05-31T09:55:25.651327Z",
     "iopub.status.idle": "2022-05-31T09:55:25.663577Z",
     "shell.execute_reply": "2022-05-31T09:55:25.662685Z",
     "shell.execute_reply.started": "2022-05-31T09:55:25.651723Z"
    },
    "tags": []
   },
   "outputs": [],
   "source": [
    "flow0 = Flow(\"BiosentvecFlow\")\n",
    "flow1 = Flow(\"BioconceptvecFlow\")\n",
    "run0 = flow0.latest_run\n",
    "run1 = flow1.latest_run"
   ]
  },
  {
   "cell_type": "code",
   "execution_count": 54,
   "id": "71e3c8cd-04f3-4b34-9c02-7f93b3f47091",
   "metadata": {
    "execution": {
     "iopub.execute_input": "2022-05-31T09:55:49.367415Z",
     "iopub.status.busy": "2022-05-31T09:55:49.366833Z",
     "iopub.status.idle": "2022-05-31T09:55:49.383668Z",
     "shell.execute_reply": "2022-05-31T09:55:49.382793Z",
     "shell.execute_reply.started": "2022-05-31T09:55:49.367359Z"
    },
    "tags": []
   },
   "outputs": [
    {
     "name": "stdout",
     "output_type": "stream",
     "text": [
      "<MetaflowData: top100_results, ebi_encode, pairwise_flat_path, top100_path, pairwise_results, pairwise_results_path, biosentvec_model_path, ebi_df, efo_encode, efo_node_encode_path, pairwise_flat, ebi_encode_path, efo_nx, efo_node_df, name>\n",
      "<MetaflowData: terms_df, bioconceptvec_keys, ebi_df, efo_nx, efo_node_df, ner_df, name>\n"
     ]
    }
   ],
   "source": [
    "print(run0.data)\n",
    "print(run1.data)"
   ]
  },
  {
   "cell_type": "code",
   "execution_count": 72,
   "id": "b2c758b1-46a7-4345-885c-ed240e321e80",
   "metadata": {
    "execution": {
     "iopub.execute_input": "2022-05-31T11:57:35.912307Z",
     "iopub.status.busy": "2022-05-31T11:57:35.911859Z",
     "iopub.status.idle": "2022-05-31T11:57:35.962618Z",
     "shell.execute_reply": "2022-05-31T11:57:35.961957Z",
     "shell.execute_reply.started": "2022-05-31T11:57:35.912251Z"
    },
    "tags": []
   },
   "outputs": [],
   "source": [
    "foo = run1.data.ner_df"
   ]
  },
  {
   "cell_type": "code",
   "execution_count": 73,
   "id": "d7e99307-65de-4c60-945a-003cb5ebd34c",
   "metadata": {
    "execution": {
     "iopub.execute_input": "2022-05-31T11:57:38.697072Z",
     "iopub.status.busy": "2022-05-31T11:57:38.696510Z",
     "iopub.status.idle": "2022-05-31T11:57:38.720347Z",
     "shell.execute_reply": "2022-05-31T11:57:38.719581Z",
     "shell.execute_reply.started": "2022-05-31T11:57:38.697016Z"
    },
    "tags": []
   },
   "outputs": [
    {
     "data": {
      "text/html": [
       "<div>\n",
       "<style scoped>\n",
       "    .dataframe tbody tr th:only-of-type {\n",
       "        vertical-align: middle;\n",
       "    }\n",
       "\n",
       "    .dataframe tbody tr th {\n",
       "        vertical-align: top;\n",
       "    }\n",
       "\n",
       "    .dataframe thead th {\n",
       "        text-align: right;\n",
       "    }\n",
       "</style>\n",
       "<table border=\"1\" class=\"dataframe\">\n",
       "  <thead>\n",
       "    <tr style=\"text-align: right;\">\n",
       "      <th></th>\n",
       "      <th>batch</th>\n",
       "      <th>mapping_id</th>\n",
       "      <th>term</th>\n",
       "      <th>session_id</th>\n",
       "      <th>exists</th>\n",
       "      <th>session_res</th>\n",
       "      <th>ner_res</th>\n",
       "    </tr>\n",
       "  </thead>\n",
       "  <tbody>\n",
       "    <tr>\n",
       "      <th>0</th>\n",
       "      <td>ebi</td>\n",
       "      <td>2</td>\n",
       "      <td>psoriatic and enteropathic arthropathies</td>\n",
       "      <td>9489-1267-1820-7640</td>\n",
       "      <td>True</td>\n",
       "      <td>[00000\\t14\\t40\\tenteropathic arthropathies\\tDi...</td>\n",
       "      <td>[Disease_MESH_D001177]</td>\n",
       "    </tr>\n",
       "    <tr>\n",
       "      <th>1</th>\n",
       "      <td>ebi</td>\n",
       "      <td>3</td>\n",
       "      <td>pain associated with micturition</td>\n",
       "      <td>2941-3822-8420-2463</td>\n",
       "      <td>True</td>\n",
       "      <td>[00000\\t0\\t4\\tpain\\tDisease\\tMESH:D010146]</td>\n",
       "      <td>[Disease_MESH_D010146]</td>\n",
       "    </tr>\n",
       "    <tr>\n",
       "      <th>2</th>\n",
       "      <td>ebi</td>\n",
       "      <td>8</td>\n",
       "      <td>gastritis and duodenitis</td>\n",
       "      <td>3350-1413-5269-5786</td>\n",
       "      <td>True</td>\n",
       "      <td>[00000\\t0\\t9\\tgastritis\\tDisease\\tMESH:D005756...</td>\n",
       "      <td>[Disease_MESH_D005756, Disease_MESH_D004382]</td>\n",
       "    </tr>\n",
       "    <tr>\n",
       "      <th>3</th>\n",
       "      <td>ebi</td>\n",
       "      <td>10</td>\n",
       "      <td>pre existing hypertension complicating pregnan...</td>\n",
       "      <td>8353-1791-1234-4659</td>\n",
       "      <td>True</td>\n",
       "      <td>[00000\\t13\\t25\\thypertension\\tDisease\\tMESH:D0...</td>\n",
       "      <td>[Disease_MESH_D006973]</td>\n",
       "    </tr>\n",
       "    <tr>\n",
       "      <th>4</th>\n",
       "      <td>ebi</td>\n",
       "      <td>11</td>\n",
       "      <td>pre existing hypertensive disorder with superi...</td>\n",
       "      <td>7755-9327-8596-7950</td>\n",
       "      <td>True</td>\n",
       "      <td>[00000\\t13\\t34\\thypertensive disorder\\tDisease...</td>\n",
       "      <td>[Disease_MESH_D006973, Disease_MESH_D011507]</td>\n",
       "    </tr>\n",
       "    <tr>\n",
       "      <th>...</th>\n",
       "      <td>...</td>\n",
       "      <td>...</td>\n",
       "      <td>...</td>\n",
       "      <td>...</td>\n",
       "      <td>...</td>\n",
       "      <td>...</td>\n",
       "      <td>...</td>\n",
       "    </tr>\n",
       "    <tr>\n",
       "      <th>1274</th>\n",
       "      <td>efo</td>\n",
       "      <td>24880</td>\n",
       "      <td>severe intellectual disability   epilepsy   an...</td>\n",
       "      <td>4488-8842-4877-4241</td>\n",
       "      <td>True</td>\n",
       "      <td>[00000\\t20\\t89\\tdisability   epilepsy   anal a...</td>\n",
       "      <td>[Disease_MESH_C537766]</td>\n",
       "    </tr>\n",
       "    <tr>\n",
       "      <th>1275</th>\n",
       "      <td>efo</td>\n",
       "      <td>24897</td>\n",
       "      <td>achalasia   microcephaly</td>\n",
       "      <td>9148-6348-6604-6907</td>\n",
       "      <td>True</td>\n",
       "      <td>[00000\\t0\\t24\\tachalasia   microcephaly\\tDisea...</td>\n",
       "      <td>[Disease_MESH_C536010]</td>\n",
       "    </tr>\n",
       "    <tr>\n",
       "      <th>1276</th>\n",
       "      <td>efo</td>\n",
       "      <td>25067</td>\n",
       "      <td>hypocalcemic vitamin d resistant rickets</td>\n",
       "      <td>6147-9712-7696-3318</td>\n",
       "      <td>True</td>\n",
       "      <td>[00000\\t13\\t20\\tvitamin\\tChemical\\tMESH:D014807]</td>\n",
       "      <td>[Chemical_MESH_D014807]</td>\n",
       "    </tr>\n",
       "    <tr>\n",
       "      <th>1277</th>\n",
       "      <td>efo</td>\n",
       "      <td>25213</td>\n",
       "      <td>7q11 23 microduplication syndrome</td>\n",
       "      <td>5225-3416-3696-8566</td>\n",
       "      <td>True</td>\n",
       "      <td>[00000\\t154\\t160\\tStatus\\tDisease\\tMESH:D013226]</td>\n",
       "      <td>[Disease_MESH_D013226]</td>\n",
       "    </tr>\n",
       "    <tr>\n",
       "      <th>1278</th>\n",
       "      <td>efo</td>\n",
       "      <td>25318</td>\n",
       "      <td>charcot marie tooth disease type 4b1</td>\n",
       "      <td>1812-6737-6833-1885</td>\n",
       "      <td>True</td>\n",
       "      <td>[00000\\t14\\t27\\ttooth disease\\tDisease\\tMESH:D...</td>\n",
       "      <td>[Disease_MESH_D014076]</td>\n",
       "    </tr>\n",
       "  </tbody>\n",
       "</table>\n",
       "<p>1279 rows × 7 columns</p>\n",
       "</div>"
      ],
      "text/plain": [
       "     batch  mapping_id                                               term  \\\n",
       "0      ebi           2           psoriatic and enteropathic arthropathies   \n",
       "1      ebi           3                   pain associated with micturition   \n",
       "2      ebi           8                           gastritis and duodenitis   \n",
       "3      ebi          10  pre existing hypertension complicating pregnan...   \n",
       "4      ebi          11  pre existing hypertensive disorder with superi...   \n",
       "...    ...         ...                                                ...   \n",
       "1274   efo       24880  severe intellectual disability   epilepsy   an...   \n",
       "1275   efo       24897                           achalasia   microcephaly   \n",
       "1276   efo       25067           hypocalcemic vitamin d resistant rickets   \n",
       "1277   efo       25213                  7q11 23 microduplication syndrome   \n",
       "1278   efo       25318               charcot marie tooth disease type 4b1   \n",
       "\n",
       "               session_id  exists  \\\n",
       "0     9489-1267-1820-7640    True   \n",
       "1     2941-3822-8420-2463    True   \n",
       "2     3350-1413-5269-5786    True   \n",
       "3     8353-1791-1234-4659    True   \n",
       "4     7755-9327-8596-7950    True   \n",
       "...                   ...     ...   \n",
       "1274  4488-8842-4877-4241    True   \n",
       "1275  9148-6348-6604-6907    True   \n",
       "1276  6147-9712-7696-3318    True   \n",
       "1277  5225-3416-3696-8566    True   \n",
       "1278  1812-6737-6833-1885    True   \n",
       "\n",
       "                                            session_res  \\\n",
       "0     [00000\\t14\\t40\\tenteropathic arthropathies\\tDi...   \n",
       "1            [00000\\t0\\t4\\tpain\\tDisease\\tMESH:D010146]   \n",
       "2     [00000\\t0\\t9\\tgastritis\\tDisease\\tMESH:D005756...   \n",
       "3     [00000\\t13\\t25\\thypertension\\tDisease\\tMESH:D0...   \n",
       "4     [00000\\t13\\t34\\thypertensive disorder\\tDisease...   \n",
       "...                                                 ...   \n",
       "1274  [00000\\t20\\t89\\tdisability   epilepsy   anal a...   \n",
       "1275  [00000\\t0\\t24\\tachalasia   microcephaly\\tDisea...   \n",
       "1276   [00000\\t13\\t20\\tvitamin\\tChemical\\tMESH:D014807]   \n",
       "1277   [00000\\t154\\t160\\tStatus\\tDisease\\tMESH:D013226]   \n",
       "1278  [00000\\t14\\t27\\ttooth disease\\tDisease\\tMESH:D...   \n",
       "\n",
       "                                           ner_res  \n",
       "0                           [Disease_MESH_D001177]  \n",
       "1                           [Disease_MESH_D010146]  \n",
       "2     [Disease_MESH_D005756, Disease_MESH_D004382]  \n",
       "3                           [Disease_MESH_D006973]  \n",
       "4     [Disease_MESH_D006973, Disease_MESH_D011507]  \n",
       "...                                            ...  \n",
       "1274                        [Disease_MESH_C537766]  \n",
       "1275                        [Disease_MESH_C536010]  \n",
       "1276                       [Chemical_MESH_D014807]  \n",
       "1277                        [Disease_MESH_D013226]  \n",
       "1278                        [Disease_MESH_D014076]  \n",
       "\n",
       "[1279 rows x 7 columns]"
      ]
     },
     "execution_count": 73,
     "metadata": {},
     "output_type": "execute_result"
    }
   ],
   "source": [
    "foo"
   ]
  },
  {
   "cell_type": "code",
   "execution_count": 75,
   "id": "b20c0a80-6550-47b4-b8b0-c4ad87fd1a50",
   "metadata": {
    "execution": {
     "iopub.execute_input": "2022-05-31T11:58:06.759223Z",
     "iopub.status.busy": "2022-05-31T11:58:06.758649Z",
     "iopub.status.idle": "2022-05-31T11:58:06.782207Z",
     "shell.execute_reply": "2022-05-31T11:58:06.781612Z",
     "shell.execute_reply.started": "2022-05-31T11:58:06.759167Z"
    },
    "tags": []
   },
   "outputs": [
    {
     "data": {
      "text/html": [
       "<div>\n",
       "<style scoped>\n",
       "    .dataframe tbody tr th:only-of-type {\n",
       "        vertical-align: middle;\n",
       "    }\n",
       "\n",
       "    .dataframe tbody tr th {\n",
       "        vertical-align: top;\n",
       "    }\n",
       "\n",
       "    .dataframe thead th {\n",
       "        text-align: right;\n",
       "    }\n",
       "</style>\n",
       "<table border=\"1\" class=\"dataframe\">\n",
       "  <thead>\n",
       "    <tr style=\"text-align: right;\">\n",
       "      <th></th>\n",
       "      <th>batch</th>\n",
       "      <th>mapping_id</th>\n",
       "      <th>term</th>\n",
       "      <th>session_id</th>\n",
       "      <th>exists</th>\n",
       "      <th>session_res</th>\n",
       "      <th>ner_res</th>\n",
       "    </tr>\n",
       "  </thead>\n",
       "  <tbody>\n",
       "    <tr>\n",
       "      <th>0</th>\n",
       "      <td>ebi</td>\n",
       "      <td>2</td>\n",
       "      <td>psoriatic and enteropathic arthropathies</td>\n",
       "      <td>9489-1267-1820-7640</td>\n",
       "      <td>True</td>\n",
       "      <td>[00000\\t14\\t40\\tenteropathic arthropathies\\tDi...</td>\n",
       "      <td>[Disease_MESH_D001177]</td>\n",
       "    </tr>\n",
       "    <tr>\n",
       "      <th>1</th>\n",
       "      <td>ebi</td>\n",
       "      <td>3</td>\n",
       "      <td>pain associated with micturition</td>\n",
       "      <td>2941-3822-8420-2463</td>\n",
       "      <td>True</td>\n",
       "      <td>[00000\\t0\\t4\\tpain\\tDisease\\tMESH:D010146]</td>\n",
       "      <td>[Disease_MESH_D010146]</td>\n",
       "    </tr>\n",
       "    <tr>\n",
       "      <th>2</th>\n",
       "      <td>ebi</td>\n",
       "      <td>8</td>\n",
       "      <td>gastritis and duodenitis</td>\n",
       "      <td>3350-1413-5269-5786</td>\n",
       "      <td>True</td>\n",
       "      <td>[00000\\t0\\t9\\tgastritis\\tDisease\\tMESH:D005756...</td>\n",
       "      <td>[Disease_MESH_D005756, Disease_MESH_D004382]</td>\n",
       "    </tr>\n",
       "    <tr>\n",
       "      <th>3</th>\n",
       "      <td>ebi</td>\n",
       "      <td>10</td>\n",
       "      <td>pre existing hypertension complicating pregnan...</td>\n",
       "      <td>8353-1791-1234-4659</td>\n",
       "      <td>True</td>\n",
       "      <td>[00000\\t13\\t25\\thypertension\\tDisease\\tMESH:D0...</td>\n",
       "      <td>[Disease_MESH_D006973]</td>\n",
       "    </tr>\n",
       "    <tr>\n",
       "      <th>4</th>\n",
       "      <td>ebi</td>\n",
       "      <td>11</td>\n",
       "      <td>pre existing hypertensive disorder with superi...</td>\n",
       "      <td>7755-9327-8596-7950</td>\n",
       "      <td>True</td>\n",
       "      <td>[00000\\t13\\t34\\thypertensive disorder\\tDisease...</td>\n",
       "      <td>[Disease_MESH_D006973, Disease_MESH_D011507]</td>\n",
       "    </tr>\n",
       "    <tr>\n",
       "      <th>...</th>\n",
       "      <td>...</td>\n",
       "      <td>...</td>\n",
       "      <td>...</td>\n",
       "      <td>...</td>\n",
       "      <td>...</td>\n",
       "      <td>...</td>\n",
       "      <td>...</td>\n",
       "    </tr>\n",
       "    <tr>\n",
       "      <th>615</th>\n",
       "      <td>ebi</td>\n",
       "      <td>1180</td>\n",
       "      <td>other aplastic anaemias</td>\n",
       "      <td>7862-2941-1820-3291</td>\n",
       "      <td>True</td>\n",
       "      <td>[00000\\t6\\t23\\taplastic anaemias\\tDisease\\tMES...</td>\n",
       "      <td>[Disease_MESH_D000741]</td>\n",
       "    </tr>\n",
       "    <tr>\n",
       "      <th>616</th>\n",
       "      <td>ebi</td>\n",
       "      <td>1183</td>\n",
       "      <td>other malignant neoplasms of skin</td>\n",
       "      <td>3337-9712-2218-5752</td>\n",
       "      <td>True</td>\n",
       "      <td>[00000\\t16\\t25\\tneoplasms\\tDisease\\tMESH:D009369]</td>\n",
       "      <td>[Disease_MESH_D009369]</td>\n",
       "    </tr>\n",
       "    <tr>\n",
       "      <th>617</th>\n",
       "      <td>ebi</td>\n",
       "      <td>1187</td>\n",
       "      <td>malignant neoplasm without specification of site</td>\n",
       "      <td>1104-9639-7871-6067</td>\n",
       "      <td>True</td>\n",
       "      <td>[00000\\t0\\t18\\tmalignant neoplasm\\tDisease\\tME...</td>\n",
       "      <td>[Disease_MESH_D009369]</td>\n",
       "    </tr>\n",
       "    <tr>\n",
       "      <th>618</th>\n",
       "      <td>ebi</td>\n",
       "      <td>1188</td>\n",
       "      <td>other and unspecified types of non hodgkin s l...</td>\n",
       "      <td>5342-3171-1208-8910</td>\n",
       "      <td>True</td>\n",
       "      <td>[00000\\t10\\t21\\tunspecified\\tSpecies\\t32644, 0...</td>\n",
       "      <td>[Disease_MESH_D008228]</td>\n",
       "    </tr>\n",
       "    <tr>\n",
       "      <th>619</th>\n",
       "      <td>ebi</td>\n",
       "      <td>1189</td>\n",
       "      <td>candidiasis</td>\n",
       "      <td>9514-6355-7218-5004</td>\n",
       "      <td>True</td>\n",
       "      <td>[00000\\t0\\t11\\tcandidiasis\\tDisease\\tMESH:D002...</td>\n",
       "      <td>[Disease_MESH_D002177]</td>\n",
       "    </tr>\n",
       "  </tbody>\n",
       "</table>\n",
       "<p>620 rows × 7 columns</p>\n",
       "</div>"
      ],
      "text/plain": [
       "    batch  mapping_id                                               term  \\\n",
       "0     ebi           2           psoriatic and enteropathic arthropathies   \n",
       "1     ebi           3                   pain associated with micturition   \n",
       "2     ebi           8                           gastritis and duodenitis   \n",
       "3     ebi          10  pre existing hypertension complicating pregnan...   \n",
       "4     ebi          11  pre existing hypertensive disorder with superi...   \n",
       "..    ...         ...                                                ...   \n",
       "615   ebi        1180                            other aplastic anaemias   \n",
       "616   ebi        1183                  other malignant neoplasms of skin   \n",
       "617   ebi        1187   malignant neoplasm without specification of site   \n",
       "618   ebi        1188  other and unspecified types of non hodgkin s l...   \n",
       "619   ebi        1189                                        candidiasis   \n",
       "\n",
       "              session_id  exists  \\\n",
       "0    9489-1267-1820-7640    True   \n",
       "1    2941-3822-8420-2463    True   \n",
       "2    3350-1413-5269-5786    True   \n",
       "3    8353-1791-1234-4659    True   \n",
       "4    7755-9327-8596-7950    True   \n",
       "..                   ...     ...   \n",
       "615  7862-2941-1820-3291    True   \n",
       "616  3337-9712-2218-5752    True   \n",
       "617  1104-9639-7871-6067    True   \n",
       "618  5342-3171-1208-8910    True   \n",
       "619  9514-6355-7218-5004    True   \n",
       "\n",
       "                                           session_res  \\\n",
       "0    [00000\\t14\\t40\\tenteropathic arthropathies\\tDi...   \n",
       "1           [00000\\t0\\t4\\tpain\\tDisease\\tMESH:D010146]   \n",
       "2    [00000\\t0\\t9\\tgastritis\\tDisease\\tMESH:D005756...   \n",
       "3    [00000\\t13\\t25\\thypertension\\tDisease\\tMESH:D0...   \n",
       "4    [00000\\t13\\t34\\thypertensive disorder\\tDisease...   \n",
       "..                                                 ...   \n",
       "615  [00000\\t6\\t23\\taplastic anaemias\\tDisease\\tMES...   \n",
       "616  [00000\\t16\\t25\\tneoplasms\\tDisease\\tMESH:D009369]   \n",
       "617  [00000\\t0\\t18\\tmalignant neoplasm\\tDisease\\tME...   \n",
       "618  [00000\\t10\\t21\\tunspecified\\tSpecies\\t32644, 0...   \n",
       "619  [00000\\t0\\t11\\tcandidiasis\\tDisease\\tMESH:D002...   \n",
       "\n",
       "                                          ner_res  \n",
       "0                          [Disease_MESH_D001177]  \n",
       "1                          [Disease_MESH_D010146]  \n",
       "2    [Disease_MESH_D005756, Disease_MESH_D004382]  \n",
       "3                          [Disease_MESH_D006973]  \n",
       "4    [Disease_MESH_D006973, Disease_MESH_D011507]  \n",
       "..                                            ...  \n",
       "615                        [Disease_MESH_D000741]  \n",
       "616                        [Disease_MESH_D009369]  \n",
       "617                        [Disease_MESH_D009369]  \n",
       "618                        [Disease_MESH_D008228]  \n",
       "619                        [Disease_MESH_D002177]  \n",
       "\n",
       "[620 rows x 7 columns]"
      ]
     },
     "execution_count": 75,
     "metadata": {},
     "output_type": "execute_result"
    }
   ],
   "source": [
    "bar = foo[foo[\"batch\"] == \"ebi\"]\n",
    "bar"
   ]
  },
  {
   "cell_type": "code",
   "execution_count": 90,
   "id": "3895080c-a3e4-44fa-92f3-8ac5d15212b5",
   "metadata": {
    "execution": {
     "iopub.execute_input": "2022-05-31T12:23:10.918541Z",
     "iopub.status.busy": "2022-05-31T12:23:10.918090Z",
     "iopub.status.idle": "2022-05-31T12:23:10.928220Z",
     "shell.execute_reply": "2022-05-31T12:23:10.927299Z",
     "shell.execute_reply.started": "2022-05-31T12:23:10.918486Z"
    },
    "tags": []
   },
   "outputs": [
    {
     "data": {
      "text/plain": [
       "1"
      ]
     },
     "execution_count": 90,
     "metadata": {},
     "output_type": "execute_result"
    }
   ],
   "source": [
    "foobar = bar[bar[\"mapping_id\"] == 2][\"ner_res\"].tolist()\n",
    "len(foobar)"
   ]
  },
  {
   "cell_type": "code",
   "execution_count": 91,
   "id": "09ee3c66-ee73-4546-9a83-5a9b052bba33",
   "metadata": {
    "execution": {
     "iopub.execute_input": "2022-05-31T12:23:15.114498Z",
     "iopub.status.busy": "2022-05-31T12:23:15.114046Z",
     "iopub.status.idle": "2022-05-31T12:23:15.121702Z",
     "shell.execute_reply": "2022-05-31T12:23:15.120816Z",
     "shell.execute_reply.started": "2022-05-31T12:23:15.114443Z"
    },
    "tags": []
   },
   "outputs": [
    {
     "data": {
      "text/plain": [
       "[['Disease_MESH_D001177']]"
      ]
     },
     "execution_count": 91,
     "metadata": {},
     "output_type": "execute_result"
    }
   ],
   "source": [
    "foobar"
   ]
  },
  {
   "cell_type": "code",
   "execution_count": 55,
   "id": "bbefd9cb-3708-4acb-a285-96baaf4d039c",
   "metadata": {
    "execution": {
     "iopub.execute_input": "2022-05-31T10:02:37.376686Z",
     "iopub.status.busy": "2022-05-31T10:02:37.376087Z",
     "iopub.status.idle": "2022-05-31T10:02:37.452780Z",
     "shell.execute_reply": "2022-05-31T10:02:37.452183Z",
     "shell.execute_reply.started": "2022-05-31T10:02:37.376624Z"
    },
    "tags": []
   },
   "outputs": [
    {
     "data": {
      "text/html": [
       "<div>\n",
       "<style scoped>\n",
       "    .dataframe tbody tr th:only-of-type {\n",
       "        vertical-align: middle;\n",
       "    }\n",
       "\n",
       "    .dataframe tbody tr th {\n",
       "        vertical-align: top;\n",
       "    }\n",
       "\n",
       "    .dataframe thead th {\n",
       "        text-align: right;\n",
       "    }\n",
       "</style>\n",
       "<table border=\"1\" class=\"dataframe\">\n",
       "  <thead>\n",
       "    <tr style=\"text-align: right;\">\n",
       "      <th></th>\n",
       "      <th>mapping_id</th>\n",
       "      <th>manual</th>\n",
       "      <th>prediction</th>\n",
       "      <th>score</th>\n",
       "      <th>nx</th>\n",
       "    </tr>\n",
       "  </thead>\n",
       "  <tbody>\n",
       "    <tr>\n",
       "      <th>0</th>\n",
       "      <td>1</td>\n",
       "      <td>http://www.ebi.ac.uk/efo/EFO_0004616</td>\n",
       "      <td>http://www.ebi.ac.uk/efo/EFO_0004616</td>\n",
       "      <td>0.620142</td>\n",
       "      <td>1.000000</td>\n",
       "    </tr>\n",
       "    <tr>\n",
       "      <th>1</th>\n",
       "      <td>1</td>\n",
       "      <td>http://www.ebi.ac.uk/efo/EFO_0004616</td>\n",
       "      <td>http://www.ebi.ac.uk/efo/EFO_1000786</td>\n",
       "      <td>0.592495</td>\n",
       "      <td>0.888889</td>\n",
       "    </tr>\n",
       "    <tr>\n",
       "      <th>2</th>\n",
       "      <td>1</td>\n",
       "      <td>http://www.ebi.ac.uk/efo/EFO_0004616</td>\n",
       "      <td>http://www.ebi.ac.uk/efo/EFO_0002506</td>\n",
       "      <td>0.575487</td>\n",
       "      <td>0.941176</td>\n",
       "    </tr>\n",
       "    <tr>\n",
       "      <th>3</th>\n",
       "      <td>1</td>\n",
       "      <td>http://www.ebi.ac.uk/efo/EFO_0004616</td>\n",
       "      <td>http://purl.obolibrary.org/obo/MONDO_0002342</td>\n",
       "      <td>0.532471</td>\n",
       "      <td>0.526316</td>\n",
       "    </tr>\n",
       "    <tr>\n",
       "      <th>4</th>\n",
       "      <td>1</td>\n",
       "      <td>http://www.ebi.ac.uk/efo/EFO_0004616</td>\n",
       "      <td>http://www.ebi.ac.uk/efo/EFO_1000787</td>\n",
       "      <td>0.487986</td>\n",
       "      <td>0.888889</td>\n",
       "    </tr>\n",
       "    <tr>\n",
       "      <th>...</th>\n",
       "      <td>...</td>\n",
       "      <td>...</td>\n",
       "      <td>...</td>\n",
       "      <td>...</td>\n",
       "      <td>...</td>\n",
       "    </tr>\n",
       "    <tr>\n",
       "      <th>119095</th>\n",
       "      <td>1191</td>\n",
       "      <td>http://www.ebi.ac.uk/efo/EFO_0005539</td>\n",
       "      <td>http://purl.obolibrary.org/obo/MONDO_0000628</td>\n",
       "      <td>0.388572</td>\n",
       "      <td>0.263158</td>\n",
       "    </tr>\n",
       "    <tr>\n",
       "      <th>119096</th>\n",
       "      <td>1191</td>\n",
       "      <td>http://www.ebi.ac.uk/efo/EFO_0005539</td>\n",
       "      <td>http://purl.obolibrary.org/obo/MONDO_0021110</td>\n",
       "      <td>0.388024</td>\n",
       "      <td>0.250000</td>\n",
       "    </tr>\n",
       "    <tr>\n",
       "      <th>119097</th>\n",
       "      <td>1191</td>\n",
       "      <td>http://www.ebi.ac.uk/efo/EFO_0005539</td>\n",
       "      <td>http://purl.obolibrary.org/obo/MONDO_0021490</td>\n",
       "      <td>0.387820</td>\n",
       "      <td>0.250000</td>\n",
       "    </tr>\n",
       "    <tr>\n",
       "      <th>119098</th>\n",
       "      <td>1191</td>\n",
       "      <td>http://www.ebi.ac.uk/efo/EFO_0005539</td>\n",
       "      <td>http://www.ebi.ac.uk/efo/EFO_1000015</td>\n",
       "      <td>0.386264</td>\n",
       "      <td>0.346154</td>\n",
       "    </tr>\n",
       "    <tr>\n",
       "      <th>119099</th>\n",
       "      <td>1191</td>\n",
       "      <td>http://www.ebi.ac.uk/efo/EFO_0005539</td>\n",
       "      <td>http://purl.obolibrary.org/obo/MONDO_0021489</td>\n",
       "      <td>0.385573</td>\n",
       "      <td>0.260870</td>\n",
       "    </tr>\n",
       "  </tbody>\n",
       "</table>\n",
       "<p>119100 rows × 5 columns</p>\n",
       "</div>"
      ],
      "text/plain": [
       "        mapping_id                                manual  \\\n",
       "0                1  http://www.ebi.ac.uk/efo/EFO_0004616   \n",
       "1                1  http://www.ebi.ac.uk/efo/EFO_0004616   \n",
       "2                1  http://www.ebi.ac.uk/efo/EFO_0004616   \n",
       "3                1  http://www.ebi.ac.uk/efo/EFO_0004616   \n",
       "4                1  http://www.ebi.ac.uk/efo/EFO_0004616   \n",
       "...            ...                                   ...   \n",
       "119095        1191  http://www.ebi.ac.uk/efo/EFO_0005539   \n",
       "119096        1191  http://www.ebi.ac.uk/efo/EFO_0005539   \n",
       "119097        1191  http://www.ebi.ac.uk/efo/EFO_0005539   \n",
       "119098        1191  http://www.ebi.ac.uk/efo/EFO_0005539   \n",
       "119099        1191  http://www.ebi.ac.uk/efo/EFO_0005539   \n",
       "\n",
       "                                          prediction     score        nx  \n",
       "0               http://www.ebi.ac.uk/efo/EFO_0004616  0.620142  1.000000  \n",
       "1               http://www.ebi.ac.uk/efo/EFO_1000786  0.592495  0.888889  \n",
       "2               http://www.ebi.ac.uk/efo/EFO_0002506  0.575487  0.941176  \n",
       "3       http://purl.obolibrary.org/obo/MONDO_0002342  0.532471  0.526316  \n",
       "4               http://www.ebi.ac.uk/efo/EFO_1000787  0.487986  0.888889  \n",
       "...                                              ...       ...       ...  \n",
       "119095  http://purl.obolibrary.org/obo/MONDO_0000628  0.388572  0.263158  \n",
       "119096  http://purl.obolibrary.org/obo/MONDO_0021110  0.388024  0.250000  \n",
       "119097  http://purl.obolibrary.org/obo/MONDO_0021490  0.387820  0.250000  \n",
       "119098          http://www.ebi.ac.uk/efo/EFO_1000015  0.386264  0.346154  \n",
       "119099  http://purl.obolibrary.org/obo/MONDO_0021489  0.385573  0.260870  \n",
       "\n",
       "[119100 rows x 5 columns]"
      ]
     },
     "execution_count": 55,
     "metadata": {},
     "output_type": "execute_result"
    }
   ],
   "source": [
    "run0.data.top100_results"
   ]
  },
  {
   "cell_type": "code",
   "execution_count": 57,
   "id": "bdd9401a-5940-4abc-845d-89071a53cb11",
   "metadata": {
    "execution": {
     "iopub.execute_input": "2022-05-31T10:05:44.080021Z",
     "iopub.status.busy": "2022-05-31T10:05:44.079572Z",
     "iopub.status.idle": "2022-05-31T10:05:51.068949Z",
     "shell.execute_reply": "2022-05-31T10:05:51.068268Z",
     "shell.execute_reply.started": "2022-05-31T10:05:44.079967Z"
    },
    "tags": []
   },
   "outputs": [
    {
     "data": {
      "text/html": [
       "<div>\n",
       "<style scoped>\n",
       "    .dataframe tbody tr th:only-of-type {\n",
       "        vertical-align: middle;\n",
       "    }\n",
       "\n",
       "    .dataframe tbody tr th {\n",
       "        vertical-align: top;\n",
       "    }\n",
       "\n",
       "    .dataframe thead th {\n",
       "        text-align: right;\n",
       "    }\n",
       "</style>\n",
       "<table border=\"1\" class=\"dataframe\">\n",
       "  <thead>\n",
       "    <tr style=\"text-align: right;\">\n",
       "      <th></th>\n",
       "      <th>mapping_id</th>\n",
       "      <th>manual</th>\n",
       "      <th>prediction</th>\n",
       "      <th>score</th>\n",
       "    </tr>\n",
       "  </thead>\n",
       "  <tbody>\n",
       "    <tr>\n",
       "      <th>0</th>\n",
       "      <td>1</td>\n",
       "      <td>http://www.ebi.ac.uk/efo/EFO_0004616</td>\n",
       "      <td>http://www.orpha.net/ORDO/Orphanet_90342</td>\n",
       "      <td>0.080841</td>\n",
       "    </tr>\n",
       "    <tr>\n",
       "      <th>1</th>\n",
       "      <td>1</td>\n",
       "      <td>http://www.ebi.ac.uk/efo/EFO_0004616</td>\n",
       "      <td>http://www.orpha.net/ORDO/Orphanet_910</td>\n",
       "      <td>0.081271</td>\n",
       "    </tr>\n",
       "    <tr>\n",
       "      <th>2</th>\n",
       "      <td>1</td>\n",
       "      <td>http://www.ebi.ac.uk/efo/EFO_0004616</td>\n",
       "      <td>http://purl.obolibrary.org/obo/HP_0002140</td>\n",
       "      <td>0.121531</td>\n",
       "    </tr>\n",
       "    <tr>\n",
       "      <th>3</th>\n",
       "      <td>1</td>\n",
       "      <td>http://www.ebi.ac.uk/efo/EFO_0004616</td>\n",
       "      <td>http://purl.obolibrary.org/obo/HP_0002637</td>\n",
       "      <td>0.141336</td>\n",
       "    </tr>\n",
       "    <tr>\n",
       "      <th>4</th>\n",
       "      <td>1</td>\n",
       "      <td>http://www.ebi.ac.uk/efo/EFO_0004616</td>\n",
       "      <td>http://www.ebi.ac.uk/efo/EFO_0008524</td>\n",
       "      <td>0.065404</td>\n",
       "    </tr>\n",
       "  </tbody>\n",
       "</table>\n",
       "</div>"
      ],
      "text/plain": [
       "   mapping_id                                manual  \\\n",
       "0           1  http://www.ebi.ac.uk/efo/EFO_0004616   \n",
       "1           1  http://www.ebi.ac.uk/efo/EFO_0004616   \n",
       "2           1  http://www.ebi.ac.uk/efo/EFO_0004616   \n",
       "3           1  http://www.ebi.ac.uk/efo/EFO_0004616   \n",
       "4           1  http://www.ebi.ac.uk/efo/EFO_0004616   \n",
       "\n",
       "                                  prediction     score  \n",
       "0   http://www.orpha.net/ORDO/Orphanet_90342  0.080841  \n",
       "1     http://www.orpha.net/ORDO/Orphanet_910  0.081271  \n",
       "2  http://purl.obolibrary.org/obo/HP_0002140  0.121531  \n",
       "3  http://purl.obolibrary.org/obo/HP_0002637  0.141336  \n",
       "4       http://www.ebi.ac.uk/efo/EFO_0008524  0.065404  "
      ]
     },
     "execution_count": 57,
     "metadata": {},
     "output_type": "execute_result"
    }
   ],
   "source": [
    "run0.data.pairwise_flat.head()"
   ]
  },
  {
   "cell_type": "code",
   "execution_count": 95,
   "id": "253c02a8-1f26-44bc-adcb-155bb688eb17",
   "metadata": {
    "execution": {
     "iopub.execute_input": "2022-05-31T12:42:52.203722Z",
     "iopub.status.busy": "2022-05-31T12:42:52.203152Z",
     "iopub.status.idle": "2022-05-31T12:42:53.962224Z",
     "shell.execute_reply": "2022-05-31T12:42:53.961454Z",
     "shell.execute_reply.started": "2022-05-31T12:42:52.203664Z"
    },
    "tags": []
   },
   "outputs": [],
   "source": [
    "foo = run0.data.pairwise_results"
   ]
  },
  {
   "cell_type": "code",
   "execution_count": 96,
   "id": "3e58f32a-e1c8-44b1-814a-57e6aead27a8",
   "metadata": {
    "execution": {
     "iopub.execute_input": "2022-05-31T12:42:56.888929Z",
     "iopub.status.busy": "2022-05-31T12:42:56.888478Z",
     "iopub.status.idle": "2022-05-31T12:42:56.897043Z",
     "shell.execute_reply": "2022-05-31T12:42:56.895720Z",
     "shell.execute_reply.started": "2022-05-31T12:42:56.888871Z"
    },
    "tags": []
   },
   "outputs": [
    {
     "data": {
      "text/plain": [
       "(1191, 25380)"
      ]
     },
     "execution_count": 96,
     "metadata": {},
     "output_type": "execute_result"
    }
   ],
   "source": [
    "foo.shape"
   ]
  },
  {
   "cell_type": "code",
   "execution_count": 60,
   "id": "dc43a66e-a312-48d4-a459-85d734fef3bc",
   "metadata": {
    "execution": {
     "iopub.execute_input": "2022-05-31T10:12:21.881681Z",
     "iopub.status.busy": "2022-05-31T10:12:21.881211Z",
     "iopub.status.idle": "2022-05-31T10:12:21.970857Z",
     "shell.execute_reply": "2022-05-31T10:12:21.970243Z",
     "shell.execute_reply.started": "2022-05-31T10:12:21.881625Z"
    },
    "tags": []
   },
   "outputs": [
    {
     "data": {
      "text/plain": [
       "array([[ 0.15413393, -1.417357  , -0.46440506, ..., -0.3916975 ,\n",
       "         1.2293924 , -0.47455022],\n",
       "       [ 0.4655861 ,  0.20040849, -0.7674389 , ..., -0.30082914,\n",
       "         0.4607916 , -0.01701912],\n",
       "       [ 0.34694847, -0.19172679,  0.1880445 , ..., -0.09277604,\n",
       "        -0.33361018,  0.0526985 ],\n",
       "       ...,\n",
       "       [-0.9469898 , -0.784195  , -1.2186484 , ..., -1.459476  ,\n",
       "         1.480014  ,  0.5322431 ],\n",
       "       [ 0.28501478,  0.35718122,  0.05974604, ...,  0.12836893,\n",
       "        -0.11892635,  0.10879501],\n",
       "       [ 0.38109878,  0.7305196 ,  0.24037853, ..., -0.17899652,\n",
       "        -0.3199211 ,  0.26807702]], dtype=float32)"
      ]
     },
     "execution_count": 60,
     "metadata": {},
     "output_type": "execute_result"
    }
   ],
   "source": [
    "run0.data.ebi_encode"
   ]
  },
  {
   "cell_type": "code",
   "execution_count": 61,
   "id": "2c001633-5c5a-4985-b5cc-fb45bf73f0a6",
   "metadata": {
    "execution": {
     "iopub.execute_input": "2022-05-31T10:12:53.321852Z",
     "iopub.status.busy": "2022-05-31T10:12:53.321268Z",
     "iopub.status.idle": "2022-05-31T10:12:53.359319Z",
     "shell.execute_reply": "2022-05-31T10:12:53.358705Z",
     "shell.execute_reply.started": "2022-05-31T10:12:53.321795Z"
    },
    "tags": []
   },
   "outputs": [
    {
     "name": "stdout",
     "output_type": "stream",
     "text": [
      "(1191, 700)\n"
     ]
    }
   ],
   "source": [
    "foo = run0.data.ebi_encode\n",
    "print(foo.shape)"
   ]
  },
  {
   "cell_type": "code",
   "execution_count": 62,
   "id": "16bcaaf7-f5ee-455a-b624-5c4a66914107",
   "metadata": {
    "execution": {
     "iopub.execute_input": "2022-05-31T10:13:14.787867Z",
     "iopub.status.busy": "2022-05-31T10:13:14.787284Z",
     "iopub.status.idle": "2022-05-31T10:13:14.793111Z",
     "shell.execute_reply": "2022-05-31T10:13:14.792130Z",
     "shell.execute_reply.started": "2022-05-31T10:13:14.787806Z"
    },
    "tags": []
   },
   "outputs": [],
   "source": [
    "import numpy as np"
   ]
  },
  {
   "cell_type": "code",
   "execution_count": 64,
   "id": "bf02b29a-e87e-4ec3-94fd-10e358961a08",
   "metadata": {
    "execution": {
     "iopub.execute_input": "2022-05-31T10:14:07.683342Z",
     "iopub.status.busy": "2022-05-31T10:14:07.682896Z",
     "iopub.status.idle": "2022-05-31T10:14:07.703183Z",
     "shell.execute_reply": "2022-05-31T10:14:07.702506Z",
     "shell.execute_reply.started": "2022-05-31T10:14:07.683287Z"
    },
    "tags": []
   },
   "outputs": [
    {
     "name": "stdout",
     "output_type": "stream",
     "text": [
      "[nan nan nan nan nan nan nan nan nan nan nan nan nan nan nan nan nan nan\n",
      " nan nan nan nan nan nan nan nan nan nan nan nan nan nan nan nan nan nan\n",
      " nan nan nan nan nan nan nan nan nan nan nan nan nan nan nan nan nan nan\n",
      " nan nan nan nan nan nan nan nan nan nan nan nan nan nan nan nan nan nan\n",
      " nan nan nan nan nan nan nan nan nan nan nan nan nan nan nan nan nan nan\n",
      " nan nan nan nan nan nan nan nan nan nan nan nan nan nan nan nan nan nan\n",
      " nan nan nan nan nan nan nan nan nan nan nan nan nan nan nan nan nan nan\n",
      " nan nan nan nan nan nan nan nan nan nan nan nan nan nan nan nan nan nan\n",
      " nan nan nan nan nan nan nan nan nan nan nan nan nan nan nan nan nan nan\n",
      " nan nan nan nan nan nan nan nan nan nan nan nan nan nan nan nan nan nan\n",
      " nan nan nan nan nan nan nan nan nan nan nan nan nan nan nan nan nan nan\n",
      " nan nan nan nan nan nan nan nan nan nan nan nan nan nan nan nan nan nan\n",
      " nan nan nan nan nan nan nan nan nan nan nan nan nan nan nan nan nan nan\n",
      " nan nan nan nan nan nan nan nan nan nan nan nan nan nan nan nan nan nan\n",
      " nan nan nan nan nan nan nan nan nan nan nan nan nan nan nan nan nan nan\n",
      " nan nan nan nan nan nan nan nan nan nan nan nan nan nan nan nan nan nan\n",
      " nan nan nan nan nan nan nan nan nan nan nan nan nan nan nan nan nan nan\n",
      " nan nan nan nan nan nan nan nan nan nan nan nan nan nan nan nan nan nan\n",
      " nan nan nan nan nan nan nan nan nan nan nan nan nan nan nan nan nan nan\n",
      " nan nan nan nan nan nan nan nan nan nan nan nan nan nan nan nan nan nan\n",
      " nan nan nan nan nan nan nan nan nan nan nan nan nan nan nan nan nan nan\n",
      " nan nan nan nan nan nan nan nan nan nan nan nan nan nan nan nan nan nan\n",
      " nan nan nan nan nan nan nan nan nan nan nan nan nan nan nan nan nan nan\n",
      " nan nan nan nan nan nan nan nan nan nan nan nan nan nan nan nan nan nan\n",
      " nan nan nan nan nan nan nan nan nan nan nan nan nan nan nan nan nan nan\n",
      " nan nan nan nan nan nan nan nan nan nan nan nan nan nan nan nan nan nan\n",
      " nan nan nan nan nan nan nan nan nan nan nan nan nan nan nan nan nan nan\n",
      " nan nan nan nan nan nan nan nan nan nan nan nan nan nan nan nan nan nan\n",
      " nan nan nan nan nan nan nan nan nan nan nan nan nan nan nan nan nan nan\n",
      " nan nan nan nan nan nan nan nan nan nan nan nan nan nan nan nan nan nan\n",
      " nan nan nan nan nan nan nan nan nan nan nan nan nan nan nan nan nan nan\n",
      " nan nan nan nan nan nan nan nan nan nan nan nan nan nan nan nan nan nan\n",
      " nan nan nan nan nan nan nan nan nan nan nan nan nan nan nan nan nan nan\n",
      " nan nan nan nan nan nan nan nan nan nan nan nan nan nan nan nan nan nan\n",
      " nan nan nan nan nan nan nan nan nan nan nan nan nan nan nan nan nan nan\n",
      " nan nan nan nan nan nan nan nan nan nan nan nan nan nan nan nan nan nan\n",
      " nan nan nan nan nan nan nan nan nan nan nan nan nan nan nan nan nan nan\n",
      " nan nan nan nan nan nan nan nan nan nan nan nan nan nan nan nan nan nan\n",
      " nan nan nan nan nan nan nan nan nan nan nan nan nan nan nan nan]\n"
     ]
    }
   ],
   "source": [
    "foo[2, ] = np.nan\n",
    "print(foo[2, ])"
   ]
  },
  {
   "cell_type": "code",
   "execution_count": 65,
   "id": "c56d165f-25aa-4bf2-9e31-e8953cf39449",
   "metadata": {
    "execution": {
     "iopub.execute_input": "2022-05-31T10:14:46.583174Z",
     "iopub.status.busy": "2022-05-31T10:14:46.582782Z",
     "iopub.status.idle": "2022-05-31T10:14:48.151504Z",
     "shell.execute_reply": "2022-05-31T10:14:48.150868Z",
     "shell.execute_reply.started": "2022-05-31T10:14:46.583141Z"
    },
    "tags": []
   },
   "outputs": [
    {
     "name": "stdout",
     "output_type": "stream",
     "text": [
      "(25380, 700)\n"
     ]
    }
   ],
   "source": [
    "bar = run0.data.efo_encode\n",
    "print(bar.shape)"
   ]
  },
  {
   "cell_type": "code",
   "execution_count": 66,
   "id": "2d8c3fbb-75fd-46e6-bda0-e9b6e84b16bf",
   "metadata": {
    "execution": {
     "iopub.execute_input": "2022-05-31T10:14:57.180652Z",
     "iopub.status.busy": "2022-05-31T10:14:57.180204Z",
     "iopub.status.idle": "2022-05-31T10:14:57.186479Z",
     "shell.execute_reply": "2022-05-31T10:14:57.185324Z",
     "shell.execute_reply.started": "2022-05-31T10:14:57.180598Z"
    },
    "tags": []
   },
   "outputs": [],
   "source": [
    "bar[3, ] = np.nan"
   ]
  },
  {
   "cell_type": "code",
   "execution_count": 67,
   "id": "29a72f7e-7a1a-49bc-ae1c-cc66a84a44e4",
   "metadata": {
    "execution": {
     "iopub.execute_input": "2022-05-31T10:15:16.255603Z",
     "iopub.status.busy": "2022-05-31T10:15:16.255160Z",
     "iopub.status.idle": "2022-05-31T10:15:16.365490Z",
     "shell.execute_reply": "2022-05-31T10:15:16.364734Z",
     "shell.execute_reply.started": "2022-05-31T10:15:16.255547Z"
    },
    "tags": []
   },
   "outputs": [],
   "source": [
    "from scipy.spatial import distance"
   ]
  },
  {
   "cell_type": "code",
   "execution_count": 68,
   "id": "0e00ad6b-9f03-4b6c-925a-78b002b75791",
   "metadata": {
    "execution": {
     "iopub.execute_input": "2022-05-31T10:15:26.321656Z",
     "iopub.status.busy": "2022-05-31T10:15:26.321092Z",
     "iopub.status.idle": "2022-05-31T10:15:53.860273Z",
     "shell.execute_reply": "2022-05-31T10:15:53.859150Z",
     "shell.execute_reply.started": "2022-05-31T10:15:26.321600Z"
    },
    "tags": []
   },
   "outputs": [],
   "source": [
    "foobar = distance.cdist(foo, bar, \"cosine\")"
   ]
  },
  {
   "cell_type": "code",
   "execution_count": 69,
   "id": "ac153c64-ad6e-474d-bdb4-8e7b2c410e62",
   "metadata": {
    "execution": {
     "iopub.execute_input": "2022-05-31T10:15:53.862438Z",
     "iopub.status.busy": "2022-05-31T10:15:53.861846Z",
     "iopub.status.idle": "2022-05-31T10:15:53.867449Z",
     "shell.execute_reply": "2022-05-31T10:15:53.866822Z",
     "shell.execute_reply.started": "2022-05-31T10:15:53.862412Z"
    },
    "tags": []
   },
   "outputs": [
    {
     "name": "stdout",
     "output_type": "stream",
     "text": [
      "(1191, 25380)\n"
     ]
    }
   ],
   "source": [
    "print(foobar.shape)"
   ]
  },
  {
   "cell_type": "code",
   "execution_count": 70,
   "id": "050b2afa-1f91-4b92-98a1-ef3d101bd9fa",
   "metadata": {
    "execution": {
     "iopub.execute_input": "2022-05-31T10:16:20.265545Z",
     "iopub.status.busy": "2022-05-31T10:16:20.265103Z",
     "iopub.status.idle": "2022-05-31T10:16:20.274273Z",
     "shell.execute_reply": "2022-05-31T10:16:20.273124Z",
     "shell.execute_reply.started": "2022-05-31T10:16:20.265489Z"
    },
    "tags": []
   },
   "outputs": [
    {
     "data": {
      "text/plain": [
       "nan"
      ]
     },
     "execution_count": 70,
     "metadata": {},
     "output_type": "execute_result"
    }
   ],
   "source": [
    "foobar[2, 3]"
   ]
  },
  {
   "cell_type": "code",
   "execution_count": 71,
   "id": "9c0c7aab-ee89-45e9-807e-5a7459fb5629",
   "metadata": {
    "execution": {
     "iopub.execute_input": "2022-05-31T10:16:29.427307Z",
     "iopub.status.busy": "2022-05-31T10:16:29.426745Z",
     "iopub.status.idle": "2022-05-31T10:16:29.435049Z",
     "shell.execute_reply": "2022-05-31T10:16:29.434105Z",
     "shell.execute_reply.started": "2022-05-31T10:16:29.427249Z"
    },
    "tags": []
   },
   "outputs": [
    {
     "data": {
      "text/plain": [
       "0.8692260105934505"
      ]
     },
     "execution_count": 71,
     "metadata": {},
     "output_type": "execute_result"
    }
   ],
   "source": [
    "foobar[1, 2]"
   ]
  }
 ],
 "metadata": {
  "kernelspec": {
   "display_name": "Python 3 (ipykernel)",
   "language": "python",
   "name": "python3"
  },
  "language_info": {
   "codemirror_mode": {
    "name": "ipython",
    "version": 3
   },
   "file_extension": ".py",
   "mimetype": "text/x-python",
   "name": "python",
   "nbconvert_exporter": "python",
   "pygments_lexer": "ipython3",
   "version": "3.8.13"
  }
 },
 "nbformat": 4,
 "nbformat_minor": 5
}
