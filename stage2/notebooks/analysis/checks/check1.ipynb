{
 "cells": [
  {
   "cell_type": "markdown",
   "id": "3f678d33-57df-4ec0-9a00-5b0bd6053a09",
   "metadata": {},
   "source": [
    "This checks the 1-to-N relationships between 1 EFO term and N GWAS terms"
   ]
  },
  {
   "cell_type": "code",
   "execution_count": 12,
   "id": "baf1bd97-071c-4fb9-97d8-ceb3885d3545",
   "metadata": {
    "execution": {
     "iopub.execute_input": "2022-10-06T21:08:02.794215Z",
     "iopub.status.busy": "2022-10-06T21:08:02.793758Z",
     "iopub.status.idle": "2022-10-06T21:08:02.834342Z",
     "shell.execute_reply": "2022-10-06T21:08:02.833600Z",
     "shell.execute_reply.started": "2022-10-06T21:08:02.794164Z"
    },
    "tags": []
   },
   "outputs": [
    {
     "data": {
      "text/html": [
       "<div>\n",
       "<style scoped>\n",
       "    .dataframe tbody tr th:only-of-type {\n",
       "        vertical-align: middle;\n",
       "    }\n",
       "\n",
       "    .dataframe tbody tr th {\n",
       "        vertical-align: top;\n",
       "    }\n",
       "\n",
       "    .dataframe thead th {\n",
       "        text-align: right;\n",
       "    }\n",
       "</style>\n",
       "<table border=\"1\" class=\"dataframe\">\n",
       "  <thead>\n",
       "    <tr style=\"text-align: right;\">\n",
       "      <th></th>\n",
       "      <th>query</th>\n",
       "      <th>MAPPED_TERM_LABEL</th>\n",
       "      <th>MAPPED_TERM_URI</th>\n",
       "      <th>MAPPING_TYPE</th>\n",
       "      <th>id</th>\n",
       "      <th>full_id</th>\n",
       "      <th>mapping_id</th>\n",
       "    </tr>\n",
       "  </thead>\n",
       "  <tbody>\n",
       "    <tr>\n",
       "      <th>0</th>\n",
       "      <td>gonarthrosis</td>\n",
       "      <td>osteoarthritis || knee</td>\n",
       "      <td>EFO_0004616</td>\n",
       "      <td>Broad</td>\n",
       "      <td>EFO_0004616</td>\n",
       "      <td>http://www.ebi.ac.uk/efo/EFO_0004616</td>\n",
       "      <td>1</td>\n",
       "    </tr>\n",
       "    <tr>\n",
       "      <th>1</th>\n",
       "      <td>psoriatic and enteropathic arthropathies</td>\n",
       "      <td>psoriatic arthritis</td>\n",
       "      <td>EFO_0003778</td>\n",
       "      <td>? Broad</td>\n",
       "      <td>EFO_0003778</td>\n",
       "      <td>http://www.ebi.ac.uk/efo/EFO_0003778</td>\n",
       "      <td>2</td>\n",
       "    </tr>\n",
       "    <tr>\n",
       "      <th>2</th>\n",
       "      <td>pain associated with micturition</td>\n",
       "      <td>dysuria</td>\n",
       "      <td>EFO_0003901</td>\n",
       "      <td>? Broad</td>\n",
       "      <td>EFO_0003901</td>\n",
       "      <td>http://www.ebi.ac.uk/efo/EFO_0003901</td>\n",
       "      <td>3</td>\n",
       "    </tr>\n",
       "    <tr>\n",
       "      <th>3</th>\n",
       "      <td>other mood</td>\n",
       "      <td>mood disorder</td>\n",
       "      <td>EFO_0004247</td>\n",
       "      <td>? Broad</td>\n",
       "      <td>EFO_0004247</td>\n",
       "      <td>http://www.ebi.ac.uk/efo/EFO_0004247</td>\n",
       "      <td>4</td>\n",
       "    </tr>\n",
       "    <tr>\n",
       "      <th>4</th>\n",
       "      <td>preterm delivery</td>\n",
       "      <td>premature birth</td>\n",
       "      <td>EFO_0003917</td>\n",
       "      <td>? Exact</td>\n",
       "      <td>EFO_0003917</td>\n",
       "      <td>http://www.ebi.ac.uk/efo/EFO_0003917</td>\n",
       "      <td>5</td>\n",
       "    </tr>\n",
       "    <tr>\n",
       "      <th>...</th>\n",
       "      <td>...</td>\n",
       "      <td>...</td>\n",
       "      <td>...</td>\n",
       "      <td>...</td>\n",
       "      <td>...</td>\n",
       "      <td>...</td>\n",
       "      <td>...</td>\n",
       "    </tr>\n",
       "    <tr>\n",
       "      <th>1186</th>\n",
       "      <td>malignant neoplasm without specification of site</td>\n",
       "      <td>cancer</td>\n",
       "      <td>EFO_0000311</td>\n",
       "      <td>Broad</td>\n",
       "      <td>EFO_0000311</td>\n",
       "      <td>http://www.ebi.ac.uk/efo/EFO_0000311</td>\n",
       "      <td>1187</td>\n",
       "    </tr>\n",
       "    <tr>\n",
       "      <th>1187</th>\n",
       "      <td>other and unspecified types of non-hodgkin's l...</td>\n",
       "      <td>non-Hodgkins lymphoma</td>\n",
       "      <td>EFO_0005952</td>\n",
       "      <td>Exact</td>\n",
       "      <td>EFO_0005952</td>\n",
       "      <td>http://www.ebi.ac.uk/efo/EFO_0005952</td>\n",
       "      <td>1188</td>\n",
       "    </tr>\n",
       "    <tr>\n",
       "      <th>1188</th>\n",
       "      <td>candidiasis</td>\n",
       "      <td>Candidiasis, Invasive</td>\n",
       "      <td>EFO_1001283</td>\n",
       "      <td>Narrow</td>\n",
       "      <td>EFO_1001283</td>\n",
       "      <td>http://www.ebi.ac.uk/efo/EFO_1001283</td>\n",
       "      <td>1189</td>\n",
       "    </tr>\n",
       "    <tr>\n",
       "      <th>1189</th>\n",
       "      <td>other predominantly sexually transmitted disea...</td>\n",
       "      <td>bacterial sexually transmitted disease</td>\n",
       "      <td>EFO_0003955</td>\n",
       "      <td>Narrow</td>\n",
       "      <td>EFO_0003955</td>\n",
       "      <td>http://www.ebi.ac.uk/efo/EFO_0003955</td>\n",
       "      <td>1190</td>\n",
       "    </tr>\n",
       "    <tr>\n",
       "      <th>1190</th>\n",
       "      <td>other disorders of adrenal gland</td>\n",
       "      <td>adrenal gland disease</td>\n",
       "      <td>EFO_0005539</td>\n",
       "      <td>Exact</td>\n",
       "      <td>EFO_0005539</td>\n",
       "      <td>http://www.ebi.ac.uk/efo/EFO_0005539</td>\n",
       "      <td>1191</td>\n",
       "    </tr>\n",
       "  </tbody>\n",
       "</table>\n",
       "<p>1191 rows × 7 columns</p>\n",
       "</div>"
      ],
      "text/plain": [
       "                                                  query  \\\n",
       "0                                          gonarthrosis   \n",
       "1              psoriatic and enteropathic arthropathies   \n",
       "2                      pain associated with micturition   \n",
       "3                                            other mood   \n",
       "4                                      preterm delivery   \n",
       "...                                                 ...   \n",
       "1186   malignant neoplasm without specification of site   \n",
       "1187  other and unspecified types of non-hodgkin's l...   \n",
       "1188                                        candidiasis   \n",
       "1189  other predominantly sexually transmitted disea...   \n",
       "1190                   other disorders of adrenal gland   \n",
       "\n",
       "                           MAPPED_TERM_LABEL MAPPED_TERM_URI MAPPING_TYPE  \\\n",
       "0                     osteoarthritis || knee     EFO_0004616        Broad   \n",
       "1                        psoriatic arthritis     EFO_0003778      ? Broad   \n",
       "2                                    dysuria     EFO_0003901      ? Broad   \n",
       "3                              mood disorder     EFO_0004247      ? Broad   \n",
       "4                            premature birth     EFO_0003917      ? Exact   \n",
       "...                                      ...             ...          ...   \n",
       "1186                                  cancer     EFO_0000311        Broad   \n",
       "1187                   non-Hodgkins lymphoma     EFO_0005952        Exact   \n",
       "1188                   Candidiasis, Invasive     EFO_1001283       Narrow   \n",
       "1189  bacterial sexually transmitted disease     EFO_0003955       Narrow   \n",
       "1190                   adrenal gland disease     EFO_0005539        Exact   \n",
       "\n",
       "               id                               full_id  mapping_id  \n",
       "0     EFO_0004616  http://www.ebi.ac.uk/efo/EFO_0004616           1  \n",
       "1     EFO_0003778  http://www.ebi.ac.uk/efo/EFO_0003778           2  \n",
       "2     EFO_0003901  http://www.ebi.ac.uk/efo/EFO_0003901           3  \n",
       "3     EFO_0004247  http://www.ebi.ac.uk/efo/EFO_0004247           4  \n",
       "4     EFO_0003917  http://www.ebi.ac.uk/efo/EFO_0003917           5  \n",
       "...           ...                                   ...         ...  \n",
       "1186  EFO_0000311  http://www.ebi.ac.uk/efo/EFO_0000311        1187  \n",
       "1187  EFO_0005952  http://www.ebi.ac.uk/efo/EFO_0005952        1188  \n",
       "1188  EFO_1001283  http://www.ebi.ac.uk/efo/EFO_1001283        1189  \n",
       "1189  EFO_0003955  http://www.ebi.ac.uk/efo/EFO_0003955        1190  \n",
       "1190  EFO_0005539  http://www.ebi.ac.uk/efo/EFO_0005539        1191  \n",
       "\n",
       "[1191 rows x 7 columns]"
      ]
     },
     "execution_count": 12,
     "metadata": {},
     "output_type": "execute_result"
    }
   ],
   "source": [
    "EBI_DATA"
   ]
  },
  {
   "cell_type": "code",
   "execution_count": 16,
   "id": "a5c465d2-9765-4053-999a-b8abcc397702",
   "metadata": {
    "execution": {
     "iopub.execute_input": "2022-10-06T21:10:01.033466Z",
     "iopub.status.busy": "2022-10-06T21:10:01.033054Z",
     "iopub.status.idle": "2022-10-06T21:10:01.072433Z",
     "shell.execute_reply": "2022-10-06T21:10:01.071489Z",
     "shell.execute_reply.started": "2022-10-06T21:10:01.033429Z"
    },
    "tags": []
   },
   "outputs": [
    {
     "data": {
      "text/plain": [
       "full_id\n",
       "http://purl.obolibrary.org/obo/HP_0000008    2\n",
       "http://purl.obolibrary.org/obo/HP_0000011    1\n",
       "http://purl.obolibrary.org/obo/HP_0000016    1\n",
       "http://purl.obolibrary.org/obo/HP_0000020    1\n",
       "http://purl.obolibrary.org/obo/HP_0000022    2\n",
       "                                            ..\n",
       "http://www.orpha.net/ORDO/Orphanet_97945     1\n",
       "http://www.orpha.net/ORDO/Orphanet_98602     1\n",
       "http://www.orpha.net/ORDO/Orphanet_98724     1\n",
       "http://www.orpha.net/ORDO/Orphanet_98878     1\n",
       "http://www.orpha.net/ORDO/Orphanet_98879     1\n",
       "Length: 802, dtype: int64"
      ]
     },
     "execution_count": 16,
     "metadata": {},
     "output_type": "execute_result"
    }
   ],
   "source": [
    "s = EBI_DATA.groupby(\"full_id\").size()\n",
    "s"
   ]
  },
  {
   "cell_type": "code",
   "execution_count": 18,
   "id": "9f8a5964-639a-403f-8959-f4619de7881c",
   "metadata": {
    "execution": {
     "iopub.execute_input": "2022-10-06T21:10:05.124105Z",
     "iopub.status.busy": "2022-10-06T21:10:05.123628Z",
     "iopub.status.idle": "2022-10-06T21:10:05.155681Z",
     "shell.execute_reply": "2022-10-06T21:10:05.155053Z",
     "shell.execute_reply.started": "2022-10-06T21:10:05.124051Z"
    },
    "tags": []
   },
   "outputs": [
    {
     "data": {
      "text/plain": [
       "full_id\n",
       "http://purl.obolibrary.org/obo/HP_0000008    2\n",
       "http://purl.obolibrary.org/obo/HP_0000022    2\n",
       "http://purl.obolibrary.org/obo/HP_0000132    2\n",
       "http://purl.obolibrary.org/obo/HP_0000360    2\n",
       "http://purl.obolibrary.org/obo/HP_0000790    2\n",
       "                                            ..\n",
       "http://www.ebi.ac.uk/efo/EFO_1002048         4\n",
       "http://www.ebi.ac.uk/efo/EFO_1002050         4\n",
       "http://www.orpha.net/ORDO/Orphanet_183530    2\n",
       "http://www.orpha.net/ORDO/Orphanet_3389      2\n",
       "http://www.orpha.net/ORDO/Orphanet_79383     2\n",
       "Length: 232, dtype: int64"
      ]
     },
     "execution_count": 18,
     "metadata": {},
     "output_type": "execute_result"
    }
   ],
   "source": [
    "s1 = s[s > 1]\n",
    "s1"
   ]
  }
 ],
 "metadata": {
  "kernelspec": {
   "display_name": "Python 3 (ipykernel)",
   "language": "python",
   "name": "python3"
  },
  "language_info": {
   "codemirror_mode": {
    "name": "ipython",
    "version": 3
   },
   "file_extension": ".py",
   "mimetype": "text/x-python",
   "name": "python",
   "nbconvert_exporter": "python",
   "pygments_lexer": "ipython3",
   "version": "3.8.13"
  }
 },
 "nbformat": 4,
 "nbformat_minor": 5
}
