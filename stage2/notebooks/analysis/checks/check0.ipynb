{
 "cells": [
  {
   "cell_type": "markdown",
   "id": "2a0df41e-1df5-4412-a5ea-9f718701623f",
   "metadata": {},
   "source": [
    "This checks the validity that for an EFO term of interests finding terms with nx score (Batet information content score on EFO graph) == 1 sufficiently returns the term itself and no other terms."
   ]
  },
  {
   "cell_type": "code",
   "execution_count": 3,
   "id": "eb23072b-4be3-4297-a0be-73541a1cd231",
   "metadata": {
    "execution": {
     "iopub.execute_input": "2022-12-14T15:24:35.549242Z",
     "iopub.status.busy": "2022-12-14T15:24:35.548340Z",
     "iopub.status.idle": "2022-12-14T15:24:35.682813Z",
     "shell.execute_reply": "2022-12-14T15:24:35.681738Z",
     "shell.execute_reply.started": "2022-12-14T15:24:35.549176Z"
    },
    "tags": []
   },
   "outputs": [],
   "source": [
    "import pandas as pd\n",
    "\n",
    "from funcs import utils"
   ]
  },
  {
   "cell_type": "code",
   "execution_count": 4,
   "id": "ef4bafa9-df53-492a-9dd4-d1bd0d167323",
   "metadata": {
    "execution": {
     "iopub.execute_input": "2022-12-14T15:24:36.595897Z",
     "iopub.status.busy": "2022-12-14T15:24:36.595101Z",
     "iopub.status.idle": "2022-12-14T15:24:36.601210Z",
     "shell.execute_reply": "2022-12-14T15:24:36.600396Z",
     "shell.execute_reply.started": "2022-12-14T15:24:36.595844Z"
    },
    "tags": []
   },
   "outputs": [],
   "source": [
    "data_dir = utils.find_data_root()\n",
    "assert data_dir.exists(), data_dir"
   ]
  },
  {
   "cell_type": "code",
   "execution_count": 5,
   "id": "a843579f-a348-4a81-a790-f37dbd7c6588",
   "metadata": {
    "execution": {
     "iopub.execute_input": "2022-12-14T15:25:22.163528Z",
     "iopub.status.busy": "2022-12-14T15:25:22.163076Z",
     "iopub.status.idle": "2022-12-14T15:25:22.222232Z",
     "shell.execute_reply": "2022-12-14T15:25:22.221731Z",
     "shell.execute_reply.started": "2022-12-14T15:25:22.163477Z"
    },
    "tags": []
   },
   "outputs": [
    {
     "data": {
      "text/html": [
       "<div>\n",
       "<style scoped>\n",
       "    .dataframe tbody tr th:only-of-type {\n",
       "        vertical-align: middle;\n",
       "    }\n",
       "\n",
       "    .dataframe tbody tr th {\n",
       "        vertical-align: top;\n",
       "    }\n",
       "\n",
       "    .dataframe thead th {\n",
       "        text-align: right;\n",
       "    }\n",
       "</style>\n",
       "<table border=\"1\" class=\"dataframe\">\n",
       "  <thead>\n",
       "    <tr style=\"text-align: right;\">\n",
       "      <th></th>\n",
       "      <th>mapping_id</th>\n",
       "      <th>manual</th>\n",
       "      <th>prediction</th>\n",
       "      <th>score</th>\n",
       "      <th>nx</th>\n",
       "      <th>MAPPING_TYPE</th>\n",
       "    </tr>\n",
       "  </thead>\n",
       "  <tbody>\n",
       "    <tr>\n",
       "      <th>0</th>\n",
       "      <td>1</td>\n",
       "      <td>http://www.ebi.ac.uk/efo/EFO_0004616</td>\n",
       "      <td>http://www.ebi.ac.uk/efo/EFO_0004616</td>\n",
       "      <td>0.620142</td>\n",
       "      <td>1.0</td>\n",
       "      <td>Broad</td>\n",
       "    </tr>\n",
       "    <tr>\n",
       "      <th>1</th>\n",
       "      <td>2</td>\n",
       "      <td>http://www.ebi.ac.uk/efo/EFO_0003778</td>\n",
       "      <td>http://www.ebi.ac.uk/efo/EFO_0003778</td>\n",
       "      <td>0.697339</td>\n",
       "      <td>1.0</td>\n",
       "      <td>Other</td>\n",
       "    </tr>\n",
       "    <tr>\n",
       "      <th>2</th>\n",
       "      <td>8</td>\n",
       "      <td>http://www.ebi.ac.uk/efo/EFO_0000217</td>\n",
       "      <td>http://www.ebi.ac.uk/efo/EFO_0000217</td>\n",
       "      <td>0.892920</td>\n",
       "      <td>1.0</td>\n",
       "      <td>Broad</td>\n",
       "    </tr>\n",
       "    <tr>\n",
       "      <th>3</th>\n",
       "      <td>21</td>\n",
       "      <td>http://www.ebi.ac.uk/efo/EFO_0000685</td>\n",
       "      <td>http://www.ebi.ac.uk/efo/EFO_0000685</td>\n",
       "      <td>0.802925</td>\n",
       "      <td>1.0</td>\n",
       "      <td>Broad</td>\n",
       "    </tr>\n",
       "    <tr>\n",
       "      <th>4</th>\n",
       "      <td>24</td>\n",
       "      <td>http://www.ebi.ac.uk/efo/EFO_0001422</td>\n",
       "      <td>http://www.ebi.ac.uk/efo/EFO_0001422</td>\n",
       "      <td>0.853770</td>\n",
       "      <td>1.0</td>\n",
       "      <td>Broad</td>\n",
       "    </tr>\n",
       "    <tr>\n",
       "      <th>...</th>\n",
       "      <td>...</td>\n",
       "      <td>...</td>\n",
       "      <td>...</td>\n",
       "      <td>...</td>\n",
       "      <td>...</td>\n",
       "      <td>...</td>\n",
       "    </tr>\n",
       "    <tr>\n",
       "      <th>475</th>\n",
       "      <td>1175</td>\n",
       "      <td>http://www.ebi.ac.uk/efo/EFO_0002422</td>\n",
       "      <td>http://www.ebi.ac.uk/efo/EFO_0002422</td>\n",
       "      <td>0.717567</td>\n",
       "      <td>1.0</td>\n",
       "      <td>Exact</td>\n",
       "    </tr>\n",
       "    <tr>\n",
       "      <th>476</th>\n",
       "      <td>1176</td>\n",
       "      <td>http://www.ebi.ac.uk/efo/EFO_0008549</td>\n",
       "      <td>http://www.ebi.ac.uk/efo/EFO_0008549</td>\n",
       "      <td>0.620466</td>\n",
       "      <td>1.0</td>\n",
       "      <td>Exact</td>\n",
       "    </tr>\n",
       "    <tr>\n",
       "      <th>477</th>\n",
       "      <td>1180</td>\n",
       "      <td>http://purl.obolibrary.org/obo/HP_0001915</td>\n",
       "      <td>http://purl.obolibrary.org/obo/HP_0001915</td>\n",
       "      <td>0.743048</td>\n",
       "      <td>1.0</td>\n",
       "      <td>Exact</td>\n",
       "    </tr>\n",
       "    <tr>\n",
       "      <th>478</th>\n",
       "      <td>1185</td>\n",
       "      <td>http://www.ebi.ac.uk/efo/EFO_0009812</td>\n",
       "      <td>http://www.ebi.ac.uk/efo/EFO_0009812</td>\n",
       "      <td>0.696382</td>\n",
       "      <td>1.0</td>\n",
       "      <td>Broad</td>\n",
       "    </tr>\n",
       "    <tr>\n",
       "      <th>479</th>\n",
       "      <td>1186</td>\n",
       "      <td>http://www.ebi.ac.uk/efo/EFO_0009812</td>\n",
       "      <td>http://www.ebi.ac.uk/efo/EFO_0009812</td>\n",
       "      <td>0.865940</td>\n",
       "      <td>1.0</td>\n",
       "      <td>Broad</td>\n",
       "    </tr>\n",
       "  </tbody>\n",
       "</table>\n",
       "<p>480 rows × 6 columns</p>\n",
       "</div>"
      ],
      "text/plain": [
       "     mapping_id                                     manual  \\\n",
       "0             1       http://www.ebi.ac.uk/efo/EFO_0004616   \n",
       "1             2       http://www.ebi.ac.uk/efo/EFO_0003778   \n",
       "2             8       http://www.ebi.ac.uk/efo/EFO_0000217   \n",
       "3            21       http://www.ebi.ac.uk/efo/EFO_0000685   \n",
       "4            24       http://www.ebi.ac.uk/efo/EFO_0001422   \n",
       "..          ...                                        ...   \n",
       "475        1175       http://www.ebi.ac.uk/efo/EFO_0002422   \n",
       "476        1176       http://www.ebi.ac.uk/efo/EFO_0008549   \n",
       "477        1180  http://purl.obolibrary.org/obo/HP_0001915   \n",
       "478        1185       http://www.ebi.ac.uk/efo/EFO_0009812   \n",
       "479        1186       http://www.ebi.ac.uk/efo/EFO_0009812   \n",
       "\n",
       "                                    prediction     score   nx MAPPING_TYPE  \n",
       "0         http://www.ebi.ac.uk/efo/EFO_0004616  0.620142  1.0        Broad  \n",
       "1         http://www.ebi.ac.uk/efo/EFO_0003778  0.697339  1.0        Other  \n",
       "2         http://www.ebi.ac.uk/efo/EFO_0000217  0.892920  1.0        Broad  \n",
       "3         http://www.ebi.ac.uk/efo/EFO_0000685  0.802925  1.0        Broad  \n",
       "4         http://www.ebi.ac.uk/efo/EFO_0001422  0.853770  1.0        Broad  \n",
       "..                                         ...       ...  ...          ...  \n",
       "475       http://www.ebi.ac.uk/efo/EFO_0002422  0.717567  1.0        Exact  \n",
       "476       http://www.ebi.ac.uk/efo/EFO_0008549  0.620466  1.0        Exact  \n",
       "477  http://purl.obolibrary.org/obo/HP_0001915  0.743048  1.0        Exact  \n",
       "478       http://www.ebi.ac.uk/efo/EFO_0009812  0.696382  1.0        Broad  \n",
       "479       http://www.ebi.ac.uk/efo/EFO_0009812  0.865940  1.0        Broad  \n",
       "\n",
       "[480 rows x 6 columns]"
      ]
     },
     "execution_count": 5,
     "metadata": {},
     "output_type": "execute_result"
    }
   ],
   "source": [
    "file = data_dir / \"output\" / \"stage2-output\" / \"mapping_agg_intermediates\" / \"BioSentVec_1.0.csv\"\n",
    "assert file.exists(), file\n",
    "\n",
    "df = pd.read_csv(file)\n",
    "df"
   ]
  },
  {
   "cell_type": "code",
   "execution_count": 6,
   "id": "24aaf8f8-0daf-46d4-9afb-b006f17b0c4d",
   "metadata": {
    "execution": {
     "iopub.execute_input": "2022-12-14T15:25:26.110523Z",
     "iopub.status.busy": "2022-12-14T15:25:26.109983Z",
     "iopub.status.idle": "2022-12-14T15:25:26.129168Z",
     "shell.execute_reply": "2022-12-14T15:25:26.128540Z",
     "shell.execute_reply.started": "2022-12-14T15:25:26.110471Z"
    },
    "tags": []
   },
   "outputs": [],
   "source": [
    "df1 = df[(df[\"nx\"] >= 1) & (df.apply(lambda row: row[\"manual\"] != row[\"prediction\"] , axis=1))]"
   ]
  },
  {
   "cell_type": "code",
   "execution_count": 7,
   "id": "fdfdd46d-2687-4daf-a71c-0ac241358fba",
   "metadata": {
    "execution": {
     "iopub.execute_input": "2022-12-14T15:25:26.988043Z",
     "iopub.status.busy": "2022-12-14T15:25:26.987498Z",
     "iopub.status.idle": "2022-12-14T15:25:27.000719Z",
     "shell.execute_reply": "2022-12-14T15:25:27.000052Z",
     "shell.execute_reply.started": "2022-12-14T15:25:26.987979Z"
    },
    "tags": []
   },
   "outputs": [
    {
     "data": {
      "text/html": [
       "<div>\n",
       "<style scoped>\n",
       "    .dataframe tbody tr th:only-of-type {\n",
       "        vertical-align: middle;\n",
       "    }\n",
       "\n",
       "    .dataframe tbody tr th {\n",
       "        vertical-align: top;\n",
       "    }\n",
       "\n",
       "    .dataframe thead th {\n",
       "        text-align: right;\n",
       "    }\n",
       "</style>\n",
       "<table border=\"1\" class=\"dataframe\">\n",
       "  <thead>\n",
       "    <tr style=\"text-align: right;\">\n",
       "      <th></th>\n",
       "      <th>mapping_id</th>\n",
       "      <th>manual</th>\n",
       "      <th>prediction</th>\n",
       "      <th>score</th>\n",
       "      <th>nx</th>\n",
       "      <th>MAPPING_TYPE</th>\n",
       "    </tr>\n",
       "  </thead>\n",
       "  <tbody>\n",
       "  </tbody>\n",
       "</table>\n",
       "</div>"
      ],
      "text/plain": [
       "Empty DataFrame\n",
       "Columns: [mapping_id, manual, prediction, score, nx, MAPPING_TYPE]\n",
       "Index: []"
      ]
     },
     "execution_count": 7,
     "metadata": {},
     "output_type": "execute_result"
    }
   ],
   "source": [
    "df1"
   ]
  },
  {
   "cell_type": "code",
   "execution_count": 8,
   "id": "72e59087-f561-46c7-99bf-a9ab86fafff6",
   "metadata": {
    "execution": {
     "iopub.execute_input": "2022-12-14T15:25:27.899208Z",
     "iopub.status.busy": "2022-12-14T15:25:27.898680Z",
     "iopub.status.idle": "2022-12-14T15:25:27.904878Z",
     "shell.execute_reply": "2022-12-14T15:25:27.903657Z",
     "shell.execute_reply.started": "2022-12-14T15:25:27.899154Z"
    },
    "tags": []
   },
   "outputs": [],
   "source": [
    "from pathlib import Path"
   ]
  },
  {
   "cell_type": "code",
   "execution_count": 9,
   "id": "e6a87518-ce3b-4d85-ac94-21ca5d833e50",
   "metadata": {
    "execution": {
     "iopub.execute_input": "2022-12-14T15:25:44.627913Z",
     "iopub.status.busy": "2022-12-14T15:25:44.627584Z",
     "iopub.status.idle": "2022-12-14T15:25:44.633461Z",
     "shell.execute_reply": "2022-12-14T15:25:44.632864Z",
     "shell.execute_reply.started": "2022-12-14T15:25:44.627890Z"
    },
    "tags": []
   },
   "outputs": [
    {
     "data": {
      "text/plain": [
       "[PosixPath('/data/ik18445_cache/projects/vectology/stage2/data/output/stage2-output/mapping_agg_intermediates/BioSentVec_1.0.csv'),\n",
       " PosixPath('/data/ik18445_cache/projects/vectology/stage2/data/output/stage2-output/mapping_agg_intermediates/BioSentVec-BioConceptVec_1.0.csv'),\n",
       " PosixPath('/data/ik18445_cache/projects/vectology/stage2/data/output/stage2-output/mapping_agg_intermediates/BLUEBERT-EFO_1.0.csv'),\n",
       " PosixPath('/data/ik18445_cache/projects/vectology/stage2/data/output/stage2-output/mapping_agg_intermediates/GUSE_1.0.csv'),\n",
       " PosixPath('/data/ik18445_cache/projects/vectology/stage2/data/output/stage2-output/mapping_agg_intermediates/SciSpacy_1.0.csv'),\n",
       " PosixPath('/data/ik18445_cache/projects/vectology/stage2/data/output/stage2-output/mapping_agg_intermediates/BlueBERT_1.0.csv'),\n",
       " PosixPath('/data/ik18445_cache/projects/vectology/stage2/data/output/stage2-output/mapping_agg_intermediates/Spacy_1.0.csv'),\n",
       " PosixPath('/data/ik18445_cache/projects/vectology/stage2/data/output/stage2-output/mapping_agg_intermediates/Levenshtein_1.0.csv'),\n",
       " PosixPath('/data/ik18445_cache/projects/vectology/stage2/data/output/stage2-output/mapping_agg_intermediates/Zooma_1.0.csv'),\n",
       " PosixPath('/data/ik18445_cache/projects/vectology/stage2/data/output/stage2-output/mapping_agg_intermediates/BioBERT_1.0.csv')]"
      ]
     },
     "execution_count": 9,
     "metadata": {},
     "output_type": "execute_result"
    }
   ],
   "source": [
    "files = []\n",
    "for i in Path(file.parent).iterdir():\n",
    "    files.append(i)\n",
    "files"
   ]
  },
  {
   "cell_type": "code",
   "execution_count": 11,
   "id": "e1606df5-28e5-49ce-aaf2-be26c87d7d2b",
   "metadata": {
    "execution": {
     "iopub.execute_input": "2022-12-14T15:32:52.940472Z",
     "iopub.status.busy": "2022-12-14T15:32:52.939892Z",
     "iopub.status.idle": "2022-12-14T15:32:53.027396Z",
     "shell.execute_reply": "2022-12-14T15:32:53.026710Z",
     "shell.execute_reply.started": "2022-12-14T15:32:52.940420Z"
    },
    "tags": []
   },
   "outputs": [
    {
     "name": "stdout",
     "output_type": "stream",
     "text": [
      "/data/ik18445_cache/projects/vectology/stage2/data/output/stage2-output/mapping_agg_intermediates/BioSentVec_1.0.csv 0\n",
      "/data/ik18445_cache/projects/vectology/stage2/data/output/stage2-output/mapping_agg_intermediates/BioSentVec-BioConceptVec_1.0.csv 0\n",
      "/data/ik18445_cache/projects/vectology/stage2/data/output/stage2-output/mapping_agg_intermediates/BLUEBERT-EFO_1.0.csv 0\n",
      "/data/ik18445_cache/projects/vectology/stage2/data/output/stage2-output/mapping_agg_intermediates/GUSE_1.0.csv 0\n",
      "/data/ik18445_cache/projects/vectology/stage2/data/output/stage2-output/mapping_agg_intermediates/SciSpacy_1.0.csv 0\n",
      "/data/ik18445_cache/projects/vectology/stage2/data/output/stage2-output/mapping_agg_intermediates/BlueBERT_1.0.csv 0\n",
      "/data/ik18445_cache/projects/vectology/stage2/data/output/stage2-output/mapping_agg_intermediates/Spacy_1.0.csv 0\n",
      "/data/ik18445_cache/projects/vectology/stage2/data/output/stage2-output/mapping_agg_intermediates/Levenshtein_1.0.csv 0\n",
      "/data/ik18445_cache/projects/vectology/stage2/data/output/stage2-output/mapping_agg_intermediates/Zooma_1.0.csv 0\n",
      "/data/ik18445_cache/projects/vectology/stage2/data/output/stage2-output/mapping_agg_intermediates/BioBERT_1.0.csv 0\n"
     ]
    }
   ],
   "source": [
    "for file in files:\n",
    "    df = pd.read_csv(file)\n",
    "    df1 = df[(df[\"nx\"] >= 1) & (df.apply(lambda row: row[\"manual\"] != row[\"prediction\"] , axis=1))]\n",
    "    print(file, len(df1))"
   ]
  }
 ],
 "metadata": {
  "kernelspec": {
   "display_name": "Python 3 (ipykernel)",
   "language": "python",
   "name": "python3"
  },
  "language_info": {
   "codemirror_mode": {
    "name": "ipython",
    "version": 3
   },
   "file_extension": ".py",
   "mimetype": "text/x-python",
   "name": "python",
   "nbconvert_exporter": "python",
   "pygments_lexer": "ipython3",
   "version": "3.8.13"
  }
 },
 "nbformat": 4,
 "nbformat_minor": 5
}
