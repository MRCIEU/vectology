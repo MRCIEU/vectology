{
 "cells": [
  {
   "cell_type": "markdown",
   "id": "deb1940e-12c8-45b9-bf2c-ba51305c3e60",
   "metadata": {},
   "source": [
    "# constituent dataset"
   ]
  },
  {
   "cell_type": "code",
   "execution_count": 75,
   "id": "4ef6bcf7-da88-4868-9dd7-6dc705e3ca17",
   "metadata": {
    "execution": {
     "iopub.execute_input": "2022-05-17T17:08:49.317261Z",
     "iopub.status.busy": "2022-05-17T17:08:49.316817Z",
     "iopub.status.idle": "2022-05-17T17:08:49.350335Z",
     "shell.execute_reply": "2022-05-17T17:08:49.349515Z",
     "shell.execute_reply.started": "2022-05-17T17:08:49.317209Z"
    },
    "tags": []
   },
   "outputs": [],
   "source": [
    "# pairwise file, too slow\n",
    "# file_path = paths.stage1[\"output2_dir\"] / \"BioBERT-pairwise.tsv.gz\"\n",
    "# assert file_path.exists()\n",
    "# df = pd.read_csv(file_path, sep=\"\\t\")\n",
    "# df"
   ]
  },
  {
   "cell_type": "code",
   "execution_count": 76,
   "id": "6b91f865-f7eb-4d39-ac39-5f84c7b696c0",
   "metadata": {
    "execution": {
     "iopub.execute_input": "2022-05-17T17:08:49.351964Z",
     "iopub.status.busy": "2022-05-17T17:08:49.351706Z",
     "iopub.status.idle": "2022-05-17T17:08:49.521334Z",
     "shell.execute_reply": "2022-05-17T17:08:49.520240Z",
     "shell.execute_reply.started": "2022-05-17T17:08:49.351944Z"
    },
    "tags": []
   },
   "outputs": [
    {
     "data": {
      "text/html": [
       "<div>\n",
       "<style scoped>\n",
       "    .dataframe tbody tr th:only-of-type {\n",
       "        vertical-align: middle;\n",
       "    }\n",
       "\n",
       "    .dataframe tbody tr th {\n",
       "        vertical-align: top;\n",
       "    }\n",
       "\n",
       "    .dataframe thead th {\n",
       "        text-align: right;\n",
       "    }\n",
       "</style>\n",
       "<table border=\"1\" class=\"dataframe\">\n",
       "  <thead>\n",
       "    <tr style=\"text-align: right;\">\n",
       "      <th></th>\n",
       "      <th>mapping_id</th>\n",
       "      <th>manual</th>\n",
       "      <th>prediction</th>\n",
       "      <th>score</th>\n",
       "    </tr>\n",
       "  </thead>\n",
       "  <tbody>\n",
       "    <tr>\n",
       "      <th>0</th>\n",
       "      <td>1</td>\n",
       "      <td>http://www.ebi.ac.uk/efo/EFO_0004616</td>\n",
       "      <td>http://www.ebi.ac.uk/efo/EFO_0007289</td>\n",
       "      <td>0.932580</td>\n",
       "    </tr>\n",
       "    <tr>\n",
       "      <th>1</th>\n",
       "      <td>1</td>\n",
       "      <td>http://www.ebi.ac.uk/efo/EFO_0004616</td>\n",
       "      <td>http://purl.obolibrary.org/obo/DOID_7551</td>\n",
       "      <td>0.931125</td>\n",
       "    </tr>\n",
       "    <tr>\n",
       "      <th>2</th>\n",
       "      <td>1</td>\n",
       "      <td>http://www.ebi.ac.uk/efo/EFO_0004616</td>\n",
       "      <td>http://purl.obolibrary.org/obo/MONDO_0003366</td>\n",
       "      <td>0.931102</td>\n",
       "    </tr>\n",
       "    <tr>\n",
       "      <th>3</th>\n",
       "      <td>1</td>\n",
       "      <td>http://www.ebi.ac.uk/efo/EFO_0004616</td>\n",
       "      <td>http://www.ebi.ac.uk/efo/EFO_1001812</td>\n",
       "      <td>0.930256</td>\n",
       "    </tr>\n",
       "    <tr>\n",
       "      <th>4</th>\n",
       "      <td>1</td>\n",
       "      <td>http://www.ebi.ac.uk/efo/EFO_0004616</td>\n",
       "      <td>http://www.ebi.ac.uk/efo/EFO_1000833</td>\n",
       "      <td>0.929055</td>\n",
       "    </tr>\n",
       "    <tr>\n",
       "      <th>...</th>\n",
       "      <td>...</td>\n",
       "      <td>...</td>\n",
       "      <td>...</td>\n",
       "      <td>...</td>\n",
       "    </tr>\n",
       "    <tr>\n",
       "      <th>119095</th>\n",
       "      <td>1191</td>\n",
       "      <td>http://www.ebi.ac.uk/efo/EFO_0005539</td>\n",
       "      <td>http://purl.obolibrary.org/obo/MONDO_0002721</td>\n",
       "      <td>0.938288</td>\n",
       "    </tr>\n",
       "    <tr>\n",
       "      <th>119096</th>\n",
       "      <td>1191</td>\n",
       "      <td>http://www.ebi.ac.uk/efo/EFO_0005539</td>\n",
       "      <td>http://purl.obolibrary.org/obo/HP_0030680</td>\n",
       "      <td>0.938174</td>\n",
       "    </tr>\n",
       "    <tr>\n",
       "      <th>119097</th>\n",
       "      <td>1191</td>\n",
       "      <td>http://www.ebi.ac.uk/efo/EFO_0005539</td>\n",
       "      <td>http://www.orpha.net/ORDO/Orphanet_3221</td>\n",
       "      <td>0.938103</td>\n",
       "    </tr>\n",
       "    <tr>\n",
       "      <th>119098</th>\n",
       "      <td>1191</td>\n",
       "      <td>http://www.ebi.ac.uk/efo/EFO_0005539</td>\n",
       "      <td>http://www.orpha.net/ORDO/Orphanet_98608</td>\n",
       "      <td>0.937937</td>\n",
       "    </tr>\n",
       "    <tr>\n",
       "      <th>119099</th>\n",
       "      <td>1191</td>\n",
       "      <td>http://www.ebi.ac.uk/efo/EFO_0005539</td>\n",
       "      <td>http://www.orpha.net/ORDO/Orphanet_231720</td>\n",
       "      <td>0.937929</td>\n",
       "    </tr>\n",
       "  </tbody>\n",
       "</table>\n",
       "<p>119100 rows × 4 columns</p>\n",
       "</div>"
      ],
      "text/plain": [
       "        mapping_id                                manual  \\\n",
       "0                1  http://www.ebi.ac.uk/efo/EFO_0004616   \n",
       "1                1  http://www.ebi.ac.uk/efo/EFO_0004616   \n",
       "2                1  http://www.ebi.ac.uk/efo/EFO_0004616   \n",
       "3                1  http://www.ebi.ac.uk/efo/EFO_0004616   \n",
       "4                1  http://www.ebi.ac.uk/efo/EFO_0004616   \n",
       "...            ...                                   ...   \n",
       "119095        1191  http://www.ebi.ac.uk/efo/EFO_0005539   \n",
       "119096        1191  http://www.ebi.ac.uk/efo/EFO_0005539   \n",
       "119097        1191  http://www.ebi.ac.uk/efo/EFO_0005539   \n",
       "119098        1191  http://www.ebi.ac.uk/efo/EFO_0005539   \n",
       "119099        1191  http://www.ebi.ac.uk/efo/EFO_0005539   \n",
       "\n",
       "                                          prediction     score  \n",
       "0               http://www.ebi.ac.uk/efo/EFO_0007289  0.932580  \n",
       "1           http://purl.obolibrary.org/obo/DOID_7551  0.931125  \n",
       "2       http://purl.obolibrary.org/obo/MONDO_0003366  0.931102  \n",
       "3               http://www.ebi.ac.uk/efo/EFO_1001812  0.930256  \n",
       "4               http://www.ebi.ac.uk/efo/EFO_1000833  0.929055  \n",
       "...                                              ...       ...  \n",
       "119095  http://purl.obolibrary.org/obo/MONDO_0002721  0.938288  \n",
       "119096     http://purl.obolibrary.org/obo/HP_0030680  0.938174  \n",
       "119097       http://www.orpha.net/ORDO/Orphanet_3221  0.938103  \n",
       "119098      http://www.orpha.net/ORDO/Orphanet_98608  0.937937  \n",
       "119099     http://www.orpha.net/ORDO/Orphanet_231720  0.937929  \n",
       "\n",
       "[119100 rows x 4 columns]"
      ]
     },
     "execution_count": 76,
     "metadata": {},
     "output_type": "execute_result"
    }
   ],
   "source": [
    "# after filter_paiwise_file\n",
    "file_path = paths.stage1[\"output2_dir\"] / \"BioBERT-pairwise-filter.tsv.gz\"\n",
    "assert file_path.exists()\n",
    "df = pd.read_csv(file_path, sep=\"\\t\")\n",
    "df"
   ]
  },
  {
   "cell_type": "markdown",
   "id": "4baad676-f109-488b-a563-6832e9523900",
   "metadata": {
    "tags": []
   },
   "source": [
    "# data prep"
   ]
  },
  {
   "cell_type": "markdown",
   "id": "4daa98e8-7665-4a23-9b52-bca852b79907",
   "metadata": {},
   "source": [
    "## top-100 (`get_top_using_pairwise_file`)"
   ]
  },
  {
   "cell_type": "code",
   "execution_count": 77,
   "id": "657a400c-a030-4ba9-9e6a-90b5f089ddab",
   "metadata": {
    "execution": {
     "iopub.execute_input": "2022-05-17T17:08:49.523455Z",
     "iopub.status.busy": "2022-05-17T17:08:49.522980Z",
     "iopub.status.idle": "2022-05-17T17:09:04.486129Z",
     "shell.execute_reply": "2022-05-17T17:09:04.485013Z",
     "shell.execute_reply.started": "2022-05-17T17:08:49.523407Z"
    },
    "tags": []
   },
   "outputs": [],
   "source": [
    "# TODO: after nx\n",
    "cache_path = paths.stage1[\"output2_dir\"] / \"BioBERT-pairwise-filter.tsv.gz\"\n",
    "top_100_df = stage1_processing.get_top100_using_pairwise_file(\n",
    "    cache_path=cache_path,\n",
    "    efo_nx=EFO_NX,\n",
    "    ebi_df=EBI_DATA,\n",
    ")"
   ]
  },
  {
   "cell_type": "code",
   "execution_count": 78,
   "id": "4c7439c9-0410-461e-a94b-3be403405dd3",
   "metadata": {
    "execution": {
     "iopub.execute_input": "2022-05-17T17:09:04.488154Z",
     "iopub.status.busy": "2022-05-17T17:09:04.487898Z",
     "iopub.status.idle": "2022-05-17T17:09:04.522466Z",
     "shell.execute_reply": "2022-05-17T17:09:04.521759Z",
     "shell.execute_reply.started": "2022-05-17T17:09:04.488130Z"
    },
    "tags": []
   },
   "outputs": [
    {
     "data": {
      "text/html": [
       "<div>\n",
       "<style scoped>\n",
       "    .dataframe tbody tr th:only-of-type {\n",
       "        vertical-align: middle;\n",
       "    }\n",
       "\n",
       "    .dataframe tbody tr th {\n",
       "        vertical-align: top;\n",
       "    }\n",
       "\n",
       "    .dataframe thead th {\n",
       "        text-align: right;\n",
       "    }\n",
       "</style>\n",
       "<table border=\"1\" class=\"dataframe\">\n",
       "  <thead>\n",
       "    <tr style=\"text-align: right;\">\n",
       "      <th></th>\n",
       "      <th>mapping_id</th>\n",
       "      <th>manual</th>\n",
       "      <th>prediction</th>\n",
       "      <th>score</th>\n",
       "      <th>nx</th>\n",
       "    </tr>\n",
       "  </thead>\n",
       "  <tbody>\n",
       "    <tr>\n",
       "      <th>0</th>\n",
       "      <td>1</td>\n",
       "      <td>http://www.ebi.ac.uk/efo/EFO_0004616</td>\n",
       "      <td>http://www.ebi.ac.uk/efo/EFO_0007289</td>\n",
       "      <td>0.932580</td>\n",
       "      <td>0.190476</td>\n",
       "    </tr>\n",
       "    <tr>\n",
       "      <th>1</th>\n",
       "      <td>1</td>\n",
       "      <td>http://www.ebi.ac.uk/efo/EFO_0004616</td>\n",
       "      <td>http://purl.obolibrary.org/obo/DOID_7551</td>\n",
       "      <td>0.931125</td>\n",
       "      <td>0.185185</td>\n",
       "    </tr>\n",
       "    <tr>\n",
       "      <th>2</th>\n",
       "      <td>1</td>\n",
       "      <td>http://www.ebi.ac.uk/efo/EFO_0004616</td>\n",
       "      <td>http://purl.obolibrary.org/obo/MONDO_0003366</td>\n",
       "      <td>0.931102</td>\n",
       "      <td>0.444444</td>\n",
       "    </tr>\n",
       "    <tr>\n",
       "      <th>3</th>\n",
       "      <td>1</td>\n",
       "      <td>http://www.ebi.ac.uk/efo/EFO_0004616</td>\n",
       "      <td>http://www.ebi.ac.uk/efo/EFO_1001812</td>\n",
       "      <td>0.930256</td>\n",
       "      <td>0.238095</td>\n",
       "    </tr>\n",
       "    <tr>\n",
       "      <th>4</th>\n",
       "      <td>1</td>\n",
       "      <td>http://www.ebi.ac.uk/efo/EFO_0004616</td>\n",
       "      <td>http://www.ebi.ac.uk/efo/EFO_1000833</td>\n",
       "      <td>0.929055</td>\n",
       "      <td>0.272727</td>\n",
       "    </tr>\n",
       "    <tr>\n",
       "      <th>...</th>\n",
       "      <td>...</td>\n",
       "      <td>...</td>\n",
       "      <td>...</td>\n",
       "      <td>...</td>\n",
       "      <td>...</td>\n",
       "    </tr>\n",
       "    <tr>\n",
       "      <th>119095</th>\n",
       "      <td>1191</td>\n",
       "      <td>http://www.ebi.ac.uk/efo/EFO_0005539</td>\n",
       "      <td>http://purl.obolibrary.org/obo/MONDO_0002721</td>\n",
       "      <td>0.938288</td>\n",
       "      <td>0.400000</td>\n",
       "    </tr>\n",
       "    <tr>\n",
       "      <th>119096</th>\n",
       "      <td>1191</td>\n",
       "      <td>http://www.ebi.ac.uk/efo/EFO_0005539</td>\n",
       "      <td>http://purl.obolibrary.org/obo/HP_0030680</td>\n",
       "      <td>0.938174</td>\n",
       "      <td>0.142857</td>\n",
       "    </tr>\n",
       "    <tr>\n",
       "      <th>119097</th>\n",
       "      <td>1191</td>\n",
       "      <td>http://www.ebi.ac.uk/efo/EFO_0005539</td>\n",
       "      <td>http://www.orpha.net/ORDO/Orphanet_3221</td>\n",
       "      <td>0.938103</td>\n",
       "      <td>0.146341</td>\n",
       "    </tr>\n",
       "    <tr>\n",
       "      <th>119098</th>\n",
       "      <td>1191</td>\n",
       "      <td>http://www.ebi.ac.uk/efo/EFO_0005539</td>\n",
       "      <td>http://www.orpha.net/ORDO/Orphanet_98608</td>\n",
       "      <td>0.937937</td>\n",
       "      <td>0.250000</td>\n",
       "    </tr>\n",
       "    <tr>\n",
       "      <th>119099</th>\n",
       "      <td>1191</td>\n",
       "      <td>http://www.ebi.ac.uk/efo/EFO_0005539</td>\n",
       "      <td>http://www.orpha.net/ORDO/Orphanet_231720</td>\n",
       "      <td>0.937929</td>\n",
       "      <td>0.111111</td>\n",
       "    </tr>\n",
       "  </tbody>\n",
       "</table>\n",
       "<p>119100 rows × 5 columns</p>\n",
       "</div>"
      ],
      "text/plain": [
       "        mapping_id                                manual  \\\n",
       "0                1  http://www.ebi.ac.uk/efo/EFO_0004616   \n",
       "1                1  http://www.ebi.ac.uk/efo/EFO_0004616   \n",
       "2                1  http://www.ebi.ac.uk/efo/EFO_0004616   \n",
       "3                1  http://www.ebi.ac.uk/efo/EFO_0004616   \n",
       "4                1  http://www.ebi.ac.uk/efo/EFO_0004616   \n",
       "...            ...                                   ...   \n",
       "119095        1191  http://www.ebi.ac.uk/efo/EFO_0005539   \n",
       "119096        1191  http://www.ebi.ac.uk/efo/EFO_0005539   \n",
       "119097        1191  http://www.ebi.ac.uk/efo/EFO_0005539   \n",
       "119098        1191  http://www.ebi.ac.uk/efo/EFO_0005539   \n",
       "119099        1191  http://www.ebi.ac.uk/efo/EFO_0005539   \n",
       "\n",
       "                                          prediction     score        nx  \n",
       "0               http://www.ebi.ac.uk/efo/EFO_0007289  0.932580  0.190476  \n",
       "1           http://purl.obolibrary.org/obo/DOID_7551  0.931125  0.185185  \n",
       "2       http://purl.obolibrary.org/obo/MONDO_0003366  0.931102  0.444444  \n",
       "3               http://www.ebi.ac.uk/efo/EFO_1001812  0.930256  0.238095  \n",
       "4               http://www.ebi.ac.uk/efo/EFO_1000833  0.929055  0.272727  \n",
       "...                                              ...       ...       ...  \n",
       "119095  http://purl.obolibrary.org/obo/MONDO_0002721  0.938288  0.400000  \n",
       "119096     http://purl.obolibrary.org/obo/HP_0030680  0.938174  0.142857  \n",
       "119097       http://www.orpha.net/ORDO/Orphanet_3221  0.938103  0.146341  \n",
       "119098      http://www.orpha.net/ORDO/Orphanet_98608  0.937937  0.250000  \n",
       "119099     http://www.orpha.net/ORDO/Orphanet_231720  0.937929  0.111111  \n",
       "\n",
       "[119100 rows x 5 columns]"
      ]
     },
     "execution_count": 78,
     "metadata": {},
     "output_type": "execute_result"
    }
   ],
   "source": [
    "top_100_df"
   ]
  },
  {
   "cell_type": "markdown",
   "id": "d2aa2b18-f61b-4435-92d1-516d9639a5d2",
   "metadata": {},
   "source": [
    "# batch Processing"
   ]
  },
  {
   "cell_type": "code",
   "execution_count": 80,
   "id": "96cc86a0-e9ed-48ef-9163-0505d0cd8cf3",
   "metadata": {
    "execution": {
     "iopub.execute_input": "2022-05-17T17:09:04.554195Z",
     "iopub.status.busy": "2022-05-17T17:09:04.553950Z",
     "iopub.status.idle": "2022-05-17T17:09:04.586460Z",
     "shell.execute_reply": "2022-05-17T17:09:04.585737Z",
     "shell.execute_reply.started": "2022-05-17T17:09:04.554174Z"
    },
    "tags": []
   },
   "outputs": [],
   "source": [
    "def prep_top100_batch(model_collection, efo_nx, ebi_df):\n",
    "    for k, v in model_collection.items():\n",
    "        logger.info(k)\n",
    "        cache_path = v[\"pairwise_filter\"]\n",
    "        assert cache_path.exists()\n",
    "        top_100_df = stage1_processing.get_top100_using_pairwise_file(\n",
    "            cache_path=cache_path,\n",
    "            efo_nx=efo_nx,\n",
    "            ebi_df=ebi_df,\n",
    "        )\n",
    "        file_path = v[\"top_100_revised\"]\n",
    "        print(file_path)\n",
    "        top_100_df.to_csv(file_path, index=False)"
   ]
  },
  {
   "cell_type": "code",
   "execution_count": 82,
   "id": "f8e8222f-f9d6-4793-9e59-52f80bd8ddf8",
   "metadata": {
    "execution": {
     "iopub.execute_input": "2022-05-17T17:09:04.816938Z",
     "iopub.status.busy": "2022-05-17T17:09:04.816777Z",
     "iopub.status.idle": "2022-05-17T17:11:07.031348Z",
     "shell.execute_reply": "2022-05-17T17:11:07.030712Z",
     "shell.execute_reply.started": "2022-05-17T17:09:04.816918Z"
    },
    "tags": []
   },
   "outputs": [
    {
     "name": "stderr",
     "output_type": "stream",
     "text": [
      "2022-05-17 18:09:04.835 | INFO     | __main__:prep_top100_batch:3 - BLUEBERT-EFO\n"
     ]
    },
    {
     "name": "stdout",
     "output_type": "stream",
     "text": [
      "/data/ik18445_cache/projects/vectology/stage2/data/output/stage1-cache/BLUEBERT-EFO-top-100.csv\n"
     ]
    },
    {
     "name": "stderr",
     "output_type": "stream",
     "text": [
      "2022-05-17 18:09:19.872 | INFO     | __main__:prep_top100_batch:3 - BioBERT\n"
     ]
    },
    {
     "name": "stdout",
     "output_type": "stream",
     "text": [
      "/data/ik18445_cache/projects/vectology/stage2/data/output/stage1-cache/BioBERT-top-100.csv\n"
     ]
    },
    {
     "name": "stderr",
     "output_type": "stream",
     "text": [
      "2022-05-17 18:09:35.303 | INFO     | __main__:prep_top100_batch:3 - BioSentVec\n"
     ]
    },
    {
     "name": "stdout",
     "output_type": "stream",
     "text": [
      "/data/ik18445_cache/projects/vectology/stage2/data/output/stage1-cache/BioSentVec-top-100.csv\n"
     ]
    },
    {
     "name": "stderr",
     "output_type": "stream",
     "text": [
      "2022-05-17 18:09:51.088 | INFO     | __main__:prep_top100_batch:3 - BlueBERT\n"
     ]
    },
    {
     "name": "stdout",
     "output_type": "stream",
     "text": [
      "/data/ik18445_cache/projects/vectology/stage2/data/output/stage1-cache/BlueBERT-top-100.csv\n"
     ]
    },
    {
     "name": "stderr",
     "output_type": "stream",
     "text": [
      "2022-05-17 18:10:05.897 | INFO     | __main__:prep_top100_batch:3 - GUSE\n"
     ]
    },
    {
     "name": "stdout",
     "output_type": "stream",
     "text": [
      "/data/ik18445_cache/projects/vectology/stage2/data/output/stage1-cache/GUSE-top-100.csv\n"
     ]
    },
    {
     "name": "stderr",
     "output_type": "stream",
     "text": [
      "2022-05-17 18:10:21.525 | INFO     | __main__:prep_top100_batch:3 - Spacy\n"
     ]
    },
    {
     "name": "stdout",
     "output_type": "stream",
     "text": [
      "/data/ik18445_cache/projects/vectology/stage2/data/output/stage1-cache/Spacy-top-100.tsv\n"
     ]
    },
    {
     "name": "stderr",
     "output_type": "stream",
     "text": [
      "2022-05-17 18:10:36.132 | INFO     | __main__:prep_top100_batch:3 - SciSpacy\n"
     ]
    },
    {
     "name": "stdout",
     "output_type": "stream",
     "text": [
      "/data/ik18445_cache/projects/vectology/stage2/data/output/stage1-cache/SciSpacy-top-100.csv\n"
     ]
    },
    {
     "name": "stderr",
     "output_type": "stream",
     "text": [
      "2022-05-17 18:10:51.656 | INFO     | __main__:prep_top100_batch:3 - Zooma\n",
      "2022-05-17 18:10:53.017 | INFO     | __main__:prep_top100_batch:3 - Levenshtein\n"
     ]
    },
    {
     "name": "stdout",
     "output_type": "stream",
     "text": [
      "/data/ik18445_cache/projects/vectology/stage2/data/output/stage1-cache/Zooma-top-100.csv\n",
      "/data/ik18445_cache/projects/vectology/stage2/data/output/stage1-cache/Levenshtein-top-100.csv\n"
     ]
    }
   ],
   "source": [
    "prep_top100_batch(info.model_collection, efo_nx=EFO_NX, ebi_df=EBI_DATA)"
   ]
  }
 ],
 "metadata": {
  "kernelspec": {
   "display_name": "Python 3 (ipykernel)",
   "language": "python",
   "name": "python3"
  },
  "language_info": {
   "codemirror_mode": {
    "name": "ipython",
    "version": 3
   },
   "file_extension": ".py",
   "mimetype": "text/x-python",
   "name": "python",
   "nbconvert_exporter": "python",
   "pygments_lexer": "ipython3",
   "version": "3.8.13"
  }
 },
 "nbformat": 4,
 "nbformat_minor": 5
}
