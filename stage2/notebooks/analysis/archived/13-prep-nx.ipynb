{
 "cells": [
  {
   "cell_type": "code",
   "execution_count": 87,
   "id": "23e31e6e-2304-4159-8e1e-60d7a1878748",
   "metadata": {
    "execution": {
     "iopub.execute_input": "2022-05-13T14:52:14.346807Z",
     "iopub.status.busy": "2022-05-13T14:52:14.346368Z",
     "iopub.status.idle": "2022-05-13T14:52:16.250226Z",
     "shell.execute_reply": "2022-05-13T14:52:16.249402Z",
     "shell.execute_reply.started": "2022-05-13T14:52:14.346757Z"
    },
    "tags": []
   },
   "outputs": [],
   "source": [
    "efo_nx = stage1_nx.create_nx(efo_rel_df=EFO_RELS)"
   ]
  },
  {
   "cell_type": "code",
   "execution_count": 88,
   "id": "ff2f5131-c189-4b37-bcee-fdbfdd3ba244",
   "metadata": {
    "execution": {
     "iopub.execute_input": "2022-05-13T14:52:24.221263Z",
     "iopub.status.busy": "2022-05-13T14:52:24.220622Z",
     "iopub.status.idle": "2022-05-13T14:52:24.250501Z",
     "shell.execute_reply": "2022-05-13T14:52:24.249493Z",
     "shell.execute_reply.started": "2022-05-13T14:52:24.221185Z"
    },
    "tags": []
   },
   "outputs": [
    {
     "data": {
      "text/plain": [
       "nxontology.ontology.NXOntology"
      ]
     },
     "execution_count": 88,
     "metadata": {},
     "output_type": "execute_result"
    }
   ],
   "source": [
    "type(efo_nx)"
   ]
  },
  {
   "cell_type": "code",
   "execution_count": 89,
   "id": "8ca594ec-3f85-4a09-ab6c-fd88155bc1c0",
   "metadata": {
    "execution": {
     "iopub.execute_input": "2022-05-13T14:52:28.830124Z",
     "iopub.status.busy": "2022-05-13T14:52:28.829527Z",
     "iopub.status.idle": "2022-05-13T14:52:28.856558Z",
     "shell.execute_reply": "2022-05-13T14:52:28.855991Z",
     "shell.execute_reply.started": "2022-05-13T14:52:28.830073Z"
    },
    "tags": []
   },
   "outputs": [
    {
     "data": {
      "text/plain": [
       "<nxontology.ontology.NXOntology at 0x7f3dd01aa160>"
      ]
     },
     "execution_count": 89,
     "metadata": {},
     "output_type": "execute_result"
    }
   ],
   "source": [
    "efo_nx"
   ]
  },
  {
   "cell_type": "code",
   "execution_count": 99,
   "id": "83164e51-0603-4927-b67c-a6cb679a12a7",
   "metadata": {
    "execution": {
     "iopub.execute_input": "2022-05-13T15:04:29.808130Z",
     "iopub.status.busy": "2022-05-13T15:04:29.807705Z",
     "iopub.status.idle": "2022-05-13T15:04:29.874493Z",
     "shell.execute_reply": "2022-05-13T15:04:29.874002Z",
     "shell.execute_reply.started": "2022-05-13T15:04:29.808082Z"
    },
    "tags": []
   },
   "outputs": [],
   "source": [
    "file_path = paths.stage2[\"efo_nx\"]\n",
    "nx.write_gpickle(efo_nx, file_path)"
   ]
  },
  {
   "cell_type": "code",
   "execution_count": 100,
   "id": "3d7348c2-36a8-4ff7-983c-7e88b1bd2e07",
   "metadata": {
    "execution": {
     "iopub.execute_input": "2022-05-13T15:04:31.589670Z",
     "iopub.status.busy": "2022-05-13T15:04:31.589189Z",
     "iopub.status.idle": "2022-05-13T15:04:31.651500Z",
     "shell.execute_reply": "2022-05-13T15:04:31.650892Z",
     "shell.execute_reply.started": "2022-05-13T15:04:31.589618Z"
    },
    "tags": []
   },
   "outputs": [
    {
     "data": {
      "text/plain": [
       "<nxontology.ontology.NXOntology at 0x7f3e014e9bb0>"
      ]
     },
     "execution_count": 100,
     "metadata": {},
     "output_type": "execute_result"
    }
   ],
   "source": [
    "efo_nx_cache = nx.read_gpickle(file_path)\n",
    "efo_nx_cache"
   ]
  }
 ],
 "metadata": {
  "kernelspec": {
   "display_name": "Python 3 (ipykernel)",
   "language": "python",
   "name": "python3"
  },
  "language_info": {
   "codemirror_mode": {
    "name": "ipython",
    "version": 3
   },
   "file_extension": ".py",
   "mimetype": "text/x-python",
   "name": "python",
   "nbconvert_exporter": "python",
   "pygments_lexer": "ipython3",
   "version": "3.8.13"
  }
 },
 "nbformat": 4,
 "nbformat_minor": 5
}
