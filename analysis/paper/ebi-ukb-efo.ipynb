{
 "cells": [
  {
   "cell_type": "code",
   "execution_count": 1,
   "metadata": {},
   "outputs": [],
   "source": [
    "import pandas as pd\n",
    "import numpy as np\n",
    "import requests\n",
    "import json\n",
    "import time\n",
    "import os \n",
    "import gzip\n",
    "\n",
    "from scripts.vectology_functions import create_aaa_distances, create_pair_distances, embed_text, encode_traits\n",
    "from nxontology import NXOntology\n",
    "\n",
    "#!pip install pandas-profiling[notebook]==2.10.1\n",
    "from pandas_profiling import ProfileReport\n",
    "\n",
    "#from ontoma import OnToma\n",
    "#otmap = OnToma()\n",
    "\n",
    "import seaborn as sns\n",
    "\n",
    "# Apply the default theme\n",
    "sns.set_theme()"
   ]
  },
  {
   "cell_type": "code",
   "execution_count": 2,
   "metadata": {},
   "outputs": [],
   "source": [
    "# globals\n",
    "ebi_data = 'data/UK_Biobank_master_file.tsv'\n",
    "#efo_nodes = 'data/efo-nodes.tsv'\n",
    "#efo_data = 'data/efo_data.txt.gz'\n",
    "efo_nodes = 'data/epigraphdb_efo_nodes.csv'\n",
    "efo_rels = 'data/epigraphdb_efo_rels.csv'\n",
    "nxontology_measure = 'batet'\n",
    "\n",
    "modelData = [\n",
    "    {'name':'BioSentVec','model':'BioSentVec'},\n",
    "    {'name':'BioBERT','model':'biobert_v1.1_pubmed'},\n",
    "    {'name':'BlueBERT','model':'NCBI_BERT_pubmed_mimic_uncased_L-12_H-768_A-12'},\n",
    "]\n",
    "\n",
    "pallete=\"hls\""
   ]
  },
  {
   "cell_type": "code",
   "execution_count": 3,
   "metadata": {},
   "outputs": [
    {
     "name": "stdout",
     "output_type": "stream",
     "text": [
      "                                      query       MAPPED_TERM_LABEL  \\\n",
      "0           Vascular disorders of intestine        vascular disease   \n",
      "1                              Gonarthrosis  osteoarthritis || knee   \n",
      "2  Psoriatic and enteropathic arthropathies     psoriatic arthritis   \n",
      "3          Pain associated with micturition                 dysuria   \n",
      "4                                Other mood           mood disorder   \n",
      "\n",
      "            MAPPED_TERM_URI  \n",
      "0  EFO_0004264, EFO_0009431  \n",
      "1               EFO_0004616  \n",
      "2               EFO_0003778  \n",
      "3               EFO_0003901  \n",
      "4               EFO_0004247  \n",
      "(1565, 3)\n",
      "(1613, 3)\n",
      "(1600, 3)\n",
      "                                      query       MAPPED_TERM_LABEL  \\\n",
      "0           Vascular disorders of intestine        vascular disease   \n",
      "1           Vascular disorders of intestine        vascular disease   \n",
      "2                              Gonarthrosis  osteoarthritis || knee   \n",
      "3  Psoriatic and enteropathic arthropathies     psoriatic arthritis   \n",
      "4          Pain associated with micturition                 dysuria   \n",
      "\n",
      "            id  \n",
      "0  EFO_0004264  \n",
      "1  EFO_0009431  \n",
      "2  EFO_0004616  \n",
      "3  EFO_0003778  \n",
      "4  EFO_0003901  \n"
     ]
    }
   ],
   "source": [
    "# get the EBI UKB data\n",
    "#get ebi data\n",
    "#url='https://raw.githubusercontent.com/EBISPOT/EFO-UKB-mappings/master/UK_Biobank_master_file.tsv'\n",
    "#ebi_df = pd.read_csv(url,sep='\\t')\n",
    "\n",
    "ebi_df = pd.read_csv(ebi_data,sep='\\t')\n",
    "\n",
    "#drop some columns\n",
    "ebi_df = ebi_df[['ZOOMA QUERY','MAPPED_TERM_LABEL','MAPPED_TERM_URI']]\n",
    "ebi_df.rename(columns={'ZOOMA QUERY':'query'},inplace=True)\n",
    "print(ebi_df.head())\n",
    "print(ebi_df.shape)\n",
    "\n",
    "#create new rows for multiple labels\n",
    "#ebi_df = (\n",
    "#        ebi_df.assign(label=ebi_df.MAPPED_TERM_LABEL.str.split(\"\\|\\|\"))\n",
    "#        .explode(\"label\")\n",
    "#        .reset_index(drop=True).drop('MAPPED_TERM_LABEL',axis=1)\n",
    "#    )\n",
    "\n",
    "#create new rows for multiple ids\n",
    "ebi_df['MAPPED_TERM_URI']=ebi_df['MAPPED_TERM_URI'].str.replace('\\|\\|',',')\n",
    "ebi_df['MAPPED_TERM_URI']=ebi_df['MAPPED_TERM_URI'].str.replace('\\|',',')\n",
    "ebi_df = (\n",
    "        ebi_df.assign(id=ebi_df.MAPPED_TERM_URI.str.split(\",\"))\n",
    "        .explode(\"id\")\n",
    "        .reset_index(drop=True).drop('MAPPED_TERM_URI',axis=1)\n",
    "    )\n",
    "\n",
    "#clean up\n",
    "ebi_df['id'] = ebi_df['id'].str.strip()\n",
    "\n",
    "#drop cases where query and id are the same\n",
    "ebi_df.drop_duplicates(subset=['query','id'],inplace=True)\n",
    "print(ebi_df.shape)\n",
    "\n",
    "#drop nan\n",
    "ebi_df.dropna(inplace=True)\n",
    "print(ebi_df.shape)\n",
    "print(ebi_df.head())\n"
   ]
  },
  {
   "cell_type": "code",
   "execution_count": 4,
   "metadata": {},
   "outputs": [
    {
     "name": "stdout",
     "output_type": "stream",
     "text": [
      "                                      efo_label  \\\n",
      "0                 Xeroderma pigmentosum variant   \n",
      "1                         Xeroderma pigmentosum   \n",
      "2                               Ischemic stroke   \n",
      "3                             Cerebral ischemia   \n",
      "4                          small cell carcinoma   \n",
      "...                                         ...   \n",
      "25385         Acetazolamide-responsive myotonia   \n",
      "25386  Complete androgen insensitivity syndrome   \n",
      "25387                Intermediate DEND syndrome   \n",
      "25388                              Epiblepharon   \n",
      "25389              Congenital eyelid retraction   \n",
      "\n",
      "                                          efo_id  \n",
      "0       http://www.orpha.net/ORDO/Orphanet_90342  \n",
      "1         http://www.orpha.net/ORDO/Orphanet_910  \n",
      "2      http://purl.obolibrary.org/obo/HP_0002140  \n",
      "3      http://purl.obolibrary.org/obo/HP_0002637  \n",
      "4           http://www.ebi.ac.uk/efo/EFO_0008524  \n",
      "...                                          ...  \n",
      "25385   http://www.orpha.net/ORDO/Orphanet_99736  \n",
      "25386   http://www.orpha.net/ORDO/Orphanet_99429  \n",
      "25387   http://www.orpha.net/ORDO/Orphanet_99989  \n",
      "25388   http://www.orpha.net/ORDO/Orphanet_99169  \n",
      "25389   http://www.orpha.net/ORDO/Orphanet_99176  \n",
      "\n",
      "[25390 rows x 2 columns]\n",
      "CPU times: user 62.3 ms, sys: 9.83 ms, total: 72.2 ms\n",
      "Wall time: 73.8 ms\n"
     ]
    }
   ],
   "source": [
    "%%time\n",
    "\n",
    "# get EFO node data\n",
    "efo_node_df = pd.read_csv(efo_nodes)\n",
    "efo_node_df.rename(columns={'efo.value':'efo_label','efo.id':'efo_id'},inplace=True)\n",
    "#drop type\n",
    "efo_node_df.drop('efo.type',inplace=True,axis=1)\n",
    "efo_node_df.drop_duplicates(inplace=True)\n",
    "print(efo_node_df)"
   ]
  },
  {
   "cell_type": "code",
   "execution_count": 5,
   "metadata": {},
   "outputs": [
    {
     "name": "stdout",
     "output_type": "stream",
     "text": [
      "Missing: 21\n",
      "(1600, 3)\n",
      "                                      query       MAPPED_TERM_LABEL  \\\n",
      "0           Vascular disorders of intestine        vascular disease   \n",
      "1           Vascular disorders of intestine        vascular disease   \n",
      "2                              Gonarthrosis  osteoarthritis || knee   \n",
      "3  Psoriatic and enteropathic arthropathies     psoriatic arthritis   \n",
      "4          Pain associated with micturition                 dysuria   \n",
      "\n",
      "            id                               full_id  \n",
      "0  EFO_0004264  http://www.ebi.ac.uk/efo/EFO_0004264  \n",
      "1  EFO_0009431  http://www.ebi.ac.uk/efo/EFO_0009431  \n",
      "2  EFO_0004616  http://www.ebi.ac.uk/efo/EFO_0004616  \n",
      "3  EFO_0003778  http://www.ebi.ac.uk/efo/EFO_0003778  \n",
      "4  EFO_0003901  http://www.ebi.ac.uk/efo/EFO_0003901  \n",
      "(1579, 4)\n"
     ]
    }
   ],
   "source": [
    "#check all terms in EBI data set are in EFO node data\n",
    "efo_node_ids = list(efo_node_df['efo_id'])\n",
    "ebi_ids = list(ebi_df['id'])\n",
    "missing=[]\n",
    "matched = []\n",
    "for i in ebi_ids:\n",
    "    match = False\n",
    "    for s in efo_node_ids:\n",
    "        if i in s and match == False:\n",
    "            matched.append(s)\n",
    "            match = True\n",
    "    if match == False:\n",
    "        missing.append(i)\n",
    "print('Missing:',len(missing))\n",
    "\n",
    "# remove missing from ukb data\n",
    "print(ebi_df.shape)\n",
    "for i in missing:\n",
    "    ebi_df = ebi_df.drop(ebi_df[ebi_df['id'].str.contains(i)].index)\n",
    "ebi_df['full_id'] = matched\n",
    "print(ebi_df.head())\n",
    "print(ebi_df.shape)\n",
    "ebi_df.to_csv('output/ebi-ukb-cleaned.tsv',index=False,sep='\\t')\n"
   ]
  },
  {
   "cell_type": "code",
   "execution_count": 6,
   "metadata": {},
   "outputs": [
    {
     "name": "stdout",
     "output_type": "stream",
     "text": [
      "1579\n",
      "                                      query       MAPPED_TERM_LABEL  \\\n",
      "0           Vascular disorders of intestine        vascular disease   \n",
      "1           Vascular disorders of intestine        vascular disease   \n",
      "2                              Gonarthrosis  osteoarthritis || knee   \n",
      "3  Psoriatic and enteropathic arthropathies     psoriatic arthritis   \n",
      "4          Pain associated with micturition                 dysuria   \n",
      "\n",
      "            id                               full_id  \\\n",
      "0  EFO_0004264  http://www.ebi.ac.uk/efo/EFO_0004264   \n",
      "1  EFO_0009431  http://www.ebi.ac.uk/efo/EFO_0009431   \n",
      "2  EFO_0004616  http://www.ebi.ac.uk/efo/EFO_0004616   \n",
      "3  EFO_0003778  http://www.ebi.ac.uk/efo/EFO_0003778   \n",
      "4  EFO_0003901  http://www.ebi.ac.uk/efo/EFO_0003901   \n",
      "\n",
      "                                  processed  \n",
      "0           vascular disorders of intestine  \n",
      "1           vascular disorders of intestine  \n",
      "2                              gonarthrosis  \n",
      "3  psoriatic and enteropathic arthropathies  \n",
      "4          pain associated with micturition  \n"
     ]
    }
   ],
   "source": [
    "# preprocess\n",
    "process_text=[]\n",
    "for k,g in ebi_df.groupby(np.arange(len(ebi_df))//20):\n",
    "    params={'text_list':list(g['query'])}\n",
    "    process_res = requests.post('http://vectology-api.mrcieu.ac.uk/preprocess',data=json.dumps(params))\n",
    "    process_text.extend([d['result'].replace('unspecified','').replace('nec','') for d in process_res.json()])\n",
    "print(len(process_text))\n",
    "    \n",
    "ebi_df.loc[:, 'processed'] = process_text\n",
    "print(ebi_df.head())"
   ]
  },
  {
   "cell_type": "code",
   "execution_count": 7,
   "metadata": {},
   "outputs": [
    {
     "name": "stdout",
     "output_type": "stream",
     "text": [
      "Already done, reading output/ebi-ukb-vec.tsv.gz\n",
      "                                      query       MAPPED_TERM_LABEL  \\\n",
      "0           Vascular disorders of intestine        vascular disease   \n",
      "1           Vascular disorders of intestine        vascular disease   \n",
      "2                              Gonarthrosis  osteoarthritis || knee   \n",
      "3  Psoriatic and enteropathic arthropathies     psoriatic arthritis   \n",
      "4          Pain associated with micturition                 dysuria   \n",
      "\n",
      "            id                               full_id  \\\n",
      "0  EFO_0004264  http://www.ebi.ac.uk/efo/EFO_0004264   \n",
      "1  EFO_0009431  http://www.ebi.ac.uk/efo/EFO_0009431   \n",
      "2  EFO_0004616  http://www.ebi.ac.uk/efo/EFO_0004616   \n",
      "3  EFO_0003778  http://www.ebi.ac.uk/efo/EFO_0003778   \n",
      "4  EFO_0003901  http://www.ebi.ac.uk/efo/EFO_0003901   \n",
      "\n",
      "                                  processed  \\\n",
      "0           vascular disorders of intestine   \n",
      "1           vascular disorders of intestine   \n",
      "2                              gonarthrosis   \n",
      "3  psoriatic and enteropathic arthropathies   \n",
      "4          pain associated with micturition   \n",
      "\n",
      "                                          BioSentVec  \\\n",
      "0  [0.014145898632705212, 0.4755328297615051, -0....   \n",
      "1  [0.014145898632705212, 0.4755328297615051, -0....   \n",
      "2  [0.15413393080234528, -1.4173569679260254, -0....   \n",
      "3  [0.4655860960483551, 0.20040848851203918, -0.7...   \n",
      "4  [0.3469484746456146, -0.19172678887844086, 0.1...   \n",
      "\n",
      "                                             BioBERT  \\\n",
      "0  [-0.434227854013443, -0.02197027951478958, -0....   \n",
      "1  [-0.434227854013443, -0.02197027951478958, -0....   \n",
      "2  [-0.06911136955022812, -0.0711580216884613, -0...   \n",
      "3  [-0.10169830173254013, -0.017718752846121788, ...   \n",
      "4  [-0.4437795877456665, -0.1804507076740265, -0....   \n",
      "\n",
      "                                            BlueBERT  \n",
      "0  [0.44886839389801025, -0.33897820115089417, -0...  \n",
      "1  [0.44886839389801025, -0.33897820115089417, -0...  \n",
      "2  [0.0002904770371969789, -0.3310322165489197, -...  \n",
      "3  [0.3583090305328369, 0.1590348333120346, -0.11...  \n",
      "4  [-0.12517662346363068, -0.24347220361232758, 0...  \n",
      "(1579, 8)\n",
      "CPU times: user 2.88 s, sys: 170 ms, total: 3.05 s\n",
      "Wall time: 3.09 s\n"
     ]
    }
   ],
   "source": [
    "%%time\n",
    "\n",
    "f='output/ebi-ukb-vec.tsv.gz'\n",
    "if os.path.exists(f):\n",
    "    print('Already done, reading',f)\n",
    "    ebi_df = pd.read_csv(f,sep='\\t')\n",
    "    #issues with reading vectors from CSV \n",
    "    for m in modelData:\n",
    "        ebi_df[m['name']] = ebi_df[m['name']].apply(lambda x: [float(y) for y in x.replace('[','').replace(']','').split(',')])\n",
    "else:\n",
    "    for m in modelData:    \n",
    "        ebi_df = encode_traits(trait_df=ebi_df,col='processed',name=m['name'],model=m['model'])\n",
    "    ebi_df.to_csv(f,sep='\\t',compression='gzip',index=False)\n",
    "\n",
    "print(ebi_df.head())\n",
    "print(ebi_df.shape)"
   ]
  },
  {
   "cell_type": "code",
   "execution_count": 8,
   "metadata": {},
   "outputs": [
    {
     "name": "stdout",
     "output_type": "stream",
     "text": [
      "Already done, reading output/efo-vec.tsv.gz\n",
      "                       efo_label                                     efo_id  \\\n",
      "0  Xeroderma pigmentosum variant   http://www.orpha.net/ORDO/Orphanet_90342   \n",
      "1          Xeroderma pigmentosum     http://www.orpha.net/ORDO/Orphanet_910   \n",
      "2                Ischemic stroke  http://purl.obolibrary.org/obo/HP_0002140   \n",
      "3              Cerebral ischemia  http://purl.obolibrary.org/obo/HP_0002637   \n",
      "4           small cell carcinoma       http://www.ebi.ac.uk/efo/EFO_0008524   \n",
      "\n",
      "                                          BioSentVec  \\\n",
      "0  [-0.045969586819410324, 0.5196870565414429, -0...   \n",
      "1  [0.01842655800282955, 0.7100013494491577, -0.7...   \n",
      "2  [0.5974032282829285, -0.6174705028533936, -0.1...   \n",
      "3  [0.46593865752220154, -0.6334501504898071, 0.0...   \n",
      "4  [0.4248107373714447, 0.033654093742370605, 0.3...   \n",
      "\n",
      "                                             BioBERT  \\\n",
      "0  [-0.2842123508453369, 0.22479310631752014, 0.1...   \n",
      "1  [-0.34557363390922546, 0.29189199209213257, 0....   \n",
      "2  [-0.30638787150382996, 0.4165739119052887, -0....   \n",
      "3  [-0.3188788592815399, 0.03597896173596382, -0....   \n",
      "4  [0.02633499726653099, 0.3400389850139618, -0.1...   \n",
      "\n",
      "                                            BlueBERT  \n",
      "0  [0.09896634519100189, -0.47356000542640686, -0...  \n",
      "1  [0.04102008044719696, -0.3359459936618805, -0....  \n",
      "2  [-0.3717726469039917, -0.14417409896850586, -0...  \n",
      "3  [-0.1877123862504959, -0.38184407353401184, 0....  \n",
      "4  [0.024875449016690254, -0.5465977191925049, -0...  \n",
      "CPU times: user 52.6 s, sys: 3.41 s, total: 56 s\n",
      "Wall time: 59 s\n"
     ]
    }
   ],
   "source": [
    "%%time\n",
    "\n",
    "# takes ~30 mins for each BERT based model\n",
    "\n",
    "#test\n",
    "#efo_node_df = efo_node_df.head(n=5000)\n",
    "\n",
    "f='output/efo-vec.tsv.gz'\n",
    "if os.path.exists(f):\n",
    "    print('Already done, reading',f)\n",
    "    efo_df = pd.read_csv(f,sep='\\t')\n",
    "    #issues with reading vectors from CSV \n",
    "    for m in modelData:\n",
    "        efo_df[m['name']] = efo_df[m['name']].apply(lambda x: [float(y) for y in x.replace('[','').replace(']','').split(',')])\n",
    "else:\n",
    "    for m in modelData:    \n",
    "        efo_df = encode_traits(trait_df=efo_node_df,col='efo_label',name=m['name'],model=m['model'])\n",
    "    efo_df.to_csv(f,sep='\\t',compression='gzip',index=False)    \n",
    "print(efo_df.head())\n"
   ]
  },
  {
   "cell_type": "code",
   "execution_count": 9,
   "metadata": {},
   "outputs": [],
   "source": [
    "#create nxontology network of EFO relationships\n",
    "def create_efo_nxo() -> NXOntology:\n",
    "    nxo = NXOntology()\n",
    "    \n",
    "    edges = []\n",
    "    efo_rel_df=pd.read_csv(efo_rels)\n",
    "    for i,row in efo_rel_df.iterrows():\n",
    "        child = row['efo.id']\n",
    "        parent = row['parent_efo.id']\n",
    "        edges.append((parent,child))\n",
    "    #print(edges[0:10])\n",
    "    nxo.graph.add_edges_from(edges)\n",
    "    return nxo\n",
    "\n",
    "efo_nx = create_efo_nxo()\n",
    "efo_nx.freeze()"
   ]
  },
  {
   "cell_type": "code",
   "execution_count": 22,
   "metadata": {},
   "outputs": [
    {
     "name": "stdout",
     "output_type": "stream",
     "text": [
      "CPU times: user 13 µs, sys: 1e+03 ns, total: 14 µs\n",
      "Wall time: 20 µs\n",
      "Parser   : 1.77 s\n"
     ]
    }
   ],
   "source": [
    "%%time\n",
    "def run_pairs(model):\n",
    "    #ebi_df['BioSentVec']\n",
    "    v1 = list(ebi_df[model])\n",
    "\n",
    "    v2 = list(efo_df[model])\n",
    "    # cosine of all against all\n",
    "    dd = create_pair_distances(v1,v2)\n",
    "    return dd\n",
    "\n",
    "def write_to_file(model,pairwise_data):\n",
    "    fo = gzip.open(f'output/{model}-pairwise.tsv','w')\n",
    "    ebi_efo_list = ebi_df['full_id']\n",
    "    efo_list = efo_df['efo_id']\n",
    "    for i in range(0,len(ebi_efo_list)):\n",
    "        # write to file\n",
    "        mCount=0\n",
    "        for j in range(i,len(efo_list)):\n",
    "            if i != j:\n",
    "                #print(ids[i],ids[j],1-pws[mCount])\n",
    "                score = 1-pairwise_data[i][j]\n",
    "                fo.write(f\"{ebi_efo_list[i]}\\t{efo_list[j]}\\t{score}\\n\")\n",
    "                mCount+=1\n",
    "                \n",
    "def get_top(model,pairwise_data):\n",
    "    count=0\n",
    "    dis_results=[]\n",
    "    efo_map = []\n",
    "    cosine_results = []\n",
    "    manual_pos_results = []\n",
    "    for manual_efo in ebi_df['full_id']:\n",
    "        try:\n",
    "            # find the EFO term with minumum distance\n",
    "            min_dis = np.nanargmin(pairwise_data[count])\n",
    "            min_val = np.nanmin(pairwise_data[count])\n",
    "\n",
    "            predicted_efo = efo_df.iloc[min_dis]['efo_id']\n",
    "            #efo_map.append(predicted_efo)\n",
    "\n",
    "            # find the location of the 'correct' EFO term and get ordered position \n",
    "            manual_loc = efo_df[efo_df['efo_id'] == manual_efo].index[0]\n",
    "            manual_dis = pairwise_data[count][manual_loc]\n",
    "            #print(manual_dis)\n",
    "            sorted_dis = sorted(pairwise_data[count],reverse=True)\n",
    "            #print(sorted_dis)\n",
    "            manual_dis_loc = sorted_dis.index(manual_dis)\n",
    "            #print(manual_efo,manual_loc,manual_dis_loc)\n",
    "            manual_pos_results.append(manual_dis_loc)\n",
    "            \n",
    "        except:\n",
    "            min_dis=0\n",
    "            min_val=0\n",
    "            manual_pos_results.append(None)\n",
    "        #print('EFO:',efo_df.iloc[min_dis][['name','id']].values,min_val)\n",
    "        try:\n",
    "            #run nxontology similarity\n",
    "            res = similarity = efo_nx.similarity(manual_efo,efo_df.iloc[min_dis]['efo_id']).results()\n",
    "            dis_results.append(res[nxontology_measure])\n",
    "            \n",
    "            efo_map.append(predicted_efo)\n",
    "            cosine_results.append(1-min_val)\n",
    "\n",
    "        except:\n",
    "            #print('something wrong')\n",
    "            exit()\n",
    "        count+=1\n",
    "    ebi_df[f'{model}-nx']=dis_results\n",
    "    ebi_df[f'{model}-efo']=efo_map\n",
    "    ebi_df[f'{model}-cosine']=cosine_results\n",
    "    ebi_df[f'{model}-manual-pos']=manual_pos_results\n",
    "    #print(ebi_df.head())\n",
    "    print(model,'greater than 0.8:',ebi_df[ebi_df[f'{model}-nx']>0.8].shape)\n",
    "    #plot histogram of distances\n",
    "    sns_plot = sns.displot(ebi_df, x=f\"{model}-nx\",kde=True)\n",
    "    sns_plot.savefig(f\"output/{model}-{nxontology_measure}-nx.pdf\")\n",
    "    #plot correlation between cosine and nxontolgy\n",
    "    sns_rel = sns.relplot(data=ebi_df, x=f'{model}-nx', y=f'{model}-cosine')\n",
    "    sns_rel.savefig(f\"output/{model}-nx-vs-cosine.pdf\")\n",
    "    #plot histogram of correct EFO location\n",
    "    sns_plot = sns.displot(ebi_df, x=f\"{model}-manual-pos\",kde=True)\n",
    "    sns_plot.savefig(f\"output/{model}-manual-pos.pdf\")\n",
    "\n",
    "#dd = run_pairs('BioSentVec')\n",
    "#get_top('BioSentVec',dd)\n",
    "#for m in modelData:\n",
    "#    dd = run_pairs(m['name'])\n",
    "#    get_top(m['name'],dd)    \n",
    "\n",
    "#print(ebi_df.head())"
   ]
  },
  {
   "cell_type": "code",
   "execution_count": null,
   "metadata": {},
   "outputs": [
    {
     "name": "stdout",
     "output_type": "stream",
     "text": [
      "Creating distances...\n",
      "1579 25390\n",
      "1579\n"
     ]
    }
   ],
   "source": [
    "#get_top('BioSentVec',dd)\n",
    "for m in modelData:\n",
    "    print(m['name'])\n",
    "    dd = run_pairs(m['name'])\n",
    "    get_top(m['name'],dd)    \n",
    "\n",
    "print(ebi_df.head())"
   ]
  },
  {
   "cell_type": "code",
   "execution_count": 2,
   "metadata": {},
   "outputs": [],
   "source": [
    "# ontoma \n",
    "#print(otmap.find_term('Vascular disorders of intestine'))\n",
    "#think this is just using zooma"
   ]
  },
  {
   "cell_type": "code",
   "execution_count": 15,
   "metadata": {},
   "outputs": [],
   "source": [
    "# zooma using web app\n",
    "# ran the web app using filtered list of terms\n",
    "# Configure Data Sources - Don't search in any datasources checked\n",
    "# Configure Ontology Sources - EFO\n",
    "# https://www.ebi.ac.uk/spot/zooma\n",
    "\n",
    "#zooma_df = pd.read_csv('data/zooma.tsv',sep='\\t')\n",
    "#zooma_df['zooma_efo'] = zooma_df['ONTOLOGY(S)']+zooma_df['ONTOLOGY TERM(S)']\n",
    "#zooma_df.drop_duplicates(subset=['zooma_efo'],inplace=True)\n",
    "#print(zooma_df.shape)"
   ]
  },
  {
   "cell_type": "code",
   "execution_count": 16,
   "metadata": {},
   "outputs": [],
   "source": [
    "# zooma using API\n",
    "def run_zooma(text):\n",
    "    zooma_api = 'https://www.ebi.ac.uk/spot/zooma/v2/api/services/annotate'\n",
    "    payload = {\n",
    "        'propertyValue':text,\n",
    "        'filter':'required:[none],ontologies:[efo]'\n",
    "    }\n",
    "    res = requests.get(zooma_api,params=payload).json()\n",
    "    if res:\n",
    "        #print(text,res[0]['semanticTags'])\n",
    "        return res[0]['semanticTags'][0]\n",
    "    else:\n",
    "        return 'NA'"
   ]
  },
  {
   "cell_type": "code",
   "execution_count": 19,
   "metadata": {},
   "outputs": [
    {
     "name": "stdout",
     "output_type": "stream",
     "text": [
      "                                      query       MAPPED_TERM_LABEL  \\\n",
      "0           Vascular disorders of intestine        vascular disease   \n",
      "1           Vascular disorders of intestine        vascular disease   \n",
      "2                              Gonarthrosis  osteoarthritis || knee   \n",
      "3  Psoriatic and enteropathic arthropathies     psoriatic arthritis   \n",
      "4          Pain associated with micturition                 dysuria   \n",
      "\n",
      "            id                               full_id  \\\n",
      "0  EFO_0004264  http://www.ebi.ac.uk/efo/EFO_0004264   \n",
      "1  EFO_0009431  http://www.ebi.ac.uk/efo/EFO_0009431   \n",
      "2  EFO_0004616  http://www.ebi.ac.uk/efo/EFO_0004616   \n",
      "3  EFO_0003778  http://www.ebi.ac.uk/efo/EFO_0003778   \n",
      "4  EFO_0003901  http://www.ebi.ac.uk/efo/EFO_0003901   \n",
      "\n",
      "                                  processed  \\\n",
      "0           vascular disorders of intestine   \n",
      "1           vascular disorders of intestine   \n",
      "2                              gonarthrosis   \n",
      "3  psoriatic and enteropathic arthropathies   \n",
      "4          pain associated with micturition   \n",
      "\n",
      "                                          BioSentVec  \\\n",
      "0  [0.014145898632705212, 0.4755328297615051, -0....   \n",
      "1  [0.014145898632705212, 0.4755328297615051, -0....   \n",
      "2  [0.15413393080234528, -1.4173569679260254, -0....   \n",
      "3  [0.4655860960483551, 0.20040848851203918, -0.7...   \n",
      "4  [0.3469484746456146, -0.19172678887844086, 0.1...   \n",
      "\n",
      "                                             BioBERT  \\\n",
      "0  [-0.434227854013443, -0.02197027951478958, -0....   \n",
      "1  [-0.434227854013443, -0.02197027951478958, -0....   \n",
      "2  [-0.06911136955022812, -0.0711580216884613, -0...   \n",
      "3  [-0.10169830173254013, -0.017718752846121788, ...   \n",
      "4  [-0.4437795877456665, -0.1804507076740265, -0....   \n",
      "\n",
      "                                            BlueBERT  BioSentVec-nx  \\\n",
      "0  [0.44886839389801025, -0.33897820115089417, -0...       0.076923   \n",
      "1  [0.44886839389801025, -0.33897820115089417, -0...       0.071429   \n",
      "2  [0.0002904770371969789, -0.3310322165489197, -...       1.000000   \n",
      "3  [0.3583090305328369, 0.1590348333120346, -0.11...       1.000000   \n",
      "4  [-0.12517662346363068, -0.24347220361232758, 0...       0.076923   \n",
      "\n",
      "                                  BioSentVec-efo  BioSentVec-cosine  \\\n",
      "0  http://purl.obolibrary.org/obo/UBERON_0000160           0.719575   \n",
      "1  http://purl.obolibrary.org/obo/UBERON_0000160           0.719575   \n",
      "2           http://www.ebi.ac.uk/efo/EFO_0004616           0.620142   \n",
      "3           http://www.ebi.ac.uk/efo/EFO_0003778           0.697339   \n",
      "4      http://purl.obolibrary.org/obo/GO_0060073           0.750578   \n",
      "\n",
      "   BioBERT-nx                                BioBERT-efo  BioBERT-cosine  \\\n",
      "0    0.142857  http://purl.obolibrary.org/obo/HP_0002242        0.961686   \n",
      "1    0.133333  http://purl.obolibrary.org/obo/HP_0002242        0.961686   \n",
      "2    0.190476       http://www.ebi.ac.uk/efo/EFO_0007289        0.932580   \n",
      "3    1.000000       http://www.ebi.ac.uk/efo/EFO_0003778        0.959967   \n",
      "4    0.076923  http://purl.obolibrary.org/obo/GO_0060073        0.950734   \n",
      "\n",
      "   BlueBERT-nx                               BlueBERT-efo  BlueBERT-cosine  \\\n",
      "0     0.142857  http://purl.obolibrary.org/obo/HP_0002242         0.917328   \n",
      "1     0.133333  http://purl.obolibrary.org/obo/HP_0002242         0.917328   \n",
      "2     0.400000       http://www.ebi.ac.uk/efo/EFO_1001344         0.896955   \n",
      "3     0.305556    http://www.orpha.net/ORDO/Orphanet_1159         0.895524   \n",
      "4     0.076923  http://purl.obolibrary.org/obo/GO_0060073         0.900968   \n",
      "\n",
      "                                   zooma_api  \n",
      "0       http://www.ebi.ac.uk/efo/EFO_0003763  \n",
      "1       http://www.ebi.ac.uk/efo/EFO_0003763  \n",
      "2                                        NaN  \n",
      "3                                        NaN  \n",
      "4  http://purl.obolibrary.org/obo/GO_0060073  \n",
      "(1579, 18)\n",
      "CPU times: user 429 ms, sys: 54.2 ms, total: 483 ms\n",
      "Wall time: 483 ms\n"
     ]
    }
   ],
   "source": [
    "%%time\n",
    "\n",
    "# takes around 3 minutes for 1,000\n",
    "f='output/ebi-zooma-api.tsv'\n",
    "if os.path.exists(f):\n",
    "    ebi_df_zooma = pd.read_csv(f,sep='\\t')\n",
    "else:\n",
    "    ebi_df_zooma = ebi_df\n",
    "    ebi_df_zooma['zooma_api'] = ebi_df_zooma['query'].apply(lambda x:run_zooma(x))\n",
    "    ebi_df_zooma.to_csv('output/ebi-zooma-api.tsv',sep='\\t',index=False)\n",
    "print(ebi_df_zooma.head())\n",
    "print(ebi_df_zooma.shape)"
   ]
  },
  {
   "cell_type": "code",
   "execution_count": 20,
   "metadata": {},
   "outputs": [
    {
     "name": "stdout",
     "output_type": "stream",
     "text": [
      "1579\n",
      "(740, 18)\n"
     ]
    },
    {
     "data": {
      "text/plain": [
       "<seaborn.axisgrid.FacetGrid at 0x1a47b45c10>"
      ]
     },
     "execution_count": 20,
     "metadata": {},
     "output_type": "execute_result"
    },
    {
     "data": {
      "image/png": "[encoded data removed]",
      "text/plain": [
       "<Figure size 360x360 with 1 Axes>"
      ]
     },
     "metadata": {},
     "output_type": "display_data"
    }
   ],
   "source": [
    "#print(zooma_df.head())\n",
    "\n",
    "# merge with ebi file\n",
    "#m = pd.merge(zooma_df,ebi_df,left_on='PROPERTY VALUE',right_on='query')\n",
    "#m.drop_duplicates(inplace=True)\n",
    "#print(m.head())\n",
    "#print(m.shape)\n",
    "\n",
    "dis_results=[]\n",
    "for i, row in ebi_df_zooma.iterrows():\n",
    "    try:\n",
    "        res = similarity = efo_nx.similarity(row['zooma_api'],row['full_id']).results()\n",
    "        dis_results.append(res[nxontology_measure])\n",
    "    except:\n",
    "        dis_results.append(0)\n",
    "        \n",
    "print(len(dis_results))\n",
    "ebi_df['Zooma-nx'] = dis_results\n",
    "print(ebi_df[ebi_df['Zooma-nx']>0.99].shape)\n",
    "ebi_df.to_csv('output/ebi-nx.tsv',sep='\\t',index=False)\n",
    "sns.displot(ebi_df, x=\"Zooma-nx\",kde=True)"
   ]
  },
  {
   "cell_type": "code",
   "execution_count": 21,
   "metadata": {},
   "outputs": [],
   "source": [
    "# BERT-EFO\n",
    "\n",
    "def bert_efo():\n",
    "    bef_df = pd.read_csv('data/bluebert_efo_mapping.csv')\n",
    "    bef_df.rename(columns={'efo_id':'BERT-EFO-efo-id'},inplace=True)\n",
    "    print(bef_df.head())\n",
    "    print(bef_df.shape)\n",
    "\n",
    "    # merge with ebi_df\n",
    "    ebi_df_merge = pd.merge(ebi_df,bef_df,left_on='query',right_on='ukbb_trait')\n",
    "    print(ebi_df_merge.head())\n",
    "\n",
    "    dis_results=[]\n",
    "    name = 'BERT-EFO-nx'\n",
    "    for i, row in ebi_df_merge.iterrows():\n",
    "        try:\n",
    "            res = similarity = efo_nx.similarity(row['BERT-EFO-efo-id'],row['full_id']).results()\n",
    "            dis_results.append(res[nxontology_measure])\n",
    "        except:\n",
    "            dis_results.append(0)\n",
    "\n",
    "    print(len(dis_results))\n",
    "    ebi_df_merge[name] = dis_results\n",
    "    print(ebi_df_merge.head())\n",
    "    print(ebi_df_merge[ebi_df_merge['BERT-EFO-nx']>0.9].shape)\n",
    "    ebi_df_merge.to_csv('output/ebi-nx.tsv',sep='\\t',index=False)\n",
    "    sns.displot(ebi_df_merge, x=name,kde=True)"
   ]
  },
  {
   "cell_type": "code",
   "execution_count": null,
   "metadata": {},
   "outputs": [],
   "source": [
    "#print(ebi_df_merge[ebi_df_merge['BERT-EFO-nx']==0][['query','full_id','BERT-EFO-efo-id']])\n",
    "#efo_nx.similarity('http://www.ebi.ac.uk/efo/EFO_0004143','http://www.ebi.ac.uk/efo/EFO_0009510').results()"
   ]
  },
  {
   "cell_type": "code",
   "execution_count": 22,
   "metadata": {},
   "outputs": [
    {
     "ename": "NameError",
     "evalue": "name 'ebi_df_merge' is not defined",
     "output_type": "error",
     "traceback": [
      "\u001b[0;31m---------------------------------------------------------------------------\u001b[0m",
      "\u001b[0;31mNameError\u001b[0m                                 Traceback (most recent call last)",
      "\u001b[0;32m<ipython-input-22-f0c0dbd51f4a>\u001b[0m in \u001b[0;36m<module>\u001b[0;34m\u001b[0m\n\u001b[1;32m      2\u001b[0m \u001b[0;31m# which values does BioSentVec map but zooma does not?\u001b[0m\u001b[0;34m\u001b[0m\u001b[0;34m\u001b[0m\u001b[0;34m\u001b[0m\u001b[0m\n\u001b[1;32m      3\u001b[0m \u001b[0;34m\u001b[0m\u001b[0m\n\u001b[0;32m----> 4\u001b[0;31m \u001b[0mbb1\u001b[0m \u001b[0;34m=\u001b[0m \u001b[0mebi_df_merge\u001b[0m\u001b[0;34m[\u001b[0m\u001b[0;34m(\u001b[0m\u001b[0mebi_df\u001b[0m\u001b[0;34m[\u001b[0m\u001b[0;34m'BioSentVec-nx'\u001b[0m\u001b[0;34m]\u001b[0m\u001b[0;34m==\u001b[0m\u001b[0;36m1\u001b[0m\u001b[0;34m)\u001b[0m \u001b[0;34m&\u001b[0m \u001b[0;34m(\u001b[0m\u001b[0mebi_df_merge\u001b[0m\u001b[0;34m[\u001b[0m\u001b[0;34m'Zooma-nx'\u001b[0m\u001b[0;34m]\u001b[0m\u001b[0;34m<\u001b[0m\u001b[0;36m0.8\u001b[0m\u001b[0;34m)\u001b[0m\u001b[0;34m]\u001b[0m\u001b[0;34m\u001b[0m\u001b[0;34m\u001b[0m\u001b[0m\n\u001b[0m\u001b[1;32m      5\u001b[0m \u001b[0mprint\u001b[0m\u001b[0;34m(\u001b[0m\u001b[0mbb1\u001b[0m\u001b[0;34m.\u001b[0m\u001b[0mshape\u001b[0m\u001b[0;34m)\u001b[0m\u001b[0;34m\u001b[0m\u001b[0;34m\u001b[0m\u001b[0m\n\u001b[1;32m      6\u001b[0m \u001b[0;34m\u001b[0m\u001b[0m\n",
      "\u001b[0;31mNameError\u001b[0m: name 'ebi_df_merge' is not defined"
     ]
    }
   ],
   "source": [
    "# compare the methods\n",
    "# which values does BioSentVec map but zooma does not?\n",
    "\n",
    "#bb1 = ebi_df_merge[(ebi_df['BioSentVec-nx']==1) & (ebi_df_merge['Zooma-nx']<0.8)]\n",
    "#print(bb1.shape)\n",
    "\n",
    "#bb2 = ebi_df_merge[(ebi_df['Zooma-nx']==1) & (ebi_df_merge['BioSentVec-nx']<0.8)]\n",
    "#print(bb2[['query','MAPPED_TERM_LABEL','full_id','BioSentVec-nx','BioSentVec-efo']])"
   ]
  },
  {
   "cell_type": "code",
   "execution_count": 63,
   "metadata": {},
   "outputs": [
    {
     "name": "stdout",
     "output_type": "stream",
     "text": [
      "(1579, 18)\n"
     ]
    },
    {
     "data": {
      "image/png": "[encoded data removed]",
      "text/plain": [
       "<Figure size 544.1x432 with 1 Axes>"
      ]
     },
     "metadata": {},
     "output_type": "display_data"
    }
   ],
   "source": [
    "# melt data for plots\n",
    "ebi_df_merge = ebi_df\n",
    "#print(ebi_df_merge.head())\n",
    "\n",
    "print(ebi_df_merge.shape)\n",
    "#ebi_df_melt = pd.melt(ebi_df_merge, id_vars=['query'], value_vars=['BioSentVec-nx','BlueBERT-nx','BioBERT-nx','Zooma-nx','BERT-EFO-nx'])\n",
    "ebi_df_melt = pd.melt(ebi_df_merge, id_vars=['query'], value_vars=['BioSentVec-nx','BlueBERT-nx','BioBERT-nx','Zooma-nx'])\n",
    "ebi_df_melt.rename(columns={'variable':'Model'},inplace=True)\n",
    "#print(ebi_df_melt.head())\n",
    "\n",
    "\n",
    "# violin plot\n",
    "#ax = sns.violinplot(x=\"variable\", y=\"value\", inner='quartile', data=ebi_df_melt, cut=0)\n",
    "#ax.set_title('EFO distance', fontsize=16);\n",
    "#fig = ax.get_figure()\n",
    "#fig.savefig(f\"output/all-nx.pdf\")\n",
    "\n",
    "ax = sns.displot(x=\"value\", hue=\"Model\", data=ebi_df_melt, kind=\"kde\", cut=0, palette=pallete, height=6)\n",
    "ax.set(xlabel=f'nxontology score ({nxontology_measure})', ylabel='frequency')\n",
    "ax.savefig(f\"output/all-nx-kde.pdf\")"
   ]
  },
  {
   "cell_type": "code",
   "execution_count": 26,
   "metadata": {},
   "outputs": [
    {
     "data": {
      "image/png": "[encoded data removed]",
      "text/plain": [
       "<Figure size 720x720 with 4 Axes>"
      ]
     },
     "metadata": {},
     "output_type": "display_data"
    }
   ],
   "source": [
    "# clustermap\n",
    "nx_list = ['BioSentVec-nx','BlueBERT-nx','BioBERT-nx','Zooma-nx']\n",
    "g = sns.clustermap(ebi_df_merge[nx_list])\n",
    "g.savefig('output/clustermap.pdf')"
   ]
  },
  {
   "cell_type": "code",
   "execution_count": null,
   "metadata": {},
   "outputs": [],
   "source": [
    "# pandas profiling\n",
    "profile = ProfileReport(ebi_df_merge, title=\"Pandas Profiling Report\")\n",
    "#profile.to_widgets()\n",
    "profile.to_notebook_iframe()"
   ]
  },
  {
   "cell_type": "code",
   "execution_count": 67,
   "metadata": {},
   "outputs": [
    {
     "name": "stdout",
     "output_type": "stream",
     "text": [
      "  index  BioSentVec-nx  BlueBERT-nx  BioBERT-nx  Zooma-nx\n",
      "0  mean       0.675618     0.643462    0.653842  0.628119\n",
      "1   std       0.387670     0.369146    0.363146  0.416581\n",
      "2   min       0.011628     0.016807    0.018182  0.000000\n",
      "3   25%       0.219807     0.253571    0.285714  0.125000\n",
      "4   50%       0.928571     0.777778    0.777778  0.866667\n",
      "5   75%       1.000000     1.000000    1.000000  1.000000\n",
      "6   max       1.000000     1.000000    1.000000  1.000000\n"
     ]
    },
    {
     "data": {
      "image/png": "[encoded data removed]",
      "text/plain": [
       "<Figure size 544.1x432 with 1 Axes>"
      ]
     },
     "metadata": {},
     "output_type": "display_data"
    }
   ],
   "source": [
    "# general metrics\n",
    "describe_df = ebi_df_merge[nx_list].describe()\n",
    "describe_df.drop(['count'],inplace=True)\n",
    "describe_df.reset_index(inplace=True)\n",
    "print(describe_df)\n",
    "describe_df_melt = pd.melt(describe_df, id_vars = ['index'])\n",
    "\n",
    "g = sns.catplot(\n",
    "    data=describe_df_melt, kind=\"bar\",\n",
    "    x=\"index\", y=\"value\", hue=\"variable\",\n",
    "     palette=pallete, height=6\n",
    ")\n",
    "g.despine(left=True)\n",
    "g.set_axis_labels(\"\", \"nxontology\")\n",
    "g.legend.set_title(\"\")\n",
    "g.savefig('output/nx-describe.pdf')"
   ]
  },
  {
   "cell_type": "code",
   "execution_count": null,
   "metadata": {},
   "outputs": [],
   "source": []
  }
 ],
 "metadata": {
  "kernelspec": {
   "display_name": "Python 3",
   "language": "python",
   "name": "python3"
  },
  "language_info": {
   "codemirror_mode": {
    "name": "ipython",
    "version": 3
   },
   "file_extension": ".py",
   "mimetype": "text/x-python",
   "name": "python",
   "nbconvert_exporter": "python",
   "pygments_lexer": "ipython3",
   "version": "3.7.7"
  }
 },
 "nbformat": 4,
 "nbformat_minor": 4
}
