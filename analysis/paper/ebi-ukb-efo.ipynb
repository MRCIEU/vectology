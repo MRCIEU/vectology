{
 "cells": [
  {
   "cell_type": "code",
   "execution_count": 179,
   "metadata": {},
   "outputs": [],
   "source": [
    "import pandas as pd\n",
    "import numpy as np\n",
    "import requests\n",
    "import json\n",
    "import time\n",
    "import os \n",
    "\n",
    "from scripts.vectology_functions import create_aaa_distances, create_pair_distances, embed_text, encode_traits\n",
    "from nxontology import NXOntology\n",
    "\n",
    "import seaborn as sns\n",
    "\n",
    "# Apply the default theme\n",
    "sns.set_theme()"
   ]
  },
  {
   "cell_type": "code",
   "execution_count": 121,
   "metadata": {},
   "outputs": [],
   "source": [
    "# files\n",
    "ebi_data = 'data/UK_Biobank_master_file.tsv'\n",
    "#efo_nodes = 'data/efo-nodes.tsv'\n",
    "efo_data = 'data/efo_data.txt.gz'"
   ]
  },
  {
   "cell_type": "code",
   "execution_count": 185,
   "metadata": {},
   "outputs": [
    {
     "name": "stdout",
     "output_type": "stream",
     "text": [
      "                                      query       MAPPED_TERM_LABEL  \\\n",
      "0           Vascular disorders of intestine        vascular disease   \n",
      "1                              Gonarthrosis  osteoarthritis || knee   \n",
      "2  Psoriatic and enteropathic arthropathies     psoriatic arthritis   \n",
      "3          Pain associated with micturition                 dysuria   \n",
      "4                                Other mood           mood disorder   \n",
      "\n",
      "            MAPPED_TERM_URI  \n",
      "0  EFO_0004264, EFO_0009431  \n",
      "1               EFO_0004616  \n",
      "2               EFO_0003778  \n",
      "3               EFO_0003901  \n",
      "4               EFO_0004247  \n",
      "(1565, 3)\n",
      "(1613, 3)\n",
      "(1600, 3)\n",
      "                                      query       MAPPED_TERM_LABEL  \\\n",
      "0           Vascular disorders of intestine        vascular disease   \n",
      "1           Vascular disorders of intestine        vascular disease   \n",
      "2                              Gonarthrosis  osteoarthritis || knee   \n",
      "3  Psoriatic and enteropathic arthropathies     psoriatic arthritis   \n",
      "4          Pain associated with micturition                 dysuria   \n",
      "\n",
      "            id  \n",
      "0  EFO_0004264  \n",
      "1  EFO_0009431  \n",
      "2  EFO_0004616  \n",
      "3  EFO_0003778  \n",
      "4  EFO_0003901  \n"
     ]
    }
   ],
   "source": [
    "# get the EBI UKB data\n",
    "#get ebi data\n",
    "#url='https://raw.githubusercontent.com/EBISPOT/EFO-UKB-mappings/master/UK_Biobank_master_file.tsv'\n",
    "#ebi_df = pd.read_csv(url,sep='\\t')\n",
    "\n",
    "ebi_df = pd.read_csv(ebi_data,sep='\\t')\n",
    "\n",
    "#drop some columns\n",
    "ebi_df = ebi_df[['ZOOMA QUERY','MAPPED_TERM_LABEL','MAPPED_TERM_URI']]\n",
    "ebi_df.rename(columns={'ZOOMA QUERY':'query'},inplace=True)\n",
    "print(ebi_df.head())\n",
    "print(ebi_df.shape)\n",
    "\n",
    "#create new rows for multiple labels\n",
    "#ebi_df = (\n",
    "#        ebi_df.assign(label=ebi_df.MAPPED_TERM_LABEL.str.split(\"\\|\\|\"))\n",
    "#        .explode(\"label\")\n",
    "#        .reset_index(drop=True).drop('MAPPED_TERM_LABEL',axis=1)\n",
    "#    )\n",
    "\n",
    "#create new rows for multiple ids\n",
    "ebi_df['MAPPED_TERM_URI']=ebi_df['MAPPED_TERM_URI'].str.replace('\\|\\|',',')\n",
    "ebi_df['MAPPED_TERM_URI']=ebi_df['MAPPED_TERM_URI'].str.replace('\\|',',')\n",
    "ebi_df = (\n",
    "        ebi_df.assign(id=ebi_df.MAPPED_TERM_URI.str.split(\",\"))\n",
    "        .explode(\"id\")\n",
    "        .reset_index(drop=True).drop('MAPPED_TERM_URI',axis=1)\n",
    "    )\n",
    "\n",
    "#clean up\n",
    "ebi_df['id'] = ebi_df['id'].str.strip()\n",
    "\n",
    "#drop cases where query and id are the same\n",
    "ebi_df.drop_duplicates(subset=['query','id'],inplace=True)\n",
    "print(ebi_df.shape)\n",
    "\n",
    "#drop nan\n",
    "ebi_df.dropna(inplace=True)\n",
    "print(ebi_df.shape)\n",
    "print(ebi_df.head())\n"
   ]
  },
  {
   "cell_type": "code",
   "execution_count": 133,
   "metadata": {},
   "outputs": [
    {
     "name": "stdout",
     "output_type": "stream",
     "text": [
      "                                              id  \\\n",
      "0           http://www.ebi.ac.uk/efo/EFO_0004285   \n",
      "1      http://purl.obolibrary.org/obo/HP_0000093   \n",
      "2           http://www.ebi.ac.uk/efo/EFO_0004207   \n",
      "3      http://purl.obolibrary.org/obo/HP_0000545   \n",
      "4           http://www.ebi.ac.uk/efo/EFO_0002608   \n",
      "...                                          ...   \n",
      "53112  http://purl.obolibrary.org/obo/HP_0002840   \n",
      "53114  http://purl.obolibrary.org/obo/PO_0030015   \n",
      "53118  http://purl.obolibrary.org/obo/EO_0007068   \n",
      "53120  http://purl.obolibrary.org/obo/HP_0002313   \n",
      "53124   http://purl.obolibrary.org/obo/FMA_24984   \n",
      "\n",
      "                                      name  \n",
      "0                              albuminuria  \n",
      "1                              Proteinuria  \n",
      "2                      pathological myopia  \n",
      "3                                   Myopia  \n",
      "4                            AIDS dementia  \n",
      "...                                    ...  \n",
      "53112                        lymphadenitis  \n",
      "53114  sporophyte meristematic apical cell  \n",
      "53118                   ethylene treatment  \n",
      "53120                  Spastic paraparesis  \n",
      "53124                                 calf  \n",
      "\n",
      "[21865 rows x 2 columns]\n",
      "CPU times: user 2.77 s, sys: 12.1 ms, total: 2.78 s\n",
      "Wall time: 2.79 s\n"
     ]
    }
   ],
   "source": [
    "%%time\n",
    "\n",
    "# get EFO node data\n",
    "#efo_df=pd.read_csv(efo_nodes,sep='\\t',names=['name','label','type'])\n",
    "#print(efo_df.head())\n",
    "#print(efo_df.shape)\n",
    "\n",
    "# EFO data\n",
    "efo_df = pd.read_json(efo_data)\n",
    "#print(efo_df.head())\n",
    "node_data = []\n",
    "for i,rows in efo_df.iterrows():\n",
    "    node_data.append({\n",
    "        'id':rows['child']['value'],\n",
    "        'name':rows['childLabel']['value'],\n",
    "    })\n",
    "    node_data.append({\n",
    "        'id':rows['parent']['value'],\n",
    "        'name':rows['parentLabel']['value'],\n",
    "        \n",
    "    })\n",
    "efo_node_df = pd.DataFrame(node_data)\n",
    "efo_node_df.drop_duplicates(inplace=True)\n",
    "print(efo_node_df)"
   ]
  },
  {
   "cell_type": "code",
   "execution_count": 188,
   "metadata": {},
   "outputs": [
    {
     "name": "stdout",
     "output_type": "stream",
     "text": [
      "Missing: 517 ['EFO_0009431', 'EFO_0009386', 'EFO_0009314', 'EFO_0009431', 'EFO_0009387', 'EFO_0009607', 'EFO_0009431', 'EFO_0009432', 'EFO_0009433', 'EFO_0009434', 'Orphanet_363189', 'Orphanet_98724', 'EFO_1002050', 'EFO_0009449', 'EFO_0009450', 'EFO_0009451', 'EFO_0009452', 'EFO_0009453', 'EFO_0009454', 'EFO_0009455', 'EFO_0009456', 'EFO_1002046', 'EFO_1002047', 'EFO_1002050', 'EFO_1002051', 'HP_0000008', 'HP_0000008', 'HP_0000022', 'HP_0000022', 'HP_0000517', 'HP_0000614', 'HP_0000751', 'HP_0000769', 'HP_0000952', 'HP_0001094', 'HP_0001288', 'HP_0001325', 'HP_0001399', 'HP_0001537', 'HP_0001561', 'EFO_0009492', 'HP_0001760', 'HP_0001787', 'HP_0001787', 'HP_0001787', 'HP_0001877', 'HP_0001881', 'HP_0002045', 'HP_0002716', 'HP_0002921', 'HP_0003076', 'HP_0004329', 'HP_0004338', 'HP_0004367', 'HP_0004371', 'HP_0001671', 'HP_0005224', 'HP_0005957', 'EFO_0009493', 'HP_0007700', 'HP_0010313', 'HP_0010771', 'HP_0010944', 'HP_0000069', 'HP_0011411', 'HP_0012075', 'HP_0012075', 'HP_0012410', 'HP_0012424', 'HP_0012718', 'HP_0025423', 'HP_0030160', 'HP_0030242', 'HP_0031292', 'HP_0031703', 'HP_0031703', 'HP_0100022', 'HP_0100249', 'HP_0100601', 'EFO_0009575', 'EFO_0009507', 'EFO_0009524', 'EFO_0009576', 'EFO_0009579', 'EFO_0009578', 'EFO_0009523', 'EFO_0009522', 'EFO_0009505', 'EFO_0009504', 'EFO_0009505', 'EFO_0009506', 'EFO_0009502', 'EFO_0009502', 'EFO_0009504', 'EFO_0009515', 'EFO_0009508', 'EFO_0009508', 'EFO_0009510', 'EFO_0009508', 'EFO_0009508', 'EFO_0009508', 'EFO_0009510', 'EFO_0009513', 'EFO_0009521', 'EFO_0009582', 'EFO_0009504', 'EFO_0009514', 'EFO_0009509', 'EFO_0009512', 'EFO_0009508', 'EFO_0009525', 'EFO_0009526', 'EFO_0009516', 'EFO_0009503', 'EFO_0009516', 'EFO_0009503', 'EFO_0009516', 'EFO_0009527', 'EFO_0009574', 'EFO_0009574', 'EFO_0009574', 'EFO_0009574', 'EFO_0009518', 'EFO_0009519', 'EFO_0009519', 'EFO_0009519', 'EFO_0009519', 'EFO_0009505', 'EFO_0009509', 'EFO_0009508', 'EFO_0009516', 'EFO_0009503', 'EFO_0009527', 'EFO_0009517', 'EFO_0009520', 'EFO_0009573', 'EFO_0009580', 'EFO_0009577', 'EFO_0009581', 'EFO_0009556', 'EFO_0009546', 'EFO_0009568', 'EFO_0009464', 'EFO_0009464', 'EFO_1002048', 'EFO_0009545', 'EFO_0009532', 'EFO_0009563', 'EFO_0009558', 'EFO_0009558', 'EFO_0009535', 'EFO_0009572', 'EFO_0009562', 'EFO_0009548', 'EFO_0009549', 'EFO_0009530', 'EFO_0009551', 'EFO_0009555', 'EFO_0009571', 'EFO_0009547', 'EFO_0009540', 'EFO_0009569', 'EFO_0009564', 'EFO_0009570', 'EFO_0009544', 'EFO_0009557', 'EFO_0009531', 'EFO_0009531', 'EFO_0009533', 'EFO_0009536', 'EFO_0009560', 'EFO_0009534', 'EFO_0009552', 'EFO_0009538', 'EFO_0009539', 'EFO_0009553', 'EFO_0009529', 'EFO_0009541', 'EFO_0009554', 'EFO_0009550', 'EFO_0009566', 'EFO_0009561', 'EFO_0009559', 'EFO_0009528', 'EFO_0009528', 'EFO_0009565', 'EFO_0009537', 'EFO_0009542', 'EFO_0009471', 'EFO_0009472', 'EFO_0009567', 'EFO_0009543', 'EFO_0009468', 'EFO_0009469', 'EFO_0009470', 'EFO_0009470', 'HP_0000720', 'HP_0000737', 'HP_0100749', 'HP_0030834', 'HP_0030833', 'HP_0030838', 'HP_0003418', 'EFO_0009550', 'HP_0012514', 'HP_0012514', 'HP_0012514', 'HP_0100749', 'HP_0100749', 'EFO_0009184', 'HP_0012598', 'HP_0012603', 'EFO_0009259', 'EFO_0009260', 'HP_0100309', 'EFO_0009448', 'EFO_0009624', 'EFO_1002048', 'EFO_0009189', 'EFO_0009190', 'HP_0000138', 'EFO_0009609', 'HP_0001875', 'HP_0001888', 'HP_0002036', 'HP_0002107', 'EFO_0009604', 'HP_0002321', 'EFO:0009626', 'HP_0012390', 'EFO_0009552', 'HP_0000952', 'HP_0001537', 'HP_0003418', 'HP_0031456', 'EFO_0009557', 'HP_0000360', 'HP_0011110', 'HP_0004872', 'EFO_1002050', 'EFO_0009536', 'HP_0100607', 'HP_0012532', 'HP_0100749', 'HP_0100749', 'HP_0100749', 'HP_0030839', 'EFO_0009804', 'EFO_0009534', 'EFO_0009605', 'EFO_0009505', 'EFO_0009549', 'EFO_0009510', 'EFO_0009612', 'EFO_0009623', 'EFO_0009611', 'EFO_0009614', 'EFO_0009621', 'EFO_0009515', 'EFO_0009515', 'NCIT_C27161', 'EFO_0009616', 'EFO_0009616', 'EFO_0009620', 'EFO_0009622', 'EFO_0009617', 'EFO_0009615', 'EFO_0009512', 'EFO_0009613', 'EFO_0009618', 'EFO_0009618', 'EFO_0009270', 'EFO_0009625', 'EFO_0009551', 'EFO_0009544', 'EFO_0009608', 'EFO_1002048', 'EFO_1002048', 'EFO_0009470', 'EFO_0009610', 'HP_0004755', 'HP_0004378', 'EFO_0009606', 'EFO_0009514', 'EFO_0009619', 'EFO_0009800', 'EFO_0009801', 'EFO_0009802', 'EFO_0009803', 'EFO_0009818', 'EFO_0009819', 'EFO_0009712', 'EFO_0009713', 'EFO:0009713', 'EFO:0009596', 'EFO_0009589', 'NCIT_C74532', 'EFO_0009820', 'EFO_0009821', 'EFO_0009714', 'EFO_0009631', 'EFO_0009715', 'EFO_0009716', 'EFO_0009814', 'EFO_0009440', 'EFO_0009717', 'EFO_0009718', 'EFO_0009719', 'EFO_0009720', 'EFO_0009721', 'EFO_0009722', 'EFO_0009723', 'EFO_0009724', 'EFO_0009725', 'EFO_0009726', 'EFO_0009594', 'EFO_0009727', 'EFO_0009728', 'HP_0000360', 'EFO_0009729', 'EFO_0009594', 'EFO_0009594', 'EFO_0009822', 'EFO_0009823', 'EFO_0009815', 'EFO_0009824', 'EFO_0009805', 'EFO_0009787', 'HP_0002043', 'EFO_0009602', 'EFO_0009601', 'EFO_0009600', 'EFO_0009491', 'EFO_0009490', 'EFO_0009489', 'EFO_0009488', 'EFO_0009387', 'EFO_0009487', 'EFO_0009486', 'EFO_0009485', 'HP_0003418', 'EFO_0009484', 'EFO_0009483', 'EFO_0009482', 'EFO_0009516', 'EFO_0009481', 'EFO_0009479', 'EFO_0009478', 'EFO_0009314', 'EFO_0009477', 'EFO_0009476', 'EFO_0009475', 'EFO_0009470', 'EFO_0009511', 'EFO_0009788', 'EFO_0009786', 'HP0011106', 'EFO_0009682', 'EFO_0009816', 'EFO_0009682', 'EFO_0009683', 'EFO_0009826', 'EFO_0009887', 'EFO_0009886', 'EFO_0009886', 'EFO_0009789', 'EFO_0009671', 'EFO_0009662', 'EFO_0009632', 'EFO_0009630', 'EFO_0009632', 'EFO_0009566', 'HP_0002321', 'EFO_1002049', 'Orphanet:281097', 'EFO_0009659', 'EFO:0009640', 'EFO_0009786', 'EFO_0009786', 'EFO_0009786', 'EFO_0009634', 'EFO_0009633', 'EFO_0009786', 'EFO:0009642', 'EFO_0009786', 'EFO_0009787', 'EFO_0009787', 'EFO_0009888', 'EFO:0009642', 'EFO_0009827', 'EFO_0009825', 'EFO:0009643', 'EFO_0009517', 'EFO_0009517', 'EFO_0009517', 'EFO:0009642', 'EFO:0009642', 'EFO_0009517', 'EFO_0009517', 'EFO_0009517', 'EFO_0009517', 'EFO_0009518', 'EFO_0009518', 'EFO_0009518', 'EFO_0009518', 'EFO_0009658', 'EFO_0009525', 'EFO_0009507', 'EFO_0009512', 'EFO_0009508', 'EFO_0009508', 'EFO_0009508', 'EFO_0009632', 'EFO_0009504', 'EFO_0009521', 'EFO_0009582', 'EFO_0009521', 'EFO_0009582', 'EFO_0009502', 'EFO_0009502', 'EFO_0009620', 'EFO_0009476', 'EFO_0009505', 'EFO_0009505', 'EFO_0009485', 'EFO_0009505', 'EFO_0009682', 'HP_0002011', 'EFO_0009682', 'EFO_0009373', 'HP_0001279', 'HP_0012378', 'EFO_0009641', 'EFO_0009692', 'HP_0001259', 'EFO_0009669', 'HP_0031456', 'EFO_0009682', 'EFO_0009682', 'HP_0001560', 'HP_0025328', 'EFO:0009639', 'EFO_0009681', 'HP_0001787', 'HP_0001787', 'HP_0001787', 'HP_0001787', 'HP_0001787', 'EFO:0009638', 'EFO:0009636', 'EFO_0009683', 'EFO_0009682', 'EFO_1002050', 'EFO_1002050', 'EFO_0009690', 'EFO_0009689', 'EFO_0009690', 'EFO_0009602', 'EFO_0009555', 'EFO_0009555', 'EFO_0009555', 'EFO_0009483', 'EFO_0009549', 'EFO_0009549', 'EFO_0009549', 'EFO_0009549', 'HP_0100608', 'EFO_0009663', 'EFO_0009665', 'EFO_0009676', 'HP_0100550', 'EFO_0009666', 'EFO_0009666', 'EFO_0009470', 'EFO_0009676', 'EFO_0009676', 'HP_0011368', 'HP_0011079', 'EFO_0009670', 'EFO_0009688', 'HP_0012390', 'EFO_0009660', 'EFO_0009685', 'EFO_0009605', 'EFO_0009657', 'HP_0011110', 'EFO_0009673', 'EFO_0009661', 'EFO_0009680', 'EFO:0009637', 'EFO_0009686', 'EFO_0009557', 'EFO_0009677', 'EFO_0009547', 'EFO_0009664', 'EFO_0009674', 'EFO_0009678', 'EFO_0009546', 'EFO_0009546', 'EFO_0009668', 'EFO_0009667', 'EFO_0009691', 'EFO_0009672', 'HP_0030766', 'EFO_0009558', 'EFO_0009562', 'EFO_0009679', 'EFO_0009684', 'EFO_0009488', 'EFO_0009687', 'EFO_0009189', 'EFO_0009605', 'EFO_0009675', 'EFO_0009812', 'EFO_0009812', 'EFO_0009431', 'EFO_0009431']\n",
      "(1600, 5)\n",
      "                                      query       MAPPED_TERM_LABEL  \\\n",
      "0           Vascular disorders of intestine        vascular disease   \n",
      "2                              Gonarthrosis  osteoarthritis || knee   \n",
      "3  Psoriatic and enteropathic arthropathies     psoriatic arthritis   \n",
      "4          Pain associated with micturition                 dysuria   \n",
      "5                                Other mood           mood disorder   \n",
      "\n",
      "            id                                 processed  \\\n",
      "0  EFO_0004264           vascular disorders of intestine   \n",
      "2  EFO_0004616                              gonarthrosis   \n",
      "3  EFO_0003778  psoriatic and enteropathic arthropathies   \n",
      "4  EFO_0003901          pain associated with micturition   \n",
      "5  EFO_0004247                                other mood   \n",
      "\n",
      "                                          BioSentVec  \\\n",
      "0  [0.014145898632705212, 0.4755328297615051, -0....   \n",
      "2  [0.15413393080234528, -1.4173569679260254, -0....   \n",
      "3  [0.4655860960483551, 0.20040848851203918, -0.7...   \n",
      "4  [0.3469484746456146, -0.19172678887844086, 0.1...   \n",
      "5  [1.1731828451156616, -1.6614547967910767, 1.26...   \n",
      "\n",
      "                                full_id  \n",
      "0  http://www.ebi.ac.uk/efo/EFO_0004264  \n",
      "2  http://www.ebi.ac.uk/efo/EFO_0004616  \n",
      "3  http://www.ebi.ac.uk/efo/EFO_0003778  \n",
      "4  http://www.ebi.ac.uk/efo/EFO_0003901  \n",
      "5  http://www.ebi.ac.uk/efo/EFO_0004247  \n",
      "(1083, 6)\n"
     ]
    }
   ],
   "source": [
    "#check all terms in EBI data set are in EFO node data\n",
    "efo_node_ids = list(efo_node_df['id'])\n",
    "ebi_ids = list(ebi_df['id'])\n",
    "missing=[]\n",
    "matched = []\n",
    "for i in ebi_ids:\n",
    "    match = False\n",
    "    for s in efo_node_ids:\n",
    "        if i in s and match == False:\n",
    "            matched.append(s)\n",
    "            match = True\n",
    "    if match == False:\n",
    "        missing.append(i)\n",
    "print('Missing:',len(missing),missing)\n",
    "\n",
    "# remove missing from ukb data\n",
    "print(ebi_df.shape)\n",
    "for i in missing:\n",
    "    ebi_df = ebi_df.drop(ebi_df[ebi_df['id'].str.contains(i)].index)\n",
    "ebi_df['full_id'] = matched\n",
    "print(ebi_df.head())\n",
    "print(ebi_df.shape)\n"
   ]
  },
  {
   "cell_type": "code",
   "execution_count": 189,
   "metadata": {},
   "outputs": [
    {
     "name": "stdout",
     "output_type": "stream",
     "text": [
      "1083\n",
      "                                      query       MAPPED_TERM_LABEL  \\\n",
      "0           Vascular disorders of intestine        vascular disease   \n",
      "2                              Gonarthrosis  osteoarthritis || knee   \n",
      "3  Psoriatic and enteropathic arthropathies     psoriatic arthritis   \n",
      "4          Pain associated with micturition                 dysuria   \n",
      "5                                Other mood           mood disorder   \n",
      "\n",
      "            id                                 processed  \\\n",
      "0  EFO_0004264           vascular disorders of intestine   \n",
      "2  EFO_0004616                              gonarthrosis   \n",
      "3  EFO_0003778  psoriatic and enteropathic arthropathies   \n",
      "4  EFO_0003901          pain associated with micturition   \n",
      "5  EFO_0004247                                other mood   \n",
      "\n",
      "                                          BioSentVec  \\\n",
      "0  [0.014145898632705212, 0.4755328297615051, -0....   \n",
      "2  [0.15413393080234528, -1.4173569679260254, -0....   \n",
      "3  [0.4655860960483551, 0.20040848851203918, -0.7...   \n",
      "4  [0.3469484746456146, -0.19172678887844086, 0.1...   \n",
      "5  [1.1731828451156616, -1.6614547967910767, 1.26...   \n",
      "\n",
      "                                full_id  \n",
      "0  http://www.ebi.ac.uk/efo/EFO_0004264  \n",
      "2  http://www.ebi.ac.uk/efo/EFO_0004616  \n",
      "3  http://www.ebi.ac.uk/efo/EFO_0003778  \n",
      "4  http://www.ebi.ac.uk/efo/EFO_0003901  \n",
      "5  http://www.ebi.ac.uk/efo/EFO_0004247  \n"
     ]
    }
   ],
   "source": [
    "# preprocess\n",
    "process_text=[]\n",
    "for k,g in ebi_df.groupby(np.arange(len(ebi_df))//20):\n",
    "    params={'text_list':list(g['query'])}\n",
    "    process_res = requests.post('http://vectology-api.mrcieu.ac.uk/preprocess',data=json.dumps(params))\n",
    "    process_text.extend([d['result'].replace('unspecified','').replace('nec','') for d in process_res.json()])\n",
    "print(len(process_text))\n",
    "    \n",
    "ebi_df.loc[:, 'processed'] = process_text\n",
    "print(ebi_df.head())"
   ]
  },
  {
   "cell_type": "code",
   "execution_count": 190,
   "metadata": {},
   "outputs": [
    {
     "name": "stdout",
     "output_type": "stream",
     "text": [
      "1000 1083\n",
      "1083 vectors created\n",
      "                                      query       MAPPED_TERM_LABEL  \\\n",
      "0           Vascular disorders of intestine        vascular disease   \n",
      "2                              Gonarthrosis  osteoarthritis || knee   \n",
      "3  Psoriatic and enteropathic arthropathies     psoriatic arthritis   \n",
      "4          Pain associated with micturition                 dysuria   \n",
      "5                                Other mood           mood disorder   \n",
      "\n",
      "            id                                 processed  \\\n",
      "0  EFO_0004264           vascular disorders of intestine   \n",
      "2  EFO_0004616                              gonarthrosis   \n",
      "3  EFO_0003778  psoriatic and enteropathic arthropathies   \n",
      "4  EFO_0003901          pain associated with micturition   \n",
      "5  EFO_0004247                                other mood   \n",
      "\n",
      "                                          BioSentVec  \\\n",
      "0  [0.014145898632705212, 0.4755328297615051, -0....   \n",
      "2  [0.15413393080234528, -1.4173569679260254, -0....   \n",
      "3  [0.4655860960483551, 0.20040848851203918, -0.7...   \n",
      "4  [0.3469484746456146, -0.19172678887844086, 0.1...   \n",
      "5  [1.1731828451156616, -1.6614547967910767, 1.26...   \n",
      "\n",
      "                                full_id  \n",
      "0  http://www.ebi.ac.uk/efo/EFO_0004264  \n",
      "2  http://www.ebi.ac.uk/efo/EFO_0004616  \n",
      "3  http://www.ebi.ac.uk/efo/EFO_0003778  \n",
      "4  http://www.ebi.ac.uk/efo/EFO_0003901  \n",
      "5  http://www.ebi.ac.uk/efo/EFO_0004247  \n",
      "(1083, 6)\n",
      "CPU times: user 4.59 s, sys: 290 ms, total: 4.88 s\n",
      "Wall time: 42.8 s\n"
     ]
    }
   ],
   "source": [
    "%%time\n",
    "\n",
    "f='data/ebi-ukb-vec.tsv.gz'\n",
    "if os.path.exists(f):\n",
    "    print('Already done')\n",
    "    ebi_df = pd.read_csv(f,sep='\\t')\n",
    "    #issues with reading vectors from CSV \n",
    "    ebi_df['BioSentVec'] = ebi_df['BioSentVec'].apply(lambda x: [float(y) for y in x.replace('[','').replace(']','').split(',')])\n",
    "else:\n",
    "    ebi_df = encode_traits(trait_df=ebi_df,col='processed',name='BioSentVec',model='BioSentVec')\n",
    "    ebi_df.to_csv(f,sep='\\t',compression='gzip',index=False)\n",
    "print(ebi_df.head())\n",
    "print(ebi_df.shape)"
   ]
  },
  {
   "cell_type": "code",
   "execution_count": 191,
   "metadata": {},
   "outputs": [
    {
     "name": "stdout",
     "output_type": "stream",
     "text": [
      "Already done\n",
      "                                          id                 name  \\\n",
      "0       http://www.ebi.ac.uk/efo/EFO_0004285          albuminuria   \n",
      "1  http://purl.obolibrary.org/obo/HP_0000093          Proteinuria   \n",
      "2       http://www.ebi.ac.uk/efo/EFO_0004207  pathological myopia   \n",
      "3  http://purl.obolibrary.org/obo/HP_0000545               Myopia   \n",
      "4       http://www.ebi.ac.uk/efo/EFO_0002608        AIDS dementia   \n",
      "\n",
      "                                          BioSentVec  \n",
      "0  [0.4202117919921875, -0.17832736670970917, -1....  \n",
      "1  [0.4231119751930237, -0.4265417158603668, -0.9...  \n",
      "2  [0.39966529607772827, -0.34570133686065674, -0...  \n",
      "3  [0.5090897083282471, -0.6281495094299316, -1.8...  \n",
      "4  [0.9064940214157104, 0.29144150018692017, 0.15...  \n",
      "CPU times: user 11.9 s, sys: 605 ms, total: 12.5 s\n",
      "Wall time: 12.6 s\n"
     ]
    }
   ],
   "source": [
    "%%time\n",
    "\n",
    "f='data/efo-vec.tsv.gz'\n",
    "if os.path.exists(f):\n",
    "    print('Already done')\n",
    "    efo_df = pd.read_csv(f,sep='\\t')\n",
    "    #issues with reading vectors from CSV \n",
    "    efo_df['BioSentVec'] = efo_df['BioSentVec'].apply(lambda x: [float(y) for y in x.replace('[','').replace(']','').split(',')])\n",
    "else:\n",
    "    efo_df = encode_traits(trait_df=efo_node_df,col='name',name='BioSentVec',model='BioSentVec')\n",
    "    efo_df.to_csv(f,sep='\\t',compression='gzip',index=False)\n",
    "    \n",
    "print(efo_df.head())\n"
   ]
  },
  {
   "cell_type": "code",
   "execution_count": 152,
   "metadata": {},
   "outputs": [
    {
     "name": "stdout",
     "output_type": "stream",
     "text": [
      "[('http://purl.obolibrary.org/obo/HP_0000093', 'http://www.ebi.ac.uk/efo/EFO_0004285'), ('http://purl.obolibrary.org/obo/HP_0000545', 'http://www.ebi.ac.uk/efo/EFO_0004207'), ('http://purl.obolibrary.org/obo/HP_0000726', 'http://www.ebi.ac.uk/efo/EFO_0002608'), ('http://purl.obolibrary.org/obo/HP_0001871', 'http://purl.obolibrary.org/obo/HP_0000132'), ('http://purl.obolibrary.org/obo/HP_0001871', 'http://purl.obolibrary.org/obo/HP_0001873'), ('http://purl.obolibrary.org/obo/HP_0001871', 'http://purl.obolibrary.org/obo/HP_0001915'), ('http://purl.obolibrary.org/obo/HP_0001871', 'http://purl.obolibrary.org/obo/HP_0100727'), ('http://purl.obolibrary.org/obo/HP_0001871', 'http://www.ebi.ac.uk/efo/EFO_0004233'), ('http://purl.obolibrary.org/obo/HP_0001871', 'http://www.ebi.ac.uk/efo/EFO_0004272'), ('http://purl.obolibrary.org/obo/HP_0002017', 'http://purl.obolibrary.org/obo/HP_0002018')]\n"
     ]
    }
   ],
   "source": [
    "#create nxontology network of EFO relationships\n",
    "def create_efo_nxo() -> NXOntology:\n",
    "    nxo = NXOntology()\n",
    "    \n",
    "    edges = []\n",
    "    efo_rel_df=pd.read_json(efo_data)\n",
    "    for i,row in efo_rel_df.iterrows():\n",
    "        child = row['child']['value']\n",
    "        parent = row['parent']['value']\n",
    "        edges.append((parent,child))\n",
    "    print(edges[0:10])\n",
    "    nxo.graph.add_edges_from(edges)\n",
    "    return nxo\n",
    "\n",
    "efo_nx = create_efo_nxo()\n",
    "efo_nx.freeze()"
   ]
  },
  {
   "cell_type": "code",
   "execution_count": 192,
   "metadata": {},
   "outputs": [
    {
     "name": "stdout",
     "output_type": "stream",
     "text": [
      "CPU times: user 11.4 ms, sys: 4.54 ms, total: 15.9 ms\n",
      "Wall time: 15.5 ms\n"
     ]
    }
   ],
   "source": [
    "%%time\n",
    "\n",
    "#ebi_df['BioSentVec']\n",
    "v1 = list(ebi_df['BioSentVec'])\n",
    "\n",
    "v2 = list(efo_df['BioSentVec'])\n"
   ]
  },
  {
   "cell_type": "code",
   "execution_count": 193,
   "metadata": {},
   "outputs": [
    {
     "name": "stdout",
     "output_type": "stream",
     "text": [
      "Creating distances...\n",
      "1083 21865\n",
      "1083\n",
      "CPU times: user 16.9 s, sys: 222 ms, total: 17.1 s\n",
      "Wall time: 17.2 s\n"
     ]
    }
   ],
   "source": [
    "%%time\n",
    "# cosine of all against all\n",
    "dd = create_pair_distances(v1,v2)"
   ]
  },
  {
   "cell_type": "code",
   "execution_count": 204,
   "metadata": {},
   "outputs": [
    {
     "name": "stdout",
     "output_type": "stream",
     "text": [
      "                                      query       MAPPED_TERM_LABEL  \\\n",
      "0           Vascular disorders of intestine        vascular disease   \n",
      "2                              Gonarthrosis  osteoarthritis || knee   \n",
      "3  Psoriatic and enteropathic arthropathies     psoriatic arthritis   \n",
      "4          Pain associated with micturition                 dysuria   \n",
      "5                                Other mood           mood disorder   \n",
      "\n",
      "            id                                 processed  \\\n",
      "0  EFO_0004264           vascular disorders of intestine   \n",
      "2  EFO_0004616                              gonarthrosis   \n",
      "3  EFO_0003778  psoriatic and enteropathic arthropathies   \n",
      "4  EFO_0003901          pain associated with micturition   \n",
      "5  EFO_0004247                                other mood   \n",
      "\n",
      "                                          BioSentVec  \\\n",
      "0  [0.014145898632705212, 0.4755328297615051, -0....   \n",
      "2  [0.15413393080234528, -1.4173569679260254, -0....   \n",
      "3  [0.4655860960483551, 0.20040848851203918, -0.7...   \n",
      "4  [0.3469484746456146, -0.19172678887844086, 0.1...   \n",
      "5  [1.1731828451156616, -1.6614547967910767, 1.26...   \n",
      "\n",
      "                                full_id       dis  \n",
      "0  http://www.ebi.ac.uk/efo/EFO_0004264  0.090909  \n",
      "2  http://www.ebi.ac.uk/efo/EFO_0004616  1.000000  \n",
      "3  http://www.ebi.ac.uk/efo/EFO_0003778  1.000000  \n",
      "4  http://www.ebi.ac.uk/efo/EFO_0003901  0.076923  \n",
      "5  http://www.ebi.ac.uk/efo/EFO_0004247  1.000000  \n"
     ]
    },
    {
     "data": {
      "text/plain": [
       "<seaborn.axisgrid.FacetGrid at 0xa260ad090>"
      ]
     },
     "execution_count": 204,
     "metadata": {},
     "output_type": "execute_result"
    },
    {
     "data": {
      "image/png": "[encoded data removed]",
      "text/plain": [
       "<Figure size 360x360 with 1 Axes>"
      ]
     },
     "metadata": {},
     "output_type": "display_data"
    }
   ],
   "source": [
    "count=0\n",
    "dis_results=[]\n",
    "for i,irows in ebi_df.iterrows():\n",
    "    #print('\\nEBI:',count,irows[['query','MAPPED_TERM_LABEL','full_id']].values)\n",
    "    try:\n",
    "        min_dis = np.nanargmin(dd[count])\n",
    "        min_val = np.nanmin(dd[count])\n",
    "    except:\n",
    "        min_dis=0\n",
    "    #print('EFO:',efo_df.iloc[min_dis][['name','id']].values,min_val)\n",
    "    try:\n",
    "        res = similarity = efo_nx.similarity(irows['full_id'],efo_df.iloc[min_dis]['id']).results()\n",
    "        #print(res['batet'])\n",
    "        dis_results.append(res['batet'])\n",
    "    except:\n",
    "        print('something wrong')\n",
    "        exit()\n",
    "    count+=1\n",
    "ebi_df['dis']=dis_results\n",
    "print(ebi_df.head())\n",
    "\n",
    "#plot\n",
    "sns.displot(ebi_df, x=\"dis\")"
   ]
  }
 ],
 "metadata": {
  "kernelspec": {
   "display_name": "Python 3",
   "language": "python",
   "name": "python3"
  },
  "language_info": {
   "codemirror_mode": {
    "name": "ipython",
    "version": 3
   },
   "file_extension": ".py",
   "mimetype": "text/x-python",
   "name": "python",
   "nbconvert_exporter": "python",
   "pygments_lexer": "ipython3",
   "version": "3.7.7"
  }
 },
 "nbformat": 4,
 "nbformat_minor": 4
}
