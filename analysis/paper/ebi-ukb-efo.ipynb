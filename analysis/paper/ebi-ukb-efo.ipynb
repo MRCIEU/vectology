{
 "cells": [
  {
   "cell_type": "code",
   "execution_count": 102,
   "metadata": {},
   "outputs": [],
   "source": [
    "import pandas as pd\n",
    "import numpy as np\n",
    "import requests\n",
    "import json\n",
    "import time\n",
    "import os \n",
    "\n",
    "from scripts.vectology_functions import create_aaa_distances, create_pair_distances, embed_text, encode_traits\n",
    "from nxontology import NXOntology\n",
    "\n",
    "#from ontoma import OnToma\n",
    "#otmap = OnToma()\n",
    "\n",
    "import seaborn as sns\n",
    "\n",
    "# Apply the default theme\n",
    "sns.set_theme()"
   ]
  },
  {
   "cell_type": "code",
   "execution_count": 201,
   "metadata": {},
   "outputs": [],
   "source": [
    "# gloabls\n",
    "ebi_data = 'data/UK_Biobank_master_file.tsv'\n",
    "#efo_nodes = 'data/efo-nodes.tsv'\n",
    "efo_data = 'data/efo_data.txt.gz'\n",
    "nxontology_measure = 'batet'"
   ]
  },
  {
   "cell_type": "code",
   "execution_count": 104,
   "metadata": {},
   "outputs": [
    {
     "name": "stdout",
     "output_type": "stream",
     "text": [
      "                                      query       MAPPED_TERM_LABEL  \\\n",
      "0           Vascular disorders of intestine        vascular disease   \n",
      "1                              Gonarthrosis  osteoarthritis || knee   \n",
      "2  Psoriatic and enteropathic arthropathies     psoriatic arthritis   \n",
      "3          Pain associated with micturition                 dysuria   \n",
      "4                                Other mood           mood disorder   \n",
      "\n",
      "            MAPPED_TERM_URI  \n",
      "0  EFO_0004264, EFO_0009431  \n",
      "1               EFO_0004616  \n",
      "2               EFO_0003778  \n",
      "3               EFO_0003901  \n",
      "4               EFO_0004247  \n",
      "(1565, 3)\n",
      "(1613, 3)\n",
      "(1600, 3)\n",
      "                                      query       MAPPED_TERM_LABEL  \\\n",
      "0           Vascular disorders of intestine        vascular disease   \n",
      "1           Vascular disorders of intestine        vascular disease   \n",
      "2                              Gonarthrosis  osteoarthritis || knee   \n",
      "3  Psoriatic and enteropathic arthropathies     psoriatic arthritis   \n",
      "4          Pain associated with micturition                 dysuria   \n",
      "\n",
      "            id  \n",
      "0  EFO_0004264  \n",
      "1  EFO_0009431  \n",
      "2  EFO_0004616  \n",
      "3  EFO_0003778  \n",
      "4  EFO_0003901  \n"
     ]
    }
   ],
   "source": [
    "# get the EBI UKB data\n",
    "#get ebi data\n",
    "#url='https://raw.githubusercontent.com/EBISPOT/EFO-UKB-mappings/master/UK_Biobank_master_file.tsv'\n",
    "#ebi_df = pd.read_csv(url,sep='\\t')\n",
    "\n",
    "ebi_df = pd.read_csv(ebi_data,sep='\\t')\n",
    "\n",
    "#drop some columns\n",
    "ebi_df = ebi_df[['ZOOMA QUERY','MAPPED_TERM_LABEL','MAPPED_TERM_URI']]\n",
    "ebi_df.rename(columns={'ZOOMA QUERY':'query'},inplace=True)\n",
    "print(ebi_df.head())\n",
    "print(ebi_df.shape)\n",
    "\n",
    "#create new rows for multiple labels\n",
    "#ebi_df = (\n",
    "#        ebi_df.assign(label=ebi_df.MAPPED_TERM_LABEL.str.split(\"\\|\\|\"))\n",
    "#        .explode(\"label\")\n",
    "#        .reset_index(drop=True).drop('MAPPED_TERM_LABEL',axis=1)\n",
    "#    )\n",
    "\n",
    "#create new rows for multiple ids\n",
    "ebi_df['MAPPED_TERM_URI']=ebi_df['MAPPED_TERM_URI'].str.replace('\\|\\|',',')\n",
    "ebi_df['MAPPED_TERM_URI']=ebi_df['MAPPED_TERM_URI'].str.replace('\\|',',')\n",
    "ebi_df = (\n",
    "        ebi_df.assign(id=ebi_df.MAPPED_TERM_URI.str.split(\",\"))\n",
    "        .explode(\"id\")\n",
    "        .reset_index(drop=True).drop('MAPPED_TERM_URI',axis=1)\n",
    "    )\n",
    "\n",
    "#clean up\n",
    "ebi_df['id'] = ebi_df['id'].str.strip()\n",
    "\n",
    "#drop cases where query and id are the same\n",
    "ebi_df.drop_duplicates(subset=['query','id'],inplace=True)\n",
    "print(ebi_df.shape)\n",
    "\n",
    "#drop nan\n",
    "ebi_df.dropna(inplace=True)\n",
    "print(ebi_df.shape)\n",
    "print(ebi_df.head())\n"
   ]
  },
  {
   "cell_type": "code",
   "execution_count": 105,
   "metadata": {},
   "outputs": [
    {
     "name": "stdout",
     "output_type": "stream",
     "text": [
      "                                              id  \\\n",
      "0           http://www.ebi.ac.uk/efo/EFO_0004285   \n",
      "1      http://purl.obolibrary.org/obo/HP_0000093   \n",
      "2           http://www.ebi.ac.uk/efo/EFO_0004207   \n",
      "3      http://purl.obolibrary.org/obo/HP_0000545   \n",
      "4           http://www.ebi.ac.uk/efo/EFO_0002608   \n",
      "...                                          ...   \n",
      "53112  http://purl.obolibrary.org/obo/HP_0002840   \n",
      "53114  http://purl.obolibrary.org/obo/PO_0030015   \n",
      "53118  http://purl.obolibrary.org/obo/EO_0007068   \n",
      "53120  http://purl.obolibrary.org/obo/HP_0002313   \n",
      "53124   http://purl.obolibrary.org/obo/FMA_24984   \n",
      "\n",
      "                                      name  \n",
      "0                              albuminuria  \n",
      "1                              Proteinuria  \n",
      "2                      pathological myopia  \n",
      "3                                   Myopia  \n",
      "4                            AIDS dementia  \n",
      "...                                    ...  \n",
      "53112                        lymphadenitis  \n",
      "53114  sporophyte meristematic apical cell  \n",
      "53118                   ethylene treatment  \n",
      "53120                  Spastic paraparesis  \n",
      "53124                                 calf  \n",
      "\n",
      "[21865 rows x 2 columns]\n",
      "CPU times: user 4.54 s, sys: 2.65 s, total: 7.19 s\n",
      "Wall time: 7.47 s\n"
     ]
    }
   ],
   "source": [
    "%%time\n",
    "\n",
    "# get EFO node data\n",
    "#efo_df=pd.read_csv(efo_nodes,sep='\\t',names=['name','label','type'])\n",
    "#print(efo_df.head())\n",
    "#print(efo_df.shape)\n",
    "\n",
    "# EFO data\n",
    "efo_df = pd.read_json(efo_data)\n",
    "#print(efo_df.head())\n",
    "node_data = []\n",
    "for i,rows in efo_df.iterrows():\n",
    "    node_data.append({\n",
    "        'id':rows['child']['value'],\n",
    "        'name':rows['childLabel']['value'],\n",
    "    })\n",
    "    node_data.append({\n",
    "        'id':rows['parent']['value'],\n",
    "        'name':rows['parentLabel']['value'],\n",
    "        \n",
    "    })\n",
    "efo_node_df = pd.DataFrame(node_data)\n",
    "efo_node_df.drop_duplicates(inplace=True)\n",
    "print(efo_node_df)"
   ]
  },
  {
   "cell_type": "code",
   "execution_count": 106,
   "metadata": {},
   "outputs": [
    {
     "name": "stdout",
     "output_type": "stream",
     "text": [
      "Missing: 517\n",
      "(1600, 3)\n",
      "                                      query       MAPPED_TERM_LABEL  \\\n",
      "0           Vascular disorders of intestine        vascular disease   \n",
      "2                              Gonarthrosis  osteoarthritis || knee   \n",
      "3  Psoriatic and enteropathic arthropathies     psoriatic arthritis   \n",
      "4          Pain associated with micturition                 dysuria   \n",
      "5                                Other mood           mood disorder   \n",
      "\n",
      "            id                               full_id  \n",
      "0  EFO_0004264  http://www.ebi.ac.uk/efo/EFO_0004264  \n",
      "2  EFO_0004616  http://www.ebi.ac.uk/efo/EFO_0004616  \n",
      "3  EFO_0003778  http://www.ebi.ac.uk/efo/EFO_0003778  \n",
      "4  EFO_0003901  http://www.ebi.ac.uk/efo/EFO_0003901  \n",
      "5  EFO_0004247  http://www.ebi.ac.uk/efo/EFO_0004247  \n",
      "(1083, 4)\n"
     ]
    }
   ],
   "source": [
    "#check all terms in EBI data set are in EFO node data\n",
    "efo_node_ids = list(efo_node_df['id'])\n",
    "ebi_ids = list(ebi_df['id'])\n",
    "missing=[]\n",
    "matched = []\n",
    "for i in ebi_ids:\n",
    "    match = False\n",
    "    for s in efo_node_ids:\n",
    "        if i in s and match == False:\n",
    "            matched.append(s)\n",
    "            match = True\n",
    "    if match == False:\n",
    "        missing.append(i)\n",
    "print('Missing:',len(missing))\n",
    "\n",
    "# remove missing from ukb data\n",
    "print(ebi_df.shape)\n",
    "for i in missing:\n",
    "    ebi_df = ebi_df.drop(ebi_df[ebi_df['id'].str.contains(i)].index)\n",
    "ebi_df['full_id'] = matched\n",
    "print(ebi_df.head())\n",
    "print(ebi_df.shape)\n",
    "ebi_df.to_csv('output/ebi-ukb-cleaned.tsv',index=False,sep='\\t')\n"
   ]
  },
  {
   "cell_type": "code",
   "execution_count": 107,
   "metadata": {},
   "outputs": [
    {
     "name": "stdout",
     "output_type": "stream",
     "text": [
      "1083\n",
      "                                      query       MAPPED_TERM_LABEL  \\\n",
      "0           Vascular disorders of intestine        vascular disease   \n",
      "2                              Gonarthrosis  osteoarthritis || knee   \n",
      "3  Psoriatic and enteropathic arthropathies     psoriatic arthritis   \n",
      "4          Pain associated with micturition                 dysuria   \n",
      "5                                Other mood           mood disorder   \n",
      "\n",
      "            id                               full_id  \\\n",
      "0  EFO_0004264  http://www.ebi.ac.uk/efo/EFO_0004264   \n",
      "2  EFO_0004616  http://www.ebi.ac.uk/efo/EFO_0004616   \n",
      "3  EFO_0003778  http://www.ebi.ac.uk/efo/EFO_0003778   \n",
      "4  EFO_0003901  http://www.ebi.ac.uk/efo/EFO_0003901   \n",
      "5  EFO_0004247  http://www.ebi.ac.uk/efo/EFO_0004247   \n",
      "\n",
      "                                  processed  \n",
      "0           vascular disorders of intestine  \n",
      "2                              gonarthrosis  \n",
      "3  psoriatic and enteropathic arthropathies  \n",
      "4          pain associated with micturition  \n",
      "5                                other mood  \n"
     ]
    }
   ],
   "source": [
    "# preprocess\n",
    "process_text=[]\n",
    "for k,g in ebi_df.groupby(np.arange(len(ebi_df))//20):\n",
    "    params={'text_list':list(g['query'])}\n",
    "    process_res = requests.post('http://vectology-api.mrcieu.ac.uk/preprocess',data=json.dumps(params))\n",
    "    process_text.extend([d['result'].replace('unspecified','').replace('nec','') for d in process_res.json()])\n",
    "print(len(process_text))\n",
    "    \n",
    "ebi_df.loc[:, 'processed'] = process_text\n",
    "print(ebi_df.head())"
   ]
  },
  {
   "cell_type": "code",
   "execution_count": 120,
   "metadata": {},
   "outputs": [
    {
     "name": "stdout",
     "output_type": "stream",
     "text": [
      "Already done\n",
      "                                      query       MAPPED_TERM_LABEL  \\\n",
      "0           Vascular disorders of intestine        vascular disease   \n",
      "1                              Gonarthrosis  osteoarthritis || knee   \n",
      "2  Psoriatic and enteropathic arthropathies     psoriatic arthritis   \n",
      "3          Pain associated with micturition                 dysuria   \n",
      "4                                Other mood           mood disorder   \n",
      "\n",
      "            id                               full_id  \\\n",
      "0  EFO_0004264  http://www.ebi.ac.uk/efo/EFO_0004264   \n",
      "1  EFO_0004616  http://www.ebi.ac.uk/efo/EFO_0004616   \n",
      "2  EFO_0003778  http://www.ebi.ac.uk/efo/EFO_0003778   \n",
      "3  EFO_0003901  http://www.ebi.ac.uk/efo/EFO_0003901   \n",
      "4  EFO_0004247  http://www.ebi.ac.uk/efo/EFO_0004247   \n",
      "\n",
      "                                  processed  \\\n",
      "0           vascular disorders of intestine   \n",
      "1                              gonarthrosis   \n",
      "2  psoriatic and enteropathic arthropathies   \n",
      "3          pain associated with micturition   \n",
      "4                                other mood   \n",
      "\n",
      "                                          BioSentVec  \\\n",
      "0  [0.014145898632705212, 0.4755328297615051, -0....   \n",
      "1  [0.15413393080234528, -1.4173569679260254, -0....   \n",
      "2  [0.4655860960483551, 0.20040848851203918, -0.7...   \n",
      "3  [0.3469484746456146, -0.19172678887844086, 0.1...   \n",
      "4  [1.1731828451156616, -1.6614547967910767, 1.26...   \n",
      "\n",
      "                                            BlueBERT  \\\n",
      "0  [0.44886839389801025, -0.33897820115089417, -0...   \n",
      "1  [0.0002904770371969789, -0.3310322165489197, -...   \n",
      "2  [0.3583090305328369, 0.1590348333120346, -0.11...   \n",
      "3  [-0.12517662346363068, -0.24347220361232758, 0...   \n",
      "4  [0.15217240154743195, 0.146414652466774, 0.082...   \n",
      "\n",
      "                                             BioBERT  \n",
      "0  [-0.434227854013443, -0.02197027951478958, -0....  \n",
      "1  [-0.06911136955022812, -0.0711580216884613, -0...  \n",
      "2  [-0.10169830173254013, -0.017718752846121788, ...  \n",
      "3  [-0.4437795877456665, -0.1804507076740265, -0....  \n",
      "4  [-0.05958523973822594, -0.14002248644828796, -...  \n",
      "(1083, 8)\n",
      "CPU times: user 2.01 s, sys: 84.3 ms, total: 2.09 s\n",
      "Wall time: 2.12 s\n"
     ]
    }
   ],
   "source": [
    "%%time\n",
    "\n",
    "f='output/ebi-ukb-vec.tsv.gz'\n",
    "if os.path.exists(f):\n",
    "    print('Already done')\n",
    "    ebi_df = pd.read_csv(f,sep='\\t')\n",
    "    #issues with reading vectors from CSV \n",
    "    ebi_df['BioSentVec'] = ebi_df['BioSentVec'].apply(lambda x: [float(y) for y in x.replace('[','').replace(']','').split(',')])\n",
    "    ebi_df['BioBERT'] = ebi_df['BioBERT'].apply(lambda x: [float(y) for y in x.replace('[','').replace(']','').split(',')])\n",
    "    ebi_df['BlueBERT'] = ebi_df['BlueBERT'].apply(lambda x: [float(y) for y in x.replace('[','').replace(']','').split(',')])\n",
    "else:\n",
    "    ebi_df = encode_traits(trait_df=ebi_df,col='processed',name='BioSentVec',model='BioSentVec')\n",
    "    ebi_df = encode_traits(trait_df=ebi_df,col='processed',name='BioBERT',model='biobert_v1.1_pubmed')\n",
    "    ebi_df = encode_traits(trait_df=ebi_df,col='processed',name='BlueBERT',model='NCBI_BERT_pubmed_mimic_uncased_L-12_H-768_A-12')\n",
    "    ebi_df.to_csv(f,sep='\\t',compression='gzip',index=False)\n",
    "\n",
    "print(ebi_df.head())\n",
    "print(ebi_df.shape)"
   ]
  },
  {
   "cell_type": "code",
   "execution_count": 121,
   "metadata": {},
   "outputs": [
    {
     "name": "stdout",
     "output_type": "stream",
     "text": [
      "Already done\n",
      "1000 21865\n",
      "2000 21865\n",
      "3000 21865\n",
      "4000 21865\n",
      "5000 21865\n",
      "6000 21865\n",
      "7000 21865\n",
      "8000 21865\n",
      "9000 21865\n",
      "10000 21865\n",
      "11000 21865\n",
      "12000 21865\n",
      "13000 21865\n",
      "14000 21865\n",
      "15000 21865\n",
      "16000 21865\n",
      "17000 21865\n",
      "18000 21865\n",
      "19000 21865\n",
      "20000 21865\n",
      "21000 21865\n",
      "21865 vectors created\n",
      "                                          id                 name  \\\n",
      "0       http://www.ebi.ac.uk/efo/EFO_0004285          albuminuria   \n",
      "1  http://purl.obolibrary.org/obo/HP_0000093          Proteinuria   \n",
      "2       http://www.ebi.ac.uk/efo/EFO_0004207  pathological myopia   \n",
      "3  http://purl.obolibrary.org/obo/HP_0000545               Myopia   \n",
      "4       http://www.ebi.ac.uk/efo/EFO_0002608        AIDS dementia   \n",
      "\n",
      "                                          BioSentVec  \\\n",
      "0  [0.4202117919921875, -0.17832736670970917, -1....   \n",
      "1  [0.4231119751930237, -0.4265417158603668, -0.9...   \n",
      "2  [0.39966529607772827, -0.34570133686065674, -0...   \n",
      "3  [0.5090897083282471, -0.6281495094299316, -1.8...   \n",
      "4  [0.9064940214157104, 0.29144150018692017, 0.15...   \n",
      "\n",
      "                                            BlueBERT  \\\n",
      "0  [0.06792901456356049, -0.09683099389076233, 0....   \n",
      "1  [0.11171693354845047, -0.13092097640037537, 0....   \n",
      "2  [0.21860964596271515, -0.2784896790981293, -0....   \n",
      "3  [-0.08912084996700287, 0.0019020227482542396, ...   \n",
      "4  [0.20834815502166748, -0.07789341360330582, 0....   \n",
      "\n",
      "                                             BioBERT  \n",
      "0  [-0.07103975117206573, 0.1507042497396469, -0....  \n",
      "1  [0.05650722607970238, 0.016719192266464233, -0...  \n",
      "2  [-0.37013378739356995, -0.06055741384625435, -...  \n",
      "3  [-0.31760507822036743, -0.022377649322152138, ...  \n",
      "4  [-0.2749718129634857, 0.07688391208648682, 0.0...  \n",
      "CPU times: user 4min 50s, sys: 10.6 s, total: 5min 1s\n",
      "Wall time: 30min 41s\n"
     ]
    }
   ],
   "source": [
    "%%time\n",
    "\n",
    "# takes ~30 mins for each BERT based model\n",
    "\n",
    "#test\n",
    "#efo_node_df = efo_node_df.head(n=5000)\n",
    "\n",
    "f='output/efo-vec.tsv.gz'\n",
    "if os.path.exists(f):\n",
    "    print('Already done')\n",
    "    efo_df = pd.read_csv(f,sep='\\t')\n",
    "    #issues with reading vectors from CSV \n",
    "    efo_df['BioSentVec'] = efo_df['BioSentVec'].apply(lambda x: [float(y) for y in x.replace('[','').replace(']','').split(',')])\n",
    "    #efo_df['BioBERT'] = efo_df['BioBERT'].apply(lambda x: [float(y) for y in x.replace('[','').replace(']','').split(',')])\n",
    "    efo_df['BlueBERT'] = efo_df['BlueBERT'].apply(lambda x: [float(y) for y in x.replace('[','').replace(']','').split(',')])\n",
    "else:\n",
    "    efo_df = encode_traits(trait_df=efo_node_df,col='name',name='BioSentVec',model='BioSentVec')\n",
    "    efo_df = encode_traits(trait_df=efo_node_df,col='name',name='BioBERT',model='biobert_v1.1_pubmed')\n",
    "    efo_df = encode_traits(trait_df=efo_node_df,col='name',name='BlueBERT',model='NCBI_BERT_pubmed_mimic_uncased_L-12_H-768_A-12')\n",
    "    efo_df.to_csv(f,sep='\\t',compression='gzip',index=False)\n",
    "    \n",
    "efo_df = encode_traits(trait_df=efo_node_df,col='name',name='BioBERT',model='biobert_v1.1_pubmed')\n",
    "efo_df.to_csv(f,sep='\\t',compression='gzip',index=False)    \n",
    "print(efo_df.head())\n"
   ]
  },
  {
   "cell_type": "code",
   "execution_count": 182,
   "metadata": {},
   "outputs": [],
   "source": [
    "#create nxontology network of EFO relationships\n",
    "def create_efo_nxo() -> NXOntology:\n",
    "    nxo = NXOntology()\n",
    "    \n",
    "    edges = []\n",
    "    efo_rel_df=pd.read_json(efo_data)\n",
    "    for i,row in efo_rel_df.iterrows():\n",
    "        child = row['child']['value']\n",
    "        parent = row['parent']['value']\n",
    "        edges.append((parent,child))\n",
    "    #print(edges[0:10])\n",
    "    nxo.graph.add_edges_from(edges)\n",
    "    return nxo\n",
    "\n",
    "efo_nx = create_efo_nxo()\n",
    "efo_nx.freeze()"
   ]
  },
  {
   "cell_type": "code",
   "execution_count": 122,
   "metadata": {},
   "outputs": [
    {
     "name": "stdout",
     "output_type": "stream",
     "text": [
      "Creating distances...\n",
      "1083 21865\n",
      "1083\n",
      "Creating distances...\n",
      "1083 21865\n",
      "1083\n",
      "Creating distances...\n",
      "1083 21865\n",
      "1083\n",
      "CPU times: user 1min 1s, sys: 1.01 s, total: 1min 2s\n",
      "Wall time: 1min 2s\n"
     ]
    }
   ],
   "source": [
    "%%time\n",
    "def run_pairs(model):\n",
    "    #ebi_df['BioSentVec']\n",
    "    v1 = list(ebi_df[model])\n",
    "\n",
    "    v2 = list(efo_df[model])\n",
    "    # cosine of all against all\n",
    "    dd = create_pair_distances(v1,v2)\n",
    "    return dd\n",
    "    \n",
    "dd_bio = run_pairs('BioSentVec')\n",
    "dd_bert = run_pairs('BlueBERT')\n",
    "dd_biobert = run_pairs('BioBERT')"
   ]
  },
  {
   "cell_type": "code",
   "execution_count": 202,
   "metadata": {},
   "outputs": [
    {
     "name": "stdout",
     "output_type": "stream",
     "text": [
      "BioSentVec greater than 0.8: (621, 16)\n",
      "BlueBERT greater than 0.8: (572, 16)\n",
      "BioBERT greater than 0.8: (558, 16)\n"
     ]
    },
    {
     "data": {
      "image/png": "[encoded data removed]",
      "text/plain": [
       "<Figure size 360x360 with 1 Axes>"
      ]
     },
     "metadata": {},
     "output_type": "display_data"
    },
    {
     "data": {
      "image/png": "[encoded data removed]",
      "text/plain": [
       "<Figure size 360x360 with 1 Axes>"
      ]
     },
     "metadata": {},
     "output_type": "display_data"
    },
    {
     "data": {
      "image/png": "[encoded data removed]",
      "text/plain": [
       "<Figure size 360x360 with 1 Axes>"
      ]
     },
     "metadata": {},
     "output_type": "display_data"
    }
   ],
   "source": [
    "def get_top(model,pairwise_data):\n",
    "    count=0\n",
    "    dis_results=[]\n",
    "    efo_map = []\n",
    "    for i,irows in ebi_df.iterrows():\n",
    "        #print('\\nEBI:',count,irows[['query','MAPPED_TERM_LABEL','full_id']].values)\n",
    "        try:\n",
    "            min_dis = np.nanargmin(pairwise_data[count])\n",
    "            min_val = np.nanmin(pairwise_data[count])\n",
    "        except:\n",
    "            min_dis=0\n",
    "        #print('EFO:',efo_df.iloc[min_dis][['name','id']].values,min_val)\n",
    "        try:\n",
    "            res = similarity = efo_nx.similarity(irows['full_id'],efo_df.iloc[min_dis]['id']).results()\n",
    "            dis_results.append(res[nxontology_measure])\n",
    "            efo_map.append(efo_df.iloc[min_dis]['id'])\n",
    "        except:\n",
    "            print('something wrong')\n",
    "            exit()\n",
    "        count+=1\n",
    "    ebi_df[f'{model}-dis']=dis_results\n",
    "    ebi_df[f'{model}-efo']=efo_map\n",
    "    #print(ebi_df.head())\n",
    "    print(model,'greater than 0.8:',ebi_df[ebi_df[f'{model}-dis']>0.8].shape)\n",
    "    #plot\n",
    "    sns_plot = sns.displot(ebi_df, x=f\"{model}-dis\",kde=True)\n",
    "    sns_plot.savefig(f\"output/{model}-{nxontology_measure}-dis.pdf\")\n",
    "get_top('BioSentVec',dd_bio)\n",
    "get_top('BlueBERT',dd_bert)\n",
    "get_top('BioBERT',dd_biobert)"
   ]
  },
  {
   "cell_type": "code",
   "execution_count": 70,
   "metadata": {},
   "outputs": [],
   "source": [
    "# ontoma \n",
    "#print(otmap.find_term('Vascular disorders of intestine'))\n",
    "#think this is just using zooma"
   ]
  },
  {
   "cell_type": "code",
   "execution_count": 71,
   "metadata": {},
   "outputs": [
    {
     "name": "stdout",
     "output_type": "stream",
     "text": [
      "(929, 10)\n"
     ]
    }
   ],
   "source": [
    "# zooma using web app\n",
    "# ran the web app using filtered list of terms\n",
    "# Configure Data Sources - Don't search in any datasources checked\n",
    "# Configure Ontology Sources - EFO\n",
    "# https://www.ebi.ac.uk/spot/zooma\n",
    "zooma_df = pd.read_csv('data/zooma.tsv',sep='\\t')\n",
    "zooma_df['zooma_efo'] = zooma_df['ONTOLOGY(S)']+zooma_df['ONTOLOGY TERM(S)']\n",
    "zooma_df.drop_duplicates(subset=['zooma_efo'],inplace=True)\n",
    "print(zooma_df.shape)"
   ]
  },
  {
   "cell_type": "code",
   "execution_count": 72,
   "metadata": {},
   "outputs": [],
   "source": [
    "# zooma using API\n",
    "def run_zooma(text):\n",
    "    zooma_api = 'https://www.ebi.ac.uk/spot/zooma/v2/api/services/annotate'\n",
    "    payload = {\n",
    "        'propertyValue':text,\n",
    "        'filter':'required:[none],ontologies:[efo]'\n",
    "    }\n",
    "    res = requests.get(zooma_api,params=payload).json()\n",
    "    if res:\n",
    "        #print(text,res[0]['semanticTags'])\n",
    "        return res[0]['semanticTags'][0]\n",
    "    else:\n",
    "        return 'NA'"
   ]
  },
  {
   "cell_type": "code",
   "execution_count": 188,
   "metadata": {},
   "outputs": [
    {
     "name": "stdout",
     "output_type": "stream",
     "text": [
      "                                      query       MAPPED_TERM_LABEL  \\\n",
      "0           Vascular disorders of intestine        vascular disease   \n",
      "1                              Gonarthrosis  osteoarthritis || knee   \n",
      "2  Psoriatic and enteropathic arthropathies     psoriatic arthritis   \n",
      "3          Pain associated with micturition                 dysuria   \n",
      "4                                Other mood           mood disorder   \n",
      "\n",
      "            id                               full_id  \\\n",
      "0  EFO_0004264  http://www.ebi.ac.uk/efo/EFO_0004264   \n",
      "1  EFO_0004616  http://www.ebi.ac.uk/efo/EFO_0004616   \n",
      "2  EFO_0003778  http://www.ebi.ac.uk/efo/EFO_0003778   \n",
      "3  EFO_0003901  http://www.ebi.ac.uk/efo/EFO_0003901   \n",
      "4  EFO_0004247  http://www.ebi.ac.uk/efo/EFO_0004247   \n",
      "\n",
      "                                  processed  \\\n",
      "0           vascular disorders of intestine   \n",
      "1                              gonarthrosis   \n",
      "2  psoriatic and enteropathic arthropathies   \n",
      "3          pain associated with micturition   \n",
      "4                                other mood   \n",
      "\n",
      "                                          BioSentVec  \\\n",
      "0  [0.014145898632705212, 0.4755328297615051, -0....   \n",
      "1  [0.15413393080234528, -1.4173569679260254, -0....   \n",
      "2  [0.4655860960483551, 0.20040848851203918, -0.7...   \n",
      "3  [0.3469484746456146, -0.19172678887844086, 0.1...   \n",
      "4  [1.1731828451156616, -1.6614547967910767, 1.26...   \n",
      "\n",
      "                                             BioBERT  BioSentVec-dis  \\\n",
      "0  [-0.434227854013443, -0.02197027951478958, -0....        0.153846   \n",
      "1  [-0.06911136955022812, -0.0711580216884613, -0...        0.125000   \n",
      "2  [-0.10169830173254013, -0.017718752846121788, ...        0.153846   \n",
      "3  [-0.4437795877456665, -0.1804507076740265, -0....        0.363636   \n",
      "4  [-0.05958523973822594, -0.14002248644828796, -...        0.153846   \n",
      "\n",
      "   BioBERT-dis                                  zooma_api  \n",
      "0     0.153846       http://www.ebi.ac.uk/efo/EFO_0003763  \n",
      "1     0.125000                                        NaN  \n",
      "2     0.153846                                        NaN  \n",
      "3     0.363636  http://purl.obolibrary.org/obo/GO_0060073  \n",
      "4     0.153846       http://www.ebi.ac.uk/efo/EFO_0004247  \n",
      "(1083, 10)\n",
      "CPU times: user 231 ms, sys: 45 ms, total: 276 ms\n",
      "Wall time: 288 ms\n"
     ]
    }
   ],
   "source": [
    "%%time\n",
    "\n",
    "# takes around 3 minutes for 1,000\n",
    "f='output/ebi-zooma-api.tsv'\n",
    "if os.path.exists(f):\n",
    "    ebi_df_zooma = pd.read_csv(f,sep='\\t')\n",
    "else:\n",
    "    ebi_df_zooma['zooma_api'] = ebi_df_zooma['query'].apply(lambda x:run_zooma(x))\n",
    "    ebi_df_zooma.to_csv('output/ebi-zooma-api.tsv',sep='\\t',index=False)\n",
    "print(ebi_df_zooma.head())\n",
    "print(ebi_df_zooma.shape)"
   ]
  },
  {
   "cell_type": "code",
   "execution_count": 203,
   "metadata": {},
   "outputs": [
    {
     "name": "stdout",
     "output_type": "stream",
     "text": [
      "1083\n",
      "(549, 16)\n"
     ]
    },
    {
     "data": {
      "text/plain": [
       "<seaborn.axisgrid.FacetGrid at 0x1a2ee387d0>"
      ]
     },
     "execution_count": 203,
     "metadata": {},
     "output_type": "execute_result"
    },
    {
     "data": {
      "image/png": "[encoded data removed]",
      "text/plain": [
       "<Figure size 360x360 with 1 Axes>"
      ]
     },
     "metadata": {},
     "output_type": "display_data"
    }
   ],
   "source": [
    "#print(zooma_df.head())\n",
    "\n",
    "# merge with ebi file\n",
    "#m = pd.merge(zooma_df,ebi_df,left_on='PROPERTY VALUE',right_on='query')\n",
    "#m.drop_duplicates(inplace=True)\n",
    "#print(m.head())\n",
    "#print(m.shape)\n",
    "\n",
    "dis_results=[]\n",
    "for i, row in ebi_df_zooma.iterrows():\n",
    "    try:\n",
    "        res = similarity = efo_nx.similarity(row['zooma_api'],row['full_id']).results()\n",
    "        dis_results.append(res[nxontology_measure])\n",
    "    except:\n",
    "        dis_results.append(0)\n",
    "        \n",
    "print(len(dis_results))\n",
    "ebi_df['Zooma-dis'] = dis_results\n",
    "print(ebi_df[ebi_df['Zooma-dis']>0.9].shape)\n",
    "ebi_df.to_csv('output/ebi-dis.tsv',sep='\\t',index=False)\n",
    "sns.displot(ebi_df, x=\"Zooma-dis\",kde=True)"
   ]
  },
  {
   "cell_type": "code",
   "execution_count": 101,
   "metadata": {},
   "outputs": [
    {
     "name": "stdout",
     "output_type": "stream",
     "text": [
      "(141, 13)\n",
      "                                                  query  \\\n",
      "25                       Hypertrophic disorders of skin   \n",
      "93             Unspecified human immunodeficiency virus   \n",
      "94                            Other endocrine disorders   \n",
      "95                              Other diseases of liver   \n",
      "135                    Premature separation of placenta   \n",
      "...                                                 ...   \n",
      "1440  Gestational [pregnancy-induced] hypertension w...   \n",
      "1532  Postprocedural disorders of digestive system, ...   \n",
      "1541          Other diseases of upper respiratory tract   \n",
      "1607  Other disorders involving the immune mechanism...   \n",
      "1620                   Other disorders of adrenal gland   \n",
      "\n",
      "               MAPPED_TERM_LABEL                               full_id  \\\n",
      "25                  skin disease  http://www.ebi.ac.uk/efo/EFO_0000701   \n",
      "93                 HIV infection  http://www.ebi.ac.uk/efo/EFO_0000764   \n",
      "94      endocrine system disease  http://www.ebi.ac.uk/efo/EFO_0001379   \n",
      "95                 liver disease  http://www.ebi.ac.uk/efo/EFO_0001421   \n",
      "135           Abruptio Placentae  http://www.ebi.ac.uk/efo/EFO_1001754   \n",
      "...                          ...                                   ...   \n",
      "1440   preeclampsia||proteinuria  http://www.ebi.ac.uk/efo/EFO_0000668   \n",
      "1532    digestive system disease  http://www.ebi.ac.uk/efo/EFO_0000405   \n",
      "1541  respiratory system disease  http://www.ebi.ac.uk/efo/EFO_0000684   \n",
      "1607       immune system disease  http://www.ebi.ac.uk/efo/EFO_0000540   \n",
      "1620       adrenal gland disease  http://www.ebi.ac.uk/efo/EFO_0005539   \n",
      "\n",
      "      BioSentVec-dis                                  BioSentVec-efo  \n",
      "25          0.571429            http://www.ebi.ac.uk/efo/EFO_0009143  \n",
      "93          0.090909  http://purl.obolibrary.org/obo/NCBITaxon_12721  \n",
      "94          0.000000            http://www.ebi.ac.uk/efo/EFO_0003769  \n",
      "95          0.333333       http://www.orpha.net/ORDO/Orphanet_232288  \n",
      "135         0.090909   http://purl.obolibrary.org/obo/UBERON_0001987  \n",
      "...              ...                                             ...  \n",
      "1440        0.153846       http://purl.obolibrary.org/obo/HP_0000093  \n",
      "1532        0.222222       http://purl.obolibrary.org/obo/HP_0025031  \n",
      "1541        0.333333       http://www.orpha.net/ORDO/Orphanet_232288  \n",
      "1607        0.222222       http://purl.obolibrary.org/obo/HP_0002715  \n",
      "1620        0.083333       http://purl.obolibrary.org/obo/CL_0000336  \n",
      "\n",
      "[112 rows x 5 columns]\n"
     ]
    }
   ],
   "source": [
    "# compare the methods\n",
    "# which values does BioSentVec map but zooma does not?\n",
    "\n",
    "bb1 = ebi_df[(ebi_df['BioSentVec-dis']==1) & (ebi_df['Zooma-dis']<0.8)]\n",
    "print(bb1.shape)\n",
    "\n",
    "bb2 = ebi_df[(ebi_df['Zooma-dis']==1) & (ebi_df['BioSentVec-dis']<0.8)]\n",
    "print(bb2[['query','MAPPED_TERM_LABEL','full_id','BioSentVec-dis','BioSentVec-efo']])"
   ]
  },
  {
   "cell_type": "code",
   "execution_count": 204,
   "metadata": {},
   "outputs": [
    {
     "name": "stdout",
     "output_type": "stream",
     "text": [
      "                                      query           Model     value\n",
      "0           Vascular disorders of intestine  BioSentVec-dis  0.090909\n",
      "1                              Gonarthrosis  BioSentVec-dis  1.000000\n",
      "2  Psoriatic and enteropathic arthropathies  BioSentVec-dis  1.000000\n",
      "3          Pain associated with micturition  BioSentVec-dis  0.076923\n",
      "4                                Other mood  BioSentVec-dis  1.000000\n"
     ]
    },
    {
     "data": {
      "image/png": "[encoded data removed]",
      "text/plain": [
       "<Figure size 475.1x360 with 1 Axes>"
      ]
     },
     "metadata": {},
     "output_type": "display_data"
    }
   ],
   "source": [
    "# melt data for violin plots\n",
    "ebi_df.head()\n",
    "ebi_df_melt = pd.melt(ebi_df, id_vars=['query'], value_vars=['BioSentVec-dis','BlueBERT-dis','BioBERT-dis','Zooma-dis'])\n",
    "ebi_df_melt.rename(columns={'variable':'Model'},inplace=True)\n",
    "print(ebi_df_melt.head())#\n",
    "\n",
    "\n",
    "# violin plot\n",
    "#ax = sns.violinplot(x=\"variable\", y=\"value\", inner='quartile', data=ebi_df_melt, cut=0)\n",
    "#ax.set_title('EFO distance', fontsize=16);\n",
    "#fig = ax.get_figure()\n",
    "#fig.savefig(f\"output/all-dis.pdf\")\n",
    "\n",
    "ax = sns.displot(x=\"value\", hue=\"Model\", data=ebi_df_melt, kind=\"kde\", cut=0)\n",
    "ax.set(xlabel=f'nxontology score ({nxontology_measure})', ylabel='frequency')\n",
    "ax.savefig(f\"output/all-dis-kde.pdf\")"
   ]
  },
  {
   "cell_type": "code",
   "execution_count": null,
   "metadata": {},
   "outputs": [],
   "source": []
  },
  {
   "cell_type": "code",
   "execution_count": null,
   "metadata": {},
   "outputs": [],
   "source": []
  }
 ],
 "metadata": {
  "kernelspec": {
   "display_name": "Python 3",
   "language": "python",
   "name": "python3"
  },
  "language_info": {
   "codemirror_mode": {
    "name": "ipython",
    "version": 3
   },
   "file_extension": ".py",
   "mimetype": "text/x-python",
   "name": "python",
   "nbconvert_exporter": "python",
   "pygments_lexer": "ipython3",
   "version": "3.7.7"
  }
 },
 "nbformat": 4,
 "nbformat_minor": 4
}
