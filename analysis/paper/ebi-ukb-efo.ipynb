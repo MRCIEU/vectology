{
 "cells": [
  {
   "cell_type": "code",
   "execution_count": 4,
   "metadata": {},
   "outputs": [
    {
     "name": "stderr",
     "output_type": "stream",
     "text": [
      "INFO     - ontoma.downloaders - ZOOMA to EFO mappings - Parsed 3663 rows\n",
      "INFO     - ontoma.downloaders - OMIM to EFO mappings - Parsed 8561 rows\n"
     ]
    }
   ],
   "source": [
    "import pandas as pd\n",
    "import numpy as np\n",
    "import requests\n",
    "import json\n",
    "import time\n",
    "import os \n",
    "\n",
    "from scripts.vectology_functions import create_aaa_distances, create_pair_distances, embed_text, encode_traits\n",
    "from nxontology import NXOntology\n",
    "\n",
    "from ontoma import OnToma\n",
    "otmap = OnToma()\n",
    "\n",
    "import seaborn as sns\n",
    "\n",
    "# Apply the default theme\n",
    "sns.set_theme()"
   ]
  },
  {
   "cell_type": "code",
   "execution_count": 9,
   "metadata": {},
   "outputs": [],
   "source": [
    "# files\n",
    "ebi_data = 'data/UK_Biobank_master_file.tsv'\n",
    "#efo_nodes = 'data/efo-nodes.tsv'\n",
    "efo_data = 'data/efo_data.txt.gz'"
   ]
  },
  {
   "cell_type": "code",
   "execution_count": 11,
   "metadata": {},
   "outputs": [
    {
     "name": "stdout",
     "output_type": "stream",
     "text": [
      "                                      query       MAPPED_TERM_LABEL  \\\n",
      "0           Vascular disorders of intestine        vascular disease   \n",
      "1                              Gonarthrosis  osteoarthritis || knee   \n",
      "2  Psoriatic and enteropathic arthropathies     psoriatic arthritis   \n",
      "3          Pain associated with micturition                 dysuria   \n",
      "4                                Other mood           mood disorder   \n",
      "\n",
      "            MAPPED_TERM_URI  \n",
      "0  EFO_0004264, EFO_0009431  \n",
      "1               EFO_0004616  \n",
      "2               EFO_0003778  \n",
      "3               EFO_0003901  \n",
      "4               EFO_0004247  \n",
      "(1565, 3)\n",
      "(1613, 3)\n",
      "(1600, 3)\n",
      "                                      query       MAPPED_TERM_LABEL  \\\n",
      "0           Vascular disorders of intestine        vascular disease   \n",
      "1           Vascular disorders of intestine        vascular disease   \n",
      "2                              Gonarthrosis  osteoarthritis || knee   \n",
      "3  Psoriatic and enteropathic arthropathies     psoriatic arthritis   \n",
      "4          Pain associated with micturition                 dysuria   \n",
      "\n",
      "            id  \n",
      "0  EFO_0004264  \n",
      "1  EFO_0009431  \n",
      "2  EFO_0004616  \n",
      "3  EFO_0003778  \n",
      "4  EFO_0003901  \n"
     ]
    }
   ],
   "source": [
    "# get the EBI UKB data\n",
    "#get ebi data\n",
    "#url='https://raw.githubusercontent.com/EBISPOT/EFO-UKB-mappings/master/UK_Biobank_master_file.tsv'\n",
    "#ebi_df = pd.read_csv(url,sep='\\t')\n",
    "\n",
    "ebi_df = pd.read_csv(ebi_data,sep='\\t')\n",
    "\n",
    "#drop some columns\n",
    "ebi_df = ebi_df[['ZOOMA QUERY','MAPPED_TERM_LABEL','MAPPED_TERM_URI']]\n",
    "ebi_df.rename(columns={'ZOOMA QUERY':'query'},inplace=True)\n",
    "print(ebi_df.head())\n",
    "print(ebi_df.shape)\n",
    "\n",
    "#create new rows for multiple labels\n",
    "#ebi_df = (\n",
    "#        ebi_df.assign(label=ebi_df.MAPPED_TERM_LABEL.str.split(\"\\|\\|\"))\n",
    "#        .explode(\"label\")\n",
    "#        .reset_index(drop=True).drop('MAPPED_TERM_LABEL',axis=1)\n",
    "#    )\n",
    "\n",
    "#create new rows for multiple ids\n",
    "ebi_df['MAPPED_TERM_URI']=ebi_df['MAPPED_TERM_URI'].str.replace('\\|\\|',',')\n",
    "ebi_df['MAPPED_TERM_URI']=ebi_df['MAPPED_TERM_URI'].str.replace('\\|',',')\n",
    "ebi_df = (\n",
    "        ebi_df.assign(id=ebi_df.MAPPED_TERM_URI.str.split(\",\"))\n",
    "        .explode(\"id\")\n",
    "        .reset_index(drop=True).drop('MAPPED_TERM_URI',axis=1)\n",
    "    )\n",
    "\n",
    "#clean up\n",
    "ebi_df['id'] = ebi_df['id'].str.strip()\n",
    "\n",
    "#drop cases where query and id are the same\n",
    "ebi_df.drop_duplicates(subset=['query','id'],inplace=True)\n",
    "print(ebi_df.shape)\n",
    "\n",
    "#drop nan\n",
    "ebi_df.dropna(inplace=True)\n",
    "print(ebi_df.shape)\n",
    "print(ebi_df.head())\n"
   ]
  },
  {
   "cell_type": "code",
   "execution_count": 12,
   "metadata": {},
   "outputs": [
    {
     "name": "stdout",
     "output_type": "stream",
     "text": [
      "                                              id  \\\n",
      "0           http://www.ebi.ac.uk/efo/EFO_0004285   \n",
      "1      http://purl.obolibrary.org/obo/HP_0000093   \n",
      "2           http://www.ebi.ac.uk/efo/EFO_0004207   \n",
      "3      http://purl.obolibrary.org/obo/HP_0000545   \n",
      "4           http://www.ebi.ac.uk/efo/EFO_0002608   \n",
      "...                                          ...   \n",
      "53112  http://purl.obolibrary.org/obo/HP_0002840   \n",
      "53114  http://purl.obolibrary.org/obo/PO_0030015   \n",
      "53118  http://purl.obolibrary.org/obo/EO_0007068   \n",
      "53120  http://purl.obolibrary.org/obo/HP_0002313   \n",
      "53124   http://purl.obolibrary.org/obo/FMA_24984   \n",
      "\n",
      "                                      name  \n",
      "0                              albuminuria  \n",
      "1                              Proteinuria  \n",
      "2                      pathological myopia  \n",
      "3                                   Myopia  \n",
      "4                            AIDS dementia  \n",
      "...                                    ...  \n",
      "53112                        lymphadenitis  \n",
      "53114  sporophyte meristematic apical cell  \n",
      "53118                   ethylene treatment  \n",
      "53120                  Spastic paraparesis  \n",
      "53124                                 calf  \n",
      "\n",
      "[21865 rows x 2 columns]\n",
      "CPU times: user 2.65 s, sys: 76.3 ms, total: 2.73 s\n",
      "Wall time: 2.74 s\n"
     ]
    }
   ],
   "source": [
    "%%time\n",
    "\n",
    "# get EFO node data\n",
    "#efo_df=pd.read_csv(efo_nodes,sep='\\t',names=['name','label','type'])\n",
    "#print(efo_df.head())\n",
    "#print(efo_df.shape)\n",
    "\n",
    "# EFO data\n",
    "efo_df = pd.read_json(efo_data)\n",
    "#print(efo_df.head())\n",
    "node_data = []\n",
    "for i,rows in efo_df.iterrows():\n",
    "    node_data.append({\n",
    "        'id':rows['child']['value'],\n",
    "        'name':rows['childLabel']['value'],\n",
    "    })\n",
    "    node_data.append({\n",
    "        'id':rows['parent']['value'],\n",
    "        'name':rows['parentLabel']['value'],\n",
    "        \n",
    "    })\n",
    "efo_node_df = pd.DataFrame(node_data)\n",
    "efo_node_df.drop_duplicates(inplace=True)\n",
    "print(efo_node_df)"
   ]
  },
  {
   "cell_type": "code",
   "execution_count": 14,
   "metadata": {},
   "outputs": [
    {
     "name": "stdout",
     "output_type": "stream",
     "text": [
      "Missing: 0 []\n",
      "(1083, 4)\n",
      "                                      query       MAPPED_TERM_LABEL  \\\n",
      "0           Vascular disorders of intestine        vascular disease   \n",
      "2                              Gonarthrosis  osteoarthritis || knee   \n",
      "3  Psoriatic and enteropathic arthropathies     psoriatic arthritis   \n",
      "4          Pain associated with micturition                 dysuria   \n",
      "5                                Other mood           mood disorder   \n",
      "\n",
      "            id                               full_id  \n",
      "0  EFO_0004264  http://www.ebi.ac.uk/efo/EFO_0004264  \n",
      "2  EFO_0004616  http://www.ebi.ac.uk/efo/EFO_0004616  \n",
      "3  EFO_0003778  http://www.ebi.ac.uk/efo/EFO_0003778  \n",
      "4  EFO_0003901  http://www.ebi.ac.uk/efo/EFO_0003901  \n",
      "5  EFO_0004247  http://www.ebi.ac.uk/efo/EFO_0004247  \n",
      "(1083, 4)\n"
     ]
    }
   ],
   "source": [
    "#check all terms in EBI data set are in EFO node data\n",
    "efo_node_ids = list(efo_node_df['id'])\n",
    "ebi_ids = list(ebi_df['id'])\n",
    "missing=[]\n",
    "matched = []\n",
    "for i in ebi_ids:\n",
    "    match = False\n",
    "    for s in efo_node_ids:\n",
    "        if i in s and match == False:\n",
    "            matched.append(s)\n",
    "            match = True\n",
    "    if match == False:\n",
    "        missing.append(i)\n",
    "print('Missing:',len(missing),missing)\n",
    "\n",
    "# remove missing from ukb data\n",
    "print(ebi_df.shape)\n",
    "for i in missing:\n",
    "    ebi_df = ebi_df.drop(ebi_df[ebi_df['id'].str.contains(i)].index)\n",
    "ebi_df['full_id'] = matched\n",
    "print(ebi_df.head())\n",
    "print(ebi_df.shape)\n",
    "ebi_df.to_csv('output/ebi-ukb-cleaned.tsv',index=False,sep='\\t')\n"
   ]
  },
  {
   "cell_type": "code",
   "execution_count": 189,
   "metadata": {},
   "outputs": [
    {
     "name": "stdout",
     "output_type": "stream",
     "text": [
      "1083\n",
      "                                      query       MAPPED_TERM_LABEL  \\\n",
      "0           Vascular disorders of intestine        vascular disease   \n",
      "2                              Gonarthrosis  osteoarthritis || knee   \n",
      "3  Psoriatic and enteropathic arthropathies     psoriatic arthritis   \n",
      "4          Pain associated with micturition                 dysuria   \n",
      "5                                Other mood           mood disorder   \n",
      "\n",
      "            id                                 processed  \\\n",
      "0  EFO_0004264           vascular disorders of intestine   \n",
      "2  EFO_0004616                              gonarthrosis   \n",
      "3  EFO_0003778  psoriatic and enteropathic arthropathies   \n",
      "4  EFO_0003901          pain associated with micturition   \n",
      "5  EFO_0004247                                other mood   \n",
      "\n",
      "                                          BioSentVec  \\\n",
      "0  [0.014145898632705212, 0.4755328297615051, -0....   \n",
      "2  [0.15413393080234528, -1.4173569679260254, -0....   \n",
      "3  [0.4655860960483551, 0.20040848851203918, -0.7...   \n",
      "4  [0.3469484746456146, -0.19172678887844086, 0.1...   \n",
      "5  [1.1731828451156616, -1.6614547967910767, 1.26...   \n",
      "\n",
      "                                full_id  \n",
      "0  http://www.ebi.ac.uk/efo/EFO_0004264  \n",
      "2  http://www.ebi.ac.uk/efo/EFO_0004616  \n",
      "3  http://www.ebi.ac.uk/efo/EFO_0003778  \n",
      "4  http://www.ebi.ac.uk/efo/EFO_0003901  \n",
      "5  http://www.ebi.ac.uk/efo/EFO_0004247  \n"
     ]
    }
   ],
   "source": [
    "# preprocess\n",
    "process_text=[]\n",
    "for k,g in ebi_df.groupby(np.arange(len(ebi_df))//20):\n",
    "    params={'text_list':list(g['query'])}\n",
    "    process_res = requests.post('http://vectology-api.mrcieu.ac.uk/preprocess',data=json.dumps(params))\n",
    "    process_text.extend([d['result'].replace('unspecified','').replace('nec','') for d in process_res.json()])\n",
    "print(len(process_text))\n",
    "    \n",
    "ebi_df.loc[:, 'processed'] = process_text\n",
    "print(ebi_df.head())"
   ]
  },
  {
   "cell_type": "code",
   "execution_count": 190,
   "metadata": {},
   "outputs": [
    {
     "name": "stdout",
     "output_type": "stream",
     "text": [
      "1000 1083\n",
      "1083 vectors created\n",
      "                                      query       MAPPED_TERM_LABEL  \\\n",
      "0           Vascular disorders of intestine        vascular disease   \n",
      "2                              Gonarthrosis  osteoarthritis || knee   \n",
      "3  Psoriatic and enteropathic arthropathies     psoriatic arthritis   \n",
      "4          Pain associated with micturition                 dysuria   \n",
      "5                                Other mood           mood disorder   \n",
      "\n",
      "            id                                 processed  \\\n",
      "0  EFO_0004264           vascular disorders of intestine   \n",
      "2  EFO_0004616                              gonarthrosis   \n",
      "3  EFO_0003778  psoriatic and enteropathic arthropathies   \n",
      "4  EFO_0003901          pain associated with micturition   \n",
      "5  EFO_0004247                                other mood   \n",
      "\n",
      "                                          BioSentVec  \\\n",
      "0  [0.014145898632705212, 0.4755328297615051, -0....   \n",
      "2  [0.15413393080234528, -1.4173569679260254, -0....   \n",
      "3  [0.4655860960483551, 0.20040848851203918, -0.7...   \n",
      "4  [0.3469484746456146, -0.19172678887844086, 0.1...   \n",
      "5  [1.1731828451156616, -1.6614547967910767, 1.26...   \n",
      "\n",
      "                                full_id  \n",
      "0  http://www.ebi.ac.uk/efo/EFO_0004264  \n",
      "2  http://www.ebi.ac.uk/efo/EFO_0004616  \n",
      "3  http://www.ebi.ac.uk/efo/EFO_0003778  \n",
      "4  http://www.ebi.ac.uk/efo/EFO_0003901  \n",
      "5  http://www.ebi.ac.uk/efo/EFO_0004247  \n",
      "(1083, 6)\n",
      "CPU times: user 4.59 s, sys: 290 ms, total: 4.88 s\n",
      "Wall time: 42.8 s\n"
     ]
    }
   ],
   "source": [
    "%%time\n",
    "\n",
    "f='output/ebi-ukb-vec.tsv.gz'\n",
    "if os.path.exists(f):\n",
    "    print('Already done')\n",
    "    ebi_df = pd.read_csv(f,sep='\\t')\n",
    "    #issues with reading vectors from CSV \n",
    "    ebi_df['BioSentVec'] = ebi_df['BioSentVec'].apply(lambda x: [float(y) for y in x.replace('[','').replace(']','').split(',')])\n",
    "else:\n",
    "    ebi_df = encode_traits(trait_df=ebi_df,col='processed',name='BioSentVec',model='BioSentVec')\n",
    "    ebi_df.to_csv(f,sep='\\t',compression='gzip',index=False)\n",
    "print(ebi_df.head())\n",
    "print(ebi_df.shape)"
   ]
  },
  {
   "cell_type": "code",
   "execution_count": 191,
   "metadata": {},
   "outputs": [
    {
     "name": "stdout",
     "output_type": "stream",
     "text": [
      "Already done\n",
      "                                          id                 name  \\\n",
      "0       http://www.ebi.ac.uk/efo/EFO_0004285          albuminuria   \n",
      "1  http://purl.obolibrary.org/obo/HP_0000093          Proteinuria   \n",
      "2       http://www.ebi.ac.uk/efo/EFO_0004207  pathological myopia   \n",
      "3  http://purl.obolibrary.org/obo/HP_0000545               Myopia   \n",
      "4       http://www.ebi.ac.uk/efo/EFO_0002608        AIDS dementia   \n",
      "\n",
      "                                          BioSentVec  \n",
      "0  [0.4202117919921875, -0.17832736670970917, -1....  \n",
      "1  [0.4231119751930237, -0.4265417158603668, -0.9...  \n",
      "2  [0.39966529607772827, -0.34570133686065674, -0...  \n",
      "3  [0.5090897083282471, -0.6281495094299316, -1.8...  \n",
      "4  [0.9064940214157104, 0.29144150018692017, 0.15...  \n",
      "CPU times: user 11.9 s, sys: 605 ms, total: 12.5 s\n",
      "Wall time: 12.6 s\n"
     ]
    }
   ],
   "source": [
    "%%time\n",
    "\n",
    "f='output/efo-vec.tsv.gz'\n",
    "if os.path.exists(f):\n",
    "    print('Already done')\n",
    "    efo_df = pd.read_csv(f,sep='\\t')\n",
    "    #issues with reading vectors from CSV \n",
    "    efo_df['BioSentVec'] = efo_df['BioSentVec'].apply(lambda x: [float(y) for y in x.replace('[','').replace(']','').split(',')])\n",
    "else:\n",
    "    efo_df = encode_traits(trait_df=efo_node_df,col='name',name='BioSentVec',model='BioSentVec')\n",
    "    efo_df.to_csv(f,sep='\\t',compression='gzip',index=False)\n",
    "    \n",
    "print(efo_df.head())\n"
   ]
  },
  {
   "cell_type": "code",
   "execution_count": 31,
   "metadata": {},
   "outputs": [
    {
     "name": "stdout",
     "output_type": "stream",
     "text": [
      "[('http://purl.obolibrary.org/obo/HP_0000093', 'http://www.ebi.ac.uk/efo/EFO_0004285'), ('http://purl.obolibrary.org/obo/HP_0000545', 'http://www.ebi.ac.uk/efo/EFO_0004207'), ('http://purl.obolibrary.org/obo/HP_0000726', 'http://www.ebi.ac.uk/efo/EFO_0002608'), ('http://purl.obolibrary.org/obo/HP_0001871', 'http://purl.obolibrary.org/obo/HP_0000132'), ('http://purl.obolibrary.org/obo/HP_0001871', 'http://purl.obolibrary.org/obo/HP_0001873'), ('http://purl.obolibrary.org/obo/HP_0001871', 'http://purl.obolibrary.org/obo/HP_0001915'), ('http://purl.obolibrary.org/obo/HP_0001871', 'http://purl.obolibrary.org/obo/HP_0100727'), ('http://purl.obolibrary.org/obo/HP_0001871', 'http://www.ebi.ac.uk/efo/EFO_0004233'), ('http://purl.obolibrary.org/obo/HP_0001871', 'http://www.ebi.ac.uk/efo/EFO_0004272'), ('http://purl.obolibrary.org/obo/HP_0002017', 'http://purl.obolibrary.org/obo/HP_0002018')]\n"
     ]
    }
   ],
   "source": [
    "#create nxontology network of EFO relationships\n",
    "def create_efo_nxo() -> NXOntology:\n",
    "    nxo = NXOntology()\n",
    "    \n",
    "    edges = []\n",
    "    efo_rel_df=pd.read_json(efo_data)\n",
    "    for i,row in efo_rel_df.iterrows():\n",
    "        child = row['child']['value']\n",
    "        parent = row['parent']['value']\n",
    "        edges.append((parent,child))\n",
    "    #print(edges[0:10])\n",
    "    nxo.graph.add_edges_from(edges)\n",
    "    return nxo\n",
    "\n",
    "efo_nx = create_efo_nxo()\n",
    "efo_nx.freeze()"
   ]
  },
  {
   "cell_type": "code",
   "execution_count": 192,
   "metadata": {},
   "outputs": [
    {
     "name": "stdout",
     "output_type": "stream",
     "text": [
      "CPU times: user 11.4 ms, sys: 4.54 ms, total: 15.9 ms\n",
      "Wall time: 15.5 ms\n"
     ]
    }
   ],
   "source": [
    "%%time\n",
    "\n",
    "#ebi_df['BioSentVec']\n",
    "v1 = list(ebi_df['BioSentVec'])\n",
    "\n",
    "v2 = list(efo_df['BioSentVec'])\n"
   ]
  },
  {
   "cell_type": "code",
   "execution_count": 193,
   "metadata": {},
   "outputs": [
    {
     "name": "stdout",
     "output_type": "stream",
     "text": [
      "Creating distances...\n",
      "1083 21865\n",
      "1083\n",
      "CPU times: user 16.9 s, sys: 222 ms, total: 17.1 s\n",
      "Wall time: 17.2 s\n"
     ]
    }
   ],
   "source": [
    "%%time\n",
    "# cosine of all against all\n",
    "dd = create_pair_distances(v1,v2)"
   ]
  },
  {
   "cell_type": "code",
   "execution_count": 204,
   "metadata": {},
   "outputs": [
    {
     "name": "stdout",
     "output_type": "stream",
     "text": [
      "                                      query       MAPPED_TERM_LABEL  \\\n",
      "0           Vascular disorders of intestine        vascular disease   \n",
      "2                              Gonarthrosis  osteoarthritis || knee   \n",
      "3  Psoriatic and enteropathic arthropathies     psoriatic arthritis   \n",
      "4          Pain associated with micturition                 dysuria   \n",
      "5                                Other mood           mood disorder   \n",
      "\n",
      "            id                                 processed  \\\n",
      "0  EFO_0004264           vascular disorders of intestine   \n",
      "2  EFO_0004616                              gonarthrosis   \n",
      "3  EFO_0003778  psoriatic and enteropathic arthropathies   \n",
      "4  EFO_0003901          pain associated with micturition   \n",
      "5  EFO_0004247                                other mood   \n",
      "\n",
      "                                          BioSentVec  \\\n",
      "0  [0.014145898632705212, 0.4755328297615051, -0....   \n",
      "2  [0.15413393080234528, -1.4173569679260254, -0....   \n",
      "3  [0.4655860960483551, 0.20040848851203918, -0.7...   \n",
      "4  [0.3469484746456146, -0.19172678887844086, 0.1...   \n",
      "5  [1.1731828451156616, -1.6614547967910767, 1.26...   \n",
      "\n",
      "                                full_id       dis  \n",
      "0  http://www.ebi.ac.uk/efo/EFO_0004264  0.090909  \n",
      "2  http://www.ebi.ac.uk/efo/EFO_0004616  1.000000  \n",
      "3  http://www.ebi.ac.uk/efo/EFO_0003778  1.000000  \n",
      "4  http://www.ebi.ac.uk/efo/EFO_0003901  0.076923  \n",
      "5  http://www.ebi.ac.uk/efo/EFO_0004247  1.000000  \n"
     ]
    },
    {
     "data": {
      "text/plain": [
       "<seaborn.axisgrid.FacetGrid at 0xa260ad090>"
      ]
     },
     "execution_count": 204,
     "metadata": {},
     "output_type": "execute_result"
    },
    {
     "data": {
      "image/png": "[encoded data removed]",
      "text/plain": [
       "<Figure size 360x360 with 1 Axes>"
      ]
     },
     "metadata": {},
     "output_type": "display_data"
    }
   ],
   "source": [
    "count=0\n",
    "dis_results=[]\n",
    "for i,irows in ebi_df.iterrows():\n",
    "    #print('\\nEBI:',count,irows[['query','MAPPED_TERM_LABEL','full_id']].values)\n",
    "    try:\n",
    "        min_dis = np.nanargmin(dd[count])\n",
    "        min_val = np.nanmin(dd[count])\n",
    "    except:\n",
    "        min_dis=0\n",
    "    #print('EFO:',efo_df.iloc[min_dis][['name','id']].values,min_val)\n",
    "    try:\n",
    "        res = similarity = efo_nx.similarity(irows['full_id'],efo_df.iloc[min_dis]['id']).results()\n",
    "        #print(res['batet'])\n",
    "        dis_results.append(res['batet'])\n",
    "    except:\n",
    "        print('something wrong')\n",
    "        exit()\n",
    "    count+=1\n",
    "ebi_df['dis']=dis_results\n",
    "print(ebi_df.head())\n",
    "\n",
    "#plot\n",
    "sns.displot(ebi_df, x=\"dis\")"
   ]
  },
  {
   "cell_type": "code",
   "execution_count": 7,
   "metadata": {},
   "outputs": [
    {
     "name": "stderr",
     "output_type": "stream",
     "text": [
      "INFO     - ontoma.interface - HP OBO parsed. Size: 15512 nodes\n",
      "INFO     - ontoma.interface - Parsed 34471 Name to HP mapping \n",
      "WARNING  - ontoma.interface - Found http://purl.obolibrary.org/obo/MONDO_0003159 for Vascular disorders of intestine from OLS API EFO lookup - fuzzy - check if valid\n"
     ]
    },
    {
     "name": "stdout",
     "output_type": "stream",
     "text": [
      "http://purl.obolibrary.org/obo/MONDO_0003159\n"
     ]
    }
   ],
   "source": [
    "# ontoma \n",
    "print(otmap.find_term('Vascular disorders of intestine'))\n",
    "#think this is just using zooma"
   ]
  },
  {
   "cell_type": "code",
   "execution_count": 38,
   "metadata": {},
   "outputs": [
    {
     "name": "stdout",
     "output_type": "stream",
     "text": [
      "(929, 10)\n",
      "  PROPERTY TYPE                    PROPERTY VALUE    ONTOLOGY TERM LABEL(S)  \\\n",
      "0     [NO TYPE]   Vascular disorders of intestine  cerebrovascular disorder   \n",
      "1     [NO TYPE]                      Gonarthrosis                       NaN   \n",
      "2     [NO TYPE]  Pain associated with micturition               micturition   \n",
      "3     [NO TYPE]  Pain associated with micturition  Exercise-induced myalgia   \n",
      "4     [NO TYPE]                        Other mood             mood disorder   \n",
      "\n",
      "   ONTOLOGY TERM SYNONYM(S)   CONFIDENCE ONTOLOGY TERM(S)  \\\n",
      "0                       NaN         Good      EFO_0003763   \n",
      "1                       NaN  Did not map              NaN   \n",
      "2                       NaN       Medium       GO_0060073   \n",
      "3                       NaN       Medium       HP_0003738   \n",
      "4                       NaN         Good      EFO_0004247   \n",
      "\n",
      "                       ONTOLOGY(S)                         SOURCE(S)  \\\n",
      "0        http://www.ebi.ac.uk/efo/  http://www.ebi.ac.uk/efo/efo.owl   \n",
      "1                              NaN                               NaN   \n",
      "2  http://purl.obolibrary.org/obo/  http://www.ebi.ac.uk/efo/efo.owl   \n",
      "3  http://purl.obolibrary.org/obo/  http://www.ebi.ac.uk/efo/efo.owl   \n",
      "4        http://www.ebi.ac.uk/efo/  http://www.ebi.ac.uk/efo/efo.owl   \n",
      "\n",
      "                   STUDY                                  zooma_efo  \\\n",
      "0  [UNKNOWN EXPERIMENTS]       http://www.ebi.ac.uk/efo/EFO_0003763   \n",
      "1  [UNKNOWN EXPERIMENTS]                                        NaN   \n",
      "2  [UNKNOWN EXPERIMENTS]  http://purl.obolibrary.org/obo/GO_0060073   \n",
      "3  [UNKNOWN EXPERIMENTS]  http://purl.obolibrary.org/obo/HP_0003738   \n",
      "4  [UNKNOWN EXPERIMENTS]       http://www.ebi.ac.uk/efo/EFO_0004247   \n",
      "\n",
      "                              query       MAPPED_TERM_LABEL           id  \\\n",
      "0   Vascular disorders of intestine        vascular disease  EFO_0004264   \n",
      "1                      Gonarthrosis  osteoarthritis || knee  EFO_0004616   \n",
      "2  Pain associated with micturition                 dysuria  EFO_0003901   \n",
      "3  Pain associated with micturition                 dysuria  EFO_0003901   \n",
      "4                        Other mood           mood disorder  EFO_0004247   \n",
      "\n",
      "                                full_id  \n",
      "0  http://www.ebi.ac.uk/efo/EFO_0004264  \n",
      "1  http://www.ebi.ac.uk/efo/EFO_0004616  \n",
      "2  http://www.ebi.ac.uk/efo/EFO_0003901  \n",
      "3  http://www.ebi.ac.uk/efo/EFO_0003901  \n",
      "4  http://www.ebi.ac.uk/efo/EFO_0004247  \n",
      "(958, 14)\n",
      "958\n"
     ]
    },
    {
     "data": {
      "text/plain": [
       "<seaborn.axisgrid.FacetGrid at 0x1a3eae3410>"
      ]
     },
     "execution_count": 38,
     "metadata": {},
     "output_type": "execute_result"
    },
    {
     "data": {
      "image/png": "[encoded data removed]",
      "text/plain": [
       "<Figure size 360x360 with 1 Axes>"
      ]
     },
     "metadata": {},
     "output_type": "display_data"
    }
   ],
   "source": [
    "# zooma\n",
    "# ran the web app using filtered list of terms\n",
    "# Configure Data Sources - Don't search in any datasources checked\n",
    "# Configure Ontology Sources - EFO\n",
    "# https://www.ebi.ac.uk/spot/zooma\n",
    "zooma_df = pd.read_csv('data/zooma.tsv',sep='\\t')\n",
    "zooma_df['zooma_efo'] = zooma_df['ONTOLOGY(S)']+zooma_df['ONTOLOGY TERM(S)']\n",
    "zooma_df.drop_duplicates(subset=['zooma_efo'],inplace=True)\n",
    "print(zooma_df.shape)\n",
    "\n",
    "#print(zooma_df.head())\n",
    "\n",
    "# merge with ebi file\n",
    "m = pd.merge(zooma_df,ebi_df,left_on='PROPERTY VALUE',right_on='query')\n",
    "m.drop_duplicates(inplace=True)\n",
    "print(m.head())\n",
    "print(m.shape)\n",
    "dis_results=[]\n",
    "for i, row in m.iterrows():\n",
    "    try:\n",
    "        res = similarity = efo_nx.similarity(row['zooma_efo'],row['full_id']).results()\n",
    "        #print(res['batet'])\n",
    "        dis_results.append(res['batet'])\n",
    "    except:\n",
    "        dis_results.append(0)\n",
    "print(len(dis_results))\n",
    "m['dis']=dis_results\n",
    "sns.displot(m, x=\"dis\")"
   ]
  },
  {
   "cell_type": "code",
   "execution_count": null,
   "metadata": {},
   "outputs": [],
   "source": []
  }
 ],
 "metadata": {
  "kernelspec": {
   "display_name": "Python 3",
   "language": "python",
   "name": "python3"
  },
  "language_info": {
   "codemirror_mode": {
    "name": "ipython",
    "version": 3
   },
   "file_extension": ".py",
   "mimetype": "text/x-python",
   "name": "python",
   "nbconvert_exporter": "python",
   "pygments_lexer": "ipython3",
   "version": "3.7.7"
  }
 },
 "nbformat": 4,
 "nbformat_minor": 4
}
