{
 "cells": [
  {
   "cell_type": "code",
   "execution_count": 64,
   "metadata": {},
   "outputs": [],
   "source": [
    "import pandas as pd\n",
    "import numpy as np\n",
    "import requests\n",
    "import json\n",
    "import time\n",
    "import os \n",
    "\n",
    "from scripts.vectology_functions import create_aaa_distances, embed_text\n",
    "from nxontology import NXOntology\n"
   ]
  },
  {
   "cell_type": "code",
   "execution_count": 49,
   "metadata": {},
   "outputs": [
    {
     "name": "stdout",
     "output_type": "stream",
     "text": [
      "                                ZOOMA QUERY       MAPPED_TERM_LABEL  \\\n",
      "0           Vascular disorders of intestine        vascular disease   \n",
      "1                              Gonarthrosis  osteoarthritis || knee   \n",
      "2  Psoriatic and enteropathic arthropathies     psoriatic arthritis   \n",
      "3          Pain associated with micturition                 dysuria   \n",
      "4                                Other mood           mood disorder   \n",
      "\n",
      "            MAPPED_TERM_URI MAPPING_TYPE  \\\n",
      "0  EFO_0004264, EFO_0009431        Broad   \n",
      "1               EFO_0004616        Broad   \n",
      "2               EFO_0003778      ? Broad   \n",
      "3               EFO_0003901      ? Broad   \n",
      "4               EFO_0004247      ? Broad   \n",
      "\n",
      "  ICD10_CODE/SELF_REPORTED_TRAIT_FIELD_CODE COMMENTS/TICKET   AI  \n",
      "0                                       K55            DONE  NaN  \n",
      "1                                       M17            DONE  NaN  \n",
      "2                                       M07            DONE  NaN  \n",
      "3                                       R30            DONE  NaN  \n",
      "4                                       F38            DONE  NaN  \n",
      "(1565, 7)\n"
     ]
    }
   ],
   "source": [
    "# get the EBI UKB data\n",
    "#get ebi data\n",
    "url='https://raw.githubusercontent.com/EBISPOT/EFO-UKB-mappings/master/UK_Biobank_master_file.tsv'\n",
    "ebi_df = pd.read_csv(url,sep='\\t')\n",
    "#create test set\n",
    "print(ebi_df.head())\n",
    "print(ebi_df.shape)"
   ]
  },
  {
   "cell_type": "code",
   "execution_count": 50,
   "metadata": {},
   "outputs": [
    {
     "name": "stdout",
     "output_type": "stream",
     "text": [
      "1565\n",
      "                                ZOOMA QUERY       MAPPED_TERM_LABEL  \\\n",
      "0           Vascular disorders of intestine        vascular disease   \n",
      "1                              Gonarthrosis  osteoarthritis || knee   \n",
      "2  Psoriatic and enteropathic arthropathies     psoriatic arthritis   \n",
      "3          Pain associated with micturition                 dysuria   \n",
      "4                                Other mood           mood disorder   \n",
      "\n",
      "            MAPPED_TERM_URI MAPPING_TYPE  \\\n",
      "0  EFO_0004264, EFO_0009431        Broad   \n",
      "1               EFO_0004616        Broad   \n",
      "2               EFO_0003778      ? Broad   \n",
      "3               EFO_0003901      ? Broad   \n",
      "4               EFO_0004247      ? Broad   \n",
      "\n",
      "  ICD10_CODE/SELF_REPORTED_TRAIT_FIELD_CODE COMMENTS/TICKET   AI  \\\n",
      "0                                       K55            DONE  NaN   \n",
      "1                                       M17            DONE  NaN   \n",
      "2                                       M07            DONE  NaN   \n",
      "3                                       R30            DONE  NaN   \n",
      "4                                       F38            DONE  NaN   \n",
      "\n",
      "                                  processed  \n",
      "0           vascular disorders of intestine  \n",
      "1                              gonarthrosis  \n",
      "2  psoriatic and enteropathic arthropathies  \n",
      "3          pain associated with micturition  \n",
      "4                                other mood  \n"
     ]
    }
   ],
   "source": [
    "# preprocess\n",
    "process_text=[]\n",
    "for k,g in ebi_df.groupby(np.arange(len(ebi_df))//20):\n",
    "    params={'text_list':list(g['ZOOMA QUERY'])}\n",
    "    process_res = requests.post('http://vectology-api.mrcieu.ac.uk/preprocess',data=json.dumps(params))\n",
    "    process_text.extend([d['result'].replace('unspecified','').replace('nec','') for d in process_res.json()])\n",
    "print(len(process_text))\n",
    "    \n",
    "ebi_df.loc[:, 'processed'] = process_text\n",
    "print(ebi_df.head())"
   ]
  },
  {
   "cell_type": "code",
   "execution_count": 55,
   "metadata": {},
   "outputs": [],
   "source": [
    "# embed all the variables using BioSentVec\n",
    "def encode_traits(trait_df,col,name,model):\n",
    "\n",
    "    vectorList=[]\n",
    "    count = 0\n",
    "    #loop through 10 rows at a time\n",
    "    for k,g in trait_df.groupby(np.arange(len(trait_df))//10):\n",
    "        #get text for embedding\n",
    "        textList=list(g[col])\n",
    "        res = embed_text(textList,model)\n",
    "        \n",
    "        #add vectors to list\n",
    "        for i in range(0,len(textList)):\n",
    "            vectorList.append(res[i])\n",
    "            \n",
    "        count+=10\n",
    "        if count % 1000 == 0:\n",
    "            print(count,trait_df.shape[0])\n",
    "\n",
    "    print(len(vectorList),'vectors created')        \n",
    "    trait_df[name] = vectorList\n",
    "    return trait_df"
   ]
  },
  {
   "cell_type": "code",
   "execution_count": 56,
   "metadata": {},
   "outputs": [
    {
     "name": "stdout",
     "output_type": "stream",
     "text": [
      "100 1565\n",
      "200 1565\n",
      "300 1565\n",
      "400 1565\n",
      "500 1565\n",
      "600 1565\n",
      "700 1565\n",
      "800 1565\n",
      "900 1565\n",
      "1000 1565\n",
      "1100 1565\n",
      "1200 1565\n",
      "1300 1565\n",
      "1400 1565\n",
      "1500 1565\n",
      "1565 vectors created\n",
      "                                ZOOMA QUERY       MAPPED_TERM_LABEL  \\\n",
      "0           Vascular disorders of intestine        vascular disease   \n",
      "1                              Gonarthrosis  osteoarthritis || knee   \n",
      "2  Psoriatic and enteropathic arthropathies     psoriatic arthritis   \n",
      "3          Pain associated with micturition                 dysuria   \n",
      "4                                Other mood           mood disorder   \n",
      "\n",
      "            MAPPED_TERM_URI MAPPING_TYPE  \\\n",
      "0  EFO_0004264, EFO_0009431        Broad   \n",
      "1               EFO_0004616        Broad   \n",
      "2               EFO_0003778      ? Broad   \n",
      "3               EFO_0003901      ? Broad   \n",
      "4               EFO_0004247      ? Broad   \n",
      "\n",
      "  ICD10_CODE/SELF_REPORTED_TRAIT_FIELD_CODE COMMENTS/TICKET   AI  \\\n",
      "0                                       K55            DONE  NaN   \n",
      "1                                       M17            DONE  NaN   \n",
      "2                                       M07            DONE  NaN   \n",
      "3                                       R30            DONE  NaN   \n",
      "4                                       F38            DONE  NaN   \n",
      "\n",
      "                                  processed  \\\n",
      "0           vascular disorders of intestine   \n",
      "1                              gonarthrosis   \n",
      "2  psoriatic and enteropathic arthropathies   \n",
      "3          pain associated with micturition   \n",
      "4                                other mood   \n",
      "\n",
      "                                          BioSentVec  \n",
      "0  [0.014145898632705212, 0.4755328297615051, -0....  \n",
      "1  [0.15413393080234528, -1.4173569679260254, -0....  \n",
      "2  [0.4655860960483551, 0.20040848851203918, -0.7...  \n",
      "3  [0.3469484746456146, -0.19172678887844086, 0.1...  \n",
      "4  [1.1731828451156616, -1.6614547967910767, 1.26...  \n",
      "CPU times: user 3.14 s, sys: 427 ms, total: 3.56 s\n",
      "Wall time: 55.6 s\n"
     ]
    }
   ],
   "source": [
    "%%time\n",
    "\n",
    "f='data/ebi-ukb-vec.tsv.gz'\n",
    "if os.path.exists(f):\n",
    "    print('Already done')\n",
    "    #ebi_df = pd.read_csv(f,sep='\\t')\n",
    "else:\n",
    "    ebi_df = encode_traits(trait_df=ebi_df,col='processed',name='BioSentVec',model='BioSentVec')\n",
    "    ebi_df.to_csv(f,sep='\\t',compression='gzip')\n",
    "print(ebi_df.head())"
   ]
  },
  {
   "cell_type": "code",
   "execution_count": 60,
   "metadata": {},
   "outputs": [
    {
     "name": "stdout",
     "output_type": "stream",
     "text": [
      "                                        name                          label  \\\n",
      "0   http://www.orpha.net/ORDO/Orphanet_90342  Xeroderma pigmentosum variant   \n",
      "1     http://www.orpha.net/ORDO/Orphanet_910          Xeroderma pigmentosum   \n",
      "2  http://purl.obolibrary.org/obo/HP_0002140                Ischemic stroke   \n",
      "3  http://purl.obolibrary.org/obo/HP_0002637              Cerebral ischemia   \n",
      "4       http://www.ebi.ac.uk/efo/EFO_0008524           small cell carcinoma   \n",
      "\n",
      "            type  \n",
      "0  typed-literal  \n",
      "1  typed-literal  \n",
      "2  typed-literal  \n",
      "3  typed-literal  \n",
      "4  typed-literal  \n",
      "(25390, 3)\n",
      "CPU times: user 43.2 ms, sys: 7.09 ms, total: 50.3 ms\n",
      "Wall time: 48.7 ms\n"
     ]
    }
   ],
   "source": [
    "%%time\n",
    "\n",
    "#get EFO data\n",
    "efo_data = 'data/efo-nodes.tsv'\n",
    "efo_df=pd.read_csv(efo_data,sep='\\t',names=['name','label','type'])\n",
    "print(efo_df.head())\n",
    "print(efo_df.shape)"
   ]
  },
  {
   "cell_type": "code",
   "execution_count": 62,
   "metadata": {},
   "outputs": [
    {
     "name": "stdout",
     "output_type": "stream",
     "text": [
      "Already done\n",
      "   Unnamed: 0                                       name  \\\n",
      "0           0   http://www.orpha.net/ORDO/Orphanet_90342   \n",
      "1           1     http://www.orpha.net/ORDO/Orphanet_910   \n",
      "2           2  http://purl.obolibrary.org/obo/HP_0002140   \n",
      "3           3  http://purl.obolibrary.org/obo/HP_0002637   \n",
      "4           4       http://www.ebi.ac.uk/efo/EFO_0008524   \n",
      "\n",
      "                           label           type  \\\n",
      "0  Xeroderma pigmentosum variant  typed-literal   \n",
      "1          Xeroderma pigmentosum  typed-literal   \n",
      "2                Ischemic stroke  typed-literal   \n",
      "3              Cerebral ischemia  typed-literal   \n",
      "4           small cell carcinoma  typed-literal   \n",
      "\n",
      "                                          BioSentVec  \n",
      "0  [-0.045969586819410324, 0.5196870565414429, -0...  \n",
      "1  [0.01842655800282955, 0.7100013494491577, -0.7...  \n",
      "2  [0.5974032282829285, -0.6174705028533936, -0.1...  \n",
      "3  [0.46593865752220154, -0.6334501504898071, 0.0...  \n",
      "4  [0.4248107373714447, 0.033654093742370605, 0.3...  \n",
      "CPU times: user 4.83 s, sys: 517 ms, total: 5.35 s\n",
      "Wall time: 5.41 s\n"
     ]
    }
   ],
   "source": [
    "%%time\n",
    "\n",
    "f='data/efo-vec.tsv.gz'\n",
    "if os.path.exists(f):\n",
    "    print('Already done')\n",
    "    efo_df = pd.read_csv(f,sep='\\t')\n",
    "else:\n",
    "    efo_df = encode_traits(trait_df=efo_df,col='label',name='BioSentVec',model='BioSentVec')\n",
    "    efo_df.to_csv(f,sep='\\t',compression='gzip')\n",
    "    \n",
    "print(efo_df.head())\n"
   ]
  },
  {
   "cell_type": "code",
   "execution_count": 66,
   "metadata": {},
   "outputs": [
    {
     "name": "stdout",
     "output_type": "stream",
     "text": [
      "[('Proteinuria', 'albuminuria'), ('Myopia', 'pathological myopia'), ('dementia', 'AIDS dementia'), ('abnormality of blood and blood-forming tissues', 'Menorrhagia'), ('abnormality of blood and blood-forming tissues', 'thrombocytopenia'), ('abnormality of blood and blood-forming tissues', 'aplastic anemia'), ('abnormality of blood and blood-forming tissues', 'Histiocytosis'), ('abnormality of blood and blood-forming tissues', 'leukopenia'), ('abnormality of blood and blood-forming tissues', 'anemia'), ('Nausea and vomiting', 'Nausea')]\n"
     ]
    }
   ],
   "source": [
    "\n",
    "def create_efo_nxo() -> NXOntology:\n",
    "    nxo = NXOntology()\n",
    "    \n",
    "    edges = []\n",
    "    efo_data='data/efo_data.txt.gz'\n",
    "    efo_df=pd.read_json(efo_data)\n",
    "    for i,row in efo_df.iterrows():\n",
    "        child = row['childLabel']['value']\n",
    "        parent = row['parentLabel']['value']\n",
    "        edges.append((parent,child))\n",
    "    print(edges[0:10])\n",
    "    nxo.graph.add_edges_from(edges)\n",
    "    return nxo\n",
    "\n",
    "efo = create_efo_nxo()\n",
    "efo.freeze()"
   ]
  },
  {
   "cell_type": "code",
   "execution_count": null,
   "metadata": {},
   "outputs": [],
   "source": []
  }
 ],
 "metadata": {
  "kernelspec": {
   "display_name": "Python 3",
   "language": "python",
   "name": "python3"
  },
  "language_info": {
   "codemirror_mode": {
    "name": "ipython",
    "version": 3
   },
   "file_extension": ".py",
   "mimetype": "text/x-python",
   "name": "python",
   "nbconvert_exporter": "python",
   "pygments_lexer": "ipython3",
   "version": "3.7.7"
  }
 },
 "nbformat": 4,
 "nbformat_minor": 4
}
