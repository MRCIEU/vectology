{
 "cells": [
  {
   "cell_type": "code",
   "execution_count": 1,
   "metadata": {},
   "outputs": [
    {
     "name": "stdout",
     "output_type": "stream",
     "text": [
      "Creating distances...\n",
      "1 1\n",
      "1\n"
     ]
    }
   ],
   "source": [
    "import pandas as pd\n",
    "import numpy as np\n",
    "import requests\n",
    "import json\n",
    "import time\n",
    "import os \n",
    "\n",
    "from scripts.vectology_functions import create_aaa_distances, create_pair_distances, embed_text\n",
    "from nxontology import NXOntology\n"
   ]
  },
  {
   "cell_type": "code",
   "execution_count": 2,
   "metadata": {},
   "outputs": [
    {
     "name": "stdout",
     "output_type": "stream",
     "text": [
      "                                ZOOMA QUERY       MAPPED_TERM_LABEL  \\\n",
      "0           Vascular disorders of intestine        vascular disease   \n",
      "1                              Gonarthrosis  osteoarthritis || knee   \n",
      "2  Psoriatic and enteropathic arthropathies     psoriatic arthritis   \n",
      "3          Pain associated with micturition                 dysuria   \n",
      "4                                Other mood           mood disorder   \n",
      "\n",
      "            MAPPED_TERM_URI MAPPING_TYPE  \\\n",
      "0  EFO_0004264, EFO_0009431        Broad   \n",
      "1               EFO_0004616        Broad   \n",
      "2               EFO_0003778      ? Broad   \n",
      "3               EFO_0003901      ? Broad   \n",
      "4               EFO_0004247      ? Broad   \n",
      "\n",
      "  ICD10_CODE/SELF_REPORTED_TRAIT_FIELD_CODE COMMENTS/TICKET   AI  \n",
      "0                                       K55            DONE  NaN  \n",
      "1                                       M17            DONE  NaN  \n",
      "2                                       M07            DONE  NaN  \n",
      "3                                       R30            DONE  NaN  \n",
      "4                                       F38            DONE  NaN  \n",
      "(1565, 7)\n"
     ]
    }
   ],
   "source": [
    "# get the EBI UKB data\n",
    "#get ebi data\n",
    "url='https://raw.githubusercontent.com/EBISPOT/EFO-UKB-mappings/master/UK_Biobank_master_file.tsv'\n",
    "ebi_df = pd.read_csv(url,sep='\\t')\n",
    "#create test set\n",
    "print(ebi_df.head())\n",
    "print(ebi_df.shape)"
   ]
  },
  {
   "cell_type": "code",
   "execution_count": 3,
   "metadata": {},
   "outputs": [
    {
     "name": "stdout",
     "output_type": "stream",
     "text": [
      "1565\n",
      "                                ZOOMA QUERY       MAPPED_TERM_LABEL  \\\n",
      "0           Vascular disorders of intestine        vascular disease   \n",
      "1                              Gonarthrosis  osteoarthritis || knee   \n",
      "2  Psoriatic and enteropathic arthropathies     psoriatic arthritis   \n",
      "3          Pain associated with micturition                 dysuria   \n",
      "4                                Other mood           mood disorder   \n",
      "\n",
      "            MAPPED_TERM_URI MAPPING_TYPE  \\\n",
      "0  EFO_0004264, EFO_0009431        Broad   \n",
      "1               EFO_0004616        Broad   \n",
      "2               EFO_0003778      ? Broad   \n",
      "3               EFO_0003901      ? Broad   \n",
      "4               EFO_0004247      ? Broad   \n",
      "\n",
      "  ICD10_CODE/SELF_REPORTED_TRAIT_FIELD_CODE COMMENTS/TICKET   AI  \\\n",
      "0                                       K55            DONE  NaN   \n",
      "1                                       M17            DONE  NaN   \n",
      "2                                       M07            DONE  NaN   \n",
      "3                                       R30            DONE  NaN   \n",
      "4                                       F38            DONE  NaN   \n",
      "\n",
      "                                  processed  \n",
      "0           vascular disorders of intestine  \n",
      "1                              gonarthrosis  \n",
      "2  psoriatic and enteropathic arthropathies  \n",
      "3          pain associated with micturition  \n",
      "4                                other mood  \n"
     ]
    }
   ],
   "source": [
    "# preprocess\n",
    "process_text=[]\n",
    "for k,g in ebi_df.groupby(np.arange(len(ebi_df))//20):\n",
    "    params={'text_list':list(g['ZOOMA QUERY'])}\n",
    "    process_res = requests.post('http://vectology-api.mrcieu.ac.uk/preprocess',data=json.dumps(params))\n",
    "    process_text.extend([d['result'].replace('unspecified','').replace('nec','') for d in process_res.json()])\n",
    "print(len(process_text))\n",
    "    \n",
    "ebi_df.loc[:, 'processed'] = process_text\n",
    "print(ebi_df.head())"
   ]
  },
  {
   "cell_type": "code",
   "execution_count": 4,
   "metadata": {},
   "outputs": [],
   "source": [
    "# embed all the variables using BioSentVec\n",
    "def encode_traits(trait_df,col,name,model):\n",
    "\n",
    "    vectorList=[]\n",
    "    count = 0\n",
    "    #loop through 10 rows at a time\n",
    "    for k,g in trait_df.groupby(np.arange(len(trait_df))//10):\n",
    "        #get text for embedding\n",
    "        textList=list(g[col])\n",
    "        res = embed_text(textList,model)\n",
    "        \n",
    "        #add vectors to list\n",
    "        for i in range(0,len(textList)):\n",
    "            vectorList.append(res[i])\n",
    "            \n",
    "        count+=10\n",
    "        if count % 1000 == 0:\n",
    "            print(count,trait_df.shape[0])\n",
    "\n",
    "    print(len(vectorList),'vectors created')        \n",
    "    trait_df[name] = vectorList\n",
    "    return trait_df"
   ]
  },
  {
   "cell_type": "code",
   "execution_count": 5,
   "metadata": {},
   "outputs": [
    {
     "name": "stdout",
     "output_type": "stream",
     "text": [
      "Already done\n",
      "   Unnamed: 0                               ZOOMA QUERY  \\\n",
      "0           0           Vascular disorders of intestine   \n",
      "1           1                              Gonarthrosis   \n",
      "2           2  Psoriatic and enteropathic arthropathies   \n",
      "3           3          Pain associated with micturition   \n",
      "4           4                                Other mood   \n",
      "\n",
      "        MAPPED_TERM_LABEL           MAPPED_TERM_URI MAPPING_TYPE  \\\n",
      "0        vascular disease  EFO_0004264, EFO_0009431        Broad   \n",
      "1  osteoarthritis || knee               EFO_0004616        Broad   \n",
      "2     psoriatic arthritis               EFO_0003778      ? Broad   \n",
      "3                 dysuria               EFO_0003901      ? Broad   \n",
      "4           mood disorder               EFO_0004247      ? Broad   \n",
      "\n",
      "  ICD10_CODE/SELF_REPORTED_TRAIT_FIELD_CODE COMMENTS/TICKET   AI  \\\n",
      "0                                       K55            DONE  NaN   \n",
      "1                                       M17            DONE  NaN   \n",
      "2                                       M07            DONE  NaN   \n",
      "3                                       R30            DONE  NaN   \n",
      "4                                       F38            DONE  NaN   \n",
      "\n",
      "                                  processed  \\\n",
      "0           vascular disorders of intestine   \n",
      "1                              gonarthrosis   \n",
      "2  psoriatic and enteropathic arthropathies   \n",
      "3          pain associated with micturition   \n",
      "4                                other mood   \n",
      "\n",
      "                                          BioSentVec  \n",
      "0  [0.014145898632705212, 0.4755328297615051, -0....  \n",
      "1  [0.15413393080234528, -1.4173569679260254, -0....  \n",
      "2  [0.4655860960483551, 0.20040848851203918, -0.7...  \n",
      "3  [0.3469484746456146, -0.19172678887844086, 0.1...  \n",
      "4  [1.1731828451156616, -1.6614547967910767, 1.26...  \n",
      "CPU times: user 901 ms, sys: 57.5 ms, total: 959 ms\n",
      "Wall time: 974 ms\n"
     ]
    }
   ],
   "source": [
    "%%time\n",
    "\n",
    "f='data/ebi-ukb-vec.tsv.gz'\n",
    "if os.path.exists(f):\n",
    "    print('Already done')\n",
    "    ebi_df = pd.read_csv(f,sep='\\t')\n",
    "    #issues with reading vectors from CSV \n",
    "    ebi_df['BioSentVec'] = ebi_df['BioSentVec'].apply(lambda x: [float(y) for y in x.replace('[','').replace(']','').split(',')])\n",
    "else:\n",
    "    ebi_df = encode_traits(trait_df=ebi_df,col='processed',name='BioSentVec',model='BioSentVec')\n",
    "    ebi_df.to_csv(f,sep='\\t',compression='gzip')\n",
    "print(ebi_df.head())"
   ]
  },
  {
   "cell_type": "code",
   "execution_count": 34,
   "metadata": {},
   "outputs": [
    {
     "name": "stdout",
     "output_type": "stream",
     "text": [
      "                                        name                          label  \\\n",
      "0   http://www.orpha.net/ORDO/Orphanet_90342  Xeroderma pigmentosum variant   \n",
      "1     http://www.orpha.net/ORDO/Orphanet_910          Xeroderma pigmentosum   \n",
      "2  http://purl.obolibrary.org/obo/HP_0002140                Ischemic stroke   \n",
      "3  http://purl.obolibrary.org/obo/HP_0002637              Cerebral ischemia   \n",
      "4       http://www.ebi.ac.uk/efo/EFO_0008524           small cell carcinoma   \n",
      "\n",
      "            type  \n",
      "0  typed-literal  \n",
      "1  typed-literal  \n",
      "2  typed-literal  \n",
      "3  typed-literal  \n",
      "4  typed-literal  \n",
      "(25390, 3)\n",
      "CPU times: user 61.4 ms, sys: 6.32 ms, total: 67.7 ms\n",
      "Wall time: 70.5 ms\n"
     ]
    },
    {
     "data": {
      "text/plain": [
       "[nan,\n",
       " 'hepatitis b infection',\n",
       " 'cardiac pacemaker',\n",
       " 'hiv infection  || aids',\n",
       " 'hearing assistance system/able to hear with hearing aids',\n",
       " 'medical examination',\n",
       " \"spinal fracture'\",\n",
       " 'first degree perineal laceration',\n",
       " 'pilonidal asbcess',\n",
       " 'anus disease||rectal disease',\n",
       " 'need to sleep during day',\n",
       " 'creatine clearance measurement',\n",
       " 'gastroenteritis  || dysentery',\n",
       " 'hepatitis a',\n",
       " 'gallstones  || cholelithiasis',\n",
       " 'ear pain||otitis media with effusion',\n",
       " 'subsequent st elevation (stemi) and non-st elevation (nstemi) myocardian infarction',\n",
       " 'hypothyroidism  || myxedema',\n",
       " 'diarrhoea||gastroenteritis',\n",
       " 'scleroderma  || systemic scleroderma',\n",
       " 'obstetric labor complications',\n",
       " 'uterus neoplasm',\n",
       " 'abnormality of the renal pelvis  || abnormality of the ureter',\n",
       " 'congenital ichthyosis',\n",
       " 'staphylococcal skin infection',\n",
       " 'liver disease  || biliary tract disease  || pancreas disease',\n",
       " 'skull factures',\n",
       " \"dementia  || alzheimer's disease  || cognitive impairment\",\n",
       " 'excessive daytime sleepiness  || narcolepsy without cataplexy',\n",
       " 'general throid disorder term',\n",
       " 'conduction system disease',\n",
       " 'reflection wave amplitude',\n",
       " 'chlamydophila psittaci infection',\n",
       " 'bone fracture from ols',\n",
       " 'clark level i melanoma',\n",
       " 'phlebitis || thrombophlebitis',\n",
       " 'cervical disc degenerative disease',\n",
       " 'sarcoma  || fibrosarcoma',\n",
       " 'family planning services',\n",
       " \"pregnancy'\",\n",
       " 'erysipelothrix rhusiopathiae infection',\n",
       " 'shoulder pain  || neck pain',\n",
       " 'lympathic system disease',\n",
       " 'preeclampsia||proteinuria',\n",
       " 'retinal artery occlusion  || retinal vein occlusion',\n",
       " 'metastasis to lymph node',\n",
       " 'voice disturbance',\n",
       " 'abnormal blood homeostasis',\n",
       " 'cardiac arrythmia',\n",
       " 'job satisfaction',\n",
       " 'conception',\n",
       " 'organ donor||tissue donor',\n",
       " 'abnormal ear morphology  || hearing loss',\n",
       " 'hypopituitarism, pituitary gland disease',\n",
       " 'seasonal allergic rhinitis  || allergic rhinitis',\n",
       " 'warts',\n",
       " 'rectal cancer',\n",
       " 'breast neoplasm, not malignant specific',\n",
       " 'age at last pregnancy',\n",
       " 'cicatrical alopecia',\n",
       " 'benign prostatis hypertrophy',\n",
       " \"infectious disease'\",\n",
       " 'femur fracture  || hip fracture',\n",
       " 'androgenic alopecia',\n",
       " '-',\n",
       " 'neutropenia  || lymphopenia',\n",
       " 'manic episode measurement||irritability measurement',\n",
       " 'hepatitis c infection',\n",
       " 'satisfaction',\n",
       " \"esophagitis  || barrett's esophagus\",\n",
       " 'there is only family history of breast or lung cancer, could use a parent term like family history of cancer?',\n",
       " 'clavicle facture',\n",
       " 'osteoarthritis || knee',\n",
       " 'fetal disorder? patient care? ',\n",
       " 'intestinal disease||viral disease',\n",
       " 'testicular hydrocele || spermatocele efo_1001189',\n",
       " \"neoplasm' (covers benign + malignant; otherwise create/import 'malignant neoplasm')\",\n",
       " 'immunization',\n",
       " 'opening',\n",
       " 'nephrolithiasis  || ureterolithiasis  || bladder calculus',\n",
       " 'no general adverse effects term',\n",
       " 'ankle fracture  || lower extremity fracture',\n",
       " 'follicular cysts',\n",
       " 'testicular carcinoma, not malignant spcific',\n",
       " 'shingellosis',\n",
       " 'polycythaemia vera',\n",
       " 'abnormal lung morphology',\n",
       " 'headache disorder  || headache',\n",
       " 'respiratory system neoplasm||digestive system neoplasm',\n",
       " '?',\n",
       " 'infectious mononucleosis  || epstein-barr virus infection',\n",
       " 'general skin disease term',\n",
       " 'viral hepatitis',\n",
       " 'brain neoplasm, not malignant specific',\n",
       " 'dislocation||sprain',\n",
       " 'braxton-hicks contraction',\n",
       " 'general anxiety disorder',\n",
       " 'general mental or behavioural disorder term',\n",
       " 'anal fistula',\n",
       " 'chronic childhood arthritis',\n",
       " 'have shortness of breath',\n",
       " 'general psycotic symptoms term',\n",
       " 'dermatitis due to unspecified substance taken internally',\n",
       " 'patient care? follow-up care?',\n",
       " 'spondylosis, cervical',\n",
       " 'rectal cancer, not malignant specific',\n",
       " 'birthing labor',\n",
       " 'bullous skin disease',\n",
       " 'atopic aczema',\n",
       " 'screening',\n",
       " 'tendinopathy  || tenosynovitis',\n",
       " 'hereditary painful callosites',\n",
       " 'hand fracture',\n",
       " 'anxiety  || panic disorder',\n",
       " 'not malignant specific',\n",
       " 'facture of pelvis',\n",
       " 'fatigue||malaise',\n",
       " 'wellbeing measurement  || family relaitonship',\n",
       " 'myositis  || myopathy',\n",
       " 'complication of the puerperium',\n",
       " 'medical prodecure',\n",
       " 'hemiplagia',\n",
       " 'abnormal finding',\n",
       " 'satisfied with current financial situation',\n",
       " 'diabetes',\n",
       " 'abnormality of the musculature||abnormality of the skeletal system||abnormality of the nervous system',\n",
       " 'breast neoplasm, not necessarily malignant',\n",
       " 'mumps infectious disease',\n",
       " 'cochlear implants',\n",
       " 'fasting blood glucose measurement rather than elvated',\n",
       " 'androgenic alopecia  || balding measurement',\n",
       " 'tendon rupture',\n",
       " 'hyperaldosteonism',\n",
       " 'prosthesis fitting',\n",
       " 'hyperthyroidism  || thyrotoxicosis',\n",
       " 'patient care?',\n",
       " 'ankle injury||skin wound',\n",
       " 'lymphoid neoplasm||common hematopoietic neoplasm',\n",
       " 'abnormality of the respiratory system||abnormality of the cardiovascular system',\n",
       " \"bartholin's gland disease\",\n",
       " 'social problems',\n",
       " 'health care delivery',\n",
       " 'anal neoplasm, not malignant specific',\n",
       " 'intestinal disease||bacterial disease',\n",
       " 'aids-related disorder',\n",
       " 'musculoskeletal system disease | connective tissue disease',\n",
       " 'prutitus',\n",
       " 'abnormality of the patella',\n",
       " 'caonvalescence',\n",
       " 'intracranial hemorrhage nos']"
      ]
     },
     "execution_count": 34,
     "metadata": {},
     "output_type": "execute_result"
    }
   ],
   "source": [
    "%%time\n",
    "\n",
    "#get EFO data\n",
    "efo_data = 'data/efo-nodes.tsv'\n",
    "efo_df=pd.read_csv(efo_data,sep='\\t',names=['name','label','type'])\n",
    "print(efo_df.head())\n",
    "print(efo_df.shape)\n",
    "\n",
    "#check all terms in EBI data set are here\n",
    "efo_labels = list(efo_df['label'].str.lower())\n",
    "ukb_labels = list(ebi_df['MAPPED_TERM_LABEL'].str.lower())\n",
    "efo_check = list(set(ukb_labels) - set(efo_labels))\n",
    "efo_check"
   ]
  },
  {
   "cell_type": "code",
   "execution_count": 7,
   "metadata": {},
   "outputs": [
    {
     "name": "stdout",
     "output_type": "stream",
     "text": [
      "Already done\n",
      "   Unnamed: 0                                       name  \\\n",
      "0           0   http://www.orpha.net/ORDO/Orphanet_90342   \n",
      "1           1     http://www.orpha.net/ORDO/Orphanet_910   \n",
      "2           2  http://purl.obolibrary.org/obo/HP_0002140   \n",
      "3           3  http://purl.obolibrary.org/obo/HP_0002637   \n",
      "4           4       http://www.ebi.ac.uk/efo/EFO_0008524   \n",
      "\n",
      "                           label           type  \\\n",
      "0  Xeroderma pigmentosum variant  typed-literal   \n",
      "1          Xeroderma pigmentosum  typed-literal   \n",
      "2                Ischemic stroke  typed-literal   \n",
      "3              Cerebral ischemia  typed-literal   \n",
      "4           small cell carcinoma  typed-literal   \n",
      "\n",
      "                                          BioSentVec  \n",
      "0  [-0.045969586819410324, 0.5196870565414429, -0...  \n",
      "1  [0.01842655800282955, 0.7100013494491577, -0.7...  \n",
      "2  [0.5974032282829285, -0.6174705028533936, -0.1...  \n",
      "3  [0.46593865752220154, -0.6334501504898071, 0.0...  \n",
      "4  [0.4248107373714447, 0.033654093742370605, 0.3...  \n",
      "CPU times: user 14 s, sys: 734 ms, total: 14.7 s\n",
      "Wall time: 14.8 s\n"
     ]
    }
   ],
   "source": [
    "%%time\n",
    "\n",
    "f='data/efo-vec.tsv.gz'\n",
    "if os.path.exists(f):\n",
    "    print('Already done')\n",
    "    efo_df = pd.read_csv(f,sep='\\t')\n",
    "    #issues with reading vectors from CSV \n",
    "    efo_df['BioSentVec'] = efo_df['BioSentVec'].apply(lambda x: [float(y) for y in x.replace('[','').replace(']','').split(',')])\n",
    "else:\n",
    "    efo_df = encode_traits(trait_df=efo_df,col='label',name='BioSentVec',model='BioSentVec')\n",
    "    efo_df.to_csv(f,sep='\\t',compression='gzip')\n",
    "    \n",
    "print(efo_df.head())\n"
   ]
  },
  {
   "cell_type": "code",
   "execution_count": 8,
   "metadata": {},
   "outputs": [
    {
     "name": "stdout",
     "output_type": "stream",
     "text": [
      "[('Proteinuria', 'albuminuria'), ('Myopia', 'pathological myopia'), ('dementia', 'AIDS dementia'), ('abnormality of blood and blood-forming tissues', 'Menorrhagia'), ('abnormality of blood and blood-forming tissues', 'thrombocytopenia'), ('abnormality of blood and blood-forming tissues', 'aplastic anemia'), ('abnormality of blood and blood-forming tissues', 'Histiocytosis'), ('abnormality of blood and blood-forming tissues', 'leukopenia'), ('abnormality of blood and blood-forming tissues', 'anemia'), ('Nausea and vomiting', 'Nausea')]\n"
     ]
    }
   ],
   "source": [
    "\n",
    "def create_efo_nxo() -> NXOntology:\n",
    "    nxo = NXOntology()\n",
    "    \n",
    "    edges = []\n",
    "    efo_data='data/efo_data.txt.gz'\n",
    "    efo_df=pd.read_json(efo_data)\n",
    "    for i,row in efo_df.iterrows():\n",
    "        child = row['childLabel']['value']\n",
    "        parent = row['parentLabel']['value']\n",
    "        edges.append((parent,child))\n",
    "    print(edges[0:10])\n",
    "    nxo.graph.add_edges_from(edges)\n",
    "    return nxo\n",
    "\n",
    "efo_nx = create_efo_nxo()\n",
    "efo_nx.freeze()"
   ]
  },
  {
   "cell_type": "code",
   "execution_count": 18,
   "metadata": {},
   "outputs": [
    {
     "name": "stdout",
     "output_type": "stream",
     "text": [
      "CPU times: user 2.24 ms, sys: 34 µs, total: 2.28 ms\n",
      "Wall time: 2.29 ms\n"
     ]
    }
   ],
   "source": [
    "%%time\n",
    "\n",
    "#ebi_df['BioSentVec']\n",
    "v1 = list(ebi_df['BioSentVec'])\n",
    "\n",
    "v2 = list(efo_df['BioSentVec'])\n"
   ]
  },
  {
   "cell_type": "code",
   "execution_count": 19,
   "metadata": {},
   "outputs": [
    {
     "name": "stdout",
     "output_type": "stream",
     "text": [
      "Creating distances...\n",
      "1565 25390\n",
      "1565\n",
      "CPU times: user 29.7 s, sys: 524 ms, total: 30.2 s\n",
      "Wall time: 30.5 s\n"
     ]
    }
   ],
   "source": [
    "%%time\n",
    "# cosine of all against all\n",
    "dd = create_pair_distances(v1,v2)"
   ]
  },
  {
   "cell_type": "code",
   "execution_count": 11,
   "metadata": {},
   "outputs": [
    {
     "ename": "IndexError",
     "evalue": "index 100 is out of bounds for axis 0 with size 100",
     "output_type": "error",
     "traceback": [
      "\u001b[0;31m---------------------------------------------------------------------------\u001b[0m",
      "\u001b[0;31mIndexError\u001b[0m                                Traceback (most recent call last)",
      "\u001b[0;32m<ipython-input-11-051546fccf30>\u001b[0m in \u001b[0;36m<module>\u001b[0;34m\u001b[0m\n\u001b[1;32m     16\u001b[0m \u001b[0mnames\u001b[0m \u001b[0;34m=\u001b[0m \u001b[0mlist\u001b[0m\u001b[0;34m(\u001b[0m\u001b[0mebi_df\u001b[0m\u001b[0;34m[\u001b[0m\u001b[0;34m'processed'\u001b[0m\u001b[0;34m]\u001b[0m\u001b[0;34m[\u001b[0m\u001b[0;36m0\u001b[0m\u001b[0;34m:\u001b[0m\u001b[0;36m100\u001b[0m\u001b[0;34m]\u001b[0m\u001b[0;34m)\u001b[0m\u001b[0;34m\u001b[0m\u001b[0;34m\u001b[0m\u001b[0m\n\u001b[1;32m     17\u001b[0m \u001b[0mnames\u001b[0m\u001b[0;34m.\u001b[0m\u001b[0mextend\u001b[0m\u001b[0;34m(\u001b[0m\u001b[0mlist\u001b[0m\u001b[0;34m(\u001b[0m\u001b[0mefo_df\u001b[0m\u001b[0;34m[\u001b[0m\u001b[0;34m'label'\u001b[0m\u001b[0;34m]\u001b[0m\u001b[0;34m[\u001b[0m\u001b[0;36m0\u001b[0m\u001b[0;34m:\u001b[0m\u001b[0;36m100\u001b[0m\u001b[0;34m]\u001b[0m\u001b[0;34m)\u001b[0m\u001b[0;34m)\u001b[0m\u001b[0;34m\u001b[0m\u001b[0;34m\u001b[0m\u001b[0m\n\u001b[0;32m---> 18\u001b[0;31m \u001b[0mtriple_df\u001b[0m \u001b[0;34m=\u001b[0m \u001b[0mcreate_triples\u001b[0m\u001b[0;34m(\u001b[0m\u001b[0maaa\u001b[0m\u001b[0;34m,\u001b[0m\u001b[0mnames\u001b[0m\u001b[0;34m)\u001b[0m\u001b[0;34m\u001b[0m\u001b[0;34m\u001b[0m\u001b[0m\n\u001b[0m\u001b[1;32m     19\u001b[0m \u001b[0mtriple_df\u001b[0m\u001b[0;34m.\u001b[0m\u001b[0mto_csv\u001b[0m\u001b[0;34m(\u001b[0m\u001b[0;34m'data/biosentvec_vs_efo.tsv.gz'\u001b[0m\u001b[0;34m,\u001b[0m\u001b[0mcompression\u001b[0m\u001b[0;34m=\u001b[0m\u001b[0;34m'gzip'\u001b[0m\u001b[0;34m,\u001b[0m\u001b[0mindex\u001b[0m\u001b[0;34m=\u001b[0m\u001b[0;32mFalse\u001b[0m\u001b[0;34m)\u001b[0m\u001b[0;34m\u001b[0m\u001b[0;34m\u001b[0m\u001b[0m\n",
      "\u001b[0;32m<ipython-input-11-051546fccf30>\u001b[0m in \u001b[0;36mcreate_triples\u001b[0;34m(vector_matrix, term_list)\u001b[0m\n\u001b[1;32m      7\u001b[0m             \u001b[0;32mif\u001b[0m \u001b[0mi\u001b[0m \u001b[0;34m!=\u001b[0m \u001b[0mj\u001b[0m\u001b[0;34m:\u001b[0m\u001b[0;34m\u001b[0m\u001b[0;34m\u001b[0m\u001b[0m\n\u001b[1;32m      8\u001b[0m                 \u001b[0;31m#print(ids[i],ids[j],1-pws[mCount])\u001b[0m\u001b[0;34m\u001b[0m\u001b[0;34m\u001b[0m\u001b[0;34m\u001b[0m\u001b[0m\n\u001b[0;32m----> 9\u001b[0;31m                 \u001b[0mscore\u001b[0m \u001b[0;34m=\u001b[0m \u001b[0;36m1\u001b[0m\u001b[0;34m-\u001b[0m\u001b[0mvector_matrix\u001b[0m\u001b[0;34m[\u001b[0m\u001b[0mmCount\u001b[0m\u001b[0;34m]\u001b[0m\u001b[0;34m\u001b[0m\u001b[0;34m\u001b[0m\u001b[0m\n\u001b[0m\u001b[1;32m     10\u001b[0m                 \u001b[0md\u001b[0m\u001b[0;34m.\u001b[0m\u001b[0mappend\u001b[0m\u001b[0;34m(\u001b[0m\u001b[0;34m{\u001b[0m\u001b[0;34m'source'\u001b[0m\u001b[0;34m:\u001b[0m\u001b[0mterm_list\u001b[0m\u001b[0;34m[\u001b[0m\u001b[0mi\u001b[0m\u001b[0;34m]\u001b[0m\u001b[0;34m,\u001b[0m\u001b[0;34m'score'\u001b[0m\u001b[0;34m:\u001b[0m\u001b[0mscore\u001b[0m\u001b[0;34m,\u001b[0m\u001b[0;34m'target'\u001b[0m\u001b[0;34m:\u001b[0m\u001b[0mterm_list\u001b[0m\u001b[0;34m[\u001b[0m\u001b[0mj\u001b[0m\u001b[0;34m]\u001b[0m\u001b[0;34m}\u001b[0m\u001b[0;34m)\u001b[0m\u001b[0;34m\u001b[0m\u001b[0;34m\u001b[0m\u001b[0m\n\u001b[1;32m     11\u001b[0m                 \u001b[0mmCount\u001b[0m\u001b[0;34m+=\u001b[0m\u001b[0;36m1\u001b[0m\u001b[0;34m\u001b[0m\u001b[0;34m\u001b[0m\u001b[0m\n",
      "\u001b[0;31mIndexError\u001b[0m: index 100 is out of bounds for axis 0 with size 100"
     ]
    }
   ],
   "source": []
  }
 ],
 "metadata": {
  "kernelspec": {
   "display_name": "Python 3",
   "language": "python",
   "name": "python3"
  },
  "language_info": {
   "codemirror_mode": {
    "name": "ipython",
    "version": 3
   },
   "file_extension": ".py",
   "mimetype": "text/x-python",
   "name": "python",
   "nbconvert_exporter": "python",
   "pygments_lexer": "ipython3",
   "version": "3.7.7"
  }
 },
 "nbformat": 4,
 "nbformat_minor": 4
}
