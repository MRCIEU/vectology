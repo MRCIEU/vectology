{
 "cells": [
  {
   "cell_type": "code",
   "execution_count": 25,
   "metadata": {},
   "outputs": [],
   "source": [
    "import pandas as pd\n",
    "import numpy as np\n",
    "import requests\n",
    "import json\n",
    "import time\n",
    "import os \n",
    "\n",
    "from scripts.vectology_functions import create_aaa_distances, create_pair_distances, embed_text, encode_traits\n",
    "from nxontology import NXOntology\n"
   ]
  },
  {
   "cell_type": "code",
   "execution_count": 26,
   "metadata": {},
   "outputs": [
    {
     "name": "stdout",
     "output_type": "stream",
     "text": [
      "                                      query       MAPPED_TERM_LABEL  \\\n",
      "0           Vascular disorders of intestine        vascular disease   \n",
      "1                              Gonarthrosis  osteoarthritis || knee   \n",
      "2  Psoriatic and enteropathic arthropathies     psoriatic arthritis   \n",
      "3          Pain associated with micturition                 dysuria   \n",
      "4                                Other mood           mood disorder   \n",
      "\n",
      "            MAPPED_TERM_URI  \n",
      "0  EFO_0004264, EFO_0009431  \n",
      "1               EFO_0004616  \n",
      "2               EFO_0003778  \n",
      "3               EFO_0003901  \n",
      "4               EFO_0004247  \n",
      "(1565, 3)\n",
      "(1613, 3)\n",
      "(1600, 3)\n",
      "                                      query       MAPPED_TERM_LABEL  \\\n",
      "0           Vascular disorders of intestine        vascular disease   \n",
      "1           Vascular disorders of intestine        vascular disease   \n",
      "2                              Gonarthrosis  osteoarthritis || knee   \n",
      "3  Psoriatic and enteropathic arthropathies     psoriatic arthritis   \n",
      "4          Pain associated with micturition                 dysuria   \n",
      "\n",
      "            id  \n",
      "0  EFO_0004264  \n",
      "1  EFO_0009431  \n",
      "2  EFO_0004616  \n",
      "3  EFO_0003778  \n",
      "4  EFO_0003901  \n"
     ]
    }
   ],
   "source": [
    "# get the EBI UKB data\n",
    "#get ebi data\n",
    "#url='https://raw.githubusercontent.com/EBISPOT/EFO-UKB-mappings/master/UK_Biobank_master_file.tsv'\n",
    "#ebi_df = pd.read_csv(url,sep='\\t')\n",
    "\n",
    "ebi_df = pd.read_csv('data/UK_Biobank_master_file.tsv',sep='\\t')\n",
    "\n",
    "#drop some columns\n",
    "ebi_df = ebi_df[['ZOOMA QUERY','MAPPED_TERM_LABEL','MAPPED_TERM_URI']]\n",
    "ebi_df.rename(columns={'ZOOMA QUERY':'query'},inplace=True)\n",
    "print(ebi_df.head())\n",
    "print(ebi_df.shape)\n",
    "\n",
    "#create new rows for multiple labels\n",
    "#ebi_df = (\n",
    "#        ebi_df.assign(label=ebi_df.MAPPED_TERM_LABEL.str.split(\"\\|\\|\"))\n",
    "#        .explode(\"label\")\n",
    "#        .reset_index(drop=True).drop('MAPPED_TERM_LABEL',axis=1)\n",
    "#    )\n",
    "\n",
    "#create new rows for multiple ids\n",
    "ebi_df['MAPPED_TERM_URI']=ebi_df['MAPPED_TERM_URI'].str.replace('\\|\\|',',')\n",
    "ebi_df['MAPPED_TERM_URI']=ebi_df['MAPPED_TERM_URI'].str.replace('\\|',',')\n",
    "ebi_df = (\n",
    "        ebi_df.assign(id=ebi_df.MAPPED_TERM_URI.str.split(\",\"))\n",
    "        .explode(\"id\")\n",
    "        .reset_index(drop=True).drop('MAPPED_TERM_URI',axis=1)\n",
    "    )\n",
    "\n",
    "#clean up\n",
    "ebi_df['id'] = ebi_df['id'].str.strip()\n",
    "\n",
    "#drop cases where query and id are the same\n",
    "ebi_df.drop_duplicates(subset=['query','id'],inplace=True)\n",
    "print(ebi_df.shape)\n",
    "\n",
    "#drop nan\n",
    "ebi_df.dropna(inplace=True)\n",
    "print(ebi_df.shape)\n",
    "print(ebi_df.head())\n"
   ]
  },
  {
   "cell_type": "code",
   "execution_count": 27,
   "metadata": {},
   "outputs": [
    {
     "name": "stdout",
     "output_type": "stream",
     "text": [
      "                                        name                          label  \\\n",
      "0   http://www.orpha.net/ORDO/Orphanet_90342  Xeroderma pigmentosum variant   \n",
      "1     http://www.orpha.net/ORDO/Orphanet_910          Xeroderma pigmentosum   \n",
      "2  http://purl.obolibrary.org/obo/HP_0002140                Ischemic stroke   \n",
      "3  http://purl.obolibrary.org/obo/HP_0002637              Cerebral ischemia   \n",
      "4       http://www.ebi.ac.uk/efo/EFO_0008524           small cell carcinoma   \n",
      "\n",
      "            type  \n",
      "0  typed-literal  \n",
      "1  typed-literal  \n",
      "2  typed-literal  \n",
      "3  typed-literal  \n",
      "4  typed-literal  \n",
      "(25390, 3)\n",
      "CPU times: user 43.5 ms, sys: 7.09 ms, total: 50.6 ms\n",
      "Wall time: 52 ms\n"
     ]
    }
   ],
   "source": [
    "%%time\n",
    "\n",
    "#get EFO data\n",
    "efo_data = 'data/efo-nodes.tsv'\n",
    "efo_df=pd.read_csv(efo_data,sep='\\t',names=['name','label','type'])\n",
    "print(efo_df.head())\n",
    "print(efo_df.shape)"
   ]
  },
  {
   "cell_type": "code",
   "execution_count": 28,
   "metadata": {},
   "outputs": [
    {
     "name": "stdout",
     "output_type": "stream",
     "text": [
      "21 ['HP_0001875', 'HP_0001888', 'EFO:0009626', 'NCIT_C27161', 'EFO:0009713', 'EFO:0009596', 'EFO_1000673', 'HP0011106', 'EFO_1000673', 'Orphanet:281097', 'EFO:0009640', 'EFO:0009642', 'EFO:0009642', 'EFO:0009643', 'EFO:0009642', 'EFO:0009642', 'EFO:0009639', 'EFO:0009638', 'EFO:0009636', 'HP_0100550', 'EFO:0009637']\n",
      "(1600, 3)\n",
      "                                      query       MAPPED_TERM_LABEL  \\\n",
      "0           Vascular disorders of intestine        vascular disease   \n",
      "1           Vascular disorders of intestine        vascular disease   \n",
      "2                              Gonarthrosis  osteoarthritis || knee   \n",
      "3  Psoriatic and enteropathic arthropathies     psoriatic arthritis   \n",
      "4          Pain associated with micturition                 dysuria   \n",
      "\n",
      "            id                               full_id  \n",
      "0  EFO_0004264  http://www.ebi.ac.uk/efo/EFO_0004264  \n",
      "1  EFO_0009431  http://www.ebi.ac.uk/efo/EFO_0009431  \n",
      "2  EFO_0004616  http://www.ebi.ac.uk/efo/EFO_0004616  \n",
      "3  EFO_0003778  http://www.ebi.ac.uk/efo/EFO_0003778  \n",
      "4  EFO_0003901  http://www.ebi.ac.uk/efo/EFO_0003901  \n",
      "(1579, 4)\n"
     ]
    }
   ],
   "source": [
    "#check all terms in EBI data set are here\n",
    "efo_ids = list(efo_df['name'])\n",
    "ebi_ids = list(ebi_df['id'])\n",
    "missing=[]\n",
    "matched = []\n",
    "for i in ebi_ids:\n",
    "    match = False\n",
    "    for s in efo_ids:\n",
    "        if i in s and match == False:\n",
    "            matched.append(s)\n",
    "            match = True\n",
    "    if match == False:\n",
    "        missing.append(i)\n",
    "print(len(missing),missing)\n",
    "\n",
    "# remove missing from ukb data\n",
    "print(ebi_df.shape)\n",
    "for i in missing:\n",
    "    ebi_df = ebi_df.drop(ebi_df[ebi_df['id'].str.contains(i)].index)\n",
    "ebi_df['full_id'] = matched\n",
    "print(ebi_df.head())\n",
    "print(ebi_df.shape)\n"
   ]
  },
  {
   "cell_type": "code",
   "execution_count": 29,
   "metadata": {},
   "outputs": [
    {
     "name": "stdout",
     "output_type": "stream",
     "text": [
      "1579\n",
      "                                      query       MAPPED_TERM_LABEL  \\\n",
      "0           Vascular disorders of intestine        vascular disease   \n",
      "1           Vascular disorders of intestine        vascular disease   \n",
      "2                              Gonarthrosis  osteoarthritis || knee   \n",
      "3  Psoriatic and enteropathic arthropathies     psoriatic arthritis   \n",
      "4          Pain associated with micturition                 dysuria   \n",
      "\n",
      "            id                               full_id  \\\n",
      "0  EFO_0004264  http://www.ebi.ac.uk/efo/EFO_0004264   \n",
      "1  EFO_0009431  http://www.ebi.ac.uk/efo/EFO_0009431   \n",
      "2  EFO_0004616  http://www.ebi.ac.uk/efo/EFO_0004616   \n",
      "3  EFO_0003778  http://www.ebi.ac.uk/efo/EFO_0003778   \n",
      "4  EFO_0003901  http://www.ebi.ac.uk/efo/EFO_0003901   \n",
      "\n",
      "                                  processed  \n",
      "0           vascular disorders of intestine  \n",
      "1           vascular disorders of intestine  \n",
      "2                              gonarthrosis  \n",
      "3  psoriatic and enteropathic arthropathies  \n",
      "4          pain associated with micturition  \n"
     ]
    }
   ],
   "source": [
    "# preprocess\n",
    "process_text=[]\n",
    "for k,g in ebi_df.groupby(np.arange(len(ebi_df))//20):\n",
    "    params={'text_list':list(g['query'])}\n",
    "    process_res = requests.post('http://vectology-api.mrcieu.ac.uk/preprocess',data=json.dumps(params))\n",
    "    process_text.extend([d['result'].replace('unspecified','').replace('nec','') for d in process_res.json()])\n",
    "print(len(process_text))\n",
    "    \n",
    "ebi_df.loc[:, 'processed'] = process_text\n",
    "print(ebi_df.head())"
   ]
  },
  {
   "cell_type": "code",
   "execution_count": 30,
   "metadata": {},
   "outputs": [
    {
     "name": "stdout",
     "output_type": "stream",
     "text": [
      "1000 1579\n",
      "1579 vectors created\n",
      "                                      query       MAPPED_TERM_LABEL  \\\n",
      "0           Vascular disorders of intestine        vascular disease   \n",
      "1           Vascular disorders of intestine        vascular disease   \n",
      "2                              Gonarthrosis  osteoarthritis || knee   \n",
      "3  Psoriatic and enteropathic arthropathies     psoriatic arthritis   \n",
      "4          Pain associated with micturition                 dysuria   \n",
      "\n",
      "            id                               full_id  \\\n",
      "0  EFO_0004264  http://www.ebi.ac.uk/efo/EFO_0004264   \n",
      "1  EFO_0009431  http://www.ebi.ac.uk/efo/EFO_0009431   \n",
      "2  EFO_0004616  http://www.ebi.ac.uk/efo/EFO_0004616   \n",
      "3  EFO_0003778  http://www.ebi.ac.uk/efo/EFO_0003778   \n",
      "4  EFO_0003901  http://www.ebi.ac.uk/efo/EFO_0003901   \n",
      "\n",
      "                                  processed  \\\n",
      "0           vascular disorders of intestine   \n",
      "1           vascular disorders of intestine   \n",
      "2                              gonarthrosis   \n",
      "3  psoriatic and enteropathic arthropathies   \n",
      "4          pain associated with micturition   \n",
      "\n",
      "                                          BioSentVec  \n",
      "0  [0.014145898632705212, 0.4755328297615051, -0....  \n",
      "1  [0.014145898632705212, 0.4755328297615051, -0....  \n",
      "2  [0.15413393080234528, -1.4173569679260254, -0....  \n",
      "3  [0.4655860960483551, 0.20040848851203918, -0.7...  \n",
      "4  [0.3469484746456146, -0.19172678887844086, 0.1...  \n",
      "CPU times: user 6.28 s, sys: 291 ms, total: 6.57 s\n",
      "Wall time: 1min 2s\n"
     ]
    }
   ],
   "source": [
    "%%time\n",
    "\n",
    "f='data/ebi-ukb-vec.tsv.gz'\n",
    "if os.path.exists(f):\n",
    "    print('Already done')\n",
    "    ebi_df = pd.read_csv(f,sep='\\t')\n",
    "    #issues with reading vectors from CSV \n",
    "    ebi_df['BioSentVec'] = ebi_df['BioSentVec'].apply(lambda x: [float(y) for y in x.replace('[','').replace(']','').split(',')])\n",
    "else:\n",
    "    ebi_df = encode_traits(trait_df=ebi_df,col='processed',name='BioSentVec',model='BioSentVec')\n",
    "    ebi_df.to_csv(f,sep='\\t',compression='gzip',index=False)\n",
    "print(ebi_df.head())"
   ]
  },
  {
   "cell_type": "code",
   "execution_count": 31,
   "metadata": {},
   "outputs": [
    {
     "name": "stdout",
     "output_type": "stream",
     "text": [
      "Already done\n",
      "   Unnamed: 0                                       name  \\\n",
      "0           0   http://www.orpha.net/ORDO/Orphanet_90342   \n",
      "1           1     http://www.orpha.net/ORDO/Orphanet_910   \n",
      "2           2  http://purl.obolibrary.org/obo/HP_0002140   \n",
      "3           3  http://purl.obolibrary.org/obo/HP_0002637   \n",
      "4           4       http://www.ebi.ac.uk/efo/EFO_0008524   \n",
      "\n",
      "                           label           type  \\\n",
      "0  Xeroderma pigmentosum variant  typed-literal   \n",
      "1          Xeroderma pigmentosum  typed-literal   \n",
      "2                Ischemic stroke  typed-literal   \n",
      "3              Cerebral ischemia  typed-literal   \n",
      "4           small cell carcinoma  typed-literal   \n",
      "\n",
      "                                          BioSentVec  \n",
      "0  [-0.045969586819410324, 0.5196870565414429, -0...  \n",
      "1  [0.01842655800282955, 0.7100013494491577, -0.7...  \n",
      "2  [0.5974032282829285, -0.6174705028533936, -0.1...  \n",
      "3  [0.46593865752220154, -0.6334501504898071, 0.0...  \n",
      "4  [0.4248107373714447, 0.033654093742370605, 0.3...  \n",
      "CPU times: user 13.9 s, sys: 719 ms, total: 14.6 s\n",
      "Wall time: 14.8 s\n"
     ]
    }
   ],
   "source": [
    "%%time\n",
    "\n",
    "f='data/efo-vec.tsv.gz'\n",
    "if os.path.exists(f):\n",
    "    print('Already done')\n",
    "    efo_df = pd.read_csv(f,sep='\\t')\n",
    "    #issues with reading vectors from CSV \n",
    "    efo_df['BioSentVec'] = efo_df['BioSentVec'].apply(lambda x: [float(y) for y in x.replace('[','').replace(']','').split(',')])\n",
    "else:\n",
    "    efo_df = encode_traits(trait_df=efo_df,col='label',name='BioSentVec',model='BioSentVec')\n",
    "    efo_df.to_csv(f,sep='\\t',compression='gzip')\n",
    "    \n",
    "print(efo_df.head())\n"
   ]
  },
  {
   "cell_type": "code",
   "execution_count": 32,
   "metadata": {},
   "outputs": [
    {
     "name": "stdout",
     "output_type": "stream",
     "text": [
      "CPU times: user 191 ms, sys: 116 ms, total: 307 ms\n",
      "Wall time: 308 ms\n"
     ]
    }
   ],
   "source": [
    "%%time\n",
    "\n",
    "#ebi_df['BioSentVec']\n",
    "v1 = list(ebi_df['BioSentVec'])\n",
    "\n",
    "v2 = list(efo_df['BioSentVec'])\n"
   ]
  },
  {
   "cell_type": "code",
   "execution_count": 33,
   "metadata": {},
   "outputs": [
    {
     "name": "stdout",
     "output_type": "stream",
     "text": [
      "Creating distances...\n",
      "1579 25390\n",
      "1579\n",
      "CPU times: user 30 s, sys: 537 ms, total: 30.5 s\n",
      "Wall time: 30.7 s\n"
     ]
    }
   ],
   "source": [
    "%%time\n",
    "# cosine of all against all\n",
    "dd = create_pair_distances(v1,v2)"
   ]
  },
  {
   "cell_type": "code",
   "execution_count": 63,
   "metadata": {},
   "outputs": [
    {
     "name": "stdout",
     "output_type": "stream",
     "text": [
      "\n",
      "EBI: 0 ['Vascular disorders of intestine' 'http://www.ebi.ac.uk/efo/EFO_0004264']\n",
      "EFO: ['http://purl.obolibrary.org/obo/UBERON_0000160' 'intestine']\n",
      "\n",
      "EBI: 1 ['Vascular disorders of intestine' 'http://www.ebi.ac.uk/efo/EFO_0009431']\n",
      "EFO: ['http://purl.obolibrary.org/obo/UBERON_0000160' 'intestine']\n",
      "\n",
      "EBI: 2 ['Gonarthrosis' 'http://www.ebi.ac.uk/efo/EFO_0004616']\n",
      "EFO: ['http://www.ebi.ac.uk/efo/EFO_0004616' 'osteoarthritis, knee']\n",
      "\n",
      "EBI: 3 ['Psoriatic and enteropathic arthropathies'\n",
      " 'http://www.ebi.ac.uk/efo/EFO_0003778']\n",
      "EFO: ['http://www.ebi.ac.uk/efo/EFO_0003778' 'psoriatic arthritis']\n",
      "\n",
      "EBI: 4 ['Pain associated with micturition' 'http://www.ebi.ac.uk/efo/EFO_0003901']\n",
      "EFO: ['http://purl.obolibrary.org/obo/GO_0060073' 'micturition']\n"
     ]
    }
   ],
   "source": [
    "for i,irows in ebi_df.head(n=5).iterrows():\n",
    "    print('\\nEBI:',i,irows[['query','full_id']].values)\n",
    "    min_dis = np.nanargmin(dd[i])\n",
    "    print('EFO:',efo_df.iloc[min_dis][['name','label']].values)\n"
   ]
  },
  {
   "cell_type": "code",
   "execution_count": 24,
   "metadata": {},
   "outputs": [
    {
     "name": "stdout",
     "output_type": "stream",
     "text": [
      "[('Proteinuria', 'albuminuria'), ('Myopia', 'pathological myopia'), ('dementia', 'AIDS dementia'), ('abnormality of blood and blood-forming tissues', 'Menorrhagia'), ('abnormality of blood and blood-forming tissues', 'thrombocytopenia'), ('abnormality of blood and blood-forming tissues', 'aplastic anemia'), ('abnormality of blood and blood-forming tissues', 'Histiocytosis'), ('abnormality of blood and blood-forming tissues', 'leukopenia'), ('abnormality of blood and blood-forming tissues', 'anemia'), ('Nausea and vomiting', 'Nausea')]\n"
     ]
    }
   ],
   "source": [
    "def create_efo_nxo() -> NXOntology:\n",
    "    nxo = NXOntology()\n",
    "    \n",
    "    edges = []\n",
    "    efo_data='data/efo_data.txt.gz'\n",
    "    efo_df=pd.read_json(efo_data)\n",
    "    for i,row in efo_df.iterrows():\n",
    "        child = row['childLabel']['value']\n",
    "        parent = row['parentLabel']['value']\n",
    "        edges.append((parent,child))\n",
    "    print(edges[0:10])\n",
    "    nxo.graph.add_edges_from(edges)\n",
    "    return nxo\n",
    "\n",
    "efo_nx = create_efo_nxo()\n",
    "efo_nx.freeze()"
   ]
  },
  {
   "cell_type": "code",
   "execution_count": null,
   "metadata": {},
   "outputs": [],
   "source": []
  }
 ],
 "metadata": {
  "kernelspec": {
   "display_name": "Python 3",
   "language": "python",
   "name": "python3"
  },
  "language_info": {
   "codemirror_mode": {
    "name": "ipython",
    "version": 3
   },
   "file_extension": ".py",
   "mimetype": "text/x-python",
   "name": "python",
   "nbconvert_exporter": "python",
   "pygments_lexer": "ipython3",
   "version": "3.7.7"
  }
 },
 "nbformat": 4,
 "nbformat_minor": 4
}
