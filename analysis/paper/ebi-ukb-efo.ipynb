{
 "cells": [
  {
   "cell_type": "code",
   "execution_count": 13,
   "metadata": {},
   "outputs": [],
   "source": [
    "import pandas as pd\n",
    "import numpy as np\n",
    "import requests\n",
    "import json\n",
    "from scripts.vectology_functions import create_aaa_distances, embed_text"
   ]
  },
  {
   "cell_type": "code",
   "execution_count": 14,
   "metadata": {},
   "outputs": [
    {
     "name": "stdout",
     "output_type": "stream",
     "text": [
      "                                ZOOMA QUERY       MAPPED_TERM_LABEL  \\\n",
      "0           Vascular disorders of intestine        vascular disease   \n",
      "1                              Gonarthrosis  osteoarthritis || knee   \n",
      "2  Psoriatic and enteropathic arthropathies     psoriatic arthritis   \n",
      "3          Pain associated with micturition                 dysuria   \n",
      "4                                Other mood           mood disorder   \n",
      "\n",
      "            MAPPED_TERM_URI MAPPING_TYPE  \\\n",
      "0  EFO_0004264, EFO_0009431        Broad   \n",
      "1               EFO_0004616        Broad   \n",
      "2               EFO_0003778      ? Broad   \n",
      "3               EFO_0003901      ? Broad   \n",
      "4               EFO_0004247      ? Broad   \n",
      "\n",
      "  ICD10_CODE/SELF_REPORTED_TRAIT_FIELD_CODE COMMENTS/TICKET   AI  \n",
      "0                                       K55            DONE  NaN  \n",
      "1                                       M17            DONE  NaN  \n",
      "2                                       M07            DONE  NaN  \n",
      "3                                       R30            DONE  NaN  \n",
      "4                                       F38            DONE  NaN  \n",
      "(1565, 7)\n"
     ]
    }
   ],
   "source": [
    "# get the EBI UKB data\n",
    "#get ebi data\n",
    "url='https://raw.githubusercontent.com/EBISPOT/EFO-UKB-mappings/master/UK_Biobank_master_file.tsv'\n",
    "ebi_df = pd.read_csv(url,sep='\\t')\n",
    "#create test set\n",
    "print(ebi_df.head())\n",
    "print(ebi_df.shape)"
   ]
  },
  {
   "cell_type": "code",
   "execution_count": 15,
   "metadata": {},
   "outputs": [
    {
     "name": "stdout",
     "output_type": "stream",
     "text": [
      "1565\n",
      "                                ZOOMA QUERY       MAPPED_TERM_LABEL  \\\n",
      "0           Vascular disorders of intestine        vascular disease   \n",
      "1                              Gonarthrosis  osteoarthritis || knee   \n",
      "2  Psoriatic and enteropathic arthropathies     psoriatic arthritis   \n",
      "3          Pain associated with micturition                 dysuria   \n",
      "4                                Other mood           mood disorder   \n",
      "\n",
      "            MAPPED_TERM_URI MAPPING_TYPE  \\\n",
      "0  EFO_0004264, EFO_0009431        Broad   \n",
      "1               EFO_0004616        Broad   \n",
      "2               EFO_0003778      ? Broad   \n",
      "3               EFO_0003901      ? Broad   \n",
      "4               EFO_0004247      ? Broad   \n",
      "\n",
      "  ICD10_CODE/SELF_REPORTED_TRAIT_FIELD_CODE COMMENTS/TICKET   AI  \\\n",
      "0                                       K55            DONE  NaN   \n",
      "1                                       M17            DONE  NaN   \n",
      "2                                       M07            DONE  NaN   \n",
      "3                                       R30            DONE  NaN   \n",
      "4                                       F38            DONE  NaN   \n",
      "\n",
      "                                  processed  \n",
      "0           vascular disorders of intestine  \n",
      "1                              gonarthrosis  \n",
      "2  psoriatic and enteropathic arthropathies  \n",
      "3          pain associated with micturition  \n",
      "4                                other mood  \n"
     ]
    }
   ],
   "source": [
    "# preprocess\n",
    "process_text=[]\n",
    "for k,g in ebi_df.groupby(np.arange(len(ebi_df))//20):\n",
    "    params={'text_list':list(g['ZOOMA QUERY'])}\n",
    "    process_res = requests.post('http://vectology-api.mrcieu.ac.uk/preprocess',data=json.dumps(params))\n",
    "    process_text.extend([d['result'].replace('unspecified','').replace('nec','') for d in process_res.json()])\n",
    "print(len(process_text))\n",
    "    \n",
    "ebi_df.loc[:, 'processed'] = process_text\n",
    "print(ebi_df.head())"
   ]
  },
  {
   "cell_type": "code",
   "execution_count": null,
   "metadata": {},
   "outputs": [],
   "source": [
    "# embed all the variables using BioSentVec\n",
    "def encode_traits(trait_df):\n",
    "\n",
    "    vectorList=[]\n",
    "\n",
    "    #loop through 10 rows at a time\n",
    "    for k,g in trait_df.groupby(np.arange(len(trait_df))//10):\n",
    "        #get processed text\n",
    "        textList=list(g['processed'])\n",
    "        # embed using BioSentVec initially\n",
    "        res = embed_text(textList,'BioSentVec')\n",
    "        \n",
    "        #add vectors to list\n",
    "        for i in range(0,len(textList)):\n",
    "            vectorList.append(res[i])\n",
    "\n",
    "    print(len(vectorList),'vectors created')        \n",
    "    trait_df['BioSentVec'] = vectorList\n",
    "    return trait_df\n",
    "\n",
    "ebi_df = encode_traits(ebi_df)\n",
    "print(trait_df.head())"
   ]
  }
 ],
 "metadata": {
  "kernelspec": {
   "display_name": "Python 3",
   "language": "python",
   "name": "python3"
  },
  "language_info": {
   "codemirror_mode": {
    "name": "ipython",
    "version": 3
   },
   "file_extension": ".py",
   "mimetype": "text/x-python",
   "name": "python",
   "nbconvert_exporter": "python",
   "pygments_lexer": "ipython3",
   "version": "3.7.7"
  }
 },
 "nbformat": 4,
 "nbformat_minor": 4
}
