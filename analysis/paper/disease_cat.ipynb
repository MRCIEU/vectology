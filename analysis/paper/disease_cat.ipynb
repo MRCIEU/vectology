{
 "cells": [
  {
   "cell_type": "code",
   "execution_count": 27,
   "metadata": {},
   "outputs": [],
   "source": [
    "import pandas as pd\n",
    "import numpy as np\n",
    "import requests\n",
    "import json\n",
    "import time\n",
    "import os \n",
    "import gzip\n",
    "import timeit\n",
    "import scispacy\n",
    "import spacy\n",
    "from loguru import logger\n",
    "from sklearn.manifold import TSNE\n",
    "from scripts.vectology_functions import embed_text"
   ]
  },
  {
   "cell_type": "code",
   "execution_count": 27,
   "metadata": {},
   "outputs": [],
   "source": [
    " "
   ]
  },
  {
   "cell_type": "code",
   "execution_count": 41,
   "metadata": {
    "tags": []
   },
   "outputs": [
    {
     "output_type": "stream",
     "name": "stderr",
     "text": [
      "2021-04-12 20:14:31.379 | INFO     | __main__:<module>:4 - \n",
      "  'ICD-10-CM CODE'                         ICD-10-CM CODE DESCRIPTION  \\\n",
      "0           'A000'  Cholera due to Vibrio cholerae 01, biovar chol...   \n",
      "1           'A001'    Cholera due to Vibrio cholerae 01, biovar eltor   \n",
      "\n",
      "  CHRONIC INDICATOR  \n",
      "0                 A  \n",
      "1                 A  \n",
      "2021-04-12 20:14:31.380 | INFO     | __main__:<module>:5 - (2, 3)\n",
      "2021-04-12 20:14:31.380 | INFO     | __main__:<module>:6 - Index([''ICD-10-CM CODE'', 'ICD-10-CM CODE DESCRIPTION', 'CHRONIC INDICATOR'], dtype='object')\n",
      "0\n",
      "2021-04-12 20:14:31.608 | INFO     | __main__:<module>:21 - 2\n"
     ]
    }
   ],
   "source": [
    "df = pd.read_csv('data/CCI-ICD10CM-v2021-1/CCI_ICD10CM_v2021-1.csv',skiprows=2)\n",
    "df.rename(columns={\"'ICD-10-CM CODE DESCRIPTION'\":\"ICD-10-CM CODE DESCRIPTION\",\"'CHRONIC INDICATOR'\":\"CHRONIC INDICATOR\"},inplace=True)\n",
    "df['CHRONIC INDICATOR'] = df['CHRONIC INDICATOR'].str.replace(\"'\",\"\")\n",
    "logger.info(f'\\n{df.head()}')\n",
    "logger.info(df.shape)\n",
    "logger.info(df.columns)\n",
    "\n",
    "results=[]\n",
    "query_list = list(df['ICD-10-CM CODE DESCRIPTION'])\n",
    "indicator_list = list(df['CHRONIC INDICATOR'])\n",
    "#logger.info(queries)\n",
    "chunk=20\n",
    "for i in range(0,len(query_list),chunk):\n",
    "    if i % 1000 == 0:\n",
    "        print(i)\n",
    "    batch = query_list[i:i+chunk]\n",
    "    #print('\\n',i,queries[i:i+chunk])\n",
    "    res = embed_text(textList=batch,model='BioSentVec')\n",
    "    for r in res:\n",
    "        results.append({'name':query_list[i],'indicator':indicator_list[i],'vector':r})\n",
    "logger.info(len(results))\n",
    "res_df = pd.DataFrame(results)\n",
    "res_df.to_pickle('output/disease-cat/vectors.pickle')\n"
   ]
  },
  {
   "cell_type": "code",
   "execution_count": null,
   "metadata": {},
   "outputs": [],
   "source": []
  }
 ],
 "metadata": {
  "kernelspec": {
   "name": "python377jvsc74a57bd0e9488686f1710e03a2db500841ab3c85a1a994631a15dcf34b8c7706977f7813",
   "display_name": "Python 3.7.7 64-bit ('Vectology': conda)"
  },
  "language_info": {
   "codemirror_mode": {
    "name": "ipython",
    "version": 3
   },
   "file_extension": ".py",
   "mimetype": "text/x-python",
   "name": "python",
   "nbconvert_exporter": "python",
   "pygments_lexer": "ipython3",
   "version": "3.7.7"
  }
 },
 "nbformat": 4,
 "nbformat_minor": 4
}