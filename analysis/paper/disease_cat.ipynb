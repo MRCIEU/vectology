{
 "cells": [
  {
   "cell_type": "code",
   "execution_count": 15,
   "metadata": {},
   "outputs": [],
   "source": [
    "import pandas as pd\n",
    "import numpy as np\n",
    "import requests\n",
    "import json\n",
    "import time\n",
    "import os \n",
    "import gzip\n",
    "import timeit\n",
    "import matplotlib.pyplot as plt\n",
    "from loguru import logger\n",
    "from sklearn.manifold import TSNE\n",
    "from scripts.vectology_functions import embed_text, create_aaa_distances\n",
    "import seaborn as sns\n",
    "\n",
    "# Apply the default theme\n",
    "sns.set_theme()\n",
    "\n",
    "tSNE=TSNE(n_components=2)\n",
    "\n",
    "cci_df = pd.read_csv('data/CCI-ICD10CM-v2021-1/CCI_ICD10CM_v2021-1.csv',skiprows=2)\n",
    "cci_df.rename(columns={\"'ICD-10-CM CODE DESCRIPTION'\":\"ICD-10-CM CODE DESCRIPTION\",\"'CHRONIC INDICATOR'\":\"CHRONIC INDICATOR\"},inplace=True)\n",
    "cci_df['CHRONIC INDICATOR'] = cci_df['CHRONIC INDICATOR'].str.replace(\"'\",\"\")\n",
    "\n",
    "output='output/disease-cat'"
   ]
  },
  {
   "cell_type": "code",
   "execution_count": 4,
   "metadata": {
    "tags": []
   },
   "outputs": [
    {
     "name": "stderr",
     "output_type": "stream",
     "text": [
      "2021-04-12 21:54:25.980 | INFO     | __main__:make_vectors:4 - output/disease-cat/vectors.pickle.gz exists\n"
     ]
    },
    {
     "name": "stdout",
     "output_type": "stream",
     "text": [
      "CPU times: user 6.86 s, sys: 2.1 s, total: 8.97 s\n",
      "Wall time: 8.96 s\n"
     ]
    }
   ],
   "source": [
    "%%time\n",
    "\n",
    "def make_vectors():\n",
    "    f = f'{output}/vectors.pickle.gz'\n",
    "    if os.path.exists(f):\n",
    "        logger.info(f'{f} exists')\n",
    "        res_df = pd.read_pickle(f)\n",
    "    else:\n",
    "        logger.info(f'\\n{cci_df.head()}')\n",
    "        logger.info(cci_df.shape)\n",
    "\n",
    "        results=[]\n",
    "        query_list = list(cci_df['ICD-10-CM CODE DESCRIPTION'])\n",
    "        indicator_list = list(cci_df['CHRONIC INDICATOR'])\n",
    "        #logger.info(queries)\n",
    "        chunk=20\n",
    "        for i in range(0,len(query_list),chunk):\n",
    "            if i % 1000 == 0:\n",
    "                print(i)\n",
    "            batch = query_list[i:i+chunk]\n",
    "            res = embed_text(textList=batch,model='BioSentVec')\n",
    "            for r in res:\n",
    "                results.append({'name':query_list[i],'indicator':indicator_list[i],'vector':r})\n",
    "        logger.info(len(results))\n",
    "        res_df = pd.DataFrame(results)\n",
    "        res_df.to_pickle(f)\n",
    "    return res_df\n",
    "res_df = make_vectors()"
   ]
  },
  {
   "cell_type": "code",
   "execution_count": 16,
   "metadata": {},
   "outputs": [
    {
     "name": "stderr",
     "output_type": "stream",
     "text": [
      "2021-04-12 22:04:17.454 | INFO     | __main__:<module>:1 - 73205\n"
     ]
    },
    {
     "name": "stdout",
     "output_type": "stream",
     "text": [
      "Creating distances...\n",
      "5\n",
      "5\n",
      "CPU times: user 11.9 ms, sys: 3.99 ms, total: 15.9 ms\n",
      "Wall time: 14.3 ms\n"
     ]
    }
   ],
   "source": [
    "%%time\n",
    "\n",
    "logger.info(len(res_df))\n",
    "aaa = create_aaa_distances(list(res_df['vector'])[:100])\n",
    "np.save(f'{output}/vectors-aaa.npy',aaa)"
   ]
  },
  {
   "cell_type": "code",
   "execution_count": 17,
   "metadata": {},
   "outputs": [
    {
     "name": "stderr",
     "output_type": "stream",
     "text": [
      "2021-04-12 22:04:19.302 | INFO     | __main__:<module>:6 -           0         1         2         3         4\n",
      "0  0.000000  0.027015  0.567728  0.739140  0.739958\n",
      "1  0.027015  0.000000  0.571727  0.743126  0.733656\n",
      "2  0.567728  0.571727  0.000000  0.329781  0.633168\n",
      "3  0.739140  0.743126  0.329781  0.000000  0.398672\n",
      "4  0.739958  0.733656  0.633168  0.398672  0.000000\n",
      "2021-04-12 22:04:19.307 | INFO     | __main__:<module>:7 - (5, 5)\n",
      "2021-04-12 22:06:47.312 | INFO     | __main__:<module>:14 -   'ICD-10-CM CODE'                         ICD-10-CM CODE DESCRIPTION  \\\n",
      "0           'A000'  Cholera due to Vibrio cholerae 01, biovar chol...   \n",
      "1           'A001'    Cholera due to Vibrio cholerae 01, biovar eltor   \n",
      "2           'A009'                               Cholera, unspecified   \n",
      "3          'A0100'                         Typhoid fever, unspecified   \n",
      "4          'A0101'                                 Typhoid meningitis   \n",
      "\n",
      "  CHRONIC INDICATOR          x          y  \n",
      "0                 A -84.754478   6.935909  \n",
      "1                 A -19.673136  18.571159  \n",
      "2                 A -64.622932 -58.430656  \n",
      "3                 A   0.562634 -68.255928  \n",
      "4                 A  39.083687 -11.738986  \n"
     ]
    },
    {
     "name": "stdout",
     "output_type": "stream",
     "text": [
      "CPU times: user 3h 12min 7s, sys: 759 ms, total: 3h 12min 8s\n",
      "Wall time: 2min 28s\n"
     ]
    },
    {
     "data": {
      "image/png": "[encoded data removed]",
      "text/plain": [
       "<Figure size 1152x504 with 1 Axes>"
      ]
     },
     "metadata": {},
     "output_type": "display_data"
    }
   ],
   "source": [
    "%%time\n",
    "\n",
    "# tSNE\n",
    "\n",
    "cci_df = cci_df.head(n=100)\n",
    "\n",
    "d = pd.DataFrame(aaa)\n",
    "logger.info(d.head())\n",
    "logger.info(d.shape)\n",
    "d = d.fillna(1)\n",
    "tSNE_result=tSNE.fit_transform(d)\n",
    "x=tSNE_result[:,0]\n",
    "y=tSNE_result[:,1]\n",
    "cci_df['x']=x\n",
    "cci_df['y']=y\n",
    "logger.info(cci_df.head())\n",
    "plt.figure(figsize=(16,7))\n",
    "sns.scatterplot(x='x',y='y',data=cci_df, legend=\"full\", hue=\"CHRONIC INDICATOR\")\n",
    "plt.savefig(f'{output}/tsne.pdf')"
   ]
  },
  {
   "cell_type": "code",
   "execution_count": null,
   "metadata": {},
   "outputs": [],
   "source": []
  }
 ],
 "metadata": {
  "kernelspec": {
   "display_name": "vectology-env",
   "language": "python",
   "name": "myenv"
  },
  "language_info": {
   "codemirror_mode": {
    "name": "ipython",
    "version": 3
   },
   "file_extension": ".py",
   "mimetype": "text/x-python",
   "name": "python",
   "nbconvert_exporter": "python",
   "pygments_lexer": "ipython3",
   "version": "3.7.9"
  }
 },
 "nbformat": 4,
 "nbformat_minor": 4
}
