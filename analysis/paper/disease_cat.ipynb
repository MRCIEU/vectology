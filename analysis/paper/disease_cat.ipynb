{
 "cells": [
  {
   "cell_type": "code",
   "execution_count": 5,
   "metadata": {},
   "outputs": [
    {
     "name": "stderr",
     "output_type": "stream",
     "text": [
      "/home/be15516/software/miniconda3/envs/Vectology/lib/python3.7/site-packages/umap/plot.py:29: UserWarning: The umap.plot package requires extra plotting libraries to be installed.\n",
      "    You can install these via pip using\n",
      "\n",
      "    pip install umap-learn[plot]\n",
      "\n",
      "    or via conda using\n",
      "\n",
      "     conda install pandas matplotlib datashader bokeh holoviews colorcet scikit-image\n",
      "    \n",
      "  \"\"\"\n"
     ]
    },
    {
     "ename": "ImportError",
     "evalue": "umap.plot requires pandas matplotlib datashader bokeh holoviews scikit-image and colorcet to be installed",
     "output_type": "error",
     "traceback": [
      "\u001b[0;31m---------------------------------------------------------------------------\u001b[0m",
      "\u001b[0;31mImportError\u001b[0m                               Traceback (most recent call last)",
      "\u001b[0;32m<ipython-input-5-d9b285f8ca4f>\u001b[0m in \u001b[0;36m<module>\u001b[0;34m\u001b[0m\n\u001b[1;32m     11\u001b[0m \u001b[0;32mfrom\u001b[0m \u001b[0msklearn\u001b[0m\u001b[0;34m.\u001b[0m\u001b[0mmanifold\u001b[0m \u001b[0;32mimport\u001b[0m \u001b[0mTSNE\u001b[0m\u001b[0;34m\u001b[0m\u001b[0;34m\u001b[0m\u001b[0m\n\u001b[1;32m     12\u001b[0m \u001b[0;32mimport\u001b[0m \u001b[0mumap\u001b[0m\u001b[0;34m\u001b[0m\u001b[0;34m\u001b[0m\u001b[0m\n\u001b[0;32m---> 13\u001b[0;31m \u001b[0;32mimport\u001b[0m \u001b[0mumap\u001b[0m\u001b[0;34m.\u001b[0m\u001b[0mplot\u001b[0m\u001b[0;34m\u001b[0m\u001b[0;34m\u001b[0m\u001b[0m\n\u001b[0m\u001b[1;32m     14\u001b[0m \u001b[0;32mfrom\u001b[0m \u001b[0mscripts\u001b[0m\u001b[0;34m.\u001b[0m\u001b[0mvectology_functions\u001b[0m \u001b[0;32mimport\u001b[0m \u001b[0membed_text\u001b[0m\u001b[0;34m,\u001b[0m \u001b[0mcreate_aaa_distances\u001b[0m\u001b[0;34m\u001b[0m\u001b[0;34m\u001b[0m\u001b[0m\n\u001b[1;32m     15\u001b[0m \u001b[0;32mimport\u001b[0m \u001b[0mseaborn\u001b[0m \u001b[0;32mas\u001b[0m \u001b[0msns\u001b[0m\u001b[0;34m\u001b[0m\u001b[0;34m\u001b[0m\u001b[0m\n",
      "\u001b[0;32m~/software/miniconda3/envs/Vectology/lib/python3.7/site-packages/umap/plot.py\u001b[0m in \u001b[0;36m<module>\u001b[0;34m\u001b[0m\n\u001b[1;32m     32\u001b[0m         \u001b[0;34m\"umap.plot requires pandas matplotlib datashader bokeh holoviews scikit-image and colorcet to be \"\u001b[0m\u001b[0;34m\u001b[0m\u001b[0;34m\u001b[0m\u001b[0m\n\u001b[1;32m     33\u001b[0m         \u001b[0;34m\"installed\"\u001b[0m\u001b[0;34m\u001b[0m\u001b[0;34m\u001b[0m\u001b[0m\n\u001b[0;32m---> 34\u001b[0;31m     ) from None\n\u001b[0m\u001b[1;32m     35\u001b[0m \u001b[0;34m\u001b[0m\u001b[0m\n\u001b[1;32m     36\u001b[0m \u001b[0;32mimport\u001b[0m \u001b[0msklearn\u001b[0m\u001b[0;34m.\u001b[0m\u001b[0mdecomposition\u001b[0m\u001b[0;34m\u001b[0m\u001b[0;34m\u001b[0m\u001b[0m\n",
      "\u001b[0;31mImportError\u001b[0m: umap.plot requires pandas matplotlib datashader bokeh holoviews scikit-image and colorcet to be installed"
     ]
    }
   ],
   "source": [
    "import pandas as pd\n",
    "import numpy as np\n",
    "import requests\n",
    "import json\n",
    "import time\n",
    "import os \n",
    "import gzip\n",
    "import timeit\n",
    "import matplotlib.pyplot as plt\n",
    "from loguru import logger\n",
    "from sklearn.manifold import TSNE\n",
    "import umap\n",
    "#import umap.plot\n",
    "from scripts.vectology_functions import embed_text, create_aaa_distances\n",
    "import seaborn as sns\n",
    "\n",
    "# Apply the default theme\n",
    "sns.set_theme()\n",
    "\n",
    "tSNE=TSNE(n_components=2)\n",
    "\n",
    "cci_df = pd.read_csv('data/CCI-ICD10CM-v2021-1/CCI_ICD10CM_v2021-1.csv',skiprows=2)\n",
    "cci_df.rename(columns={\"'ICD-10-CM CODE DESCRIPTION'\":\"ICD-10-CM CODE DESCRIPTION\",\"'CHRONIC INDICATOR'\":\"CHRONIC INDICATOR\"},inplace=True)\n",
    "cci_df['CHRONIC INDICATOR'] = cci_df['CHRONIC INDICATOR'].str.replace(\"'\",\"\")\n",
    "\n",
    "output='output/disease-cat'"
   ]
  },
  {
   "cell_type": "code",
   "execution_count": 3,
   "metadata": {
    "tags": []
   },
   "outputs": [
    {
     "name": "stderr",
     "output_type": "stream",
     "text": [
      "2021-04-12 22:18:35.278 | INFO     | __main__:make_vectors:4 - output/disease-cat/vectors.pickle.gz exists\n"
     ]
    },
    {
     "name": "stdout",
     "output_type": "stream",
     "text": [
      "CPU times: user 5.22 s, sys: 887 ms, total: 6.11 s\n",
      "Wall time: 6.11 s\n"
     ]
    }
   ],
   "source": [
    "%%time\n",
    "\n",
    "def make_vectors():\n",
    "    f = f'{output}/vectors.pickle.gz'\n",
    "    if os.path.exists(f):\n",
    "        logger.info(f'{f} exists')\n",
    "        res_df = pd.read_pickle(f)\n",
    "    else:\n",
    "        logger.info(f'\\n{cci_df.head()}')\n",
    "        logger.info(cci_df.shape)\n",
    "\n",
    "        results=[]\n",
    "        query_list = list(cci_df['ICD-10-CM CODE DESCRIPTION'])\n",
    "        indicator_list = list(cci_df['CHRONIC INDICATOR'])\n",
    "        #logger.info(queries)\n",
    "        chunk=20\n",
    "        for i in range(0,len(query_list),chunk):\n",
    "            if i % 1000 == 0:\n",
    "                print(i)\n",
    "            batch = query_list[i:i+chunk]\n",
    "            res = embed_text(textList=batch,model='BioSentVec')\n",
    "            for r in res:\n",
    "                results.append({'name':query_list[i],'indicator':indicator_list[i],'vector':r})\n",
    "        logger.info(len(results))\n",
    "        res_df = pd.DataFrame(results)\n",
    "        res_df.to_pickle(f)\n",
    "    return res_df\n",
    "res_df = make_vectors()"
   ]
  },
  {
   "cell_type": "code",
   "execution_count": 4,
   "metadata": {},
   "outputs": [
    {
     "name": "stderr",
     "output_type": "stream",
     "text": [
      "2021-04-12 22:18:44.696 | INFO     | __main__:<module>:1 - 73205\n"
     ]
    },
    {
     "name": "stdout",
     "output_type": "stream",
     "text": [
      "Creating distances...\n",
      "100\n",
      "100\n",
      "CPU times: user 20.9 ms, sys: 2.88 ms, total: 23.8 ms\n",
      "Wall time: 21.5 ms\n"
     ]
    }
   ],
   "source": [
    "%%time\n",
    "\n",
    "logger.info(len(res_df))\n",
    "aaa = create_aaa_distances(list(res_df['vector'])[:100])\n",
    "np.save(f'{output}/vectors-aaa.npy',aaa)"
   ]
  },
  {
   "cell_type": "code",
   "execution_count": null,
   "metadata": {},
   "outputs": [
    {
     "name": "stderr",
     "output_type": "stream",
     "text": [
      "2021-04-12 22:21:24.301 | INFO     | __main__:<module>:6 -          0         1         2         3         4         5         6   \\\n",
      "0  0.000000  0.027015  0.567728  0.739140  0.739958  0.777459  0.716014   \n",
      "1  0.027015  0.000000  0.571727  0.743126  0.733656  0.782226  0.716638   \n",
      "2  0.567728  0.571727  0.000000  0.329781  0.633168  0.676889  0.647810   \n",
      "3  0.739140  0.743126  0.329781  0.000000  0.398672  0.340710  0.383392   \n",
      "4  0.739958  0.733656  0.633168  0.398672  0.000000  0.448165  0.228155   \n",
      "\n",
      "         7         8         9   ...        90        91        92        93  \\\n",
      "0  0.731274  0.714448  0.708838  ...  0.908337  0.908717  0.881235  0.905757   \n",
      "1  0.732058  0.714512  0.727792  ...  0.892908  0.890377  0.886932  0.907834   \n",
      "2  0.652647  0.680688  0.648430  ...  0.835625  0.835591  0.781407  0.491576   \n",
      "3  0.422022  0.447839  0.314620  ...  0.716952  0.724693  0.734874  0.464014   \n",
      "4  0.279590  0.274474  0.408206  ...  0.551350  0.681834  0.718513  0.728980   \n",
      "\n",
      "         94        95        96        97        98        99  \n",
      "0  0.900394  0.885799  0.831884  0.851047  0.884943  0.870714  \n",
      "1  0.901466  0.894073  0.836105  0.859423  0.889782  0.878459  \n",
      "2  0.802546  0.832363  0.757181  0.787583  0.582004  0.828118  \n",
      "3  0.750452  0.767696  0.734764  0.699651  0.544559  0.765827  \n",
      "4  0.692711  0.706015  0.725721  0.708233  0.793754  0.752652  \n",
      "\n",
      "[5 rows x 100 columns]\n",
      "2021-04-12 22:21:24.312 | INFO     | __main__:<module>:7 - (100, 100)\n"
     ]
    }
   ],
   "source": [
    "%%time\n",
    "\n",
    "# tSNE\n",
    "\n",
    "cci_df = cci_df.head(n=100)\n",
    "\n",
    "d = pd.DataFrame(aaa)\n",
    "logger.info(d.head())\n",
    "logger.info(d.shape)\n",
    "d = d.fillna(1)\n",
    "exit()\n",
    "tSNE_result=tSNE.fit_transform(d)\n",
    "x=tSNE_result[:,0]\n",
    "y=tSNE_result[:,1]\n",
    "cci_df['x']=x\n",
    "cci_df['y']=y\n",
    "logger.info(cci_df.head())\n",
    "logger.info(cci_df.shape)\n",
    "plt.figure(figsize=(16,16))\n",
    "sns.scatterplot(x='x',y='y',data=cci_df, legend=\"full\", hue=\"CHRONIC INDICATOR\")\n",
    "plt.savefig(f'{output}/tsne.pdf')"
   ]
  },
  {
   "cell_type": "code",
   "execution_count": null,
   "metadata": {},
   "outputs": [],
   "source": [
    "# umap\n",
    "mapper = umap.UMAP().fit(aaa)\n"
   ]
  }
 ],
 "metadata": {
  "kernelspec": {
   "display_name": "vectology-env",
   "language": "python",
   "name": "myenv"
  },
  "language_info": {
   "codemirror_mode": {
    "name": "ipython",
    "version": 3
   },
   "file_extension": ".py",
   "mimetype": "text/x-python",
   "name": "python",
   "nbconvert_exporter": "python",
   "pygments_lexer": "ipython3",
   "version": "3.7.9"
  }
 },
 "nbformat": 4,
 "nbformat_minor": 4
}
