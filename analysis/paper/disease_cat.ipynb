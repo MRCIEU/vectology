{
 "cells": [
  {
   "cell_type": "code",
   "execution_count": 50,
   "metadata": {},
   "outputs": [],
   "source": [
    "import pandas as pd\n",
    "import numpy as np\n",
    "import requests\n",
    "import json\n",
    "import time\n",
    "import os \n",
    "import gzip\n",
    "import timeit\n",
    "import scispacy\n",
    "import spacy\n",
    "from loguru import logger\n",
    "from sklearn.manifold import TSNE\n",
    "from scripts.vectology_functions import embed_text, create_aaa_distances\n",
    "\n",
    "tSNE=TSNE(n_components=2)\n",
    "\n",
    "cci_df = pd.read_csv('data/CCI-ICD10CM-v2021-1/CCI_ICD10CM_v2021-1.csv',skiprows=2)\n",
    "cci_df.rename(columns={\"'ICD-10-CM CODE DESCRIPTION'\":\"ICD-10-CM CODE DESCRIPTION\",\"'CHRONIC INDICATOR'\":\"CHRONIC INDICATOR\"},inplace=True)\n",
    "cci_df['CHRONIC INDICATOR'] = df['CHRONIC INDICATOR'].str.replace(\"'\",\"\")\n",
    "\n",
    "output='output/disease-cat"
   ]
  },
  {
   "cell_type": "code",
   "execution_count": 27,
   "metadata": {},
   "outputs": [],
   "source": [
    " "
   ]
  },
  {
   "cell_type": "code",
   "execution_count": 47,
   "metadata": {
    "tags": []
   },
   "outputs": [],
   "source": [
    "%%time\n",
    "\n",
    "def make_vectors():\n",
    "    f = f'{output}/vectors.pickle.gz'\n",
    "    if os.path.exists(f):\n",
    "        logger.info(f'{f} exists')\n",
    "        res_df = pd.read_pickle(f)\n",
    "    else:\n",
    "        logger.info(f'\\n{cci_df.head()}')\n",
    "        logger.info(cci_df.shape)\n",
    "\n",
    "        results=[]\n",
    "        query_list = list(cci_df['ICD-10-CM CODE DESCRIPTION'])\n",
    "        indicator_list = list(cci_df['CHRONIC INDICATOR'])\n",
    "        #logger.info(queries)\n",
    "        chunk=20\n",
    "        for i in range(0,len(query_list),chunk):\n",
    "            if i % 1000 == 0:\n",
    "                print(i)\n",
    "            batch = query_list[i:i+chunk]\n",
    "            #print('\\n',i,queries[i:i+chunk])\n",
    "            res = embed_text(textList=batch,model='BioSentVec')\n",
    "            for r in res:\n",
    "                results.append({'name':query_list[i],'indicator':indicator_list[i],'vector':r})\n",
    "        logger.info(len(results))\n",
    "        res_df = pd.DataFrame(results)\n",
    "        res_df.to_pickle(f)\n",
    "    return res_df\n",
    "res_df = make_vectors()"
   ]
  },
  {
   "cell_type": "code",
   "execution_count": 51,
   "metadata": {},
   "outputs": [
    {
     "name": "stderr",
     "output_type": "stream",
     "text": [
      "2021-04-12 21:12:46.722 | INFO     | __main__:<module>:1 - 73205\n",
      "Creating distances...\n",
      "73205\n"
     ]
    },
    {
     "ename": "ValueError",
     "evalue": "A 2-dimensional array must be passed.",
     "output_type": "error",
     "traceback": [
      "\u001b[0;31m---------------------------------------------------------------------------\u001b[0m",
      "\u001b[0;31mValueError\u001b[0m                                Traceback (most recent call last)",
      "\u001b[0;32m<ipython-input-51-2b9f5e58ae6c>\u001b[0m in \u001b[0;36m<module>\u001b[0;34m\u001b[0m\n\u001b[1;32m      1\u001b[0m \u001b[0mlogger\u001b[0m\u001b[0;34m.\u001b[0m\u001b[0minfo\u001b[0m\u001b[0;34m(\u001b[0m\u001b[0mlen\u001b[0m\u001b[0;34m(\u001b[0m\u001b[0mres_df\u001b[0m\u001b[0;34m)\u001b[0m\u001b[0;34m)\u001b[0m\u001b[0;34m\u001b[0m\u001b[0;34m\u001b[0m\u001b[0m\n\u001b[0;32m----> 2\u001b[0;31m \u001b[0maaa\u001b[0m \u001b[0;34m=\u001b[0m \u001b[0mcreate_aaa_distances\u001b[0m\u001b[0;34m(\u001b[0m\u001b[0mres_df\u001b[0m\u001b[0;34m[\u001b[0m\u001b[0;34m'vector'\u001b[0m\u001b[0;34m]\u001b[0m\u001b[0;34m)\u001b[0m\u001b[0;34m\u001b[0m\u001b[0;34m\u001b[0m\u001b[0m\n\u001b[0m\u001b[1;32m      3\u001b[0m \u001b[0mnp\u001b[0m\u001b[0;34m.\u001b[0m\u001b[0msave\u001b[0m\u001b[0;34m(\u001b[0m\u001b[0;34m'output/disease-cat/vectors-aaa.npy'\u001b[0m\u001b[0;34m,\u001b[0m\u001b[0maaa\u001b[0m\u001b[0;34m)\u001b[0m\u001b[0;34m\u001b[0m\u001b[0;34m\u001b[0m\u001b[0m\n",
      "\u001b[0;32m~/projects/vectology/analysis/paper/scripts/vectology_functions.py\u001b[0m in \u001b[0;36mcreate_aaa_distances\u001b[0;34m(vectors)\u001b[0m\n\u001b[1;32m     45\u001b[0m     \u001b[0mprint\u001b[0m\u001b[0;34m(\u001b[0m\u001b[0mlen\u001b[0m\u001b[0;34m(\u001b[0m\u001b[0mvectors\u001b[0m\u001b[0;34m)\u001b[0m\u001b[0;34m)\u001b[0m\u001b[0;34m\u001b[0m\u001b[0;34m\u001b[0m\u001b[0m\n\u001b[1;32m     46\u001b[0m     \u001b[0mdata\u001b[0m \u001b[0;34m=\u001b[0m \u001b[0mnp\u001b[0m\u001b[0;34m.\u001b[0m\u001b[0marray\u001b[0m\u001b[0;34m(\u001b[0m\u001b[0mvectors\u001b[0m\u001b[0;34m)\u001b[0m\u001b[0;34m\u001b[0m\u001b[0;34m\u001b[0m\u001b[0m\n\u001b[0;32m---> 47\u001b[0;31m     \u001b[0mpws\u001b[0m \u001b[0;34m=\u001b[0m \u001b[0mdistance\u001b[0m\u001b[0;34m.\u001b[0m\u001b[0mpdist\u001b[0m\u001b[0;34m(\u001b[0m\u001b[0mdata\u001b[0m\u001b[0;34m,\u001b[0m \u001b[0mmetric\u001b[0m\u001b[0;34m=\u001b[0m\u001b[0;34m'cosine'\u001b[0m\u001b[0;34m)\u001b[0m\u001b[0;34m\u001b[0m\u001b[0;34m\u001b[0m\u001b[0m\n\u001b[0m\u001b[1;32m     48\u001b[0m     \u001b[0;31m#return as square-form distance matrix\u001b[0m\u001b[0;34m\u001b[0m\u001b[0;34m\u001b[0m\u001b[0;34m\u001b[0m\u001b[0m\n\u001b[1;32m     49\u001b[0m     \u001b[0mpws\u001b[0m \u001b[0;34m=\u001b[0m \u001b[0mdistance\u001b[0m\u001b[0;34m.\u001b[0m\u001b[0msquareform\u001b[0m\u001b[0;34m(\u001b[0m\u001b[0mpws\u001b[0m\u001b[0;34m)\u001b[0m\u001b[0;34m\u001b[0m\u001b[0;34m\u001b[0m\u001b[0m\n",
      "\u001b[0;32m~/anaconda3/envs/Vectology/lib/python3.7/site-packages/scipy/spatial/distance.py\u001b[0m in \u001b[0;36mpdist\u001b[0;34m(X, metric, *args, **kwargs)\u001b[0m\n\u001b[1;32m   1988\u001b[0m     \u001b[0ms\u001b[0m \u001b[0;34m=\u001b[0m \u001b[0mX\u001b[0m\u001b[0;34m.\u001b[0m\u001b[0mshape\u001b[0m\u001b[0;34m\u001b[0m\u001b[0;34m\u001b[0m\u001b[0m\n\u001b[1;32m   1989\u001b[0m     \u001b[0;32mif\u001b[0m \u001b[0mlen\u001b[0m\u001b[0;34m(\u001b[0m\u001b[0ms\u001b[0m\u001b[0;34m)\u001b[0m \u001b[0;34m!=\u001b[0m \u001b[0;36m2\u001b[0m\u001b[0;34m:\u001b[0m\u001b[0;34m\u001b[0m\u001b[0;34m\u001b[0m\u001b[0m\n\u001b[0;32m-> 1990\u001b[0;31m         \u001b[0;32mraise\u001b[0m \u001b[0mValueError\u001b[0m\u001b[0;34m(\u001b[0m\u001b[0;34m'A 2-dimensional array must be passed.'\u001b[0m\u001b[0;34m)\u001b[0m\u001b[0;34m\u001b[0m\u001b[0;34m\u001b[0m\u001b[0m\n\u001b[0m\u001b[1;32m   1991\u001b[0m \u001b[0;34m\u001b[0m\u001b[0m\n\u001b[1;32m   1992\u001b[0m     \u001b[0mm\u001b[0m\u001b[0;34m,\u001b[0m \u001b[0mn\u001b[0m \u001b[0;34m=\u001b[0m \u001b[0ms\u001b[0m\u001b[0;34m\u001b[0m\u001b[0;34m\u001b[0m\u001b[0m\n",
      "\u001b[0;31mValueError\u001b[0m: A 2-dimensional array must be passed."
     ]
    }
   ],
   "source": [
    "%%time\n",
    "\n",
    "logger.info(len(res_df))\n",
    "aaa = create_aaa_distances(list(res_df['vector']))\n",
    "np.save(f'{output}/vectors-aaa.npy',aaa)"
   ]
  },
  {
   "cell_type": "code",
   "execution_count": null,
   "metadata": {},
   "outputs": [],
   "source": [
    "%%time\n",
    "\n",
    "# tSNE\n",
    "\n",
    "d = pd.DataFrame(aaa)\n",
    "#print(d.head())\n",
    "d = d.fillna(1)\n",
    "tSNE_result=tSNE.fit_transform(d)\n",
    "x=tSNE_result[:,0]\n",
    "y=tSNE_result[:,1]\n",
    "ebi_df['x']=x\n",
    "ebi_df['y']=y\n",
    "#print(ebi_df.head())\n",
    "plt.figure(figsize=(16,7))\n",
    "sns.scatterplot(x='x',y='y',data=cci_df, legend=\"full\", hue=\"MAPPING_TYPE\")\n",
    "plt.savefig(f'{output}/tsne.pdf')"
   ]
  }
 ],
 "metadata": {
  "kernelspec": {
   "display_name": "vectology",
   "language": "python",
   "name": "myenv"
  },
  "language_info": {
   "codemirror_mode": {
    "name": "ipython",
    "version": 3
   },
   "file_extension": ".py",
   "mimetype": "text/x-python",
   "name": "python",
   "nbconvert_exporter": "python",
   "pygments_lexer": "ipython3",
   "version": "3.7.9"
  }
 },
 "nbformat": 4,
 "nbformat_minor": 4
}
