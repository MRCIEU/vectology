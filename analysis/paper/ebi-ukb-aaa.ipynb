{
 "cells": [
  {
   "cell_type": "code",
   "execution_count": 26,
   "metadata": {},
   "outputs": [],
   "source": [
    "import pandas as pd\n",
    "import numpy as np\n",
    "import requests\n",
    "import json\n",
    "import time\n",
    "import os \n",
    "import gzip\n",
    "import timeit\n",
    "\n",
    "from scripts.vectology_functions import create_aaa_distances, create_pair_distances, embed_text, encode_traits, create_efo_nxo\n",
    "\n",
    "from pandas_profiling import ProfileReport\n",
    "\n",
    "import seaborn as sns\n",
    "\n",
    "# Apply the default theme\n",
    "sns.set_theme()"
   ]
  },
  {
   "cell_type": "code",
   "execution_count": 27,
   "metadata": {},
   "outputs": [],
   "source": [
    "# globals\n",
    "ebi_data = 'data/UK_Biobank_master_file.tsv'\n",
    "#efo_nodes = 'data/efo-nodes.tsv'\n",
    "#efo_data = 'data/efo_data.txt.gz'\n",
    "efo_nodes = 'data/epigraphdb_efo_nodes.csv'\n",
    "efo_rels = 'data/epigraphdb_efo_rels.csv'\n",
    "nxontology_measure = 'batet'\n",
    "\n",
    "modelData = [\n",
    "    {'name':'BioSentVec','model':'BioSentVec'},\n",
    "    {'name':'BioBERT','model':'biobert_v1.1_pubmed'},\n",
    "    {'name':'BlueBERT','model':'NCBI_BERT_pubmed_mimic_uncased_L-12_H-768_A-12'},\n",
    "    {'name':'GUSE','model':'GUSEv4'},\n",
    "    {'name':'BERT-EFO','model':'BERT-EFO'},\n",
    "    {'name':'Zooma','model':'Zooma'}\n",
    "]\n",
    "\n",
    "pallete=\"hls\"\n",
    "output='output/trait-trait'"
   ]
  },
  {
   "cell_type": "code",
   "execution_count": 28,
   "metadata": {},
   "outputs": [],
   "source": [
    "#create nxontology network of EFO relationships\n",
    "efo_rel_df=pd.read_csv(efo_rels)\n",
    "efo_nx = create_efo_nxo(df=efo_rel_df,child_col='efo.id',parent_col='parent_efo.id')\n",
    "efo_nx.freeze()"
   ]
  },
  {
   "cell_type": "code",
   "execution_count": 87,
   "metadata": {},
   "outputs": [
    {
     "output_type": "stream",
     "name": "stdout",
     "text": [
      "                                      query       MAPPED_TERM_LABEL  \\\n0           Vascular disorders of intestine        vascular disease   \n1           Vascular disorders of intestine        vascular disease   \n2                              Gonarthrosis  osteoarthritis || knee   \n3  Psoriatic and enteropathic arthropathies     psoriatic arthritis   \n4          Pain associated with micturition                 dysuria   \n\n  MAPPING_TYPE           id                               full_id  \n0        Broad  EFO_0004264  http://www.ebi.ac.uk/efo/EFO_0004264  \n1        Broad  EFO_0009431  http://www.ebi.ac.uk/efo/EFO_0009431  \n2        Broad  EFO_0004616  http://www.ebi.ac.uk/efo/EFO_0004616  \n3      ? Broad  EFO_0003778  http://www.ebi.ac.uk/efo/EFO_0003778  \n4      ? Broad  EFO_0003901  http://www.ebi.ac.uk/efo/EFO_0003901  \n(1303, 5)\n(1240, 5)\n"
     ]
    }
   ],
   "source": [
    "# read cleaned EBI data\n",
    "ebi_df = pd.read_csv('output/ebi-ukb-cleaned.tsv',sep='\\t')\n",
    "print(ebi_df.head())\n",
    "print(ebi_df.shape)\n",
    "\n",
    "#now we need one to one mappings of query and EFO, so drop duplicates\n",
    "ebi_df_dedup = ebi_df.drop_duplicates(subset=['query'])\n",
    "print(ebi_df_dedup.shape)"
   ]
  },
  {
   "cell_type": "code",
   "execution_count": 85,
   "metadata": {
    "tags": []
   },
   "outputs": [
    {
     "output_type": "stream",
     "name": "stdout",
     "text": [
      "0\n",
      "100\n",
      "200\n",
      "300\n",
      "400\n",
      "500\n",
      "600\n",
      "700\n",
      "800\n",
      "900\n",
      "1000\n",
      "1100\n",
      "1200\n",
      "Done\n",
      "CPU times: user 1min 18s, sys: 983 ms, total: 1min 19s\n",
      "Wall time: 1min 20s\n"
     ]
    }
   ],
   "source": [
    "%%time\n",
    "\n",
    "# create nx score for each full_id\n",
    "\n",
    "f = f\"{output}/nx-ebi-pairs.csv.gz\"\n",
    "if os.path.exists('nx-ebi-pairs.csv.gz'):\n",
    "    print('nx for ebi done')\n",
    "else:\n",
    "    o = gzip.open(f,'wb')\n",
    "    o.write(\"q1\\tq2\\tscore\\n\".encode('utf-8'))\n",
    "    efos = list(ebi_df_dedup['full_id'])\n",
    "    for i in range(0,len(efos)-1):\n",
    "        if i % 100 == 0:\n",
    "            print(i)    \n",
    "        for j in range(i,len(efos)):\n",
    "            e1 = efos[i]\n",
    "            e2 = efos[j]\n",
    "            if e1 != e2:\n",
    "                res = similarity = efo_nx.similarity(e1,e2).results()\n",
    "                nx_val = res[nxontology_measure]\n",
    "                #print(i,e1,e2,nx_val)\n",
    "                o.write(f\"{e1}\\t{e2}\\t{nx_val}\\n\".encode('utf-8'))\n",
    "    o.close()\n",
    "print('Done')"
   ]
  },
  {
   "cell_type": "code",
   "execution_count": 33,
   "metadata": {},
   "outputs": [
    {
     "output_type": "stream",
     "name": "stdout",
     "text": [
      "{'name': 'BioSentVec', 'model': 'BioSentVec'}\n",
      "1303\n",
      "Creating distances...\n",
      "1303\n",
      "1303\n",
      "{'name': 'BioBERT', 'model': 'biobert_v1.1_pubmed'}\n",
      "1303\n",
      "Creating distances...\n",
      "1303\n",
      "1303\n",
      "{'name': 'BlueBERT', 'model': 'NCBI_BERT_pubmed_mimic_uncased_L-12_H-768_A-12'}\n",
      "1303\n",
      "Creating distances...\n",
      "1303\n",
      "1303\n",
      "{'name': 'GUSE', 'model': 'GUSEv4'}\n",
      "1303\n",
      "Creating distances...\n",
      "1303\n",
      "1303\n",
      "output/BERT-EFO-ebi-encode.npy does not exist\n",
      "output/Zooma-ebi-encode.npy does not exist\n"
     ]
    }
   ],
   "source": [
    "%%time\n",
    "# run all against all for EBI query data\n",
    "m = modelData[0]\n",
    "for m in modelData:\n",
    "    name = m['name']\n",
    "    f = f'output/{name}-ebi-encode.npy'\n",
    "    if os.path.exists(f):\n",
    "        print(m)\n",
    "        dd = np.load(f'output/{name}-ebi-encode.npy')\n",
    "        print(len(dd))\n",
    "        aaa = create_aaa_distances(dd)\n",
    "        np.save(f'{output}/{name}-ebi-aaa.npy',aaa)\n",
    "        #print(len(aaa))\n",
    "    else:\n",
    "        print(f,'does not exist')\n"
   ]
  },
  {
   "cell_type": "code",
   "execution_count": 89,
   "metadata": {
    "tags": []
   },
   "outputs": [
    {
     "output_type": "stream",
     "name": "stdout",
     "text": [
      "1303\n",
      "writing BioSentVec\n",
      "0\n",
      "100\n",
      "200\n",
      "300\n",
      "400\n",
      "500\n",
      "600\n",
      "700\n",
      "800\n",
      "900\n",
      "1000\n",
      "1100\n",
      "1200\n",
      "1300\n",
      "1303\n",
      "writing BioBERT\n",
      "0\n",
      "100\n",
      "200\n",
      "300\n",
      "400\n",
      "500\n",
      "600\n",
      "700\n",
      "800\n",
      "900\n",
      "1000\n",
      "1100\n",
      "1200\n",
      "1300\n",
      "1303\n",
      "writing BlueBERT\n",
      "0\n",
      "100\n",
      "200\n",
      "300\n",
      "400\n",
      "500\n",
      "600\n",
      "700\n",
      "800\n",
      "900\n",
      "1000\n",
      "1100\n",
      "1200\n",
      "1300\n",
      "1303\n",
      "writing GUSE\n",
      "0\n",
      "100\n",
      "200\n",
      "300\n",
      "400\n",
      "500\n",
      "600\n",
      "700\n",
      "800\n",
      "900\n",
      "1000\n",
      "1100\n",
      "1200\n",
      "1300\n"
     ]
    }
   ],
   "source": [
    "def write_to_file(model_name,pairwise_data):\n",
    "    print('writing',model_name)\n",
    "    f = f'{output}/{model_name}-ebi-query-pairwise.tsv.gz'\n",
    "    if os.path.exists(f):\n",
    "        print('Already done',f)\n",
    "    else:\n",
    "        \n",
    "        fo = gzip.open(f,'w')\n",
    "        fo.write(\"q1\\tq2\\tscore\\n\".encode('utf-8'))\n",
    "        ebi_list = ebi_df['query']\n",
    "        for i in range(0,len(ebi_list)):\n",
    "            if i % 100 == 0:\n",
    "                print(i)\n",
    "            # write to file\n",
    "            mCount=0\n",
    "            for j in range(i,len(ebi_list)):\n",
    "                if ebi_list[i] in dedup_query_list and ebi_list[j] in dedup_query_list:\n",
    "                    #if i != j:\n",
    "                    #print(pairwise_data[i],pairwise_data[j])\n",
    "                    score = 1-pairwise_data[i][j]\n",
    "                    fo.write(f\"{ebi_list[i]}\\t{ebi_list[j]}\\t{score}\\n\".encode('utf-8'))\n",
    "                    mCount+=1\n",
    "\n",
    "\n",
    "\n",
    "dedup_query_list=list(ebi_df_dedup['query'])\n",
    "\n",
    "# create pairwise files\n",
    "for m in modelData:\n",
    "    name = m['name']\n",
    "    f = f'{output}/{name}-ebi-aaa.npy'\n",
    "    if os.path.exists(f):\n",
    "        dd = np.load(f'{output}/{name}-ebi-aaa.npy')\n",
    "        #a=np.load('output/BioSentVec-ebi-aaa.npy')\n",
    "        print(len(dd))\n",
    "        #print(len(dd[0]))\n",
    "        write_to_file(model_name=name,pairwise_data=dd)\n"
   ]
  },
  {
   "cell_type": "code",
   "execution_count": 90,
   "metadata": {},
   "outputs": [],
   "source": [
    "# format BERT EFO data\n",
    "df = pd.read_csv(f'data/BERT-EFO-ebi-query-pairwise.csv.gz')\n",
    "df.rename(columns={'text_1':'q1','text_2':'q2'},inplace=True)\n",
    "df = df[df['q1'].isin(dedup_query_list) & df['q2'].isin(dedup_query_list)]\n",
    "df.to_csv(f'{output}/BERT-EFO-ebi-query-pairwise.tsv.gz',compression='gzip',index=False,sep='\\t')"
   ]
  },
  {
   "cell_type": "code",
   "execution_count": 94,
   "metadata": {},
   "outputs": [
    {
     "output_type": "stream",
     "name": "stdout",
     "text": [
      "(1303, 5)\n",
      "['http://www.ebi.ac.uk/efo/EFO_0004264', 'http://www.ebi.ac.uk/efo/EFO_0004616', 'http://www.ebi.ac.uk/efo/EFO_0003778', 'http://www.ebi.ac.uk/efo/EFO_0003901', 'http://www.ebi.ac.uk/efo/EFO_0004247', 'http://www.ebi.ac.uk/efo/EFO_0003917', 'http://www.ebi.ac.uk/efo/EFO_0004143', 'http://www.ebi.ac.uk/efo/EFO_0004143', 'http://www.ebi.ac.uk/efo/EFO_0000217', 'http://www.ebi.ac.uk/efo/EFO_0000487']\n",
      "                                     q1                                    q2  \\\n",
      "0  http://www.ebi.ac.uk/efo/EFO_0004264  http://www.ebi.ac.uk/efo/EFO_0004616   \n",
      "1  http://www.ebi.ac.uk/efo/EFO_0004264  http://www.ebi.ac.uk/efo/EFO_0003778   \n",
      "2  http://www.ebi.ac.uk/efo/EFO_0004264  http://www.ebi.ac.uk/efo/EFO_0003901   \n",
      "3  http://www.ebi.ac.uk/efo/EFO_0004264  http://www.ebi.ac.uk/efo/EFO_0004247   \n",
      "4  http://www.ebi.ac.uk/efo/EFO_0004264  http://www.ebi.ac.uk/efo/EFO_0003917   \n",
      "\n",
      "      score  \n",
      "0  0.263158  \n",
      "1  0.172414  \n",
      "2  0.181818  \n",
      "3  0.384615  \n",
      "4  0.200000  \n",
      "(96, 3)\n",
      "                                     q1                                    q2  \\\n",
      "0  http://www.ebi.ac.uk/efo/EFO_0004264  http://www.ebi.ac.uk/efo/EFO_0004616   \n",
      "1  http://www.ebi.ac.uk/efo/EFO_0004264  http://www.ebi.ac.uk/efo/EFO_0003778   \n",
      "2  http://www.ebi.ac.uk/efo/EFO_0004264  http://www.ebi.ac.uk/efo/EFO_0003901   \n",
      "3  http://www.ebi.ac.uk/efo/EFO_0004264  http://www.ebi.ac.uk/efo/EFO_0004247   \n",
      "4  http://www.ebi.ac.uk/efo/EFO_0004264  http://www.ebi.ac.uk/efo/EFO_0003917   \n",
      "\n",
      "      score  \n",
      "0  0.263158  \n",
      "1  0.172414  \n",
      "2  0.181818  \n",
      "3  0.384615  \n",
      "4  0.200000  \n"
     ]
    },
    {
     "output_type": "error",
     "ename": "ValueError",
     "evalue": "could not convert string to float: 'http://www.ebi.ac.uk/efo/EFO_0004264'",
     "traceback": [
      "\u001b[0;31m---------------------------------------------------------------------------\u001b[0m",
      "\u001b[0;31mValueError\u001b[0m                                Traceback (most recent call last)",
      "\u001b[0;32m<ipython-input-94-4b060a51a1b0>\u001b[0m in \u001b[0;36m<module>\u001b[0;34m\u001b[0m\n\u001b[1;32m     17\u001b[0m \u001b[0;31m#nx_df = nx_df.pivot(index='q1',columns='q2')\u001b[0m\u001b[0;34m\u001b[0m\u001b[0;34m\u001b[0m\u001b[0;34m\u001b[0m\u001b[0m\n\u001b[1;32m     18\u001b[0m \u001b[0mprint\u001b[0m\u001b[0;34m(\u001b[0m\u001b[0mnx_df\u001b[0m\u001b[0;34m.\u001b[0m\u001b[0mhead\u001b[0m\u001b[0;34m(\u001b[0m\u001b[0;34m)\u001b[0m\u001b[0;34m)\u001b[0m\u001b[0;34m\u001b[0m\u001b[0;34m\u001b[0m\u001b[0m\n\u001b[0;32m---> 19\u001b[0;31m \u001b[0msns\u001b[0m\u001b[0;34m.\u001b[0m\u001b[0mclustermap\u001b[0m\u001b[0;34m(\u001b[0m\u001b[0mnx_df\u001b[0m\u001b[0;34m)\u001b[0m\u001b[0;34m\u001b[0m\u001b[0;34m\u001b[0m\u001b[0m\n\u001b[0m",
      "\u001b[0;32m~/anaconda3/envs/Vectology/lib/python3.7/site-packages/seaborn/_decorators.py\u001b[0m in \u001b[0;36minner_f\u001b[0;34m(*args, **kwargs)\u001b[0m\n\u001b[1;32m     44\u001b[0m             )\n\u001b[1;32m     45\u001b[0m         \u001b[0mkwargs\u001b[0m\u001b[0;34m.\u001b[0m\u001b[0mupdate\u001b[0m\u001b[0;34m(\u001b[0m\u001b[0;34m{\u001b[0m\u001b[0mk\u001b[0m\u001b[0;34m:\u001b[0m \u001b[0marg\u001b[0m \u001b[0;32mfor\u001b[0m \u001b[0mk\u001b[0m\u001b[0;34m,\u001b[0m \u001b[0marg\u001b[0m \u001b[0;32min\u001b[0m \u001b[0mzip\u001b[0m\u001b[0;34m(\u001b[0m\u001b[0msig\u001b[0m\u001b[0;34m.\u001b[0m\u001b[0mparameters\u001b[0m\u001b[0;34m,\u001b[0m \u001b[0margs\u001b[0m\u001b[0;34m)\u001b[0m\u001b[0;34m}\u001b[0m\u001b[0;34m)\u001b[0m\u001b[0;34m\u001b[0m\u001b[0;34m\u001b[0m\u001b[0m\n\u001b[0;32m---> 46\u001b[0;31m         \u001b[0;32mreturn\u001b[0m \u001b[0mf\u001b[0m\u001b[0;34m(\u001b[0m\u001b[0;34m**\u001b[0m\u001b[0mkwargs\u001b[0m\u001b[0;34m)\u001b[0m\u001b[0;34m\u001b[0m\u001b[0;34m\u001b[0m\u001b[0m\n\u001b[0m\u001b[1;32m     47\u001b[0m     \u001b[0;32mreturn\u001b[0m \u001b[0minner_f\u001b[0m\u001b[0;34m\u001b[0m\u001b[0;34m\u001b[0m\u001b[0m\n\u001b[1;32m     48\u001b[0m \u001b[0;34m\u001b[0m\u001b[0m\n",
      "\u001b[0;32m~/anaconda3/envs/Vectology/lib/python3.7/site-packages/seaborn/matrix.py\u001b[0m in \u001b[0;36mclustermap\u001b[0;34m(data, pivot_kws, method, metric, z_score, standard_scale, figsize, cbar_kws, row_cluster, col_cluster, row_linkage, col_linkage, row_colors, col_colors, mask, dendrogram_ratio, colors_ratio, cbar_pos, tree_kws, **kwargs)\u001b[0m\n\u001b[1;32m   1404\u001b[0m                         \u001b[0mrow_cluster\u001b[0m\u001b[0;34m=\u001b[0m\u001b[0mrow_cluster\u001b[0m\u001b[0;34m,\u001b[0m \u001b[0mcol_cluster\u001b[0m\u001b[0;34m=\u001b[0m\u001b[0mcol_cluster\u001b[0m\u001b[0;34m,\u001b[0m\u001b[0;34m\u001b[0m\u001b[0;34m\u001b[0m\u001b[0m\n\u001b[1;32m   1405\u001b[0m                         \u001b[0mrow_linkage\u001b[0m\u001b[0;34m=\u001b[0m\u001b[0mrow_linkage\u001b[0m\u001b[0;34m,\u001b[0m \u001b[0mcol_linkage\u001b[0m\u001b[0;34m=\u001b[0m\u001b[0mcol_linkage\u001b[0m\u001b[0;34m,\u001b[0m\u001b[0;34m\u001b[0m\u001b[0;34m\u001b[0m\u001b[0m\n\u001b[0;32m-> 1406\u001b[0;31m                         tree_kws=tree_kws, **kwargs)\n\u001b[0m",
      "\u001b[0;32m~/anaconda3/envs/Vectology/lib/python3.7/site-packages/seaborn/matrix.py\u001b[0m in \u001b[0;36mplot\u001b[0;34m(self, metric, method, colorbar_kws, row_cluster, col_cluster, row_linkage, col_linkage, tree_kws, **kws)\u001b[0m\n\u001b[1;32m   1220\u001b[0m         self.plot_dendrograms(row_cluster, col_cluster, metric, method,\n\u001b[1;32m   1221\u001b[0m                               \u001b[0mrow_linkage\u001b[0m\u001b[0;34m=\u001b[0m\u001b[0mrow_linkage\u001b[0m\u001b[0;34m,\u001b[0m \u001b[0mcol_linkage\u001b[0m\u001b[0;34m=\u001b[0m\u001b[0mcol_linkage\u001b[0m\u001b[0;34m,\u001b[0m\u001b[0;34m\u001b[0m\u001b[0;34m\u001b[0m\u001b[0m\n\u001b[0;32m-> 1222\u001b[0;31m                               tree_kws=tree_kws)\n\u001b[0m\u001b[1;32m   1223\u001b[0m         \u001b[0;32mtry\u001b[0m\u001b[0;34m:\u001b[0m\u001b[0;34m\u001b[0m\u001b[0;34m\u001b[0m\u001b[0m\n\u001b[1;32m   1224\u001b[0m             \u001b[0mxind\u001b[0m \u001b[0;34m=\u001b[0m \u001b[0mself\u001b[0m\u001b[0;34m.\u001b[0m\u001b[0mdendrogram_col\u001b[0m\u001b[0;34m.\u001b[0m\u001b[0mreordered_ind\u001b[0m\u001b[0;34m\u001b[0m\u001b[0;34m\u001b[0m\u001b[0m\n",
      "\u001b[0;32m~/anaconda3/envs/Vectology/lib/python3.7/site-packages/seaborn/matrix.py\u001b[0m in \u001b[0;36mplot_dendrograms\u001b[0;34m(self, row_cluster, col_cluster, metric, method, row_linkage, col_linkage, tree_kws)\u001b[0m\n\u001b[1;32m   1066\u001b[0m                 \u001b[0mself\u001b[0m\u001b[0;34m.\u001b[0m\u001b[0mdata2d\u001b[0m\u001b[0;34m,\u001b[0m \u001b[0mmetric\u001b[0m\u001b[0;34m=\u001b[0m\u001b[0mmetric\u001b[0m\u001b[0;34m,\u001b[0m \u001b[0mmethod\u001b[0m\u001b[0;34m=\u001b[0m\u001b[0mmethod\u001b[0m\u001b[0;34m,\u001b[0m \u001b[0mlabel\u001b[0m\u001b[0;34m=\u001b[0m\u001b[0;32mFalse\u001b[0m\u001b[0;34m,\u001b[0m \u001b[0maxis\u001b[0m\u001b[0;34m=\u001b[0m\u001b[0;36m0\u001b[0m\u001b[0;34m,\u001b[0m\u001b[0;34m\u001b[0m\u001b[0;34m\u001b[0m\u001b[0m\n\u001b[1;32m   1067\u001b[0m                 \u001b[0max\u001b[0m\u001b[0;34m=\u001b[0m\u001b[0mself\u001b[0m\u001b[0;34m.\u001b[0m\u001b[0max_row_dendrogram\u001b[0m\u001b[0;34m,\u001b[0m \u001b[0mrotate\u001b[0m\u001b[0;34m=\u001b[0m\u001b[0;32mTrue\u001b[0m\u001b[0;34m,\u001b[0m \u001b[0mlinkage\u001b[0m\u001b[0;34m=\u001b[0m\u001b[0mrow_linkage\u001b[0m\u001b[0;34m,\u001b[0m\u001b[0;34m\u001b[0m\u001b[0;34m\u001b[0m\u001b[0m\n\u001b[0;32m-> 1068\u001b[0;31m                 \u001b[0mtree_kws\u001b[0m\u001b[0;34m=\u001b[0m\u001b[0mtree_kws\u001b[0m\u001b[0;34m\u001b[0m\u001b[0;34m\u001b[0m\u001b[0m\n\u001b[0m\u001b[1;32m   1069\u001b[0m             )\n\u001b[1;32m   1070\u001b[0m         \u001b[0;32melse\u001b[0m\u001b[0;34m:\u001b[0m\u001b[0;34m\u001b[0m\u001b[0;34m\u001b[0m\u001b[0m\n",
      "\u001b[0;32m~/anaconda3/envs/Vectology/lib/python3.7/site-packages/seaborn/_decorators.py\u001b[0m in \u001b[0;36minner_f\u001b[0;34m(*args, **kwargs)\u001b[0m\n\u001b[1;32m     44\u001b[0m             )\n\u001b[1;32m     45\u001b[0m         \u001b[0mkwargs\u001b[0m\u001b[0;34m.\u001b[0m\u001b[0mupdate\u001b[0m\u001b[0;34m(\u001b[0m\u001b[0;34m{\u001b[0m\u001b[0mk\u001b[0m\u001b[0;34m:\u001b[0m \u001b[0marg\u001b[0m \u001b[0;32mfor\u001b[0m \u001b[0mk\u001b[0m\u001b[0;34m,\u001b[0m \u001b[0marg\u001b[0m \u001b[0;32min\u001b[0m \u001b[0mzip\u001b[0m\u001b[0;34m(\u001b[0m\u001b[0msig\u001b[0m\u001b[0;34m.\u001b[0m\u001b[0mparameters\u001b[0m\u001b[0;34m,\u001b[0m \u001b[0margs\u001b[0m\u001b[0;34m)\u001b[0m\u001b[0;34m}\u001b[0m\u001b[0;34m)\u001b[0m\u001b[0;34m\u001b[0m\u001b[0;34m\u001b[0m\u001b[0m\n\u001b[0;32m---> 46\u001b[0;31m         \u001b[0;32mreturn\u001b[0m \u001b[0mf\u001b[0m\u001b[0;34m(\u001b[0m\u001b[0;34m**\u001b[0m\u001b[0mkwargs\u001b[0m\u001b[0;34m)\u001b[0m\u001b[0;34m\u001b[0m\u001b[0;34m\u001b[0m\u001b[0m\n\u001b[0m\u001b[1;32m     47\u001b[0m     \u001b[0;32mreturn\u001b[0m \u001b[0minner_f\u001b[0m\u001b[0;34m\u001b[0m\u001b[0;34m\u001b[0m\u001b[0m\n\u001b[1;32m     48\u001b[0m \u001b[0;34m\u001b[0m\u001b[0m\n",
      "\u001b[0;32m~/anaconda3/envs/Vectology/lib/python3.7/site-packages/seaborn/matrix.py\u001b[0m in \u001b[0;36mdendrogram\u001b[0;34m(data, linkage, axis, label, metric, method, rotate, tree_kws, ax)\u001b[0m\n\u001b[1;32m    784\u001b[0m     plotter = _DendrogramPlotter(data, linkage=linkage, axis=axis,\n\u001b[1;32m    785\u001b[0m                                  \u001b[0mmetric\u001b[0m\u001b[0;34m=\u001b[0m\u001b[0mmetric\u001b[0m\u001b[0;34m,\u001b[0m \u001b[0mmethod\u001b[0m\u001b[0;34m=\u001b[0m\u001b[0mmethod\u001b[0m\u001b[0;34m,\u001b[0m\u001b[0;34m\u001b[0m\u001b[0;34m\u001b[0m\u001b[0m\n\u001b[0;32m--> 786\u001b[0;31m                                  label=label, rotate=rotate)\n\u001b[0m\u001b[1;32m    787\u001b[0m     \u001b[0;32mif\u001b[0m \u001b[0max\u001b[0m \u001b[0;32mis\u001b[0m \u001b[0;32mNone\u001b[0m\u001b[0;34m:\u001b[0m\u001b[0;34m\u001b[0m\u001b[0;34m\u001b[0m\u001b[0m\n\u001b[1;32m    788\u001b[0m         \u001b[0max\u001b[0m \u001b[0;34m=\u001b[0m \u001b[0mplt\u001b[0m\u001b[0;34m.\u001b[0m\u001b[0mgca\u001b[0m\u001b[0;34m(\u001b[0m\u001b[0;34m)\u001b[0m\u001b[0;34m\u001b[0m\u001b[0;34m\u001b[0m\u001b[0m\n",
      "\u001b[0;32m~/anaconda3/envs/Vectology/lib/python3.7/site-packages/seaborn/matrix.py\u001b[0m in \u001b[0;36m__init__\u001b[0;34m(self, data, linkage, metric, method, axis, label, rotate)\u001b[0m\n\u001b[1;32m    592\u001b[0m \u001b[0;34m\u001b[0m\u001b[0m\n\u001b[1;32m    593\u001b[0m         \u001b[0;32mif\u001b[0m \u001b[0mlinkage\u001b[0m \u001b[0;32mis\u001b[0m \u001b[0;32mNone\u001b[0m\u001b[0;34m:\u001b[0m\u001b[0;34m\u001b[0m\u001b[0;34m\u001b[0m\u001b[0m\n\u001b[0;32m--> 594\u001b[0;31m             \u001b[0mself\u001b[0m\u001b[0;34m.\u001b[0m\u001b[0mlinkage\u001b[0m \u001b[0;34m=\u001b[0m \u001b[0mself\u001b[0m\u001b[0;34m.\u001b[0m\u001b[0mcalculated_linkage\u001b[0m\u001b[0;34m\u001b[0m\u001b[0;34m\u001b[0m\u001b[0m\n\u001b[0m\u001b[1;32m    595\u001b[0m         \u001b[0;32melse\u001b[0m\u001b[0;34m:\u001b[0m\u001b[0;34m\u001b[0m\u001b[0;34m\u001b[0m\u001b[0m\n\u001b[1;32m    596\u001b[0m             \u001b[0mself\u001b[0m\u001b[0;34m.\u001b[0m\u001b[0mlinkage\u001b[0m \u001b[0;34m=\u001b[0m \u001b[0mlinkage\u001b[0m\u001b[0;34m\u001b[0m\u001b[0;34m\u001b[0m\u001b[0m\n",
      "\u001b[0;32m~/anaconda3/envs/Vectology/lib/python3.7/site-packages/seaborn/matrix.py\u001b[0m in \u001b[0;36mcalculated_linkage\u001b[0;34m(self)\u001b[0m\n\u001b[1;32m    659\u001b[0m                 \u001b[0mwarnings\u001b[0m\u001b[0;34m.\u001b[0m\u001b[0mwarn\u001b[0m\u001b[0;34m(\u001b[0m\u001b[0mmsg\u001b[0m\u001b[0;34m)\u001b[0m\u001b[0;34m\u001b[0m\u001b[0;34m\u001b[0m\u001b[0m\n\u001b[1;32m    660\u001b[0m \u001b[0;34m\u001b[0m\u001b[0m\n\u001b[0;32m--> 661\u001b[0;31m         \u001b[0;32mreturn\u001b[0m \u001b[0mself\u001b[0m\u001b[0;34m.\u001b[0m\u001b[0m_calculate_linkage_scipy\u001b[0m\u001b[0;34m(\u001b[0m\u001b[0;34m)\u001b[0m\u001b[0;34m\u001b[0m\u001b[0;34m\u001b[0m\u001b[0m\n\u001b[0m\u001b[1;32m    662\u001b[0m \u001b[0;34m\u001b[0m\u001b[0m\n\u001b[1;32m    663\u001b[0m     \u001b[0;32mdef\u001b[0m \u001b[0mcalculate_dendrogram\u001b[0m\u001b[0;34m(\u001b[0m\u001b[0mself\u001b[0m\u001b[0;34m)\u001b[0m\u001b[0;34m:\u001b[0m\u001b[0;34m\u001b[0m\u001b[0;34m\u001b[0m\u001b[0m\n",
      "\u001b[0;32m~/anaconda3/envs/Vectology/lib/python3.7/site-packages/seaborn/matrix.py\u001b[0m in \u001b[0;36m_calculate_linkage_scipy\u001b[0;34m(self)\u001b[0m\n\u001b[1;32m    628\u001b[0m     \u001b[0;32mdef\u001b[0m \u001b[0m_calculate_linkage_scipy\u001b[0m\u001b[0;34m(\u001b[0m\u001b[0mself\u001b[0m\u001b[0;34m)\u001b[0m\u001b[0;34m:\u001b[0m\u001b[0;34m\u001b[0m\u001b[0;34m\u001b[0m\u001b[0m\n\u001b[1;32m    629\u001b[0m         linkage = hierarchy.linkage(self.array, method=self.method,\n\u001b[0;32m--> 630\u001b[0;31m                                     metric=self.metric)\n\u001b[0m\u001b[1;32m    631\u001b[0m         \u001b[0;32mreturn\u001b[0m \u001b[0mlinkage\u001b[0m\u001b[0;34m\u001b[0m\u001b[0;34m\u001b[0m\u001b[0m\n\u001b[1;32m    632\u001b[0m \u001b[0;34m\u001b[0m\u001b[0m\n",
      "\u001b[0;32m~/anaconda3/envs/Vectology/lib/python3.7/site-packages/scipy/cluster/hierarchy.py\u001b[0m in \u001b[0;36mlinkage\u001b[0;34m(y, method, metric, optimal_ordering)\u001b[0m\n\u001b[1;32m   1036\u001b[0m         \u001b[0;32mraise\u001b[0m \u001b[0mValueError\u001b[0m\u001b[0;34m(\u001b[0m\u001b[0;34m\"Invalid method: {0}\"\u001b[0m\u001b[0;34m.\u001b[0m\u001b[0mformat\u001b[0m\u001b[0;34m(\u001b[0m\u001b[0mmethod\u001b[0m\u001b[0;34m)\u001b[0m\u001b[0;34m)\u001b[0m\u001b[0;34m\u001b[0m\u001b[0;34m\u001b[0m\u001b[0m\n\u001b[1;32m   1037\u001b[0m \u001b[0;34m\u001b[0m\u001b[0m\n\u001b[0;32m-> 1038\u001b[0;31m     \u001b[0my\u001b[0m \u001b[0;34m=\u001b[0m \u001b[0m_convert_to_double\u001b[0m\u001b[0;34m(\u001b[0m\u001b[0mnp\u001b[0m\u001b[0;34m.\u001b[0m\u001b[0masarray\u001b[0m\u001b[0;34m(\u001b[0m\u001b[0my\u001b[0m\u001b[0;34m,\u001b[0m \u001b[0morder\u001b[0m\u001b[0;34m=\u001b[0m\u001b[0;34m'c'\u001b[0m\u001b[0;34m)\u001b[0m\u001b[0;34m)\u001b[0m\u001b[0;34m\u001b[0m\u001b[0;34m\u001b[0m\u001b[0m\n\u001b[0m\u001b[1;32m   1039\u001b[0m \u001b[0;34m\u001b[0m\u001b[0m\n\u001b[1;32m   1040\u001b[0m     \u001b[0;32mif\u001b[0m \u001b[0my\u001b[0m\u001b[0;34m.\u001b[0m\u001b[0mndim\u001b[0m \u001b[0;34m==\u001b[0m \u001b[0;36m1\u001b[0m\u001b[0;34m:\u001b[0m\u001b[0;34m\u001b[0m\u001b[0;34m\u001b[0m\u001b[0m\n",
      "\u001b[0;32m~/anaconda3/envs/Vectology/lib/python3.7/site-packages/scipy/cluster/hierarchy.py\u001b[0m in \u001b[0;36m_convert_to_double\u001b[0;34m(X)\u001b[0m\n\u001b[1;32m   1558\u001b[0m \u001b[0;32mdef\u001b[0m \u001b[0m_convert_to_double\u001b[0m\u001b[0;34m(\u001b[0m\u001b[0mX\u001b[0m\u001b[0;34m)\u001b[0m\u001b[0;34m:\u001b[0m\u001b[0;34m\u001b[0m\u001b[0;34m\u001b[0m\u001b[0m\n\u001b[1;32m   1559\u001b[0m     \u001b[0;32mif\u001b[0m \u001b[0mX\u001b[0m\u001b[0;34m.\u001b[0m\u001b[0mdtype\u001b[0m \u001b[0;34m!=\u001b[0m \u001b[0mnp\u001b[0m\u001b[0;34m.\u001b[0m\u001b[0mdouble\u001b[0m\u001b[0;34m:\u001b[0m\u001b[0;34m\u001b[0m\u001b[0;34m\u001b[0m\u001b[0m\n\u001b[0;32m-> 1560\u001b[0;31m         \u001b[0mX\u001b[0m \u001b[0;34m=\u001b[0m \u001b[0mX\u001b[0m\u001b[0;34m.\u001b[0m\u001b[0mastype\u001b[0m\u001b[0;34m(\u001b[0m\u001b[0mnp\u001b[0m\u001b[0;34m.\u001b[0m\u001b[0mdouble\u001b[0m\u001b[0;34m)\u001b[0m\u001b[0;34m\u001b[0m\u001b[0;34m\u001b[0m\u001b[0m\n\u001b[0m\u001b[1;32m   1561\u001b[0m     \u001b[0;32mif\u001b[0m \u001b[0;32mnot\u001b[0m \u001b[0mX\u001b[0m\u001b[0;34m.\u001b[0m\u001b[0mflags\u001b[0m\u001b[0;34m.\u001b[0m\u001b[0mcontiguous\u001b[0m\u001b[0;34m:\u001b[0m\u001b[0;34m\u001b[0m\u001b[0;34m\u001b[0m\u001b[0m\n\u001b[1;32m   1562\u001b[0m         \u001b[0mX\u001b[0m \u001b[0;34m=\u001b[0m \u001b[0mX\u001b[0m\u001b[0;34m.\u001b[0m\u001b[0mcopy\u001b[0m\u001b[0;34m(\u001b[0m\u001b[0;34m)\u001b[0m\u001b[0;34m\u001b[0m\u001b[0;34m\u001b[0m\u001b[0m\n",
      "\u001b[0;31mValueError\u001b[0m: could not convert string to float: 'http://www.ebi.ac.uk/efo/EFO_0004264'"
     ]
    }
   ],
   "source": [
    "# test matrix\n",
    "print(ebi_df.shape)\n",
    "#ebi_df_dedup=ebi_df.drop_duplicates(subset=['query'])\n",
    "#print(ebi_df_dedup.shape)\n",
    "#head(n=10)['query'])[0:10]\n",
    "e_list=list(ebi_df_dedup['full_id'][0:10])\n",
    "#q_list\n",
    "#print(q_list)\n",
    "print(e_list)\n",
    "\n",
    "#nx\n",
    "nx_df = pd.read_csv(f'{output}/nx-ebi-pairs.csv.gz',sep='\\t')\n",
    "print(nx_df.head())\n",
    "nx_df = nx_df[nx_df['q1'].isin(e_list) & nx_df['q2'].isin(e_list)]\n",
    "print(nx_df.shape)\n",
    "\n",
    "#nx_df = nx_df.pivot(index='q1',columns='q2')\n",
    "print(nx_df.head())\n",
    "#sns.clustermap(nx_df)"
   ]
  },
  {
   "cell_type": "code",
   "execution_count": 74,
   "metadata": {},
   "outputs": [
    {
     "output_type": "stream",
     "name": "stdout",
     "text": [
      "     sepal_length  sepal_width  petal_length  petal_width    species\n0             5.1          3.5           1.4          0.2     setosa\n1             4.9          3.0           1.4          0.2     setosa\n2             4.7          3.2           1.3          0.2     setosa\n3             4.6          3.1           1.5          0.2     setosa\n4             5.0          3.6           1.4          0.2     setosa\n..            ...          ...           ...          ...        ...\n145           6.7          3.0           5.2          2.3  virginica\n146           6.3          2.5           5.0          1.9  virginica\n147           6.5          3.0           5.2          2.0  virginica\n148           6.2          3.4           5.4          2.3  virginica\n149           5.9          3.0           5.1          1.8  virginica\n\n[150 rows x 5 columns]\n"
     ]
    }
   ],
   "source": [
    "iris = sns.load_dataset(\"iris\")\n",
    "print(iris)"
   ]
  },
  {
   "cell_type": "code",
   "execution_count": null,
   "metadata": {},
   "outputs": [],
   "source": []
  }
 ],
 "metadata": {
  "kernelspec": {
   "display_name": "Python 3.7.7 64-bit ('Vectology': conda)",
   "language": "python",
   "name": "python37764bitvectologycondabddc1d88bf5b4c4f8d962b6bae51eabd"
  },
  "language_info": {
   "codemirror_mode": {
    "name": "ipython",
    "version": 3
   },
   "file_extension": ".py",
   "mimetype": "text/x-python",
   "name": "python",
   "nbconvert_exporter": "python",
   "pygments_lexer": "ipython3",
   "version": "3.7.7"
  }
 },
 "nbformat": 4,
 "nbformat_minor": 4
}