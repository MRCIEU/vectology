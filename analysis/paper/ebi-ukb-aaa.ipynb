{
 "cells": [
  {
   "cell_type": "code",
   "execution_count": 26,
   "metadata": {},
   "outputs": [],
   "source": [
    "import pandas as pd\n",
    "import numpy as np\n",
    "import requests\n",
    "import json\n",
    "import time\n",
    "import os \n",
    "import gzip\n",
    "import timeit\n",
    "\n",
    "from scripts.vectology_functions import create_aaa_distances, create_pair_distances, embed_text, encode_traits, create_efo_nxo\n",
    "\n",
    "from pandas_profiling import ProfileReport\n",
    "\n",
    "import seaborn as sns\n",
    "\n",
    "# Apply the default theme\n",
    "sns.set_theme()"
   ]
  },
  {
   "cell_type": "code",
   "execution_count": 27,
   "metadata": {},
   "outputs": [],
   "source": [
    "# globals\n",
    "ebi_data = 'data/UK_Biobank_master_file.tsv'\n",
    "#efo_nodes = 'data/efo-nodes.tsv'\n",
    "#efo_data = 'data/efo_data.txt.gz'\n",
    "efo_nodes = 'data/epigraphdb_efo_nodes.csv'\n",
    "efo_rels = 'data/epigraphdb_efo_rels.csv'\n",
    "nxontology_measure = 'batet'\n",
    "\n",
    "modelData = [\n",
    "    {'name':'BioSentVec','model':'BioSentVec'},\n",
    "    {'name':'BioBERT','model':'biobert_v1.1_pubmed'},\n",
    "    {'name':'BlueBERT','model':'NCBI_BERT_pubmed_mimic_uncased_L-12_H-768_A-12'},\n",
    "    {'name':'GUSE','model':'GUSEv4'},\n",
    "    {'name':'BERT-EFO','model':'BERT-EFO'},\n",
    "    {'name':'Zooma','model':'Zooma'}\n",
    "]\n",
    "\n",
    "pallete=\"hls\"\n",
    "output='output/trait-trait'"
   ]
  },
  {
   "cell_type": "code",
   "execution_count": 28,
   "metadata": {},
   "outputs": [],
   "source": [
    "#create nxontology network of EFO relationships\n",
    "efo_rel_df=pd.read_csv(efo_rels)\n",
    "efo_nx = create_efo_nxo(df=efo_rel_df,child_col='efo.id',parent_col='parent_efo.id')\n",
    "efo_nx.freeze()"
   ]
  },
  {
   "cell_type": "code",
   "execution_count": 30,
   "metadata": {},
   "outputs": [
    {
     "output_type": "stream",
     "name": "stdout",
     "text": [
      "                                      query       MAPPED_TERM_LABEL  \\\n0           Vascular disorders of intestine        vascular disease   \n1           Vascular disorders of intestine        vascular disease   \n2                              Gonarthrosis  osteoarthritis || knee   \n3  Psoriatic and enteropathic arthropathies     psoriatic arthritis   \n4          Pain associated with micturition                 dysuria   \n\n  MAPPING_TYPE           id                               full_id  \n0        Broad  EFO_0004264  http://www.ebi.ac.uk/efo/EFO_0004264  \n1        Broad  EFO_0009431  http://www.ebi.ac.uk/efo/EFO_0009431  \n2        Broad  EFO_0004616  http://www.ebi.ac.uk/efo/EFO_0004616  \n3      ? Broad  EFO_0003778  http://www.ebi.ac.uk/efo/EFO_0003778  \n4      ? Broad  EFO_0003901  http://www.ebi.ac.uk/efo/EFO_0003901  \n"
     ]
    }
   ],
   "source": [
    "# read cleaned EBI data\n",
    "ebi_df = pd.read_csv('output/ebi-ukb-cleaned.tsv',sep='\\t')\n",
    "print(ebi_df.head())"
   ]
  },
  {
   "cell_type": "code",
   "execution_count": 61,
   "metadata": {
    "tags": []
   },
   "outputs": [
    {
     "output_type": "stream",
     "name": "stderr",
     "text": [
      "UsageError: Line magic function `%%time` not found.\n"
     ]
    }
   ],
   "source": [
    "%%time\n",
    "\n",
    "# create nx score for each full_id\n",
    "\n",
    "f = f\"{output}/nx-ebi-pairs.csv.gz\"\n",
    "if os.path.exists('nx-ebi-pairs.csv.gz'):\n",
    "    print('nx for ebi done')\n",
    "else:\n",
    "    o = gzip.open(f,'wb')\n",
    "    efos = list(ebi_df['full_id'])\n",
    "    for i in range(0,len(efos)-1):\n",
    "        if i % 100 == 0:\n",
    "            print(i)\n",
    "        for j in range(i,len(efos)):\n",
    "            e1 = efos[i]\n",
    "            e2 = efos[j]\n",
    "            if e1 != e2:\n",
    "                res = similarity = efo_nx.similarity(e1,e2).results()\n",
    "                nx_val = res[nxontology_measure]\n",
    "                #print(i,e1,e2,nx_val)\n",
    "                o.write(f\"{e1},{e2},{nx_val}\\n\".encode('utf-8'))\n",
    "    o.close()\n",
    "print('Done')"
   ]
  },
  {
   "cell_type": "code",
   "execution_count": 33,
   "metadata": {},
   "outputs": [
    {
     "output_type": "stream",
     "name": "stdout",
     "text": [
      "{'name': 'BioSentVec', 'model': 'BioSentVec'}\n",
      "1303\n",
      "Creating distances...\n",
      "1303\n",
      "1303\n",
      "{'name': 'BioBERT', 'model': 'biobert_v1.1_pubmed'}\n",
      "1303\n",
      "Creating distances...\n",
      "1303\n",
      "1303\n",
      "{'name': 'BlueBERT', 'model': 'NCBI_BERT_pubmed_mimic_uncased_L-12_H-768_A-12'}\n",
      "1303\n",
      "Creating distances...\n",
      "1303\n",
      "1303\n",
      "{'name': 'GUSE', 'model': 'GUSEv4'}\n",
      "1303\n",
      "Creating distances...\n",
      "1303\n",
      "1303\n",
      "output/BERT-EFO-ebi-encode.npy does not exist\n",
      "output/Zooma-ebi-encode.npy does not exist\n"
     ]
    }
   ],
   "source": [
    "%%time\n",
    "# run all against all for EBI query data\n",
    "m = modelData[0]\n",
    "for m in modelData:\n",
    "    name = m['name']\n",
    "    f = f'output/{name}-ebi-encode.npy'\n",
    "    if os.path.exists(f):\n",
    "        print(m)\n",
    "        dd = np.load(f'output/{name}-ebi-encode.npy')\n",
    "        print(len(dd))\n",
    "        aaa = create_aaa_distances(dd)\n",
    "        np.save(f'{output}/{name}-ebi-aaa.npy',aaa)\n",
    "        #print(len(aaa))\n",
    "    else:\n",
    "        print(f,'does not exist')\n"
   ]
  },
  {
   "cell_type": "code",
   "execution_count": 42,
   "metadata": {
    "tags": []
   },
   "outputs": [
    {
     "output_type": "stream",
     "name": "stdout",
     "text": [
      "1303\n",
      "writing BioSentVec\n",
      "0\n",
      "100\n",
      "200\n",
      "300\n",
      "400\n",
      "500\n",
      "600\n",
      "700\n",
      "800\n",
      "900\n",
      "1000\n",
      "1100\n",
      "1200\n",
      "1300\n",
      "1303\n",
      "writing BioBERT\n",
      "Already done output/trait-trait/BioBERT-ebi-query-pairwise.tsv.gz\n",
      "1303\n",
      "writing BlueBERT\n",
      "Already done output/trait-trait/BlueBERT-ebi-query-pairwise.tsv.gz\n",
      "1303\n",
      "writing GUSE\n",
      "Already done output/trait-trait/GUSE-ebi-query-pairwise.tsv.gz\n"
     ]
    }
   ],
   "source": [
    "def write_to_file(model_name,pairwise_data):\n",
    "    print('writing',model_name)\n",
    "    f = f'{output}/{model_name}-ebi-query-pairwise.tsv.gz'\n",
    "    if os.path.exists(f):\n",
    "        print('Already done',f)\n",
    "    else:\n",
    "        fo = gzip.open(f,'w')\n",
    "        fo.write(\"q1\\tq2\\tscore\\n\".encode('utf-8'))\n",
    "        ebi_list = ebi_df['query']\n",
    "        for i in range(0,len(ebi_list)):\n",
    "            if i % 100 == 0:\n",
    "                print(i)\n",
    "            # write to file\n",
    "            mCount=0\n",
    "            for j in range(0,len(ebi_list)):\n",
    "                #if i != j:\n",
    "                #print(pairwise_data[i],pairwise_data[j])\n",
    "                score = 1-pairwise_data[i][j]\n",
    "                fo.write(f\"{ebi_list[i]}\\t{ebi_list[j]}\\t{score}\\n\".encode('utf-8'))\n",
    "                mCount+=1\n",
    "\n",
    "# create pairwise files\n",
    "for m in modelData:\n",
    "    name = m['name']\n",
    "    f = f'{output}/{name}-ebi-aaa.npy'\n",
    "    if os.path.exists(f):\n",
    "        dd = np.load(f'{output}/{name}-ebi-aaa.npy')\n",
    "        #a=np.load('output/BioSentVec-ebi-aaa.npy')\n",
    "        print(len(dd))\n",
    "        #print(len(dd[0]))\n",
    "        write_to_file(model_name=name,pairwise_data=dd)\n"
   ]
  },
  {
   "cell_type": "code",
   "execution_count": 40,
   "metadata": {},
   "outputs": [],
   "source": [
    "# format BERT EFO data\n",
    "df = pd.read_csv(f'data/BERT-EFO-ebi-query-pairwise.csv.gz')\n",
    "df.rename(columns={'text_1':'q1','text_2':'q2'},inplace=True)\n",
    "df.to_csv(f'{output}/BERT-EFO-ebi-query-pairwise.tsv.gz',compression='gzip',index=False,sep='\\t')"
   ]
  },
  {
   "cell_type": "code",
   "execution_count": 57,
   "metadata": {},
   "outputs": [
    {
     "output_type": "stream",
     "name": "stdout",
     "text": [
      "1\nCPU times: user 1.07 ms, sys: 1.51 ms, total: 2.59 ms\nWall time: 10 s\n"
     ]
    }
   ],
   "source": [
    "%%time\n",
    "a=1\n",
    "time.sleep(10)\n",
    "print(a)"
   ]
  },
  {
   "cell_type": "code",
   "execution_count": null,
   "metadata": {},
   "outputs": [],
   "source": []
  }
 ],
 "metadata": {
  "kernelspec": {
   "display_name": "Python 3.7.7 64-bit ('Vectology': conda)",
   "language": "python",
   "name": "python37764bitvectologycondabddc1d88bf5b4c4f8d962b6bae51eabd"
  },
  "language_info": {
   "codemirror_mode": {
    "name": "ipython",
    "version": 3
   },
   "file_extension": ".py",
   "mimetype": "text/x-python",
   "name": "python",
   "nbconvert_exporter": "python",
   "pygments_lexer": "ipython3",
   "version": "3.7.7"
  }
 },
 "nbformat": 4,
 "nbformat_minor": 4
}