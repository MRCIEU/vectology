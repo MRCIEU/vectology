{
 "cells": [
  {
   "cell_type": "code",
   "execution_count": 2,
   "metadata": {},
   "outputs": [],
   "source": [
    "import pandas as pd\n",
    "import numpy as np\n",
    "import requests\n",
    "import json\n",
    "import time\n",
    "import os \n",
    "import gzip\n",
    "import timeit\n",
    "\n",
    "from scripts.vectology_functions import create_aaa_distances, create_pair_distances, embed_text, encode_traits, create_efo_nxo\n",
    "\n",
    "from pandas_profiling import ProfileReport\n",
    "\n",
    "import seaborn as sns\n",
    "\n",
    "# Apply the default theme\n",
    "sns.set_theme()"
   ]
  },
  {
   "cell_type": "code",
   "execution_count": 4,
   "metadata": {},
   "outputs": [],
   "source": [
    "# globals\n",
    "ebi_data = 'data/UK_Biobank_master_file.tsv'\n",
    "#efo_nodes = 'data/efo-nodes.tsv'\n",
    "#efo_data = 'data/efo_data.txt.gz'\n",
    "efo_nodes = 'data/epigraphdb_efo_nodes.csv'\n",
    "efo_rels = 'data/epigraphdb_efo_rels.csv'\n",
    "nxontology_measure = 'batet'\n",
    "\n",
    "modelData = [\n",
    "    {'name':'BioSentVec','model':'BioSentVec'},\n",
    "    {'name':'BioBERT','model':'biobert_v1.1_pubmed'},\n",
    "    {'name':'BlueBERT','model':'NCBI_BERT_pubmed_mimic_uncased_L-12_H-768_A-12'},\n",
    "    {'name':'GUSE','model':'GUSEv4'},\n",
    "    {'name':'BERT-EFO','model':'BERT-EFO'},\n",
    "    {'name':'Zooma','model':'Zooma'}\n",
    "]\n",
    "\n",
    "pallete=\"hls\""
   ]
  },
  {
   "cell_type": "code",
   "execution_count": 5,
   "metadata": {},
   "outputs": [],
   "source": [
    "#create nxontology network of EFO relationships\n",
    "efo_rel_df=pd.read_csv(efo_rels)\n",
    "efo_nx = create_efo_nxo(df=efo_rel_df,child_col='efo.id',parent_col='parent_efo.id')\n",
    "efo_nx.freeze()"
   ]
  },
  {
   "cell_type": "code",
   "execution_count": 14,
   "metadata": {},
   "outputs": [
    {
     "output_type": "stream",
     "name": "stdout",
     "text": [
      "                                      query       MAPPED_TERM_LABEL  \\\n0           Vascular disorders of intestine        vascular disease   \n1           Vascular disorders of intestine        vascular disease   \n2                              Gonarthrosis  osteoarthritis || knee   \n3  Psoriatic and enteropathic arthropathies     psoriatic arthritis   \n4          Pain associated with micturition                 dysuria   \n\n  MAPPING_TYPE           id                               full_id  \n0        Broad  EFO_0004264  http://www.ebi.ac.uk/efo/EFO_0004264  \n1        Broad  EFO_0009431  http://www.ebi.ac.uk/efo/EFO_0009431  \n2        Broad  EFO_0004616  http://www.ebi.ac.uk/efo/EFO_0004616  \n3      ? Broad  EFO_0003778  http://www.ebi.ac.uk/efo/EFO_0003778  \n4      ? Broad  EFO_0003901  http://www.ebi.ac.uk/efo/EFO_0003901  \n"
     ]
    }
   ],
   "source": [
    "# read cleaned EBI data\n",
    "ebi_df = pd.read_csv('output/ebi-ukb-cleaned.tsv',sep='\\t')\n",
    "print(ebi_df.head())"
   ]
  },
  {
   "cell_type": "code",
   "execution_count": 34,
   "metadata": {
    "tags": []
   },
   "outputs": [
    {
     "output_type": "stream",
     "name": "stdout",
     "text": [
      "CPU times: user 2 µs, sys: 1e+03 ns, total: 3 µs\nWall time: 5.25 µs\n0\n"
     ]
    }
   ],
   "source": [
    "# create nx score for each full_id\n",
    "\n",
    "%time\n",
    "\n",
    "f = f\"output/nx-ebi-pairs.csv.gz\"\n",
    "if os.path.exists(f):\n",
    "    print('nx for ebi done')\n",
    "else:\n",
    "    o = gzip.open(f,'wb')\n",
    "    efos = list(ebi_df['full_id'])\n",
    "    for i in range(0,len(efos)-1):\n",
    "        if i % 100 == 0:\n",
    "            print(i)\n",
    "        for j in range(i,len(efos)):\n",
    "            e1 = efos[i]\n",
    "            e2 = efos[j]\n",
    "            if e1 != e2:\n",
    "                res = similarity = efo_nx.similarity(e1,e2).results()\n",
    "                nx_val = res[nxontology_measure]\n",
    "                #print(i,e1,e2,nx_val)\n",
    "                o.write(f\"{e1},{e2},{nx_val}\\n\".encode('utf-8'))\n",
    "    o.close()\n"
   ]
  },
  {
   "cell_type": "code",
   "execution_count": 15,
   "metadata": {},
   "outputs": [
    {
     "output_type": "stream",
     "name": "stdout",
     "text": [
      "{'name': 'BioSentVec', 'model': 'BioSentVec'}\n",
      "1303\n",
      "Creating distances...\n",
      "1303\n",
      "848253\n",
      "{'name': 'BioBERT', 'model': 'biobert_v1.1_pubmed'}\n",
      "1303\n",
      "Creating distances...\n",
      "1303\n",
      "848253\n",
      "{'name': 'BlueBERT', 'model': 'NCBI_BERT_pubmed_mimic_uncased_L-12_H-768_A-12'}\n",
      "1303\n",
      "Creating distances...\n",
      "1303\n",
      "848253\n",
      "{'name': 'GUSE', 'model': 'GUSEv4'}\n",
      "1303\n",
      "Creating distances...\n",
      "1303\n",
      "848253\n",
      "output/BERT-EFO-ebi-encode.npy does not exist\n",
      "output/Zooma-ebi-encode.npy does not exist\n"
     ]
    }
   ],
   "source": [
    "# run all against all for EBI query data\n",
    "m = modelData[0]\n",
    "for m in modelData:\n",
    "    name = m['name']\n",
    "    f = f'output/{name}-ebi-encode.npy'\n",
    "    if os.path.exists(f):\n",
    "        print(m)\n",
    "        dd = np.load(f'output/{name}-ebi-encode.npy')\n",
    "        print(len(dd))\n",
    "        aaa = create_aaa_distances(dd)\n",
    "        #print(len(aaa))\n",
    "    else:\n",
    "        print(f,'does not exist')\n"
   ]
  },
  {
   "cell_type": "code",
   "execution_count": null,
   "metadata": {},
   "outputs": [],
   "source": []
  }
 ],
 "metadata": {
  "kernelspec": {
   "display_name": "Python 3.7.7 64-bit ('Vectology': conda)",
   "language": "python",
   "name": "python37764bitvectologycondabddc1d88bf5b4c4f8d962b6bae51eabd"
  },
  "language_info": {
   "codemirror_mode": {
    "name": "ipython",
    "version": 3
   },
   "file_extension": ".py",
   "mimetype": "text/x-python",
   "name": "python",
   "nbconvert_exporter": "python",
   "pygments_lexer": "ipython3",
   "version": "3.7.7"
  }
 },
 "nbformat": 4,
 "nbformat_minor": 4
}